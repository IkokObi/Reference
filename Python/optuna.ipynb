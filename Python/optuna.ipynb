{
 "cells": [
  {
   "cell_type": "markdown",
   "metadata": {},
   "source": [
    "<a name=\"top\"></a>\n",
    "# optunaのTutorial :\n",
    "- [TutorialのURL](https://optuna.readthedocs.io/en/stable/tutorial/index.html)\n",
    "- [GitHub](https://github.com/pfnet/optuna)\n",
    "- [First Optimization](#first_optimization)\n",
    "    - [二次関数の最小化](#quadratic)\n",
    "- [Advanced Configurations](#advanced_configurations)\n",
    "    - [scikit-learnの実装例 (Irisデータ)](#sklearn_iris)\n",
    "    - [xgboostの実装例 (cancerデータ)](#xgboost_cancer)\n",
    "- [Pruning Unpromising Trials](#pruning)\n",
    "    - [scikit-learnの実装例](#sklearn_pruning)\n",
    "    - [xgboostの実装例](#xgboost_pruning)"
   ]
  },
  {
   "cell_type": "markdown",
   "metadata": {},
   "source": [
    "<a name=\"first_optimization\"></a>\n",
    "## First Optimization\n",
    "- [公式サイト](https://optuna.readthedocs.io/en/stable/tutorial/first.html)"
   ]
  },
  {
   "cell_type": "code",
   "execution_count": 1,
   "metadata": {},
   "outputs": [],
   "source": [
    "import optuna"
   ]
  },
  {
   "cell_type": "markdown",
   "metadata": {},
   "source": [
    "<a name=\"quadratic\"></a>\n",
    "### 二次関数の最小値を探索する最適化問題\n",
    "- `objective`で定義される二次関数の最小値を探索する\n",
    "- 最適値は`x=2`"
   ]
  },
  {
   "cell_type": "markdown",
   "metadata": {},
   "source": [
    "#### 最小化したい目的関数の定義\n",
    "- 最適化の過程で`suggest_uniform`が呼ばれる\n",
    "- trial.suggest_uniform は`('name', range_min, range_max)`で指定, 'name'はxである必要はない\n",
    "- `return`で目的関数を返す"
   ]
  },
  {
   "cell_type": "code",
   "execution_count": 2,
   "metadata": {},
   "outputs": [],
   "source": [
    "def objective(trial):\n",
    "    \"\"\" 目的関数 \"\"\"\n",
    "    x = trial.suggest_uniform('x', -10, 10)\n",
    "    return (x - 2) ** 2"
   ]
  },
  {
   "cell_type": "markdown",
   "metadata": {},
   "source": [
    "#### 最適化\n",
    "- `study`オブジェクトを生成して、`optimize`メソッドに目的関数`objective`を渡す"
   ]
  },
  {
   "cell_type": "code",
   "execution_count": 3,
   "metadata": {},
   "outputs": [
    {
     "name": "stderr",
     "output_type": "stream",
     "text": [
      "[I 2018-12-05 17:25:17,710] Finished a trial resulted in value: 0.5750720632736718. Current best value is 0.5750720632736718 with parameters: {'x': 2.758335060031957}.\n",
      "[I 2018-12-05 17:25:17,715] Finished a trial resulted in value: 11.877294954508743. Current best value is 0.5750720632736718 with parameters: {'x': 2.758335060031957}.\n",
      "[I 2018-12-05 17:25:17,718] Finished a trial resulted in value: 34.574977026287605. Current best value is 0.5750720632736718 with parameters: {'x': 2.758335060031957}.\n",
      "[I 2018-12-05 17:25:17,722] Finished a trial resulted in value: 21.08967284987718. Current best value is 0.5750720632736718 with parameters: {'x': 2.758335060031957}.\n",
      "[I 2018-12-05 17:25:17,724] Finished a trial resulted in value: 37.44043257859045. Current best value is 0.5750720632736718 with parameters: {'x': 2.758335060031957}.\n",
      "[I 2018-12-05 17:25:17,728] Finished a trial resulted in value: 22.18496420918182. Current best value is 0.5750720632736718 with parameters: {'x': 2.758335060031957}.\n",
      "[I 2018-12-05 17:25:17,732] Finished a trial resulted in value: 32.37039290229961. Current best value is 0.5750720632736718 with parameters: {'x': 2.758335060031957}.\n",
      "[I 2018-12-05 17:25:17,735] Finished a trial resulted in value: 32.16575063677792. Current best value is 0.5750720632736718 with parameters: {'x': 2.758335060031957}.\n",
      "[I 2018-12-05 17:25:17,737] Finished a trial resulted in value: 23.147561105003103. Current best value is 0.5750720632736718 with parameters: {'x': 2.758335060031957}.\n",
      "[I 2018-12-05 17:25:17,740] Finished a trial resulted in value: 9.560813234474546. Current best value is 0.5750720632736718 with parameters: {'x': 2.758335060031957}.\n",
      "[I 2018-12-05 17:25:17,744] Finished a trial resulted in value: 8.32182288519498. Current best value is 0.5750720632736718 with parameters: {'x': 2.758335060031957}.\n",
      "[I 2018-12-05 17:25:17,749] Finished a trial resulted in value: 23.560632526573922. Current best value is 0.5750720632736718 with parameters: {'x': 2.758335060031957}.\n",
      "[I 2018-12-05 17:25:17,754] Finished a trial resulted in value: 8.110379094420837. Current best value is 0.5750720632736718 with parameters: {'x': 2.758335060031957}.\n",
      "[I 2018-12-05 17:25:17,759] Finished a trial resulted in value: 10.668835848817475. Current best value is 0.5750720632736718 with parameters: {'x': 2.758335060031957}.\n",
      "[I 2018-12-05 17:25:17,763] Finished a trial resulted in value: 2.813502838164153. Current best value is 0.5750720632736718 with parameters: {'x': 2.758335060031957}.\n",
      "[I 2018-12-05 17:25:17,768] Finished a trial resulted in value: 4.148283005599101. Current best value is 0.5750720632736718 with parameters: {'x': 2.758335060031957}.\n",
      "[I 2018-12-05 17:25:17,772] Finished a trial resulted in value: 0.14958130516181636. Current best value is 0.14958130516181636 with parameters: {'x': 2.3867574241844833}.\n",
      "[I 2018-12-05 17:25:17,777] Finished a trial resulted in value: 62.0659040952912. Current best value is 0.14958130516181636 with parameters: {'x': 2.3867574241844833}.\n",
      "[I 2018-12-05 17:25:17,781] Finished a trial resulted in value: 6.61386387917728. Current best value is 0.14958130516181636 with parameters: {'x': 2.3867574241844833}.\n",
      "[I 2018-12-05 17:25:17,786] Finished a trial resulted in value: 0.0036163090027471413. Current best value is 0.0036163090027471413 with parameters: {'x': 2.0601357547782277}.\n",
      "[I 2018-12-05 17:25:17,791] Finished a trial resulted in value: 43.472969371923504. Current best value is 0.0036163090027471413 with parameters: {'x': 2.0601357547782277}.\n",
      "[I 2018-12-05 17:25:17,799] Finished a trial resulted in value: 0.04670768936193865. Current best value is 0.0036163090027471413 with parameters: {'x': 2.0601357547782277}.\n",
      "[I 2018-12-05 17:25:17,808] Finished a trial resulted in value: 5.819043418027781. Current best value is 0.0036163090027471413 with parameters: {'x': 2.0601357547782277}.\n",
      "[I 2018-12-05 17:25:17,816] Finished a trial resulted in value: 0.043356932437585274. Current best value is 0.0036163090027471413 with parameters: {'x': 2.0601357547782277}.\n",
      "[I 2018-12-05 17:25:17,823] Finished a trial resulted in value: 0.7490688736967356. Current best value is 0.0036163090027471413 with parameters: {'x': 2.0601357547782277}.\n",
      "[I 2018-12-05 17:25:17,829] Finished a trial resulted in value: 0.2581060088099864. Current best value is 0.0036163090027471413 with parameters: {'x': 2.0601357547782277}.\n",
      "[I 2018-12-05 17:25:17,835] Finished a trial resulted in value: 1.0437627068979702. Current best value is 0.0036163090027471413 with parameters: {'x': 2.0601357547782277}.\n",
      "[I 2018-12-05 17:25:17,842] Finished a trial resulted in value: 0.0014792208285102305. Current best value is 0.0014792208285102305 with parameters: {'x': 2.038460639990908}.\n",
      "[I 2018-12-05 17:25:17,850] Finished a trial resulted in value: 0.7438695089054732. Current best value is 0.0014792208285102305 with parameters: {'x': 2.038460639990908}.\n",
      "[I 2018-12-05 17:25:17,856] Finished a trial resulted in value: 1.0813313177627708. Current best value is 0.0014792208285102305 with parameters: {'x': 2.038460639990908}.\n",
      "[I 2018-12-05 17:25:17,861] Finished a trial resulted in value: 1.182320746629118. Current best value is 0.0014792208285102305 with parameters: {'x': 2.038460639990908}.\n",
      "[I 2018-12-05 17:25:17,867] Finished a trial resulted in value: 0.7007867550896955. Current best value is 0.0014792208285102305 with parameters: {'x': 2.038460639990908}.\n",
      "[I 2018-12-05 17:25:17,874] Finished a trial resulted in value: 2.1330223509345605. Current best value is 0.0014792208285102305 with parameters: {'x': 2.038460639990908}.\n",
      "[I 2018-12-05 17:25:17,881] Finished a trial resulted in value: 8.548618487672632. Current best value is 0.0014792208285102305 with parameters: {'x': 2.038460639990908}.\n",
      "[I 2018-12-05 17:25:17,887] Finished a trial resulted in value: 2.341751844896159. Current best value is 0.0014792208285102305 with parameters: {'x': 2.038460639990908}.\n",
      "[I 2018-12-05 17:25:17,893] Finished a trial resulted in value: 4.576818864808849. Current best value is 0.0014792208285102305 with parameters: {'x': 2.038460639990908}.\n",
      "[I 2018-12-05 17:25:17,900] Finished a trial resulted in value: 0.0003782579216194569. Current best value is 0.0003782579216194569 with parameters: {'x': 2.0194488539924453}.\n",
      "[I 2018-12-05 17:25:17,909] Finished a trial resulted in value: 5.241113590212449. Current best value is 0.0003782579216194569 with parameters: {'x': 2.0194488539924453}.\n",
      "[I 2018-12-05 17:25:17,917] Finished a trial resulted in value: 0.3790976469351896. Current best value is 0.0003782579216194569 with parameters: {'x': 2.0194488539924453}.\n",
      "[I 2018-12-05 17:25:17,924] Finished a trial resulted in value: 0.2591389237804315. Current best value is 0.0003782579216194569 with parameters: {'x': 2.0194488539924453}.\n",
      "[I 2018-12-05 17:25:17,932] Finished a trial resulted in value: 0.9670123313298011. Current best value is 0.0003782579216194569 with parameters: {'x': 2.0194488539924453}.\n",
      "[I 2018-12-05 17:25:17,941] Finished a trial resulted in value: 0.03424996453318304. Current best value is 0.0003782579216194569 with parameters: {'x': 2.0194488539924453}.\n",
      "[I 2018-12-05 17:25:17,947] Finished a trial resulted in value: 1.7222548166567568. Current best value is 0.0003782579216194569 with parameters: {'x': 2.0194488539924453}.\n",
      "[I 2018-12-05 17:25:17,954] Finished a trial resulted in value: 0.00035039725388912594. Current best value is 0.00035039725388912594 with parameters: {'x': 2.018718900979735}.\n",
      "[I 2018-12-05 17:25:17,960] Finished a trial resulted in value: 0.489751875678752. Current best value is 0.00035039725388912594 with parameters: {'x': 2.018718900979735}.\n",
      "[I 2018-12-05 17:25:17,970] Finished a trial resulted in value: 1.6446426609009146. Current best value is 0.00035039725388912594 with parameters: {'x': 2.018718900979735}.\n",
      "[I 2018-12-05 17:25:17,978] Finished a trial resulted in value: 6.772583296755901. Current best value is 0.00035039725388912594 with parameters: {'x': 2.018718900979735}.\n",
      "[I 2018-12-05 17:25:17,984] Finished a trial resulted in value: 17.137177602196967. Current best value is 0.00035039725388912594 with parameters: {'x': 2.018718900979735}.\n"
     ]
    },
    {
     "name": "stderr",
     "output_type": "stream",
     "text": [
      "[I 2018-12-05 17:25:17,991] Finished a trial resulted in value: 14.221934638252254. Current best value is 0.00035039725388912594 with parameters: {'x': 2.018718900979735}.\n",
      "[I 2018-12-05 17:25:17,998] Finished a trial resulted in value: 21.269728654653512. Current best value is 0.00035039725388912594 with parameters: {'x': 2.018718900979735}.\n",
      "[I 2018-12-05 17:25:18,008] Finished a trial resulted in value: 8.276206932150194. Current best value is 0.00035039725388912594 with parameters: {'x': 2.018718900979735}.\n",
      "[I 2018-12-05 17:25:18,017] Finished a trial resulted in value: 9.175293954591819. Current best value is 0.00035039725388912594 with parameters: {'x': 2.018718900979735}.\n",
      "[I 2018-12-05 17:25:18,023] Finished a trial resulted in value: 1.0975054507264133. Current best value is 0.00035039725388912594 with parameters: {'x': 2.018718900979735}.\n",
      "[I 2018-12-05 17:25:18,031] Finished a trial resulted in value: 0.7885355633836891. Current best value is 0.00035039725388912594 with parameters: {'x': 2.018718900979735}.\n",
      "[I 2018-12-05 17:25:18,037] Finished a trial resulted in value: 0.9295831023344767. Current best value is 0.00035039725388912594 with parameters: {'x': 2.018718900979735}.\n",
      "[I 2018-12-05 17:25:18,044] Finished a trial resulted in value: 0.5851791557513011. Current best value is 0.00035039725388912594 with parameters: {'x': 2.018718900979735}.\n",
      "[I 2018-12-05 17:25:18,051] Finished a trial resulted in value: 0.19643536378815044. Current best value is 0.00035039725388912594 with parameters: {'x': 2.018718900979735}.\n",
      "[I 2018-12-05 17:25:18,059] Finished a trial resulted in value: 5.406269235612706. Current best value is 0.00035039725388912594 with parameters: {'x': 2.018718900979735}.\n",
      "[I 2018-12-05 17:25:18,067] Finished a trial resulted in value: 1.618516024593859. Current best value is 0.00035039725388912594 with parameters: {'x': 2.018718900979735}.\n",
      "[I 2018-12-05 17:25:18,074] Finished a trial resulted in value: 6.200822054360989. Current best value is 0.00035039725388912594 with parameters: {'x': 2.018718900979735}.\n",
      "[I 2018-12-05 17:25:18,082] Finished a trial resulted in value: 1.6158583534606585. Current best value is 0.00035039725388912594 with parameters: {'x': 2.018718900979735}.\n",
      "[I 2018-12-05 17:25:18,091] Finished a trial resulted in value: 9.762065604952337. Current best value is 0.00035039725388912594 with parameters: {'x': 2.018718900979735}.\n",
      "[I 2018-12-05 17:25:18,100] Finished a trial resulted in value: 3.789790245382589. Current best value is 0.00035039725388912594 with parameters: {'x': 2.018718900979735}.\n",
      "[I 2018-12-05 17:25:18,108] Finished a trial resulted in value: 9.06110778032937. Current best value is 0.00035039725388912594 with parameters: {'x': 2.018718900979735}.\n",
      "[I 2018-12-05 17:25:18,117] Finished a trial resulted in value: 5.499054414392596. Current best value is 0.00035039725388912594 with parameters: {'x': 2.018718900979735}.\n",
      "[I 2018-12-05 17:25:18,125] Finished a trial resulted in value: 61.82264301303197. Current best value is 0.00035039725388912594 with parameters: {'x': 2.018718900979735}.\n",
      "[I 2018-12-05 17:25:18,134] Finished a trial resulted in value: 5.689169871438566. Current best value is 0.00035039725388912594 with parameters: {'x': 2.018718900979735}.\n",
      "[I 2018-12-05 17:25:18,142] Finished a trial resulted in value: 0.054350141316854436. Current best value is 0.00035039725388912594 with parameters: {'x': 2.018718900979735}.\n",
      "[I 2018-12-05 17:25:18,152] Finished a trial resulted in value: 0.3651235929002895. Current best value is 0.00035039725388912594 with parameters: {'x': 2.018718900979735}.\n",
      "[I 2018-12-05 17:25:18,159] Finished a trial resulted in value: 0.025629794687839047. Current best value is 0.00035039725388912594 with parameters: {'x': 2.018718900979735}.\n",
      "[I 2018-12-05 17:25:18,168] Finished a trial resulted in value: 3.667329417003405. Current best value is 0.00035039725388912594 with parameters: {'x': 2.018718900979735}.\n",
      "[I 2018-12-05 17:25:18,177] Finished a trial resulted in value: 0.0018658697816734055. Current best value is 0.00035039725388912594 with parameters: {'x': 2.018718900979735}.\n",
      "[I 2018-12-05 17:25:18,186] Finished a trial resulted in value: 0.0282730240404578. Current best value is 0.00035039725388912594 with parameters: {'x': 2.018718900979735}.\n",
      "[I 2018-12-05 17:25:18,194] Finished a trial resulted in value: 1.3329174205752456. Current best value is 0.00035039725388912594 with parameters: {'x': 2.018718900979735}.\n",
      "[I 2018-12-05 17:25:18,206] Finished a trial resulted in value: 0.16209999373420375. Current best value is 0.00035039725388912594 with parameters: {'x': 2.018718900979735}.\n",
      "[I 2018-12-05 17:25:18,216] Finished a trial resulted in value: 3.2502757025915323. Current best value is 0.00035039725388912594 with parameters: {'x': 2.018718900979735}.\n",
      "[I 2018-12-05 17:25:18,226] Finished a trial resulted in value: 0.37610093712522097. Current best value is 0.00035039725388912594 with parameters: {'x': 2.018718900979735}.\n",
      "[I 2018-12-05 17:25:18,237] Finished a trial resulted in value: 1.7789470451547855. Current best value is 0.00035039725388912594 with parameters: {'x': 2.018718900979735}.\n",
      "[I 2018-12-05 17:25:18,247] Finished a trial resulted in value: 0.3857920707642597. Current best value is 0.00035039725388912594 with parameters: {'x': 2.018718900979735}.\n",
      "[I 2018-12-05 17:25:18,258] Finished a trial resulted in value: 0.9096535136222746. Current best value is 0.00035039725388912594 with parameters: {'x': 2.018718900979735}.\n",
      "[I 2018-12-05 17:25:18,267] Finished a trial resulted in value: 0.34020693320615125. Current best value is 0.00035039725388912594 with parameters: {'x': 2.018718900979735}.\n",
      "[I 2018-12-05 17:25:18,278] Finished a trial resulted in value: 1.8067616334393128. Current best value is 0.00035039725388912594 with parameters: {'x': 2.018718900979735}.\n",
      "[I 2018-12-05 17:25:18,289] Finished a trial resulted in value: 0.14636053634962323. Current best value is 0.00035039725388912594 with parameters: {'x': 2.018718900979735}.\n",
      "[I 2018-12-05 17:25:18,299] Finished a trial resulted in value: 3.1641783915677113. Current best value is 0.00035039725388912594 with parameters: {'x': 2.018718900979735}.\n",
      "[I 2018-12-05 17:25:18,309] Finished a trial resulted in value: 1.1331698897983842. Current best value is 0.00035039725388912594 with parameters: {'x': 2.018718900979735}.\n",
      "[I 2018-12-05 17:25:18,319] Finished a trial resulted in value: 4.459657845913797. Current best value is 0.00035039725388912594 with parameters: {'x': 2.018718900979735}.\n",
      "[I 2018-12-05 17:25:18,329] Finished a trial resulted in value: 0.18899504527671313. Current best value is 0.00035039725388912594 with parameters: {'x': 2.018718900979735}.\n",
      "[I 2018-12-05 17:25:18,340] Finished a trial resulted in value: 0.5383736974163534. Current best value is 0.00035039725388912594 with parameters: {'x': 2.018718900979735}.\n",
      "[I 2018-12-05 17:25:18,349] Finished a trial resulted in value: 1.2821065724360976. Current best value is 0.00035039725388912594 with parameters: {'x': 2.018718900979735}.\n",
      "[I 2018-12-05 17:25:18,361] Finished a trial resulted in value: 1.7505054275747527. Current best value is 0.00035039725388912594 with parameters: {'x': 2.018718900979735}.\n",
      "[I 2018-12-05 17:25:18,372] Finished a trial resulted in value: 12.137466938313644. Current best value is 0.00035039725388912594 with parameters: {'x': 2.018718900979735}.\n",
      "[I 2018-12-05 17:25:18,383] Finished a trial resulted in value: 4.4470905067809365. Current best value is 0.00035039725388912594 with parameters: {'x': 2.018718900979735}.\n",
      "[I 2018-12-05 17:25:18,393] Finished a trial resulted in value: 7.677089519628197. Current best value is 0.00035039725388912594 with parameters: {'x': 2.018718900979735}.\n",
      "[I 2018-12-05 17:25:18,404] Finished a trial resulted in value: 0.4647692068924468. Current best value is 0.00035039725388912594 with parameters: {'x': 2.018718900979735}.\n",
      "[I 2018-12-05 17:25:18,413] Finished a trial resulted in value: 0.009430134682475345. Current best value is 0.00035039725388912594 with parameters: {'x': 2.018718900979735}.\n"
     ]
    },
    {
     "name": "stderr",
     "output_type": "stream",
     "text": [
      "[I 2018-12-05 17:25:18,425] Finished a trial resulted in value: 1.0935310642503655. Current best value is 0.00035039725388912594 with parameters: {'x': 2.018718900979735}.\n",
      "[I 2018-12-05 17:25:18,435] Finished a trial resulted in value: 0.11215255562826487. Current best value is 0.00035039725388912594 with parameters: {'x': 2.018718900979735}.\n",
      "[I 2018-12-05 17:25:18,446] Finished a trial resulted in value: 1.1603582862564947. Current best value is 0.00035039725388912594 with parameters: {'x': 2.018718900979735}.\n",
      "[I 2018-12-05 17:25:18,458] Finished a trial resulted in value: 0.0002946823438345498. Current best value is 0.0002946823438345498 with parameters: {'x': 1.9828336857818998}.\n",
      "[I 2018-12-05 17:25:18,470] Finished a trial resulted in value: 1.4991728285411507. Current best value is 0.0002946823438345498 with parameters: {'x': 1.9828336857818998}.\n"
     ]
    }
   ],
   "source": [
    "study = optuna.create_study()\n",
    "study.optimize(objective, n_trials=100)"
   ]
  },
  {
   "cell_type": "markdown",
   "metadata": {},
   "source": [
    "#### 用語について\n",
    "- Trial: 目的関数について、1回の評価・試行\n",
    "- Study: 最適化の過程, 探索, trialの集合\n",
    "- Parameter: 最適化される変数, 上の例では`x`"
   ]
  },
  {
   "cell_type": "markdown",
   "metadata": {},
   "source": [
    "### study objectのattribute等\n",
    "- 最適化の結果\n",
    "- 試行のログ"
   ]
  },
  {
   "cell_type": "code",
   "execution_count": 4,
   "metadata": {},
   "outputs": [
    {
     "name": "stdout",
     "output_type": "stream",
     "text": [
      "最適化された変数の値\n",
      "{'x': 1.9828336857818998}\n",
      "----------------------------------------\n",
      "目的関数の最適値\n",
      "0.0002946823438345498\n",
      "----------------------------------------\n",
      "最適値を達成した試行\n",
      "FrozenTrial(trial_id=98, state=<TrialState.COMPLETE: 1>, value=0.0002946823438345498, datetime_start=datetime.datetime(2018, 12, 5, 17, 25, 18, 448570), datetime_complete=datetime.datetime(2018, 12, 5, 17, 25, 18, 454581), params={'x': 1.9828336857818998}, user_attrs={}, system_attrs={}, intermediate_values={}, params_in_internal_repr={'x': 1.9828336857818998})\n",
      "----------------------------------------\n",
      "全試行回数\n",
      "100\n",
      "----------------------------------------\n",
      "全試行\n"
     ]
    },
    {
     "name": "stdout",
     "output_type": "stream",
     "text": [
      "[FrozenTrial(trial_id=0, state=<TrialState.COMPLETE: 1>, value=0.5750720632736718, datetime_start=datetime.datetime(2018, 12, 5, 17, 25, 17, 710254), datetime_complete=datetime.datetime(2018, 12, 5, 17, 25, 17, 710530), params={'x': 2.758335060031957}, user_attrs={}, system_attrs={}, intermediate_values={}, params_in_internal_repr={'x': 2.758335060031957}), FrozenTrial(trial_id=1, state=<TrialState.COMPLETE: 1>, value=11.877294954508743, datetime_start=datetime.datetime(2018, 12, 5, 17, 25, 17, 714608), datetime_complete=datetime.datetime(2018, 12, 5, 17, 25, 17, 714964), params={'x': -1.4463451589341343}, user_attrs={}, system_attrs={}, intermediate_values={}, params_in_internal_repr={'x': -1.4463451589341343}), FrozenTrial(trial_id=2, state=<TrialState.COMPLETE: 1>, value=34.574977026287605, datetime_start=datetime.datetime(2018, 12, 5, 17, 25, 17, 718223), datetime_complete=datetime.datetime(2018, 12, 5, 17, 25, 17, 718504), params={'x': 7.880049066656468}, user_attrs={}, system_attrs={}, intermediate_values={}, params_in_internal_repr={'x': 7.880049066656468}), FrozenTrial(trial_id=3, state=<TrialState.COMPLETE: 1>, value=21.08967284987718, datetime_start=datetime.datetime(2018, 12, 5, 17, 25, 17, 721526), datetime_complete=datetime.datetime(2018, 12, 5, 17, 25, 17, 721793), params={'x': -2.5923493823833983}, user_attrs={}, system_attrs={}, intermediate_values={}, params_in_internal_repr={'x': -2.5923493823833983}), FrozenTrial(trial_id=4, state=<TrialState.COMPLETE: 1>, value=37.44043257859045, datetime_start=datetime.datetime(2018, 12, 5, 17, 25, 17, 724108), datetime_complete=datetime.datetime(2018, 12, 5, 17, 25, 17, 724463), params={'x': -4.118858764393116}, user_attrs={}, system_attrs={}, intermediate_values={}, params_in_internal_repr={'x': -4.118858764393116}), FrozenTrial(trial_id=5, state=<TrialState.COMPLETE: 1>, value=22.18496420918182, datetime_start=datetime.datetime(2018, 12, 5, 17, 25, 17, 727292), datetime_complete=datetime.datetime(2018, 12, 5, 17, 25, 17, 727859), params={'x': 6.710091741057898}, user_attrs={}, system_attrs={}, intermediate_values={}, params_in_internal_repr={'x': 6.710091741057898}), FrozenTrial(trial_id=6, state=<TrialState.COMPLETE: 1>, value=32.37039290229961, datetime_start=datetime.datetime(2018, 12, 5, 17, 25, 17, 731631), datetime_complete=datetime.datetime(2018, 12, 5, 17, 25, 17, 731984), params={'x': -3.689498475463335}, user_attrs={}, system_attrs={}, intermediate_values={}, params_in_internal_repr={'x': -3.689498475463335}), FrozenTrial(trial_id=7, state=<TrialState.COMPLETE: 1>, value=32.16575063677792, datetime_start=datetime.datetime(2018, 12, 5, 17, 25, 17, 734386), datetime_complete=datetime.datetime(2018, 12, 5, 17, 25, 17, 734768), params={'x': 7.671485752144488}, user_attrs={}, system_attrs={}, intermediate_values={}, params_in_internal_repr={'x': 7.671485752144488}), FrozenTrial(trial_id=8, state=<TrialState.COMPLETE: 1>, value=23.147561105003103, datetime_start=datetime.datetime(2018, 12, 5, 17, 25, 17, 736932), datetime_complete=datetime.datetime(2018, 12, 5, 17, 25, 17, 737264), params={'x': -2.811191235546879}, user_attrs={}, system_attrs={}, intermediate_values={}, params_in_internal_repr={'x': -2.811191235546879}), FrozenTrial(trial_id=9, state=<TrialState.COMPLETE: 1>, value=9.560813234474546, datetime_start=datetime.datetime(2018, 12, 5, 17, 25, 17, 739155), datetime_complete=datetime.datetime(2018, 12, 5, 17, 25, 17, 739502), params={'x': 5.0920564733643765}, user_attrs={}, system_attrs={}, intermediate_values={}, params_in_internal_repr={'x': 5.0920564733643765}), FrozenTrial(trial_id=10, state=<TrialState.COMPLETE: 1>, value=8.32182288519498, datetime_start=datetime.datetime(2018, 12, 5, 17, 25, 17, 741528), datetime_complete=datetime.datetime(2018, 12, 5, 17, 25, 17, 743735), params={'x': 4.884756988932513}, user_attrs={}, system_attrs={}, intermediate_values={}, params_in_internal_repr={'x': 4.884756988932513}), FrozenTrial(trial_id=11, state=<TrialState.COMPLETE: 1>, value=23.560632526573922, datetime_start=datetime.datetime(2018, 12, 5, 17, 25, 17, 746684), datetime_complete=datetime.datetime(2018, 12, 5, 17, 25, 17, 749273), params={'x': -2.8539295963759015}, user_attrs={}, system_attrs={}, intermediate_values={}, params_in_internal_repr={'x': -2.8539295963759015}), FrozenTrial(trial_id=12, state=<TrialState.COMPLETE: 1>, value=8.110379094420837, datetime_start=datetime.datetime(2018, 12, 5, 17, 25, 17, 751487), datetime_complete=datetime.datetime(2018, 12, 5, 17, 25, 17, 753965), params={'x': 4.847872731429696}, user_attrs={}, system_attrs={}, intermediate_values={}, params_in_internal_repr={'x': 4.847872731429696}), FrozenTrial(trial_id=13, state=<TrialState.COMPLETE: 1>, value=10.668835848817475, datetime_start=datetime.datetime(2018, 12, 5, 17, 25, 17, 756243), datetime_complete=datetime.datetime(2018, 12, 5, 17, 25, 17, 758533), params={'x': -1.2663183936685467}, user_attrs={}, system_attrs={}, intermediate_values={}, params_in_internal_repr={'x': -1.2663183936685467}), FrozenTrial(trial_id=14, state=<TrialState.COMPLETE: 1>, value=2.813502838164153, datetime_start=datetime.datetime(2018, 12, 5, 17, 25, 17, 760351), datetime_complete=datetime.datetime(2018, 12, 5, 17, 25, 17, 763120), params={'x': 3.677349945051465}, user_attrs={}, system_attrs={}, intermediate_values={}, params_in_internal_repr={'x': 3.677349945051465}), FrozenTrial(trial_id=15, state=<TrialState.COMPLETE: 1>, value=4.148283005599101, datetime_start=datetime.datetime(2018, 12, 5, 17, 25, 17, 765142), datetime_complete=datetime.datetime(2018, 12, 5, 17, 25, 17, 767593), params={'x': -0.03673341544717168}, user_attrs={}, system_attrs={}, intermediate_values={}, params_in_internal_repr={'x': -0.03673341544717168}), FrozenTrial(trial_id=16, state=<TrialState.COMPLETE: 1>, value=0.14958130516181636, datetime_start=datetime.datetime(2018, 12, 5, 17, 25, 17, 769491), datetime_complete=datetime.datetime(2018, 12, 5, 17, 25, 17, 771894), params={'x': 2.3867574241844833}, user_attrs={}, system_attrs={}, intermediate_values={}, params_in_internal_repr={'x': 2.3867574241844833}), FrozenTrial(trial_id=17, state=<TrialState.COMPLETE: 1>, value=62.0659040952912, datetime_start=datetime.datetime(2018, 12, 5, 17, 25, 17, 773833), datetime_complete=datetime.datetime(2018, 12, 5, 17, 25, 17, 776350), params={'x': 9.878191676729578}, user_attrs={}, system_attrs={}, intermediate_values={}, params_in_internal_repr={'x': 9.878191676729578}), FrozenTrial(trial_id=18, state=<TrialState.COMPLETE: 1>, value=6.61386387917728, datetime_start=datetime.datetime(2018, 12, 5, 17, 25, 17, 778250), datetime_complete=datetime.datetime(2018, 12, 5, 17, 25, 17, 780921), params={'x': -0.5717433540649579}, user_attrs={}, system_attrs={}, intermediate_values={}, params_in_internal_repr={'x': -0.5717433540649579}), FrozenTrial(trial_id=19, state=<TrialState.COMPLETE: 1>, value=0.0036163090027471413, datetime_start=datetime.datetime(2018, 12, 5, 17, 25, 17, 783052), datetime_complete=datetime.datetime(2018, 12, 5, 17, 25, 17, 785364), params={'x': 2.0601357547782277}, user_attrs={}, system_attrs={}, intermediate_values={}, params_in_internal_repr={'x': 2.0601357547782277}), FrozenTrial(trial_id=20, state=<TrialState.COMPLETE: 1>, value=43.472969371923504, datetime_start=datetime.datetime(2018, 12, 5, 17, 25, 17, 787449), datetime_complete=datetime.datetime(2018, 12, 5, 17, 25, 17, 790568), params={'x': -4.593403474073424}, user_attrs={}, system_attrs={}, intermediate_values={}, params_in_internal_repr={'x': -4.593403474073424}), FrozenTrial(trial_id=21, state=<TrialState.COMPLETE: 1>, value=0.04670768936193865, datetime_start=datetime.datetime(2018, 12, 5, 17, 25, 17, 793842), datetime_complete=datetime.datetime(2018, 12, 5, 17, 25, 17, 798240), params={'x': 2.2161196181792358}, user_attrs={}, system_attrs={}, intermediate_values={}, params_in_internal_repr={'x': 2.2161196181792358}), FrozenTrial(trial_id=22, state=<TrialState.COMPLETE: 1>, value=5.819043418027781, datetime_start=datetime.datetime(2018, 12, 5, 17, 25, 17, 802841), datetime_complete=datetime.datetime(2018, 12, 5, 17, 25, 17, 807320), params={'x': -0.4122693502235154}, user_attrs={}, system_attrs={}, intermediate_values={}, params_in_internal_repr={'x': -0.4122693502235154}), FrozenTrial(trial_id=23, state=<TrialState.COMPLETE: 1>, value=0.043356932437585274, datetime_start=datetime.datetime(2018, 12, 5, 17, 25, 17, 811313), datetime_complete=datetime.datetime(2018, 12, 5, 17, 25, 17, 814885), params={'x': 2.208223275446299}, user_attrs={}, system_attrs={}, intermediate_values={}, params_in_internal_repr={'x': 2.208223275446299}), FrozenTrial(trial_id=24, state=<TrialState.COMPLETE: 1>, value=0.7490688736967356, datetime_start=datetime.datetime(2018, 12, 5, 17, 25, 17, 817685), datetime_complete=datetime.datetime(2018, 12, 5, 17, 25, 17, 822135), params={'x': 1.1345123491945506}, user_attrs={}, system_attrs={}, intermediate_values={}, params_in_internal_repr={'x': 1.1345123491945506}), FrozenTrial(trial_id=25, state=<TrialState.COMPLETE: 1>, value=0.2581060088099864, datetime_start=datetime.datetime(2018, 12, 5, 17, 25, 17, 825273), datetime_complete=datetime.datetime(2018, 12, 5, 17, 25, 17, 828689), params={'x': 1.491958654428612}, user_attrs={}, system_attrs={}, intermediate_values={}, params_in_internal_repr={'x': 1.491958654428612}), FrozenTrial(trial_id=26, state=<TrialState.COMPLETE: 1>, value=1.0437627068979702, datetime_start=datetime.datetime(2018, 12, 5, 17, 25, 17, 831507), datetime_complete=datetime.datetime(2018, 12, 5, 17, 25, 17, 834204), params={'x': 0.978352944066313}, user_attrs={}, system_attrs={}, intermediate_values={}, params_in_internal_repr={'x': 0.978352944066313}), FrozenTrial(trial_id=27, state=<TrialState.COMPLETE: 1>, value=0.0014792208285102305, datetime_start=datetime.datetime(2018, 12, 5, 17, 25, 17, 836552), datetime_complete=datetime.datetime(2018, 12, 5, 17, 25, 17, 840063), params={'x': 2.038460639990908}, user_attrs={}, system_attrs={}, intermediate_values={}, params_in_internal_repr={'x': 2.038460639990908}), FrozenTrial(trial_id=28, state=<TrialState.COMPLETE: 1>, value=0.7438695089054732, datetime_start=datetime.datetime(2018, 12, 5, 17, 25, 17, 844736), datetime_complete=datetime.datetime(2018, 12, 5, 17, 25, 17, 848685), params={'x': 1.137521299448228}, user_attrs={}, system_attrs={}, intermediate_values={}, params_in_internal_repr={'x': 1.137521299448228}), FrozenTrial(trial_id=29, state=<TrialState.COMPLETE: 1>, value=1.0813313177627708, datetime_start=datetime.datetime(2018, 12, 5, 17, 25, 17, 851912), datetime_complete=datetime.datetime(2018, 12, 5, 17, 25, 17, 855040), params={'x': 0.9601291821756075}, user_attrs={}, system_attrs={}, intermediate_values={}, params_in_internal_repr={'x': 0.9601291821756075}), FrozenTrial(trial_id=30, state=<TrialState.COMPLETE: 1>, value=1.182320746629118, datetime_start=datetime.datetime(2018, 12, 5, 17, 25, 17, 857729), datetime_complete=datetime.datetime(2018, 12, 5, 17, 25, 17, 860442), params={'x': 0.9126542653649127}, user_attrs={}, system_attrs={}, intermediate_values={}, params_in_internal_repr={'x': 0.9126542653649127}), FrozenTrial(trial_id=31, state=<TrialState.COMPLETE: 1>, value=0.7007867550896955, datetime_start=datetime.datetime(2018, 12, 5, 17, 25, 17, 862979), datetime_complete=datetime.datetime(2018, 12, 5, 17, 25, 17, 865886), params={'x': 2.8371300705921962}, user_attrs={}, system_attrs={}, intermediate_values={}, params_in_internal_repr={'x': 2.8371300705921962}), FrozenTrial(trial_id=32, state=<TrialState.COMPLETE: 1>, value=2.1330223509345605, datetime_start=datetime.datetime(2018, 12, 5, 17, 25, 17, 869283), datetime_complete=datetime.datetime(2018, 12, 5, 17, 25, 17, 872658), params={'x': 0.5395129747462458}, user_attrs={}, system_attrs={}, intermediate_values={}, params_in_internal_repr={'x': 0.5395129747462458}), FrozenTrial(trial_id=33, state=<TrialState.COMPLETE: 1>, value=8.548618487672632, datetime_start=datetime.datetime(2018, 12, 5, 17, 25, 17, 876369), datetime_complete=datetime.datetime(2018, 12, 5, 17, 25, 17, 879706), params={'x': -0.9238020602757349}, user_attrs={}, system_attrs={}, intermediate_values={}, params_in_internal_repr={'x': -0.9238020602757349}), FrozenTrial(trial_id=34, state=<TrialState.COMPLETE: 1>, value=2.341751844896159, datetime_start=datetime.datetime(2018, 12, 5, 17, 25, 17, 883051), datetime_complete=datetime.datetime(2018, 12, 5, 17, 25, 17, 886037), params={'x': 3.5302783553641994}, user_attrs={}, system_attrs={}, intermediate_values={}, params_in_internal_repr={'x': 3.5302783553641994}), FrozenTrial(trial_id=35, state=<TrialState.COMPLETE: 1>, value=4.576818864808849, datetime_start=datetime.datetime(2018, 12, 5, 17, 25, 17, 888780), datetime_complete=datetime.datetime(2018, 12, 5, 17, 25, 17, 891839), params={'x': -0.1393501033745852}, user_attrs={}, system_attrs={}, intermediate_values={}, params_in_internal_repr={'x': -0.1393501033745852}), FrozenTrial(trial_id=36, state=<TrialState.COMPLETE: 1>, value=0.0003782579216194569, datetime_start=datetime.datetime(2018, 12, 5, 17, 25, 17, 895214), datetime_complete=datetime.datetime(2018, 12, 5, 17, 25, 17, 898917), params={'x': 2.0194488539924453}, user_attrs={}, system_attrs={}, intermediate_values={}, params_in_internal_repr={'x': 2.0194488539924453}), FrozenTrial(trial_id=37, state=<TrialState.COMPLETE: 1>, value=5.241113590212449, datetime_start=datetime.datetime(2018, 12, 5, 17, 25, 17, 903608), datetime_complete=datetime.datetime(2018, 12, 5, 17, 25, 17, 907479), params={'x': -0.28934785260179474}, user_attrs={}, system_attrs={}, intermediate_values={}, params_in_internal_repr={'x': -0.28934785260179474}), FrozenTrial(trial_id=38, state=<TrialState.COMPLETE: 1>, value=0.3790976469351896, datetime_start=datetime.datetime(2018, 12, 5, 17, 25, 17, 911130), datetime_complete=datetime.datetime(2018, 12, 5, 17, 25, 17, 915471), params={'x': 2.6157090602997406}, user_attrs={}, system_attrs={}, intermediate_values={}, params_in_internal_repr={'x': 2.6157090602997406}), FrozenTrial(trial_id=39, state=<TrialState.COMPLETE: 1>, value=0.2591389237804315, datetime_start=datetime.datetime(2018, 12, 5, 17, 25, 17, 918977), datetime_complete=datetime.datetime(2018, 12, 5, 17, 25, 17, 922813), params={'x': 1.4909431035921117}, user_attrs={}, system_attrs={}, intermediate_values={}, params_in_internal_repr={'x': 1.4909431035921117}), FrozenTrial(trial_id=40, state=<TrialState.COMPLETE: 1>, value=0.9670123313298011, datetime_start=datetime.datetime(2018, 12, 5, 17, 25, 17, 926282), datetime_complete=datetime.datetime(2018, 12, 5, 17, 25, 17, 930453), params={'x': 1.0166321485172494}, user_attrs={}, system_attrs={}, intermediate_values={}, params_in_internal_repr={'x': 1.0166321485172494}), FrozenTrial(trial_id=41, state=<TrialState.COMPLETE: 1>, value=0.03424996453318304, datetime_start=datetime.datetime(2018, 12, 5, 17, 25, 17, 935894), datetime_complete=datetime.datetime(2018, 12, 5, 17, 25, 17, 939012), params={'x': 2.185067459411921}, user_attrs={}, system_attrs={}, intermediate_values={}, params_in_internal_repr={'x': 2.185067459411921}), FrozenTrial(trial_id=42, state=<TrialState.COMPLETE: 1>, value=1.7222548166567568, datetime_start=datetime.datetime(2018, 12, 5, 17, 25, 17, 942580), datetime_complete=datetime.datetime(2018, 12, 5, 17, 25, 17, 945741), params={'x': 0.6876529358981456}, user_attrs={}, system_attrs={}, intermediate_values={}, params_in_internal_repr={'x': 0.6876529358981456}), FrozenTrial(trial_id=43, state=<TrialState.COMPLETE: 1>, value=0.00035039725388912594, datetime_start=datetime.datetime(2018, 12, 5, 17, 25, 17, 949147), datetime_complete=datetime.datetime(2018, 12, 5, 17, 25, 17, 952287), params={'x': 2.018718900979735}, user_attrs={}, system_attrs={}, intermediate_values={}, params_in_internal_repr={'x': 2.018718900979735}), FrozenTrial(trial_id=44, state=<TrialState.COMPLETE: 1>, value=0.489751875678752, datetime_start=datetime.datetime(2018, 12, 5, 17, 25, 17, 955517), datetime_complete=datetime.datetime(2018, 12, 5, 17, 25, 17, 959000), params={'x': 1.3001772541001886}, user_attrs={}, system_attrs={}, intermediate_values={}, params_in_internal_repr={'x': 1.3001772541001886}), FrozenTrial(trial_id=45, state=<TrialState.COMPLETE: 1>, value=1.6446426609009146, datetime_start=datetime.datetime(2018, 12, 5, 17, 25, 17, 963411), datetime_complete=datetime.datetime(2018, 12, 5, 17, 25, 17, 967772), params={'x': 0.7175637790124163}, user_attrs={}, system_attrs={}, intermediate_values={}, params_in_internal_repr={'x': 0.7175637790124163}), FrozenTrial(trial_id=46, state=<TrialState.COMPLETE: 1>, value=6.772583296755901, datetime_start=datetime.datetime(2018, 12, 5, 17, 25, 17, 971841), datetime_complete=datetime.datetime(2018, 12, 5, 17, 25, 17, 976235), params={'x': 4.602418739702721}, user_attrs={}, system_attrs={}, intermediate_values={}, params_in_internal_repr={'x': 4.602418739702721}), FrozenTrial(trial_id=47, state=<TrialState.COMPLETE: 1>, value=17.137177602196967, datetime_start=datetime.datetime(2018, 12, 5, 17, 25, 17, 979561), datetime_complete=datetime.datetime(2018, 12, 5, 17, 25, 17, 982402), params={'x': -2.1397074295410015}, user_attrs={}, system_attrs={}, intermediate_values={}, params_in_internal_repr={'x': -2.1397074295410015}), FrozenTrial(trial_id=48, state=<TrialState.COMPLETE: 1>, value=14.221934638252254, datetime_start=datetime.datetime(2018, 12, 5, 17, 25, 17, 985925), datetime_complete=datetime.datetime(2018, 12, 5, 17, 25, 17, 989072), params={'x': 5.771198037527631}, user_attrs={}, system_attrs={}, intermediate_values={}, params_in_internal_repr={'x': 5.771198037527631}), FrozenTrial(trial_id=49, state=<TrialState.COMPLETE: 1>, value=21.269728654653512, datetime_start=datetime.datetime(2018, 12, 5, 17, 25, 17, 992420), datetime_complete=datetime.datetime(2018, 12, 5, 17, 25, 17, 996274), params={'x': -2.611911605251505}, user_attrs={}, system_attrs={}, intermediate_values={}, params_in_internal_repr={'x': -2.611911605251505}), FrozenTrial(trial_id=50, state=<TrialState.COMPLETE: 1>, value=8.276206932150194, datetime_start=datetime.datetime(2018, 12, 5, 17, 25, 18, 246), datetime_complete=datetime.datetime(2018, 12, 5, 17, 25, 18, 4807), params={'x': 4.876839747387781}, user_attrs={}, system_attrs={}, intermediate_values={}, params_in_internal_repr={'x': 4.876839747387781}), FrozenTrial(trial_id=51, state=<TrialState.COMPLETE: 1>, value=9.175293954591819, datetime_start=datetime.datetime(2018, 12, 5, 17, 25, 18, 10458), datetime_complete=datetime.datetime(2018, 12, 5, 17, 25, 18, 14852), params={'x': -1.0290747687357964}, user_attrs={}, system_attrs={}, intermediate_values={}, params_in_internal_repr={'x': -1.0290747687357964}), FrozenTrial(trial_id=52, state=<TrialState.COMPLETE: 1>, value=1.0975054507264133, datetime_start=datetime.datetime(2018, 12, 5, 17, 25, 18, 18287), datetime_complete=datetime.datetime(2018, 12, 5, 17, 25, 18, 21358), params={'x': 3.0476189434743977}, user_attrs={}, system_attrs={}, intermediate_values={}, params_in_internal_repr={'x': 3.0476189434743977}), FrozenTrial(trial_id=53, state=<TrialState.COMPLETE: 1>, value=0.7885355633836891, datetime_start=datetime.datetime(2018, 12, 5, 17, 25, 18, 25202), datetime_complete=datetime.datetime(2018, 12, 5, 17, 25, 18, 28781), params={'x': 1.112004750359728}, user_attrs={}, system_attrs={}, intermediate_values={}, params_in_internal_repr={'x': 1.112004750359728}), FrozenTrial(trial_id=54, state=<TrialState.COMPLETE: 1>, value=0.9295831023344767, datetime_start=datetime.datetime(2018, 12, 5, 17, 25, 18, 32572), datetime_complete=datetime.datetime(2018, 12, 5, 17, 25, 18, 35164), params={'x': 1.0358510995004575}, user_attrs={}, system_attrs={}, intermediate_values={}, params_in_internal_repr={'x': 1.0358510995004575}), FrozenTrial(trial_id=55, state=<TrialState.COMPLETE: 1>, value=0.5851791557513011, datetime_start=datetime.datetime(2018, 12, 5, 17, 25, 18, 38590), datetime_complete=datetime.datetime(2018, 12, 5, 17, 25, 18, 41877), params={'x': 1.2350299641480713}, user_attrs={}, system_attrs={}, intermediate_values={}, params_in_internal_repr={'x': 1.2350299641480713}), FrozenTrial(trial_id=56, state=<TrialState.COMPLETE: 1>, value=0.19643536378815044, datetime_start=datetime.datetime(2018, 12, 5, 17, 25, 18, 45490), datetime_complete=datetime.datetime(2018, 12, 5, 17, 25, 18, 48903), params={'x': 2.443210292962777}, user_attrs={}, system_attrs={}, intermediate_values={}, params_in_internal_repr={'x': 2.443210292962777}), FrozenTrial(trial_id=57, state=<TrialState.COMPLETE: 1>, value=5.406269235612706, datetime_start=datetime.datetime(2018, 12, 5, 17, 25, 18, 52737), datetime_complete=datetime.datetime(2018, 12, 5, 17, 25, 18, 57377), params={'x': -0.32513854116538754}, user_attrs={}, system_attrs={}, intermediate_values={}, params_in_internal_repr={'x': -0.32513854116538754}), FrozenTrial(trial_id=58, state=<TrialState.COMPLETE: 1>, value=1.618516024593859, datetime_start=datetime.datetime(2018, 12, 5, 17, 25, 18, 61132), datetime_complete=datetime.datetime(2018, 12, 5, 17, 25, 18, 64708), params={'x': 3.272209111975645}, user_attrs={}, system_attrs={}, intermediate_values={}, params_in_internal_repr={'x': 3.272209111975645}), FrozenTrial(trial_id=59, state=<TrialState.COMPLETE: 1>, value=6.200822054360989, datetime_start=datetime.datetime(2018, 12, 5, 17, 25, 18, 68218), datetime_complete=datetime.datetime(2018, 12, 5, 17, 25, 18, 71687), params={'x': -0.49014498661443184}, user_attrs={}, system_attrs={}, intermediate_values={}, params_in_internal_repr={'x': -0.49014498661443184}), FrozenTrial(trial_id=60, state=<TrialState.COMPLETE: 1>, value=1.6158583534606585, datetime_start=datetime.datetime(2018, 12, 5, 17, 25, 18, 75381), datetime_complete=datetime.datetime(2018, 12, 5, 17, 25, 18, 79215), params={'x': 3.2711641725051326}, user_attrs={}, system_attrs={}, intermediate_values={}, params_in_internal_repr={'x': 3.2711641725051326}), FrozenTrial(trial_id=61, state=<TrialState.COMPLETE: 1>, value=9.762065604952337, datetime_start=datetime.datetime(2018, 12, 5, 17, 25, 18, 84018), datetime_complete=datetime.datetime(2018, 12, 5, 17, 25, 18, 88192), params={'x': -1.12443044488949}, user_attrs={}, system_attrs={}, intermediate_values={}, params_in_internal_repr={'x': -1.12443044488949}), FrozenTrial(trial_id=62, state=<TrialState.COMPLETE: 1>, value=3.789790245382589, datetime_start=datetime.datetime(2018, 12, 5, 17, 25, 18, 92751), datetime_complete=datetime.datetime(2018, 12, 5, 17, 25, 18, 97510), params={'x': 3.94673836079289}, user_attrs={}, system_attrs={}, intermediate_values={}, params_in_internal_repr={'x': 3.94673836079289}), FrozenTrial(trial_id=63, state=<TrialState.COMPLETE: 1>, value=9.06110778032937, datetime_start=datetime.datetime(2018, 12, 5, 17, 25, 18, 101441), datetime_complete=datetime.datetime(2018, 12, 5, 17, 25, 18, 105170), params={'x': -1.010167400715344}, user_attrs={}, system_attrs={}, intermediate_values={}, params_in_internal_repr={'x': -1.010167400715344}), FrozenTrial(trial_id=64, state=<TrialState.COMPLETE: 1>, value=5.499054414392596, datetime_start=datetime.datetime(2018, 12, 5, 17, 25, 18, 110267), datetime_complete=datetime.datetime(2018, 12, 5, 17, 25, 18, 114074), params={'x': 4.345006271717113}, user_attrs={}, system_attrs={}, intermediate_values={}, params_in_internal_repr={'x': 4.345006271717113}), FrozenTrial(trial_id=65, state=<TrialState.COMPLETE: 1>, value=61.82264301303197, datetime_start=datetime.datetime(2018, 12, 5, 17, 25, 18, 118983), datetime_complete=datetime.datetime(2018, 12, 5, 17, 25, 18, 123074), params={'x': 9.862737628398392}, user_attrs={}, system_attrs={}, intermediate_values={}, params_in_internal_repr={'x': 9.862737628398392}), FrozenTrial(trial_id=66, state=<TrialState.COMPLETE: 1>, value=5.689169871438566, datetime_start=datetime.datetime(2018, 12, 5, 17, 25, 18, 127456), datetime_complete=datetime.datetime(2018, 12, 5, 17, 25, 18, 131245), params={'x': -0.38519807803011724}, user_attrs={}, system_attrs={}, intermediate_values={}, params_in_internal_repr={'x': -0.38519807803011724}), FrozenTrial(trial_id=67, state=<TrialState.COMPLETE: 1>, value=0.054350141316854436, datetime_start=datetime.datetime(2018, 12, 5, 17, 25, 18, 135388), datetime_complete=datetime.datetime(2018, 12, 5, 17, 25, 18, 139541), params={'x': 1.766868832377877}, user_attrs={}, system_attrs={}, intermediate_values={}, params_in_internal_repr={'x': 1.766868832377877}), FrozenTrial(trial_id=68, state=<TrialState.COMPLETE: 1>, value=0.3651235929002895, datetime_start=datetime.datetime(2018, 12, 5, 17, 25, 18, 144844), datetime_complete=datetime.datetime(2018, 12, 5, 17, 25, 18, 149179), params={'x': 1.3957454237655378}, user_attrs={}, system_attrs={}, intermediate_values={}, params_in_internal_repr={'x': 1.3957454237655378}), FrozenTrial(trial_id=69, state=<TrialState.COMPLETE: 1>, value=0.025629794687839047, datetime_start=datetime.datetime(2018, 12, 5, 17, 25, 18, 153279), datetime_complete=datetime.datetime(2018, 12, 5, 17, 25, 18, 156873), params={'x': 1.8399069186759183}, user_attrs={}, system_attrs={}, intermediate_values={}, params_in_internal_repr={'x': 1.8399069186759183}), FrozenTrial(trial_id=70, state=<TrialState.COMPLETE: 1>, value=3.667329417003405, datetime_start=datetime.datetime(2018, 12, 5, 17, 25, 18, 161200), datetime_complete=datetime.datetime(2018, 12, 5, 17, 25, 18, 165183), params={'x': 0.08497273726889065}, user_attrs={}, system_attrs={}, intermediate_values={}, params_in_internal_repr={'x': 0.08497273726889065}), FrozenTrial(trial_id=71, state=<TrialState.COMPLETE: 1>, value=0.0018658697816734055, datetime_start=datetime.datetime(2018, 12, 5, 17, 25, 18, 170392), datetime_complete=datetime.datetime(2018, 12, 5, 17, 25, 18, 174663), params={'x': 2.0431957148531357}, user_attrs={}, system_attrs={}, intermediate_values={}, params_in_internal_repr={'x': 2.0431957148531357}), FrozenTrial(trial_id=72, state=<TrialState.COMPLETE: 1>, value=0.0282730240404578, datetime_start=datetime.datetime(2018, 12, 5, 17, 25, 18, 179124), datetime_complete=datetime.datetime(2018, 12, 5, 17, 25, 18, 183172), params={'x': 1.831854158420561}, user_attrs={}, system_attrs={}, intermediate_values={}, params_in_internal_repr={'x': 1.831854158420561}), FrozenTrial(trial_id=73, state=<TrialState.COMPLETE: 1>, value=1.3329174205752456, datetime_start=datetime.datetime(2018, 12, 5, 17, 25, 18, 187410), datetime_complete=datetime.datetime(2018, 12, 5, 17, 25, 18, 191584), params={'x': 0.845479571174574}, user_attrs={}, system_attrs={}, intermediate_values={}, params_in_internal_repr={'x': 0.845479571174574}), FrozenTrial(trial_id=74, state=<TrialState.COMPLETE: 1>, value=0.16209999373420375, datetime_start=datetime.datetime(2018, 12, 5, 17, 25, 18, 196430), datetime_complete=datetime.datetime(2018, 12, 5, 17, 25, 18, 202481), params={'x': 2.402616435002601}, user_attrs={}, system_attrs={}, intermediate_values={}, params_in_internal_repr={'x': 2.402616435002601}), FrozenTrial(trial_id=75, state=<TrialState.COMPLETE: 1>, value=3.2502757025915323, datetime_start=datetime.datetime(2018, 12, 5, 17, 25, 18, 208372), datetime_complete=datetime.datetime(2018, 12, 5, 17, 25, 18, 212595), params={'x': 0.1971478977488108}, user_attrs={}, system_attrs={}, intermediate_values={}, params_in_internal_repr={'x': 0.1971478977488108}), FrozenTrial(trial_id=76, state=<TrialState.COMPLETE: 1>, value=0.37610093712522097, datetime_start=datetime.datetime(2018, 12, 5, 17, 25, 18, 217877), datetime_complete=datetime.datetime(2018, 12, 5, 17, 25, 18, 222252), params={'x': 2.6132706882977703}, user_attrs={}, system_attrs={}, intermediate_values={}, params_in_internal_repr={'x': 2.6132706882977703}), FrozenTrial(trial_id=77, state=<TrialState.COMPLETE: 1>, value=1.7789470451547855, datetime_start=datetime.datetime(2018, 12, 5, 17, 25, 18, 228865), datetime_complete=datetime.datetime(2018, 12, 5, 17, 25, 18, 233861), params={'x': 0.6662282634742984}, user_attrs={}, system_attrs={}, intermediate_values={}, params_in_internal_repr={'x': 0.6662282634742984}), FrozenTrial(trial_id=78, state=<TrialState.COMPLETE: 1>, value=0.3857920707642597, datetime_start=datetime.datetime(2018, 12, 5, 17, 25, 18, 239390), datetime_complete=datetime.datetime(2018, 12, 5, 17, 25, 18, 243598), params={'x': 2.621121623165914}, user_attrs={}, system_attrs={}, intermediate_values={}, params_in_internal_repr={'x': 2.621121623165914}), FrozenTrial(trial_id=79, state=<TrialState.COMPLETE: 1>, value=0.9096535136222746, datetime_start=datetime.datetime(2018, 12, 5, 17, 25, 18, 248677), datetime_complete=datetime.datetime(2018, 12, 5, 17, 25, 18, 254825), params={'x': 1.046242424081321}, user_attrs={}, system_attrs={}, intermediate_values={}, params_in_internal_repr={'x': 1.046242424081321}), FrozenTrial(trial_id=80, state=<TrialState.COMPLETE: 1>, value=0.34020693320615125, datetime_start=datetime.datetime(2018, 12, 5, 17, 25, 18, 259943), datetime_complete=datetime.datetime(2018, 12, 5, 17, 25, 18, 264199), params={'x': 1.4167273937461564}, user_attrs={}, system_attrs={}, intermediate_values={}, params_in_internal_repr={'x': 1.4167273937461564}), FrozenTrial(trial_id=81, state=<TrialState.COMPLETE: 1>, value=1.8067616334393128, datetime_start=datetime.datetime(2018, 12, 5, 17, 25, 18, 269606), datetime_complete=datetime.datetime(2018, 12, 5, 17, 25, 18, 274632), params={'x': 0.6558416635532431}, user_attrs={}, system_attrs={}, intermediate_values={}, params_in_internal_repr={'x': 0.6558416635532431}), FrozenTrial(trial_id=82, state=<TrialState.COMPLETE: 1>, value=0.14636053634962323, datetime_start=datetime.datetime(2018, 12, 5, 17, 25, 18, 279743), datetime_complete=datetime.datetime(2018, 12, 5, 17, 25, 18, 284964), params={'x': 2.3825709559671555}, user_attrs={}, system_attrs={}, intermediate_values={}, params_in_internal_repr={'x': 2.3825709559671555}), FrozenTrial(trial_id=83, state=<TrialState.COMPLETE: 1>, value=3.1641783915677113, datetime_start=datetime.datetime(2018, 12, 5, 17, 25, 18, 291214), datetime_complete=datetime.datetime(2018, 12, 5, 17, 25, 18, 295438), params={'x': 0.22118624033663625}, user_attrs={}, system_attrs={}, intermediate_values={}, params_in_internal_repr={'x': 0.22118624033663625}), FrozenTrial(trial_id=84, state=<TrialState.COMPLETE: 1>, value=1.1331698897983842, datetime_start=datetime.datetime(2018, 12, 5, 17, 25, 18, 301040), datetime_complete=datetime.datetime(2018, 12, 5, 17, 25, 18, 305778), params={'x': 3.064504527843064}, user_attrs={}, system_attrs={}, intermediate_values={}, params_in_internal_repr={'x': 3.064504527843064}), FrozenTrial(trial_id=85, state=<TrialState.COMPLETE: 1>, value=4.459657845913797, datetime_start=datetime.datetime(2018, 12, 5, 17, 25, 18, 311462), datetime_complete=datetime.datetime(2018, 12, 5, 17, 25, 18, 315237), params={'x': -0.11179019931284744}, user_attrs={}, system_attrs={}, intermediate_values={}, params_in_internal_repr={'x': -0.11179019931284744}), FrozenTrial(trial_id=86, state=<TrialState.COMPLETE: 1>, value=0.18899504527671313, datetime_start=datetime.datetime(2018, 12, 5, 17, 25, 18, 320671), datetime_complete=datetime.datetime(2018, 12, 5, 17, 25, 18, 325521), params={'x': 2.434735603875175}, user_attrs={}, system_attrs={}, intermediate_values={}, params_in_internal_repr={'x': 2.434735603875175}), FrozenTrial(trial_id=87, state=<TrialState.COMPLETE: 1>, value=0.5383736974163534, datetime_start=datetime.datetime(2018, 12, 5, 17, 25, 18, 330921), datetime_complete=datetime.datetime(2018, 12, 5, 17, 25, 18, 335807), params={'x': 1.2662604703190965}, user_attrs={}, system_attrs={}, intermediate_values={}, params_in_internal_repr={'x': 1.2662604703190965}), FrozenTrial(trial_id=88, state=<TrialState.COMPLETE: 1>, value=1.2821065724360976, datetime_start=datetime.datetime(2018, 12, 5, 17, 25, 18, 341735), datetime_complete=datetime.datetime(2018, 12, 5, 17, 25, 18, 345793), params={'x': 0.8676985505457933}, user_attrs={}, system_attrs={}, intermediate_values={}, params_in_internal_repr={'x': 0.8676985505457933}), FrozenTrial(trial_id=89, state=<TrialState.COMPLETE: 1>, value=1.7505054275747527, datetime_start=datetime.datetime(2018, 12, 5, 17, 25, 18, 351626), datetime_complete=datetime.datetime(2018, 12, 5, 17, 25, 18, 357839), params={'x': 3.3230666754078393}, user_attrs={}, system_attrs={}, intermediate_values={}, params_in_internal_repr={'x': 3.3230666754078393}), FrozenTrial(trial_id=90, state=<TrialState.COMPLETE: 1>, value=12.137466938313644, datetime_start=datetime.datetime(2018, 12, 5, 17, 25, 18, 363651), datetime_complete=datetime.datetime(2018, 12, 5, 17, 25, 18, 368460), params={'x': -1.4838867573894599}, user_attrs={}, system_attrs={}, intermediate_values={}, params_in_internal_repr={'x': -1.4838867573894599}), FrozenTrial(trial_id=91, state=<TrialState.COMPLETE: 1>, value=4.4470905067809365, datetime_start=datetime.datetime(2018, 12, 5, 17, 25, 18, 373675), datetime_complete=datetime.datetime(2018, 12, 5, 17, 25, 18, 379514), params={'x': 4.108812582184803}, user_attrs={}, system_attrs={}, intermediate_values={}, params_in_internal_repr={'x': 4.108812582184803}), FrozenTrial(trial_id=92, state=<TrialState.COMPLETE: 1>, value=7.677089519628197, datetime_start=datetime.datetime(2018, 12, 5, 17, 25, 18, 385116), datetime_complete=datetime.datetime(2018, 12, 5, 17, 25, 18, 389714), params={'x': -0.7707561277795989}, user_attrs={}, system_attrs={}, intermediate_values={}, params_in_internal_repr={'x': -0.7707561277795989}), FrozenTrial(trial_id=93, state=<TrialState.COMPLETE: 1>, value=0.4647692068924468, datetime_start=datetime.datetime(2018, 12, 5, 17, 25, 18, 395808), datetime_complete=datetime.datetime(2018, 12, 5, 17, 25, 18, 400246), params={'x': 2.681739838129214}, user_attrs={}, system_attrs={}, intermediate_values={}, params_in_internal_repr={'x': 2.681739838129214}), FrozenTrial(trial_id=94, state=<TrialState.COMPLETE: 1>, value=0.009430134682475345, datetime_start=datetime.datetime(2018, 12, 5, 17, 25, 18, 405568), datetime_complete=datetime.datetime(2018, 12, 5, 17, 25, 18, 409725), params={'x': 1.9028911194458749}, user_attrs={}, system_attrs={}, intermediate_values={}, params_in_internal_repr={'x': 1.9028911194458749}), FrozenTrial(trial_id=95, state=<TrialState.COMPLETE: 1>, value=1.0935310642503655, datetime_start=datetime.datetime(2018, 12, 5, 17, 25, 18, 415826), datetime_complete=datetime.datetime(2018, 12, 5, 17, 25, 18, 421162), params={'x': 0.954279643379567}, user_attrs={}, system_attrs={}, intermediate_values={}, params_in_internal_repr={'x': 0.954279643379567}), FrozenTrial(trial_id=96, state=<TrialState.COMPLETE: 1>, value=0.11215255562826487, datetime_start=datetime.datetime(2018, 12, 5, 17, 25, 18, 426837), datetime_complete=datetime.datetime(2018, 12, 5, 17, 25, 18, 431387), params={'x': 2.334891856616826}, user_attrs={}, system_attrs={}, intermediate_values={}, params_in_internal_repr={'x': 2.334891856616826}), FrozenTrial(trial_id=97, state=<TrialState.COMPLETE: 1>, value=1.1603582862564947, datetime_start=datetime.datetime(2018, 12, 5, 17, 25, 18, 437472), datetime_complete=datetime.datetime(2018, 12, 5, 17, 25, 18, 442659), params={'x': 0.9228007211957043}, user_attrs={}, system_attrs={}, intermediate_values={}, params_in_internal_repr={'x': 0.9228007211957043}), FrozenTrial(trial_id=98, state=<TrialState.COMPLETE: 1>, value=0.0002946823438345498, datetime_start=datetime.datetime(2018, 12, 5, 17, 25, 18, 448570), datetime_complete=datetime.datetime(2018, 12, 5, 17, 25, 18, 454581), params={'x': 1.9828336857818998}, user_attrs={}, system_attrs={}, intermediate_values={}, params_in_internal_repr={'x': 1.9828336857818998}), FrozenTrial(trial_id=99, state=<TrialState.COMPLETE: 1>, value=1.4991728285411507, datetime_start=datetime.datetime(2018, 12, 5, 17, 25, 18, 460477), datetime_complete=datetime.datetime(2018, 12, 5, 17, 25, 18, 465157), params={'x': 0.7755928665100196}, user_attrs={}, system_attrs={}, intermediate_values={}, params_in_internal_repr={'x': 0.7755928665100196})]\n"
     ]
    }
   ],
   "source": [
    "print('最適化された変数の値')\n",
    "print(study.best_params)\n",
    "print('-'*40)\n",
    "print('目的関数の最適値')\n",
    "print(study.best_value)\n",
    "print('-'*40)\n",
    "print('最適値を達成した試行')\n",
    "print(study.best_trial)\n",
    "print('-'*40)\n",
    "print('全試行回数')\n",
    "print(len(study.trials))\n",
    "print('-'*40)\n",
    "print('全試行')\n",
    "print(study.trials)"
   ]
  },
  {
   "cell_type": "markdown",
   "metadata": {},
   "source": [
    "#### 結果を引き継いで再最適化\n",
    "- `len(study.trials)`の値から継続的に最適化が行われていることが分かる\n",
    "- `best_params`が改善している"
   ]
  },
  {
   "cell_type": "code",
   "execution_count": 5,
   "metadata": {},
   "outputs": [
    {
     "name": "stderr",
     "output_type": "stream",
     "text": [
      "[I 2018-12-05 17:25:18,512] Finished a trial resulted in value: 0.2392813939438161. Current best value is 0.0002946823438345498 with parameters: {'x': 1.9828336857818998}.\n",
      "[I 2018-12-05 17:25:18,524] Finished a trial resulted in value: 0.021843619683746138. Current best value is 0.0002946823438345498 with parameters: {'x': 1.9828336857818998}.\n",
      "[I 2018-12-05 17:25:18,535] Finished a trial resulted in value: 0.22165941158322963. Current best value is 0.0002946823438345498 with parameters: {'x': 1.9828336857818998}.\n",
      "[I 2018-12-05 17:25:18,551] Finished a trial resulted in value: 1.0191361343096457. Current best value is 0.0002946823438345498 with parameters: {'x': 1.9828336857818998}.\n",
      "[I 2018-12-05 17:25:18,563] Finished a trial resulted in value: 0.6940641413344834. Current best value is 0.0002946823438345498 with parameters: {'x': 1.9828336857818998}.\n",
      "[I 2018-12-05 17:25:18,574] Finished a trial resulted in value: 1.116138977960726. Current best value is 0.0002946823438345498 with parameters: {'x': 1.9828336857818998}.\n",
      "[I 2018-12-05 17:25:18,586] Finished a trial resulted in value: 5.911693025774939. Current best value is 0.0002946823438345498 with parameters: {'x': 1.9828336857818998}.\n",
      "[I 2018-12-05 17:25:18,597] Finished a trial resulted in value: 3.633724045514429. Current best value is 0.0002946823438345498 with parameters: {'x': 1.9828336857818998}.\n",
      "[I 2018-12-05 17:25:18,609] Finished a trial resulted in value: 4.9302443445031185. Current best value is 0.0002946823438345498 with parameters: {'x': 1.9828336857818998}.\n",
      "[I 2018-12-05 17:25:18,621] Finished a trial resulted in value: 0.7800763604061415. Current best value is 0.0002946823438345498 with parameters: {'x': 1.9828336857818998}.\n",
      "[I 2018-12-05 17:25:18,632] Finished a trial resulted in value: 3.4900933125305733. Current best value is 0.0002946823438345498 with parameters: {'x': 1.9828336857818998}.\n",
      "[I 2018-12-05 17:25:18,644] Finished a trial resulted in value: 0.15311303932681017. Current best value is 0.0002946823438345498 with parameters: {'x': 1.9828336857818998}.\n",
      "[I 2018-12-05 17:25:18,655] Finished a trial resulted in value: 1.2916501319088987. Current best value is 0.0002946823438345498 with parameters: {'x': 1.9828336857818998}.\n",
      "[I 2018-12-05 17:25:18,666] Finished a trial resulted in value: 0.08970895866235377. Current best value is 0.0002946823438345498 with parameters: {'x': 1.9828336857818998}.\n",
      "[I 2018-12-05 17:25:18,677] Finished a trial resulted in value: 2.8838721890608423. Current best value is 0.0002946823438345498 with parameters: {'x': 1.9828336857818998}.\n",
      "[I 2018-12-05 17:25:18,689] Finished a trial resulted in value: 2.4950246519623764. Current best value is 0.0002946823438345498 with parameters: {'x': 1.9828336857818998}.\n",
      "[I 2018-12-05 17:25:18,701] Finished a trial resulted in value: 6.311697330410056. Current best value is 0.0002946823438345498 with parameters: {'x': 1.9828336857818998}.\n",
      "[I 2018-12-05 17:25:18,711] Finished a trial resulted in value: 0.4044691091796427. Current best value is 0.0002946823438345498 with parameters: {'x': 1.9828336857818998}.\n",
      "[I 2018-12-05 17:25:18,722] Finished a trial resulted in value: 1.0446772062482053. Current best value is 0.0002946823438345498 with parameters: {'x': 1.9828336857818998}.\n",
      "[I 2018-12-05 17:25:18,734] Finished a trial resulted in value: 0.12479680221022625. Current best value is 0.0002946823438345498 with parameters: {'x': 1.9828336857818998}.\n",
      "[I 2018-12-05 17:25:18,745] Finished a trial resulted in value: 1.5515690650138376. Current best value is 0.0002946823438345498 with parameters: {'x': 1.9828336857818998}.\n",
      "[I 2018-12-05 17:25:18,758] Finished a trial resulted in value: 0.10238477258496982. Current best value is 0.0002946823438345498 with parameters: {'x': 1.9828336857818998}.\n",
      "[I 2018-12-05 17:25:18,770] Finished a trial resulted in value: 5.6774137975256265. Current best value is 0.0002946823438345498 with parameters: {'x': 1.9828336857818998}.\n",
      "[I 2018-12-05 17:25:18,784] Finished a trial resulted in value: 5.366992860990532. Current best value is 0.0002946823438345498 with parameters: {'x': 1.9828336857818998}.\n",
      "[I 2018-12-05 17:25:18,797] Finished a trial resulted in value: 13.664021817969262. Current best value is 0.0002946823438345498 with parameters: {'x': 1.9828336857818998}.\n",
      "[I 2018-12-05 17:25:18,809] Finished a trial resulted in value: 5.023929702935565. Current best value is 0.0002946823438345498 with parameters: {'x': 1.9828336857818998}.\n",
      "[I 2018-12-05 17:25:18,823] Finished a trial resulted in value: 7.024141925919929. Current best value is 0.0002946823438345498 with parameters: {'x': 1.9828336857818998}.\n",
      "[I 2018-12-05 17:25:18,836] Finished a trial resulted in value: 3.698572907650652. Current best value is 0.0002946823438345498 with parameters: {'x': 1.9828336857818998}.\n",
      "[I 2018-12-05 17:25:18,851] Finished a trial resulted in value: 12.993455891400401. Current best value is 0.0002946823438345498 with parameters: {'x': 1.9828336857818998}.\n",
      "[I 2018-12-05 17:25:18,864] Finished a trial resulted in value: 11.468719165157461. Current best value is 0.0002946823438345498 with parameters: {'x': 1.9828336857818998}.\n",
      "[I 2018-12-05 17:25:18,877] Finished a trial resulted in value: 14.010464100530355. Current best value is 0.0002946823438345498 with parameters: {'x': 1.9828336857818998}.\n",
      "[I 2018-12-05 17:25:18,938] Finished a trial resulted in value: 2.133951657257599. Current best value is 0.0002946823438345498 with parameters: {'x': 1.9828336857818998}.\n",
      "[I 2018-12-05 17:25:18,956] Finished a trial resulted in value: 0.7838473898689204. Current best value is 0.0002946823438345498 with parameters: {'x': 1.9828336857818998}.\n",
      "[I 2018-12-05 17:25:18,972] Finished a trial resulted in value: 2.388808064136871. Current best value is 0.0002946823438345498 with parameters: {'x': 1.9828336857818998}.\n",
      "[I 2018-12-05 17:25:18,987] Finished a trial resulted in value: 0.8683679343377041. Current best value is 0.0002946823438345498 with parameters: {'x': 1.9828336857818998}.\n",
      "[I 2018-12-05 17:25:19,000] Finished a trial resulted in value: 1.0399129607459705. Current best value is 0.0002946823438345498 with parameters: {'x': 1.9828336857818998}.\n",
      "[I 2018-12-05 17:25:19,014] Finished a trial resulted in value: 0.5431907339938724. Current best value is 0.0002946823438345498 with parameters: {'x': 1.9828336857818998}.\n",
      "[I 2018-12-05 17:25:19,027] Finished a trial resulted in value: 0.30021202177772677. Current best value is 0.0002946823438345498 with parameters: {'x': 1.9828336857818998}.\n",
      "[I 2018-12-05 17:25:19,042] Finished a trial resulted in value: 8.561756190791078. Current best value is 0.0002946823438345498 with parameters: {'x': 1.9828336857818998}.\n",
      "[I 2018-12-05 17:25:19,055] Finished a trial resulted in value: 9.611828328265952. Current best value is 0.0002946823438345498 with parameters: {'x': 1.9828336857818998}.\n",
      "[I 2018-12-05 17:25:19,069] Finished a trial resulted in value: 12.871560084975739. Current best value is 0.0002946823438345498 with parameters: {'x': 1.9828336857818998}.\n",
      "[I 2018-12-05 17:25:19,084] Finished a trial resulted in value: 2.6849128065133816. Current best value is 0.0002946823438345498 with parameters: {'x': 1.9828336857818998}.\n",
      "[I 2018-12-05 17:25:19,097] Finished a trial resulted in value: 2.050922079269395. Current best value is 0.0002946823438345498 with parameters: {'x': 1.9828336857818998}.\n",
      "[I 2018-12-05 17:25:19,110] Finished a trial resulted in value: 0.3925439281607989. Current best value is 0.0002946823438345498 with parameters: {'x': 1.9828336857818998}.\n",
      "[I 2018-12-05 17:25:19,124] Finished a trial resulted in value: 0.14489560892723952. Current best value is 0.0002946823438345498 with parameters: {'x': 1.9828336857818998}.\n",
      "[I 2018-12-05 17:25:19,138] Finished a trial resulted in value: 57.28750688194817. Current best value is 0.0002946823438345498 with parameters: {'x': 1.9828336857818998}.\n",
      "[I 2018-12-05 17:25:19,152] Finished a trial resulted in value: 0.4940378786364087. Current best value is 0.0002946823438345498 with parameters: {'x': 1.9828336857818998}.\n"
     ]
    },
    {
     "name": "stderr",
     "output_type": "stream",
     "text": [
      "[I 2018-12-05 17:25:19,166] Finished a trial resulted in value: 1.231038386898921. Current best value is 0.0002946823438345498 with parameters: {'x': 1.9828336857818998}.\n",
      "[I 2018-12-05 17:25:19,181] Finished a trial resulted in value: 0.003860262597676123. Current best value is 0.0002946823438345498 with parameters: {'x': 1.9828336857818998}.\n",
      "[I 2018-12-05 17:25:19,195] Finished a trial resulted in value: 0.523858763920153. Current best value is 0.0002946823438345498 with parameters: {'x': 1.9828336857818998}.\n",
      "[I 2018-12-05 17:25:19,210] Finished a trial resulted in value: 0.15070038057427532. Current best value is 0.0002946823438345498 with parameters: {'x': 1.9828336857818998}.\n",
      "[I 2018-12-05 17:25:19,224] Finished a trial resulted in value: 0.3053645475493882. Current best value is 0.0002946823438345498 with parameters: {'x': 1.9828336857818998}.\n",
      "[I 2018-12-05 17:25:19,238] Finished a trial resulted in value: 1.2049822125564809. Current best value is 0.0002946823438345498 with parameters: {'x': 1.9828336857818998}.\n",
      "[I 2018-12-05 17:25:19,251] Finished a trial resulted in value: 0.048917295749282635. Current best value is 0.0002946823438345498 with parameters: {'x': 1.9828336857818998}.\n",
      "[I 2018-12-05 17:25:19,267] Finished a trial resulted in value: 0.6395609558739025. Current best value is 0.0002946823438345498 with parameters: {'x': 1.9828336857818998}.\n",
      "[I 2018-12-05 17:25:19,282] Finished a trial resulted in value: 0.08134869214392007. Current best value is 0.0002946823438345498 with parameters: {'x': 1.9828336857818998}.\n",
      "[I 2018-12-05 17:25:19,297] Finished a trial resulted in value: 0.990626296155088. Current best value is 0.0002946823438345498 with parameters: {'x': 1.9828336857818998}.\n",
      "[I 2018-12-05 17:25:19,311] Finished a trial resulted in value: 1.472623106423204. Current best value is 0.0002946823438345498 with parameters: {'x': 1.9828336857818998}.\n",
      "[I 2018-12-05 17:25:19,325] Finished a trial resulted in value: 1.5394880834759366. Current best value is 0.0002946823438345498 with parameters: {'x': 1.9828336857818998}.\n",
      "[I 2018-12-05 17:25:19,338] Finished a trial resulted in value: 0.12483547971012993. Current best value is 0.0002946823438345498 with parameters: {'x': 1.9828336857818998}.\n",
      "[I 2018-12-05 17:25:19,354] Finished a trial resulted in value: 2.1130700355958396. Current best value is 0.0002946823438345498 with parameters: {'x': 1.9828336857818998}.\n",
      "[I 2018-12-05 17:25:19,374] Finished a trial resulted in value: 0.18733613369522492. Current best value is 0.0002946823438345498 with parameters: {'x': 1.9828336857818998}.\n",
      "[I 2018-12-05 17:25:19,389] Finished a trial resulted in value: 1.7031751366134402. Current best value is 0.0002946823438345498 with parameters: {'x': 1.9828336857818998}.\n",
      "[I 2018-12-05 17:25:19,407] Finished a trial resulted in value: 0.0519197147285642. Current best value is 0.0002946823438345498 with parameters: {'x': 1.9828336857818998}.\n",
      "[I 2018-12-05 17:25:19,423] Finished a trial resulted in value: 0.0013589181718851753. Current best value is 0.0002946823438345498 with parameters: {'x': 1.9828336857818998}.\n",
      "[I 2018-12-05 17:25:19,440] Finished a trial resulted in value: 0.32330626520908484. Current best value is 0.0002946823438345498 with parameters: {'x': 1.9828336857818998}.\n",
      "[I 2018-12-05 17:25:19,455] Finished a trial resulted in value: 0.22659791308558777. Current best value is 0.0002946823438345498 with parameters: {'x': 1.9828336857818998}.\n",
      "[I 2018-12-05 17:25:19,471] Finished a trial resulted in value: 0.5153428511054895. Current best value is 0.0002946823438345498 with parameters: {'x': 1.9828336857818998}.\n",
      "[I 2018-12-05 17:25:19,487] Finished a trial resulted in value: 4.809832936351158. Current best value is 0.0002946823438345498 with parameters: {'x': 1.9828336857818998}.\n",
      "[I 2018-12-05 17:25:19,503] Finished a trial resulted in value: 0.0015433261621549238. Current best value is 0.0002946823438345498 with parameters: {'x': 1.9828336857818998}.\n",
      "[I 2018-12-05 17:25:19,519] Finished a trial resulted in value: 0.8569990040158516. Current best value is 0.0002946823438345498 with parameters: {'x': 1.9828336857818998}.\n",
      "[I 2018-12-05 17:25:19,534] Finished a trial resulted in value: 6.677103815606657. Current best value is 0.0002946823438345498 with parameters: {'x': 1.9828336857818998}.\n",
      "[I 2018-12-05 17:25:19,550] Finished a trial resulted in value: 1.79775500747099. Current best value is 0.0002946823438345498 with parameters: {'x': 1.9828336857818998}.\n",
      "[I 2018-12-05 17:25:19,567] Finished a trial resulted in value: 2.113380898314435. Current best value is 0.0002946823438345498 with parameters: {'x': 1.9828336857818998}.\n",
      "[I 2018-12-05 17:25:19,583] Finished a trial resulted in value: 0.5338240462656746. Current best value is 0.0002946823438345498 with parameters: {'x': 1.9828336857818998}.\n",
      "[I 2018-12-05 17:25:19,599] Finished a trial resulted in value: 0.17198815151316854. Current best value is 0.0002946823438345498 with parameters: {'x': 1.9828336857818998}.\n",
      "[I 2018-12-05 17:25:19,615] Finished a trial resulted in value: 0.28741468868566167. Current best value is 0.0002946823438345498 with parameters: {'x': 1.9828336857818998}.\n",
      "[I 2018-12-05 17:25:19,631] Finished a trial resulted in value: 0.0013906565680938119. Current best value is 0.0002946823438345498 with parameters: {'x': 1.9828336857818998}.\n",
      "[I 2018-12-05 17:25:19,647] Finished a trial resulted in value: 0.05717187003495387. Current best value is 0.0002946823438345498 with parameters: {'x': 1.9828336857818998}.\n",
      "[I 2018-12-05 17:25:19,663] Finished a trial resulted in value: 1.3760276750688367. Current best value is 0.0002946823438345498 with parameters: {'x': 1.9828336857818998}.\n",
      "[I 2018-12-05 17:25:19,680] Finished a trial resulted in value: 0.48609812963105803. Current best value is 0.0002946823438345498 with parameters: {'x': 1.9828336857818998}.\n",
      "[I 2018-12-05 17:25:19,696] Finished a trial resulted in value: 1.9789721826228808. Current best value is 0.0002946823438345498 with parameters: {'x': 1.9828336857818998}.\n",
      "[I 2018-12-05 17:25:19,712] Finished a trial resulted in value: 0.09787109304647243. Current best value is 0.0002946823438345498 with parameters: {'x': 1.9828336857818998}.\n",
      "[I 2018-12-05 17:25:19,728] Finished a trial resulted in value: 0.0027334571809322274. Current best value is 0.0002946823438345498 with parameters: {'x': 1.9828336857818998}.\n",
      "[I 2018-12-05 17:25:19,745] Finished a trial resulted in value: 0.02192864832529719. Current best value is 0.0002946823438345498 with parameters: {'x': 1.9828336857818998}.\n",
      "[I 2018-12-05 17:25:19,761] Finished a trial resulted in value: 2.4880803815011063. Current best value is 0.0002946823438345498 with parameters: {'x': 1.9828336857818998}.\n",
      "[I 2018-12-05 17:25:19,780] Finished a trial resulted in value: 0.033525070179091655. Current best value is 0.0002946823438345498 with parameters: {'x': 1.9828336857818998}.\n",
      "[I 2018-12-05 17:25:19,797] Finished a trial resulted in value: 0.13350749804722922. Current best value is 0.0002946823438345498 with parameters: {'x': 1.9828336857818998}.\n",
      "[I 2018-12-05 17:25:19,815] Finished a trial resulted in value: 0.49222481455174955. Current best value is 0.0002946823438345498 with parameters: {'x': 1.9828336857818998}.\n",
      "[I 2018-12-05 17:25:19,831] Finished a trial resulted in value: 0.34407305701937513. Current best value is 0.0002946823438345498 with parameters: {'x': 1.9828336857818998}.\n",
      "[I 2018-12-05 17:25:19,848] Finished a trial resulted in value: 2.21746783056921. Current best value is 0.0002946823438345498 with parameters: {'x': 1.9828336857818998}.\n",
      "[I 2018-12-05 17:25:19,864] Finished a trial resulted in value: 1.0887889045271222. Current best value is 0.0002946823438345498 with parameters: {'x': 1.9828336857818998}.\n",
      "[I 2018-12-05 17:25:19,881] Finished a trial resulted in value: 8.481714205915196. Current best value is 0.0002946823438345498 with parameters: {'x': 1.9828336857818998}.\n",
      "[I 2018-12-05 17:25:19,898] Finished a trial resulted in value: 5.32378198230556. Current best value is 0.0002946823438345498 with parameters: {'x': 1.9828336857818998}.\n"
     ]
    },
    {
     "name": "stderr",
     "output_type": "stream",
     "text": [
      "[I 2018-12-05 17:25:19,917] Finished a trial resulted in value: 4.616921211968069. Current best value is 0.0002946823438345498 with parameters: {'x': 1.9828336857818998}.\n",
      "[I 2018-12-05 17:25:19,936] Finished a trial resulted in value: 5.6429582686587665. Current best value is 0.0002946823438345498 with parameters: {'x': 1.9828336857818998}.\n",
      "[I 2018-12-05 17:25:19,953] Finished a trial resulted in value: 13.979409576903972. Current best value is 0.0002946823438345498 with parameters: {'x': 1.9828336857818998}.\n",
      "[I 2018-12-05 17:25:19,971] Finished a trial resulted in value: 3.200239756312375. Current best value is 0.0002946823438345498 with parameters: {'x': 1.9828336857818998}.\n",
      "[I 2018-12-05 17:25:19,988] Finished a trial resulted in value: 2.717218492778884. Current best value is 0.0002946823438345498 with parameters: {'x': 1.9828336857818998}.\n",
      "[I 2018-12-05 17:25:20,006] Finished a trial resulted in value: 0.006463987717759743. Current best value is 0.0002946823438345498 with parameters: {'x': 1.9828336857818998}.\n"
     ]
    }
   ],
   "source": [
    "study.optimize(objective, n_trials=100)"
   ]
  },
  {
   "cell_type": "code",
   "execution_count": 6,
   "metadata": {},
   "outputs": [
    {
     "name": "stdout",
     "output_type": "stream",
     "text": [
      "全試行回数\n",
      "200\n",
      "----------------------------------------\n",
      "最適化された変数の値\n",
      "{'x': 1.9828336857818998}\n"
     ]
    }
   ],
   "source": [
    "print('全試行回数')\n",
    "print(len(study.trials))\n",
    "print('-'*40)\n",
    "print('最適化された変数の値')\n",
    "print(study.best_params)"
   ]
  },
  {
   "cell_type": "markdown",
   "metadata": {},
   "source": [
    "#### 試行回数ではなくtimeoutの時間を指定して実行"
   ]
  },
  {
   "cell_type": "code",
   "execution_count": 7,
   "metadata": {},
   "outputs": [
    {
     "name": "stderr",
     "output_type": "stream",
     "text": [
      "[I 2018-12-05 17:25:20,046] Finished a trial resulted in value: 0.025174003288981173. Current best value is 0.0002946823438345498 with parameters: {'x': 1.9828336857818998}.\n",
      "[I 2018-12-05 17:25:20,062] Finished a trial resulted in value: 0.015117004164238662. Current best value is 0.0002946823438345498 with parameters: {'x': 1.9828336857818998}.\n",
      "[I 2018-12-05 17:25:20,080] Finished a trial resulted in value: 1.0829138410065995. Current best value is 0.0002946823438345498 with parameters: {'x': 1.9828336857818998}.\n",
      "[I 2018-12-05 17:25:20,098] Finished a trial resulted in value: 0.5055085363292088. Current best value is 0.0002946823438345498 with parameters: {'x': 1.9828336857818998}.\n",
      "[I 2018-12-05 17:25:20,115] Finished a trial resulted in value: 1.8317255169343623. Current best value is 0.0002946823438345498 with parameters: {'x': 1.9828336857818998}.\n",
      "[I 2018-12-05 17:25:20,134] Finished a trial resulted in value: 0.2211006804272434. Current best value is 0.0002946823438345498 with parameters: {'x': 1.9828336857818998}.\n",
      "[I 2018-12-05 17:25:20,154] Finished a trial resulted in value: 5.817887457595584. Current best value is 0.0002946823438345498 with parameters: {'x': 1.9828336857818998}.\n",
      "[I 2018-12-05 17:25:20,172] Finished a trial resulted in value: 9.784462599851372. Current best value is 0.0002946823438345498 with parameters: {'x': 1.9828336857818998}.\n",
      "[I 2018-12-05 17:25:20,189] Finished a trial resulted in value: 6.819598671844665. Current best value is 0.0002946823438345498 with parameters: {'x': 1.9828336857818998}.\n",
      "[I 2018-12-05 17:25:20,210] Finished a trial resulted in value: 0.021121930584097795. Current best value is 0.0002946823438345498 with parameters: {'x': 1.9828336857818998}.\n",
      "[I 2018-12-05 17:25:20,232] Finished a trial resulted in value: 0.5565862394843705. Current best value is 0.0002946823438345498 with parameters: {'x': 1.9828336857818998}.\n",
      "[I 2018-12-05 17:25:20,254] Finished a trial resulted in value: 3.8491294206450672. Current best value is 0.0002946823438345498 with parameters: {'x': 1.9828336857818998}.\n",
      "[I 2018-12-05 17:25:20,279] Finished a trial resulted in value: 2.7274904043299792. Current best value is 0.0002946823438345498 with parameters: {'x': 1.9828336857818998}.\n",
      "[I 2018-12-05 17:25:20,300] Finished a trial resulted in value: 0.03565245484922719. Current best value is 0.0002946823438345498 with parameters: {'x': 1.9828336857818998}.\n",
      "[I 2018-12-05 17:25:20,322] Finished a trial resulted in value: 2.875030142192162. Current best value is 0.0002946823438345498 with parameters: {'x': 1.9828336857818998}.\n",
      "[I 2018-12-05 17:25:20,346] Finished a trial resulted in value: 0.8682942320828545. Current best value is 0.0002946823438345498 with parameters: {'x': 1.9828336857818998}.\n",
      "[I 2018-12-05 17:25:20,370] Finished a trial resulted in value: 0.9342540753075287. Current best value is 0.0002946823438345498 with parameters: {'x': 1.9828336857818998}.\n",
      "[I 2018-12-05 17:25:20,391] Finished a trial resulted in value: 1.6475166433932515. Current best value is 0.0002946823438345498 with parameters: {'x': 1.9828336857818998}.\n",
      "[I 2018-12-05 17:25:20,411] Finished a trial resulted in value: 0.352324906943454. Current best value is 0.0002946823438345498 with parameters: {'x': 1.9828336857818998}.\n",
      "[I 2018-12-05 17:25:20,438] Finished a trial resulted in value: 0.5532562957345784. Current best value is 0.0002946823438345498 with parameters: {'x': 1.9828336857818998}.\n",
      "[I 2018-12-05 17:25:20,461] Finished a trial resulted in value: 2.1913013293576515. Current best value is 0.0002946823438345498 with parameters: {'x': 1.9828336857818998}.\n",
      "[I 2018-12-05 17:25:20,485] Finished a trial resulted in value: 0.2132505944135473. Current best value is 0.0002946823438345498 with parameters: {'x': 1.9828336857818998}.\n",
      "[I 2018-12-05 17:25:20,508] Finished a trial resulted in value: 2.625502136445582. Current best value is 0.0002946823438345498 with parameters: {'x': 1.9828336857818998}.\n",
      "[I 2018-12-05 17:25:20,530] Finished a trial resulted in value: 2.614250882529882. Current best value is 0.0002946823438345498 with parameters: {'x': 1.9828336857818998}.\n",
      "[I 2018-12-05 17:25:20,551] Finished a trial resulted in value: 4.989372930852844. Current best value is 0.0002946823438345498 with parameters: {'x': 1.9828336857818998}.\n",
      "[I 2018-12-05 17:25:20,572] Finished a trial resulted in value: 1.8311096228030987. Current best value is 0.0002946823438345498 with parameters: {'x': 1.9828336857818998}.\n",
      "[I 2018-12-05 17:25:20,593] Finished a trial resulted in value: 7.246923149910736. Current best value is 0.0002946823438345498 with parameters: {'x': 1.9828336857818998}.\n",
      "[I 2018-12-05 17:25:20,616] Finished a trial resulted in value: 0.9795916268976655. Current best value is 0.0002946823438345498 with parameters: {'x': 1.9828336857818998}.\n",
      "[I 2018-12-05 17:25:20,638] Finished a trial resulted in value: 2.225031372057837. Current best value is 0.0002946823438345498 with parameters: {'x': 1.9828336857818998}.\n",
      "[I 2018-12-05 17:25:20,661] Finished a trial resulted in value: 0.8787931302733312. Current best value is 0.0002946823438345498 with parameters: {'x': 1.9828336857818998}.\n",
      "[I 2018-12-05 17:25:20,684] Finished a trial resulted in value: 1.125267179595692. Current best value is 0.0002946823438345498 with parameters: {'x': 1.9828336857818998}.\n",
      "[I 2018-12-05 17:25:20,707] Finished a trial resulted in value: 1.0319789859539816. Current best value is 0.0002946823438345498 with parameters: {'x': 1.9828336857818998}.\n",
      "[I 2018-12-05 17:25:20,729] Finished a trial resulted in value: 5.898066251120608. Current best value is 0.0002946823438345498 with parameters: {'x': 1.9828336857818998}.\n",
      "[I 2018-12-05 17:25:20,752] Finished a trial resulted in value: 1.0042777283856177. Current best value is 0.0002946823438345498 with parameters: {'x': 1.9828336857818998}.\n",
      "[I 2018-12-05 17:25:20,774] Finished a trial resulted in value: 0.47168387239887366. Current best value is 0.0002946823438345498 with parameters: {'x': 1.9828336857818998}.\n",
      "[I 2018-12-05 17:25:20,794] Finished a trial resulted in value: 0.7593984181345705. Current best value is 0.0002946823438345498 with parameters: {'x': 1.9828336857818998}.\n",
      "[I 2018-12-05 17:25:20,816] Finished a trial resulted in value: 0.00013393700031320426. Current best value is 0.00013393700031320426 with parameters: {'x': 1.9884268845891349}.\n",
      "[I 2018-12-05 17:25:20,838] Finished a trial resulted in value: 5.674123789629618. Current best value is 0.00013393700031320426 with parameters: {'x': 1.9884268845891349}.\n",
      "[I 2018-12-05 17:25:20,859] Finished a trial resulted in value: 1.5184896327027584. Current best value is 0.00013393700031320426 with parameters: {'x': 1.9884268845891349}.\n",
      "[I 2018-12-05 17:25:20,879] Finished a trial resulted in value: 6.9003750433167435. Current best value is 0.00013393700031320426 with parameters: {'x': 1.9884268845891349}.\n",
      "[I 2018-12-05 17:25:20,900] Finished a trial resulted in value: 7.1077944845152565. Current best value is 0.00013393700031320426 with parameters: {'x': 1.9884268845891349}.\n",
      "[I 2018-12-05 17:25:20,924] Finished a trial resulted in value: 4.5836925107691195. Current best value is 0.00013393700031320426 with parameters: {'x': 1.9884268845891349}.\n",
      "[I 2018-12-05 17:25:20,945] Finished a trial resulted in value: 0.0033400905971253956. Current best value is 0.00013393700031320426 with parameters: {'x': 1.9884268845891349}.\n",
      "[I 2018-12-05 17:25:20,966] Finished a trial resulted in value: 1.427208152188449. Current best value is 0.00013393700031320426 with parameters: {'x': 1.9884268845891349}.\n",
      "[I 2018-12-05 17:25:20,989] Finished a trial resulted in value: 0.16346949993646276. Current best value is 0.00013393700031320426 with parameters: {'x': 1.9884268845891349}.\n",
      "[I 2018-12-05 17:25:21,010] Finished a trial resulted in value: 0.6934951519670062. Current best value is 0.00013393700031320426 with parameters: {'x': 1.9884268845891349}.\n",
      "[I 2018-12-05 17:25:21,031] Finished a trial resulted in value: 2.008417292289662. Current best value is 0.00013393700031320426 with parameters: {'x': 1.9884268845891349}.\n"
     ]
    },
    {
     "name": "stderr",
     "output_type": "stream",
     "text": [
      "[I 2018-12-05 17:25:21,053] Finished a trial resulted in value: 0.04481725755730369. Current best value is 0.00013393700031320426 with parameters: {'x': 1.9884268845891349}.\n",
      "[I 2018-12-05 17:25:21,073] Finished a trial resulted in value: 4.04371961820375. Current best value is 0.00013393700031320426 with parameters: {'x': 1.9884268845891349}.\n",
      "[I 2018-12-05 17:25:21,096] Finished a trial resulted in value: 1.5474109838646233. Current best value is 0.00013393700031320426 with parameters: {'x': 1.9884268845891349}.\n",
      "[I 2018-12-05 17:25:21,117] Finished a trial resulted in value: 0.31180793163104437. Current best value is 0.00013393700031320426 with parameters: {'x': 1.9884268845891349}.\n",
      "[I 2018-12-05 17:25:21,138] Finished a trial resulted in value: 2.0145143987571195. Current best value is 0.00013393700031320426 with parameters: {'x': 1.9884268845891349}.\n",
      "[I 2018-12-05 17:25:21,164] Finished a trial resulted in value: 0.34883418716707243. Current best value is 0.00013393700031320426 with parameters: {'x': 1.9884268845891349}.\n",
      "[I 2018-12-05 17:25:21,189] Finished a trial resulted in value: 0.3153367290573543. Current best value is 0.00013393700031320426 with parameters: {'x': 1.9884268845891349}.\n",
      "[I 2018-12-05 17:25:21,211] Finished a trial resulted in value: 0.4584575508564097. Current best value is 0.00013393700031320426 with parameters: {'x': 1.9884268845891349}.\n",
      "[I 2018-12-05 17:25:21,231] Finished a trial resulted in value: 3.5955663209140125. Current best value is 0.00013393700031320426 with parameters: {'x': 1.9884268845891349}.\n",
      "[I 2018-12-05 17:25:21,255] Finished a trial resulted in value: 0.04915696502436159. Current best value is 0.00013393700031320426 with parameters: {'x': 1.9884268845891349}.\n",
      "[I 2018-12-05 17:25:21,280] Finished a trial resulted in value: 53.46957121697807. Current best value is 0.00013393700031320426 with parameters: {'x': 1.9884268845891349}.\n",
      "[I 2018-12-05 17:25:21,303] Finished a trial resulted in value: 8.948372574580326. Current best value is 0.00013393700031320426 with parameters: {'x': 1.9884268845891349}.\n",
      "[I 2018-12-05 17:25:21,326] Finished a trial resulted in value: 0.3236033031323813. Current best value is 0.00013393700031320426 with parameters: {'x': 1.9884268845891349}.\n",
      "[I 2018-12-05 17:25:21,347] Finished a trial resulted in value: 0.003323513985877245. Current best value is 0.00013393700031320426 with parameters: {'x': 1.9884268845891349}.\n",
      "[I 2018-12-05 17:25:21,369] Finished a trial resulted in value: 0.06952867382535408. Current best value is 0.00013393700031320426 with parameters: {'x': 1.9884268845891349}.\n",
      "[I 2018-12-05 17:25:21,391] Finished a trial resulted in value: 0.05938378433403082. Current best value is 0.00013393700031320426 with parameters: {'x': 1.9884268845891349}.\n",
      "[I 2018-12-05 17:25:21,412] Finished a trial resulted in value: 0.5242926813763029. Current best value is 0.00013393700031320426 with parameters: {'x': 1.9884268845891349}.\n",
      "[I 2018-12-05 17:25:21,434] Finished a trial resulted in value: 0.08502520612946234. Current best value is 0.00013393700031320426 with parameters: {'x': 1.9884268845891349}.\n",
      "[I 2018-12-05 17:25:21,456] Finished a trial resulted in value: 0.023822710014572077. Current best value is 0.00013393700031320426 with parameters: {'x': 1.9884268845891349}.\n",
      "[I 2018-12-05 17:25:21,479] Finished a trial resulted in value: 0.2540819466571412. Current best value is 0.00013393700031320426 with parameters: {'x': 1.9884268845891349}.\n",
      "[I 2018-12-05 17:25:21,501] Finished a trial resulted in value: 0.004904969303559731. Current best value is 0.00013393700031320426 with parameters: {'x': 1.9884268845891349}.\n",
      "[I 2018-12-05 17:25:21,525] Finished a trial resulted in value: 0.02868899924202228. Current best value is 0.00013393700031320426 with parameters: {'x': 1.9884268845891349}.\n",
      "[I 2018-12-05 17:25:21,549] Finished a trial resulted in value: 0.16176812758964126. Current best value is 0.00013393700031320426 with parameters: {'x': 1.9884268845891349}.\n",
      "[I 2018-12-05 17:25:21,573] Finished a trial resulted in value: 2.9658010501915313. Current best value is 0.00013393700031320426 with parameters: {'x': 1.9884268845891349}.\n",
      "[I 2018-12-05 17:25:21,595] Finished a trial resulted in value: 0.010602450940104867. Current best value is 0.00013393700031320426 with parameters: {'x': 1.9884268845891349}.\n",
      "[I 2018-12-05 17:25:21,617] Finished a trial resulted in value: 0.18320669189978417. Current best value is 0.00013393700031320426 with parameters: {'x': 1.9884268845891349}.\n",
      "[I 2018-12-05 17:25:21,639] Finished a trial resulted in value: 3.0079277924571635. Current best value is 0.00013393700031320426 with parameters: {'x': 1.9884268845891349}.\n",
      "[I 2018-12-05 17:25:21,661] Finished a trial resulted in value: 1.2192066265976005. Current best value is 0.00013393700031320426 with parameters: {'x': 1.9884268845891349}.\n",
      "[I 2018-12-05 17:25:21,683] Finished a trial resulted in value: 0.011428580400187198. Current best value is 0.00013393700031320426 with parameters: {'x': 1.9884268845891349}.\n",
      "[I 2018-12-05 17:25:21,707] Finished a trial resulted in value: 0.23014227539379528. Current best value is 0.00013393700031320426 with parameters: {'x': 1.9884268845891349}.\n",
      "[I 2018-12-05 17:25:21,729] Finished a trial resulted in value: 4.747987890438365. Current best value is 0.00013393700031320426 with parameters: {'x': 1.9884268845891349}.\n",
      "[I 2018-12-05 17:25:21,752] Finished a trial resulted in value: 0.5734946303790991. Current best value is 0.00013393700031320426 with parameters: {'x': 1.9884268845891349}.\n",
      "[I 2018-12-05 17:25:21,775] Finished a trial resulted in value: 3.146669680097915. Current best value is 0.00013393700031320426 with parameters: {'x': 1.9884268845891349}.\n",
      "[I 2018-12-05 17:25:21,798] Finished a trial resulted in value: 3.606974981962268. Current best value is 0.00013393700031320426 with parameters: {'x': 1.9884268845891349}.\n",
      "[I 2018-12-05 17:25:21,822] Finished a trial resulted in value: 1.1238550341448033. Current best value is 0.00013393700031320426 with parameters: {'x': 1.9884268845891349}.\n",
      "[I 2018-12-05 17:25:21,845] Finished a trial resulted in value: 0.5946623650156884. Current best value is 0.00013393700031320426 with parameters: {'x': 1.9884268845891349}.\n",
      "[I 2018-12-05 17:25:21,869] Finished a trial resulted in value: 0.11743904049682462. Current best value is 0.00013393700031320426 with parameters: {'x': 1.9884268845891349}.\n",
      "[I 2018-12-05 17:25:21,893] Finished a trial resulted in value: 1.1658598914801706. Current best value is 0.00013393700031320426 with parameters: {'x': 1.9884268845891349}.\n",
      "[I 2018-12-05 17:25:21,918] Finished a trial resulted in value: 0.4355786502659431. Current best value is 0.00013393700031320426 with parameters: {'x': 1.9884268845891349}.\n",
      "[I 2018-12-05 17:25:21,943] Finished a trial resulted in value: 3.6703816425976368. Current best value is 0.00013393700031320426 with parameters: {'x': 1.9884268845891349}.\n",
      "[I 2018-12-05 17:25:21,967] Finished a trial resulted in value: 1.4281815892157057. Current best value is 0.00013393700031320426 with parameters: {'x': 1.9884268845891349}.\n",
      "[I 2018-12-05 17:25:21,992] Finished a trial resulted in value: 8.404806712532169. Current best value is 0.00013393700031320426 with parameters: {'x': 1.9884268845891349}.\n",
      "[I 2018-12-05 17:25:22,016] Finished a trial resulted in value: 3.286036126089437. Current best value is 0.00013393700031320426 with parameters: {'x': 1.9884268845891349}.\n",
      "[I 2018-12-05 17:25:22,041] Finished a trial resulted in value: 0.995119935293712. Current best value is 0.00013393700031320426 with parameters: {'x': 1.9884268845891349}.\n"
     ]
    }
   ],
   "source": [
    "study.optimize(objective, timeout=2.0)"
   ]
  },
  {
   "cell_type": "code",
   "execution_count": 8,
   "metadata": {},
   "outputs": [
    {
     "name": "stdout",
     "output_type": "stream",
     "text": [
      "全試行回数\n",
      "291\n",
      "----------------------------------------\n",
      "最適化された変数の値\n",
      "{'x': 1.9884268845891349}\n"
     ]
    }
   ],
   "source": [
    "print('全試行回数')\n",
    "print(len(study.trials))\n",
    "print('-'*40)\n",
    "print('最適化された変数の値')\n",
    "print(study.best_params)"
   ]
  },
  {
   "cell_type": "markdown",
   "metadata": {},
   "source": [
    "<a name=\"advanced_configurations\"></a>\n",
    "## Advanced Configurations\n",
    "- [公式サイト](https://optuna.readthedocs.io/en/stable/tutorial/configurations.html)"
   ]
  },
  {
   "cell_type": "markdown",
   "metadata": {},
   "source": [
    "### 探索するパラメータ空間の定義方法\n",
    "- 提示される値は`Sampler`によってサンプリングされる\n",
    "    - RandomSampler\n",
    "    - TPESampler"
   ]
  },
  {
   "cell_type": "code",
   "execution_count": 9,
   "metadata": {},
   "outputs": [],
   "source": [
    "def objective(trial):\n",
    "    # カテゴリ変数を提示する, (name, choices) choicesにリスト[]で指定\n",
    "    optimizer = trial.suggest_categorical('optimizer', ['MomentumSGD', 'Adam'])\n",
    "\n",
    "    # 整数値変数[low, high]から提示, (name, low, high)\n",
    "    num_layers = trial.suggest_int('num_layers', 1, 3)\n",
    "\n",
    "    # 連続値変数[low, high)から提示, (name, low, high)\n",
    "    dropout_rate = trial.suggest_uniform('dropout_rate', 0.0, 1.0)\n",
    "\n",
    "    # 連続値変数, 対数範囲[low, high)から提示 (name, low, high)\n",
    "    learning_rate = trial.suggest_loguniform('learning_rate', 1e-5, 1e-2)\n",
    "\n",
    "    # 離散値[low, high, step]から提示, (name, low, high, q)\n",
    "    drop_path_rate = trial.suggest_discrete_uniform('drop_path_rate', 0.0, 1.0, 0.1)\n"
   ]
  },
  {
   "cell_type": "markdown",
   "metadata": {},
   "source": [
    "### 変数の値によって条件分岐して探索することも可能"
   ]
  },
  {
   "cell_type": "code",
   "execution_count": 10,
   "metadata": {},
   "outputs": [],
   "source": [
    "def objective(trial):\n",
    "    classifier_name = trial.suggest_categorical('classifier', ['SVC', 'RandomForest'])\n",
    "    \n",
    "    # アルゴリズムごとに探索空間を定義\n",
    "    if classifier_name == 'SVC':\n",
    "        svc_c = trial.suggest_loguniform('svc_c', 1e-10, 1e10)\n",
    "        classifier_obj = sklearn.svm.SVC(C=svc_c)\n",
    "    else:\n",
    "        rf_max_depth = int(trial.suggest_loguniform('rf_max_depth', 2, 32))\n",
    "        classifier_obj = sklearn.ensemble.RandomForestClassifier(max_depth=rf_max_depth)\n"
   ]
  },
  {
   "cell_type": "markdown",
   "metadata": {},
   "source": [
    "### ループ処理を入れることも可能"
   ]
  },
  {
   "cell_type": "code",
   "execution_count": 11,
   "metadata": {},
   "outputs": [],
   "source": [
    "def create_model(trial):\n",
    "    n_layers = trial.suggest_int('n_layers', 1, 3)\n",
    "\n",
    "    layers = []\n",
    "    for i in range(n_layers):\n",
    "        n_units = int(trial.suggest_loguniform('n_units_l{}'.format(i), 4, 128))\n",
    "        layers.append(L.Linear(None, n_units))\n",
    "        layers.append(F.relu)\n",
    "    layers.append(L.Linear(None, 10))\n",
    "\n",
    "    return chainer.Sequential(*layers)"
   ]
  },
  {
   "cell_type": "markdown",
   "metadata": {},
   "source": [
    "### 他の留意事項等\n",
    "- 変数の数を増やすとおよそ指数的に計算量が増える\n",
    "- `optimize`に渡す変数の中で計算時間にかかわるものとして、`n_trials`と`timeout`がある\n",
    "- `n_trials`と`timeout`が指定されないと、`Ctrl+C`等で中断されるまで実行される"
   ]
  },
  {
   "cell_type": "markdown",
   "metadata": {},
   "source": [
    "<a name=\"sklearn_iris\"></a>\n",
    "### scikit-learnの実装例 (Iris)\n",
    "- [コードのソース(github)](https://github.com/pfnet/optuna/blob/master/examples/sklearn_simple.py)"
   ]
  },
  {
   "cell_type": "code",
   "execution_count": 12,
   "metadata": {},
   "outputs": [],
   "source": [
    "import sklearn.datasets\n",
    "import sklearn.ensemble\n",
    "import sklearn.model_selection\n",
    "import sklearn.svm\n",
    "\n",
    "\n",
    "def objective(trial):\n",
    "    # Iris データの読み込み\n",
    "    iris = sklearn.datasets.load_iris()\n",
    "    x, y = iris.data, iris.target\n",
    "\n",
    "    # 分類器の名前をカテゴリ変数として探索空間を定義\n",
    "    classifier_name = trial.suggest_categorical('classifier', ['SVC', 'RandomForest'])\n",
    "    \n",
    "    # 分類器ごとに変数の探索空間を定義\n",
    "    if classifier_name == 'SVC':\n",
    "        svc_c = trial.suggest_loguniform('svc_c', 1e-10, 1e10)\n",
    "        classifier_obj = sklearn.svm.SVC(C=svc_c)\n",
    "    else:\n",
    "        rf_max_depth = int(trial.suggest_loguniform('rf_max_depth', 2, 32))\n",
    "        classifier_obj = sklearn.ensemble.RandomForestClassifier(max_depth=rf_max_depth)\n",
    "\n",
    "    # 最適化する目的関数の定義\n",
    "    score = sklearn.model_selection.cross_val_score(classifier_obj, x, y, n_jobs=-1)\n",
    "    accuracy = score.mean()\n",
    "    return 1.0 - accuracy"
   ]
  },
  {
   "cell_type": "code",
   "execution_count": 13,
   "metadata": {},
   "outputs": [
    {
     "name": "stderr",
     "output_type": "stream",
     "text": [
      "/Users/ikokpro/.pyenv/versions/anaconda3-5.2.0/lib/python3.6/site-packages/sklearn/model_selection/_split.py:2053: FutureWarning: You should specify a value for 'cv' instead of relying on the default value. The default value will change from 3 to 5 in version 0.22.\n",
      "  warnings.warn(CV_WARNING, FutureWarning)\n",
      "[I 2018-12-05 17:25:26,263] Finished a trial resulted in value: 0.03308823529411775. Current best value is 0.03308823529411775 with parameters: {'classifier': 'RandomForest', 'rf_max_depth': 9.214668143548392}.\n",
      "/Users/ikokpro/.pyenv/versions/anaconda3-5.2.0/lib/python3.6/site-packages/sklearn/model_selection/_split.py:2053: FutureWarning: You should specify a value for 'cv' instead of relying on the default value. The default value will change from 3 to 5 in version 0.22.\n",
      "  warnings.warn(CV_WARNING, FutureWarning)\n",
      "[I 2018-12-05 17:25:27,384] Finished a trial resulted in value: 0.03308823529411775. Current best value is 0.03308823529411775 with parameters: {'classifier': 'RandomForest', 'rf_max_depth': 9.214668143548392}.\n",
      "/Users/ikokpro/.pyenv/versions/anaconda3-5.2.0/lib/python3.6/site-packages/sklearn/model_selection/_split.py:2053: FutureWarning: You should specify a value for 'cv' instead of relying on the default value. The default value will change from 3 to 5 in version 0.22.\n",
      "  warnings.warn(CV_WARNING, FutureWarning)\n",
      "[I 2018-12-05 17:25:27,522] Finished a trial resulted in value: 0.060049019607843146. Current best value is 0.03308823529411775 with parameters: {'classifier': 'RandomForest', 'rf_max_depth': 9.214668143548392}.\n",
      "/Users/ikokpro/.pyenv/versions/anaconda3-5.2.0/lib/python3.6/site-packages/sklearn/model_selection/_split.py:2053: FutureWarning: You should specify a value for 'cv' instead of relying on the default value. The default value will change from 3 to 5 in version 0.22.\n",
      "  warnings.warn(CV_WARNING, FutureWarning)\n",
      "[I 2018-12-05 17:25:28,630] Finished a trial resulted in value: 0.03962418300653603. Current best value is 0.03308823529411775 with parameters: {'classifier': 'RandomForest', 'rf_max_depth': 9.214668143548392}.\n",
      "/Users/ikokpro/.pyenv/versions/anaconda3-5.2.0/lib/python3.6/site-packages/sklearn/model_selection/_split.py:2053: FutureWarning: You should specify a value for 'cv' instead of relying on the default value. The default value will change from 3 to 5 in version 0.22.\n",
      "  warnings.warn(CV_WARNING, FutureWarning)\n",
      "[I 2018-12-05 17:25:29,802] Finished a trial resulted in value: 0.0326797385620915. Current best value is 0.0326797385620915 with parameters: {'classifier': 'SVC', 'svc_c': 67.89341727657136}.\n",
      "/Users/ikokpro/.pyenv/versions/anaconda3-5.2.0/lib/python3.6/site-packages/sklearn/model_selection/_split.py:2053: FutureWarning: You should specify a value for 'cv' instead of relying on the default value. The default value will change from 3 to 5 in version 0.22.\n",
      "  warnings.warn(CV_WARNING, FutureWarning)\n",
      "[I 2018-12-05 17:25:29,816] Finished a trial resulted in value: 0.060049019607843146. Current best value is 0.0326797385620915 with parameters: {'classifier': 'SVC', 'svc_c': 67.89341727657136}.\n",
      "/Users/ikokpro/.pyenv/versions/anaconda3-5.2.0/lib/python3.6/site-packages/sklearn/model_selection/_split.py:2053: FutureWarning: You should specify a value for 'cv' instead of relying on the default value. The default value will change from 3 to 5 in version 0.22.\n",
      "  warnings.warn(CV_WARNING, FutureWarning)\n",
      "[I 2018-12-05 17:25:29,901] Finished a trial resulted in value: 0.046160130718954306. Current best value is 0.0326797385620915 with parameters: {'classifier': 'SVC', 'svc_c': 67.89341727657136}.\n",
      "/Users/ikokpro/.pyenv/versions/anaconda3-5.2.0/lib/python3.6/site-packages/sklearn/model_selection/_split.py:2053: FutureWarning: You should specify a value for 'cv' instead of relying on the default value. The default value will change from 3 to 5 in version 0.22.\n",
      "  warnings.warn(CV_WARNING, FutureWarning)\n",
      "[I 2018-12-05 17:25:29,912] Finished a trial resulted in value: 0.06576797385620914. Current best value is 0.0326797385620915 with parameters: {'classifier': 'SVC', 'svc_c': 67.89341727657136}.\n",
      "/Users/ikokpro/.pyenv/versions/anaconda3-5.2.0/lib/python3.6/site-packages/sklearn/model_selection/_split.py:2053: FutureWarning: You should specify a value for 'cv' instead of relying on the default value. The default value will change from 3 to 5 in version 0.22.\n",
      "  warnings.warn(CV_WARNING, FutureWarning)\n",
      "[I 2018-12-05 17:25:29,924] Finished a trial resulted in value: 0.06576797385620914. Current best value is 0.0326797385620915 with parameters: {'classifier': 'SVC', 'svc_c': 67.89341727657136}.\n",
      "/Users/ikokpro/.pyenv/versions/anaconda3-5.2.0/lib/python3.6/site-packages/sklearn/model_selection/_split.py:2053: FutureWarning: You should specify a value for 'cv' instead of relying on the default value. The default value will change from 3 to 5 in version 0.22.\n",
      "  warnings.warn(CV_WARNING, FutureWarning)\n",
      "[I 2018-12-05 17:25:29,942] Finished a trial resulted in value: 0.046160130718954306. Current best value is 0.0326797385620915 with parameters: {'classifier': 'SVC', 'svc_c': 67.89341727657136}.\n",
      "/Users/ikokpro/.pyenv/versions/anaconda3-5.2.0/lib/python3.6/site-packages/sklearn/model_selection/_split.py:2053: FutureWarning: You should specify a value for 'cv' instead of relying on the default value. The default value will change from 3 to 5 in version 0.22.\n",
      "  warnings.warn(CV_WARNING, FutureWarning)\n",
      "[I 2018-12-05 17:25:29,957] Finished a trial resulted in value: 0.06576797385620914. Current best value is 0.0326797385620915 with parameters: {'classifier': 'SVC', 'svc_c': 67.89341727657136}.\n",
      "/Users/ikokpro/.pyenv/versions/anaconda3-5.2.0/lib/python3.6/site-packages/sklearn/model_selection/_split.py:2053: FutureWarning: You should specify a value for 'cv' instead of relying on the default value. The default value will change from 3 to 5 in version 0.22.\n",
      "  warnings.warn(CV_WARNING, FutureWarning)\n",
      "[I 2018-12-05 17:25:29,970] Finished a trial resulted in value: 0.06576797385620914. Current best value is 0.0326797385620915 with parameters: {'classifier': 'SVC', 'svc_c': 67.89341727657136}.\n",
      "/Users/ikokpro/.pyenv/versions/anaconda3-5.2.0/lib/python3.6/site-packages/sklearn/model_selection/_split.py:2053: FutureWarning: You should specify a value for 'cv' instead of relying on the default value. The default value will change from 3 to 5 in version 0.22.\n",
      "  warnings.warn(CV_WARNING, FutureWarning)\n",
      "[I 2018-12-05 17:25:29,983] Finished a trial resulted in value: 0.06576797385620914. Current best value is 0.0326797385620915 with parameters: {'classifier': 'SVC', 'svc_c': 67.89341727657136}.\n",
      "/Users/ikokpro/.pyenv/versions/anaconda3-5.2.0/lib/python3.6/site-packages/sklearn/model_selection/_split.py:2053: FutureWarning: You should specify a value for 'cv' instead of relying on the default value. The default value will change from 3 to 5 in version 0.22.\n",
      "  warnings.warn(CV_WARNING, FutureWarning)\n",
      "[I 2018-12-05 17:25:29,995] Finished a trial resulted in value: 0.06576797385620914. Current best value is 0.0326797385620915 with parameters: {'classifier': 'SVC', 'svc_c': 67.89341727657136}.\n",
      "/Users/ikokpro/.pyenv/versions/anaconda3-5.2.0/lib/python3.6/site-packages/sklearn/model_selection/_split.py:2053: FutureWarning: You should specify a value for 'cv' instead of relying on the default value. The default value will change from 3 to 5 in version 0.22.\n",
      "  warnings.warn(CV_WARNING, FutureWarning)\n",
      "[I 2018-12-05 17:25:30,008] Finished a trial resulted in value: 0.06576797385620914. Current best value is 0.0326797385620915 with parameters: {'classifier': 'SVC', 'svc_c': 67.89341727657136}.\n",
      "/Users/ikokpro/.pyenv/versions/anaconda3-5.2.0/lib/python3.6/site-packages/sklearn/model_selection/_split.py:2053: FutureWarning: You should specify a value for 'cv' instead of relying on the default value. The default value will change from 3 to 5 in version 0.22.\n",
      "  warnings.warn(CV_WARNING, FutureWarning)\n",
      "[I 2018-12-05 17:25:31,080] Finished a trial resulted in value: 0.060049019607843146. Current best value is 0.0326797385620915 with parameters: {'classifier': 'SVC', 'svc_c': 67.89341727657136}.\n",
      "/Users/ikokpro/.pyenv/versions/anaconda3-5.2.0/lib/python3.6/site-packages/sklearn/model_selection/_split.py:2053: FutureWarning: You should specify a value for 'cv' instead of relying on the default value. The default value will change from 3 to 5 in version 0.22.\n",
      "  warnings.warn(CV_WARNING, FutureWarning)\n"
     ]
    },
    {
     "name": "stderr",
     "output_type": "stream",
     "text": [
      "[I 2018-12-05 17:25:31,098] Finished a trial resulted in value: 0.060049019607843146. Current best value is 0.0326797385620915 with parameters: {'classifier': 'SVC', 'svc_c': 67.89341727657136}.\n",
      "/Users/ikokpro/.pyenv/versions/anaconda3-5.2.0/lib/python3.6/site-packages/sklearn/model_selection/_split.py:2053: FutureWarning: You should specify a value for 'cv' instead of relying on the default value. The default value will change from 3 to 5 in version 0.22.\n",
      "  warnings.warn(CV_WARNING, FutureWarning)\n",
      "[I 2018-12-05 17:25:31,177] Finished a trial resulted in value: 0.02614379084967322. Current best value is 0.02614379084967322 with parameters: {'classifier': 'RandomForest', 'rf_max_depth': 17.174755975846097}.\n",
      "/Users/ikokpro/.pyenv/versions/anaconda3-5.2.0/lib/python3.6/site-packages/sklearn/model_selection/_split.py:2053: FutureWarning: You should specify a value for 'cv' instead of relying on the default value. The default value will change from 3 to 5 in version 0.22.\n",
      "  warnings.warn(CV_WARNING, FutureWarning)\n",
      "[I 2018-12-05 17:25:31,197] Finished a trial resulted in value: 0.03308823529411775. Current best value is 0.02614379084967322 with parameters: {'classifier': 'RandomForest', 'rf_max_depth': 17.174755975846097}.\n",
      "/Users/ikokpro/.pyenv/versions/anaconda3-5.2.0/lib/python3.6/site-packages/sklearn/model_selection/_split.py:2053: FutureWarning: You should specify a value for 'cv' instead of relying on the default value. The default value will change from 3 to 5 in version 0.22.\n",
      "  warnings.warn(CV_WARNING, FutureWarning)\n",
      "[I 2018-12-05 17:25:31,219] Finished a trial resulted in value: 0.03962418300653603. Current best value is 0.02614379084967322 with parameters: {'classifier': 'RandomForest', 'rf_max_depth': 17.174755975846097}.\n",
      "/Users/ikokpro/.pyenv/versions/anaconda3-5.2.0/lib/python3.6/site-packages/sklearn/model_selection/_split.py:2053: FutureWarning: You should specify a value for 'cv' instead of relying on the default value. The default value will change from 3 to 5 in version 0.22.\n",
      "  warnings.warn(CV_WARNING, FutureWarning)\n",
      "[I 2018-12-05 17:25:31,238] Finished a trial resulted in value: 0.039215686274509776. Current best value is 0.02614379084967322 with parameters: {'classifier': 'RandomForest', 'rf_max_depth': 17.174755975846097}.\n",
      "/Users/ikokpro/.pyenv/versions/anaconda3-5.2.0/lib/python3.6/site-packages/sklearn/model_selection/_split.py:2053: FutureWarning: You should specify a value for 'cv' instead of relying on the default value. The default value will change from 3 to 5 in version 0.22.\n",
      "  warnings.warn(CV_WARNING, FutureWarning)\n",
      "[I 2018-12-05 17:25:31,257] Finished a trial resulted in value: 0.046160130718954306. Current best value is 0.02614379084967322 with parameters: {'classifier': 'RandomForest', 'rf_max_depth': 17.174755975846097}.\n",
      "/Users/ikokpro/.pyenv/versions/anaconda3-5.2.0/lib/python3.6/site-packages/sklearn/model_selection/_split.py:2053: FutureWarning: You should specify a value for 'cv' instead of relying on the default value. The default value will change from 3 to 5 in version 0.22.\n",
      "  warnings.warn(CV_WARNING, FutureWarning)\n",
      "[I 2018-12-05 17:25:31,275] Finished a trial resulted in value: 0.046160130718954306. Current best value is 0.02614379084967322 with parameters: {'classifier': 'RandomForest', 'rf_max_depth': 17.174755975846097}.\n",
      "/Users/ikokpro/.pyenv/versions/anaconda3-5.2.0/lib/python3.6/site-packages/sklearn/model_selection/_split.py:2053: FutureWarning: You should specify a value for 'cv' instead of relying on the default value. The default value will change from 3 to 5 in version 0.22.\n",
      "  warnings.warn(CV_WARNING, FutureWarning)\n",
      "[I 2018-12-05 17:25:31,300] Finished a trial resulted in value: 0.0326797385620915. Current best value is 0.02614379084967322 with parameters: {'classifier': 'RandomForest', 'rf_max_depth': 17.174755975846097}.\n",
      "/Users/ikokpro/.pyenv/versions/anaconda3-5.2.0/lib/python3.6/site-packages/sklearn/model_selection/_split.py:2053: FutureWarning: You should specify a value for 'cv' instead of relying on the default value. The default value will change from 3 to 5 in version 0.22.\n",
      "  warnings.warn(CV_WARNING, FutureWarning)\n",
      "[I 2018-12-05 17:25:31,325] Finished a trial resulted in value: 0.02614379084967322. Current best value is 0.02614379084967322 with parameters: {'classifier': 'RandomForest', 'rf_max_depth': 17.174755975846097}.\n",
      "/Users/ikokpro/.pyenv/versions/anaconda3-5.2.0/lib/python3.6/site-packages/sklearn/model_selection/_split.py:2053: FutureWarning: You should specify a value for 'cv' instead of relying on the default value. The default value will change from 3 to 5 in version 0.22.\n",
      "  warnings.warn(CV_WARNING, FutureWarning)\n",
      "[I 2018-12-05 17:25:31,346] Finished a trial resulted in value: 0.04656862745098034. Current best value is 0.02614379084967322 with parameters: {'classifier': 'RandomForest', 'rf_max_depth': 17.174755975846097}.\n",
      "/Users/ikokpro/.pyenv/versions/anaconda3-5.2.0/lib/python3.6/site-packages/sklearn/model_selection/_split.py:2053: FutureWarning: You should specify a value for 'cv' instead of relying on the default value. The default value will change from 3 to 5 in version 0.22.\n",
      "  warnings.warn(CV_WARNING, FutureWarning)\n",
      "[I 2018-12-05 17:25:31,367] Finished a trial resulted in value: 0.03308823529411775. Current best value is 0.02614379084967322 with parameters: {'classifier': 'RandomForest', 'rf_max_depth': 17.174755975846097}.\n",
      "/Users/ikokpro/.pyenv/versions/anaconda3-5.2.0/lib/python3.6/site-packages/sklearn/model_selection/_split.py:2053: FutureWarning: You should specify a value for 'cv' instead of relying on the default value. The default value will change from 3 to 5 in version 0.22.\n",
      "  warnings.warn(CV_WARNING, FutureWarning)\n",
      "[I 2018-12-05 17:25:31,388] Finished a trial resulted in value: 0.046160130718954306. Current best value is 0.02614379084967322 with parameters: {'classifier': 'RandomForest', 'rf_max_depth': 17.174755975846097}.\n",
      "/Users/ikokpro/.pyenv/versions/anaconda3-5.2.0/lib/python3.6/site-packages/sklearn/model_selection/_split.py:2053: FutureWarning: You should specify a value for 'cv' instead of relying on the default value. The default value will change from 3 to 5 in version 0.22.\n",
      "  warnings.warn(CV_WARNING, FutureWarning)\n",
      "[I 2018-12-05 17:25:31,407] Finished a trial resulted in value: 0.03962418300653603. Current best value is 0.02614379084967322 with parameters: {'classifier': 'RandomForest', 'rf_max_depth': 17.174755975846097}.\n",
      "/Users/ikokpro/.pyenv/versions/anaconda3-5.2.0/lib/python3.6/site-packages/sklearn/model_selection/_split.py:2053: FutureWarning: You should specify a value for 'cv' instead of relying on the default value. The default value will change from 3 to 5 in version 0.22.\n",
      "  warnings.warn(CV_WARNING, FutureWarning)\n",
      "[I 2018-12-05 17:25:31,428] Finished a trial resulted in value: 0.03962418300653603. Current best value is 0.02614379084967322 with parameters: {'classifier': 'RandomForest', 'rf_max_depth': 17.174755975846097}.\n",
      "/Users/ikokpro/.pyenv/versions/anaconda3-5.2.0/lib/python3.6/site-packages/sklearn/model_selection/_split.py:2053: FutureWarning: You should specify a value for 'cv' instead of relying on the default value. The default value will change from 3 to 5 in version 0.22.\n",
      "  warnings.warn(CV_WARNING, FutureWarning)\n",
      "[I 2018-12-05 17:25:31,452] Finished a trial resulted in value: 0.04656862745098034. Current best value is 0.02614379084967322 with parameters: {'classifier': 'RandomForest', 'rf_max_depth': 17.174755975846097}.\n",
      "/Users/ikokpro/.pyenv/versions/anaconda3-5.2.0/lib/python3.6/site-packages/sklearn/model_selection/_split.py:2053: FutureWarning: You should specify a value for 'cv' instead of relying on the default value. The default value will change from 3 to 5 in version 0.22.\n",
      "  warnings.warn(CV_WARNING, FutureWarning)\n",
      "[I 2018-12-05 17:25:31,474] Finished a trial resulted in value: 0.046160130718954306. Current best value is 0.02614379084967322 with parameters: {'classifier': 'RandomForest', 'rf_max_depth': 17.174755975846097}.\n",
      "/Users/ikokpro/.pyenv/versions/anaconda3-5.2.0/lib/python3.6/site-packages/sklearn/model_selection/_split.py:2053: FutureWarning: You should specify a value for 'cv' instead of relying on the default value. The default value will change from 3 to 5 in version 0.22.\n",
      "  warnings.warn(CV_WARNING, FutureWarning)\n"
     ]
    },
    {
     "name": "stderr",
     "output_type": "stream",
     "text": [
      "[I 2018-12-05 17:25:31,498] Finished a trial resulted in value: 0.04003267973856206. Current best value is 0.02614379084967322 with parameters: {'classifier': 'RandomForest', 'rf_max_depth': 17.174755975846097}.\n",
      "/Users/ikokpro/.pyenv/versions/anaconda3-5.2.0/lib/python3.6/site-packages/sklearn/model_selection/_split.py:2053: FutureWarning: You should specify a value for 'cv' instead of relying on the default value. The default value will change from 3 to 5 in version 0.22.\n",
      "  warnings.warn(CV_WARNING, FutureWarning)\n",
      "[I 2018-12-05 17:25:31,524] Finished a trial resulted in value: 0.03308823529411775. Current best value is 0.02614379084967322 with parameters: {'classifier': 'RandomForest', 'rf_max_depth': 17.174755975846097}.\n",
      "/Users/ikokpro/.pyenv/versions/anaconda3-5.2.0/lib/python3.6/site-packages/sklearn/model_selection/_split.py:2053: FutureWarning: You should specify a value for 'cv' instead of relying on the default value. The default value will change from 3 to 5 in version 0.22.\n",
      "  warnings.warn(CV_WARNING, FutureWarning)\n",
      "[I 2018-12-05 17:25:31,544] Finished a trial resulted in value: 0.03962418300653603. Current best value is 0.02614379084967322 with parameters: {'classifier': 'RandomForest', 'rf_max_depth': 17.174755975846097}.\n",
      "/Users/ikokpro/.pyenv/versions/anaconda3-5.2.0/lib/python3.6/site-packages/sklearn/model_selection/_split.py:2053: FutureWarning: You should specify a value for 'cv' instead of relying on the default value. The default value will change from 3 to 5 in version 0.22.\n",
      "  warnings.warn(CV_WARNING, FutureWarning)\n",
      "[I 2018-12-05 17:25:31,565] Finished a trial resulted in value: 0.04656862745098034. Current best value is 0.02614379084967322 with parameters: {'classifier': 'RandomForest', 'rf_max_depth': 17.174755975846097}.\n",
      "/Users/ikokpro/.pyenv/versions/anaconda3-5.2.0/lib/python3.6/site-packages/sklearn/model_selection/_split.py:2053: FutureWarning: You should specify a value for 'cv' instead of relying on the default value. The default value will change from 3 to 5 in version 0.22.\n",
      "  warnings.warn(CV_WARNING, FutureWarning)\n",
      "[I 2018-12-05 17:25:31,588] Finished a trial resulted in value: 0.0326797385620915. Current best value is 0.02614379084967322 with parameters: {'classifier': 'RandomForest', 'rf_max_depth': 17.174755975846097}.\n",
      "/Users/ikokpro/.pyenv/versions/anaconda3-5.2.0/lib/python3.6/site-packages/sklearn/model_selection/_split.py:2053: FutureWarning: You should specify a value for 'cv' instead of relying on the default value. The default value will change from 3 to 5 in version 0.22.\n",
      "  warnings.warn(CV_WARNING, FutureWarning)\n",
      "[I 2018-12-05 17:25:31,610] Finished a trial resulted in value: 0.04656862745098034. Current best value is 0.02614379084967322 with parameters: {'classifier': 'RandomForest', 'rf_max_depth': 17.174755975846097}.\n",
      "/Users/ikokpro/.pyenv/versions/anaconda3-5.2.0/lib/python3.6/site-packages/sklearn/model_selection/_split.py:2053: FutureWarning: You should specify a value for 'cv' instead of relying on the default value. The default value will change from 3 to 5 in version 0.22.\n",
      "  warnings.warn(CV_WARNING, FutureWarning)\n",
      "[I 2018-12-05 17:25:31,633] Finished a trial resulted in value: 0.0326797385620915. Current best value is 0.02614379084967322 with parameters: {'classifier': 'RandomForest', 'rf_max_depth': 17.174755975846097}.\n",
      "/Users/ikokpro/.pyenv/versions/anaconda3-5.2.0/lib/python3.6/site-packages/sklearn/model_selection/_split.py:2053: FutureWarning: You should specify a value for 'cv' instead of relying on the default value. The default value will change from 3 to 5 in version 0.22.\n",
      "  warnings.warn(CV_WARNING, FutureWarning)\n",
      "[I 2018-12-05 17:25:31,657] Finished a trial resulted in value: 0.0326797385620915. Current best value is 0.02614379084967322 with parameters: {'classifier': 'RandomForest', 'rf_max_depth': 17.174755975846097}.\n",
      "/Users/ikokpro/.pyenv/versions/anaconda3-5.2.0/lib/python3.6/site-packages/sklearn/model_selection/_split.py:2053: FutureWarning: You should specify a value for 'cv' instead of relying on the default value. The default value will change from 3 to 5 in version 0.22.\n",
      "  warnings.warn(CV_WARNING, FutureWarning)\n",
      "[I 2018-12-05 17:25:31,682] Finished a trial resulted in value: 0.03308823529411775. Current best value is 0.02614379084967322 with parameters: {'classifier': 'RandomForest', 'rf_max_depth': 17.174755975846097}.\n",
      "/Users/ikokpro/.pyenv/versions/anaconda3-5.2.0/lib/python3.6/site-packages/sklearn/model_selection/_split.py:2053: FutureWarning: You should specify a value for 'cv' instead of relying on the default value. The default value will change from 3 to 5 in version 0.22.\n",
      "  warnings.warn(CV_WARNING, FutureWarning)\n",
      "[I 2018-12-05 17:25:31,704] Finished a trial resulted in value: 0.0326797385620915. Current best value is 0.02614379084967322 with parameters: {'classifier': 'RandomForest', 'rf_max_depth': 17.174755975846097}.\n",
      "/Users/ikokpro/.pyenv/versions/anaconda3-5.2.0/lib/python3.6/site-packages/sklearn/model_selection/_split.py:2053: FutureWarning: You should specify a value for 'cv' instead of relying on the default value. The default value will change from 3 to 5 in version 0.22.\n",
      "  warnings.warn(CV_WARNING, FutureWarning)\n",
      "[I 2018-12-05 17:25:31,727] Finished a trial resulted in value: 0.02614379084967322. Current best value is 0.02614379084967322 with parameters: {'classifier': 'RandomForest', 'rf_max_depth': 17.174755975846097}.\n",
      "/Users/ikokpro/.pyenv/versions/anaconda3-5.2.0/lib/python3.6/site-packages/sklearn/model_selection/_split.py:2053: FutureWarning: You should specify a value for 'cv' instead of relying on the default value. The default value will change from 3 to 5 in version 0.22.\n",
      "  warnings.warn(CV_WARNING, FutureWarning)\n",
      "[I 2018-12-05 17:25:31,754] Finished a trial resulted in value: 0.039215686274509776. Current best value is 0.02614379084967322 with parameters: {'classifier': 'RandomForest', 'rf_max_depth': 17.174755975846097}.\n",
      "/Users/ikokpro/.pyenv/versions/anaconda3-5.2.0/lib/python3.6/site-packages/sklearn/model_selection/_split.py:2053: FutureWarning: You should specify a value for 'cv' instead of relying on the default value. The default value will change from 3 to 5 in version 0.22.\n",
      "  warnings.warn(CV_WARNING, FutureWarning)\n",
      "[I 2018-12-05 17:25:31,770] Finished a trial resulted in value: 0.060049019607843146. Current best value is 0.02614379084967322 with parameters: {'classifier': 'RandomForest', 'rf_max_depth': 17.174755975846097}.\n",
      "/Users/ikokpro/.pyenv/versions/anaconda3-5.2.0/lib/python3.6/site-packages/sklearn/model_selection/_split.py:2053: FutureWarning: You should specify a value for 'cv' instead of relying on the default value. The default value will change from 3 to 5 in version 0.22.\n",
      "  warnings.warn(CV_WARNING, FutureWarning)\n",
      "[I 2018-12-05 17:25:31,786] Finished a trial resulted in value: 0.039215686274509776. Current best value is 0.02614379084967322 with parameters: {'classifier': 'RandomForest', 'rf_max_depth': 17.174755975846097}.\n",
      "/Users/ikokpro/.pyenv/versions/anaconda3-5.2.0/lib/python3.6/site-packages/sklearn/model_selection/_split.py:2053: FutureWarning: You should specify a value for 'cv' instead of relying on the default value. The default value will change from 3 to 5 in version 0.22.\n",
      "  warnings.warn(CV_WARNING, FutureWarning)\n",
      "[I 2018-12-05 17:25:31,810] Finished a trial resulted in value: 0.046160130718954306. Current best value is 0.02614379084967322 with parameters: {'classifier': 'RandomForest', 'rf_max_depth': 17.174755975846097}.\n",
      "/Users/ikokpro/.pyenv/versions/anaconda3-5.2.0/lib/python3.6/site-packages/sklearn/model_selection/_split.py:2053: FutureWarning: You should specify a value for 'cv' instead of relying on the default value. The default value will change from 3 to 5 in version 0.22.\n",
      "  warnings.warn(CV_WARNING, FutureWarning)\n",
      "[I 2018-12-05 17:25:31,824] Finished a trial resulted in value: 0.02614379084967322. Current best value is 0.02614379084967322 with parameters: {'classifier': 'RandomForest', 'rf_max_depth': 17.174755975846097}.\n",
      "/Users/ikokpro/.pyenv/versions/anaconda3-5.2.0/lib/python3.6/site-packages/sklearn/model_selection/_split.py:2053: FutureWarning: You should specify a value for 'cv' instead of relying on the default value. The default value will change from 3 to 5 in version 0.22.\n",
      "  warnings.warn(CV_WARNING, FutureWarning)\n"
     ]
    },
    {
     "name": "stderr",
     "output_type": "stream",
     "text": [
      "[I 2018-12-05 17:25:31,842] Finished a trial resulted in value: 0.06576797385620914. Current best value is 0.02614379084967322 with parameters: {'classifier': 'RandomForest', 'rf_max_depth': 17.174755975846097}.\n",
      "/Users/ikokpro/.pyenv/versions/anaconda3-5.2.0/lib/python3.6/site-packages/sklearn/model_selection/_split.py:2053: FutureWarning: You should specify a value for 'cv' instead of relying on the default value. The default value will change from 3 to 5 in version 0.22.\n",
      "  warnings.warn(CV_WARNING, FutureWarning)\n",
      "[I 2018-12-05 17:25:31,867] Finished a trial resulted in value: 0.052696078431372584. Current best value is 0.02614379084967322 with parameters: {'classifier': 'RandomForest', 'rf_max_depth': 17.174755975846097}.\n",
      "/Users/ikokpro/.pyenv/versions/anaconda3-5.2.0/lib/python3.6/site-packages/sklearn/model_selection/_split.py:2053: FutureWarning: You should specify a value for 'cv' instead of relying on the default value. The default value will change from 3 to 5 in version 0.22.\n",
      "  warnings.warn(CV_WARNING, FutureWarning)\n",
      "[I 2018-12-05 17:25:31,884] Finished a trial resulted in value: 0.03308823529411764. Current best value is 0.02614379084967322 with parameters: {'classifier': 'RandomForest', 'rf_max_depth': 17.174755975846097}.\n",
      "/Users/ikokpro/.pyenv/versions/anaconda3-5.2.0/lib/python3.6/site-packages/sklearn/model_selection/_split.py:2053: FutureWarning: You should specify a value for 'cv' instead of relying on the default value. The default value will change from 3 to 5 in version 0.22.\n",
      "  warnings.warn(CV_WARNING, FutureWarning)\n",
      "[I 2018-12-05 17:25:31,901] Finished a trial resulted in value: 0.060049019607843146. Current best value is 0.02614379084967322 with parameters: {'classifier': 'RandomForest', 'rf_max_depth': 17.174755975846097}.\n",
      "/Users/ikokpro/.pyenv/versions/anaconda3-5.2.0/lib/python3.6/site-packages/sklearn/model_selection/_split.py:2053: FutureWarning: You should specify a value for 'cv' instead of relying on the default value. The default value will change from 3 to 5 in version 0.22.\n",
      "  warnings.warn(CV_WARNING, FutureWarning)\n",
      "[I 2018-12-05 17:25:31,917] Finished a trial resulted in value: 0.039215686274509776. Current best value is 0.02614379084967322 with parameters: {'classifier': 'RandomForest', 'rf_max_depth': 17.174755975846097}.\n",
      "/Users/ikokpro/.pyenv/versions/anaconda3-5.2.0/lib/python3.6/site-packages/sklearn/model_selection/_split.py:2053: FutureWarning: You should specify a value for 'cv' instead of relying on the default value. The default value will change from 3 to 5 in version 0.22.\n",
      "  warnings.warn(CV_WARNING, FutureWarning)\n",
      "[I 2018-12-05 17:25:31,933] Finished a trial resulted in value: 0.0326797385620915. Current best value is 0.02614379084967322 with parameters: {'classifier': 'RandomForest', 'rf_max_depth': 17.174755975846097}.\n",
      "/Users/ikokpro/.pyenv/versions/anaconda3-5.2.0/lib/python3.6/site-packages/sklearn/model_selection/_split.py:2053: FutureWarning: You should specify a value for 'cv' instead of relying on the default value. The default value will change from 3 to 5 in version 0.22.\n",
      "  warnings.warn(CV_WARNING, FutureWarning)\n",
      "[I 2018-12-05 17:25:31,951] Finished a trial resulted in value: 0.06576797385620914. Current best value is 0.02614379084967322 with parameters: {'classifier': 'RandomForest', 'rf_max_depth': 17.174755975846097}.\n",
      "/Users/ikokpro/.pyenv/versions/anaconda3-5.2.0/lib/python3.6/site-packages/sklearn/model_selection/_split.py:2053: FutureWarning: You should specify a value for 'cv' instead of relying on the default value. The default value will change from 3 to 5 in version 0.22.\n",
      "  warnings.warn(CV_WARNING, FutureWarning)\n",
      "[I 2018-12-05 17:25:31,967] Finished a trial resulted in value: 0.060049019607843146. Current best value is 0.02614379084967322 with parameters: {'classifier': 'RandomForest', 'rf_max_depth': 17.174755975846097}.\n",
      "/Users/ikokpro/.pyenv/versions/anaconda3-5.2.0/lib/python3.6/site-packages/sklearn/model_selection/_split.py:2053: FutureWarning: You should specify a value for 'cv' instead of relying on the default value. The default value will change from 3 to 5 in version 0.22.\n",
      "  warnings.warn(CV_WARNING, FutureWarning)\n",
      "[I 2018-12-05 17:25:31,984] Finished a trial resulted in value: 0.039215686274509776. Current best value is 0.02614379084967322 with parameters: {'classifier': 'RandomForest', 'rf_max_depth': 17.174755975846097}.\n",
      "/Users/ikokpro/.pyenv/versions/anaconda3-5.2.0/lib/python3.6/site-packages/sklearn/model_selection/_split.py:2053: FutureWarning: You should specify a value for 'cv' instead of relying on the default value. The default value will change from 3 to 5 in version 0.22.\n",
      "  warnings.warn(CV_WARNING, FutureWarning)\n",
      "[I 2018-12-05 17:25:32,010] Finished a trial resulted in value: 0.046160130718954306. Current best value is 0.02614379084967322 with parameters: {'classifier': 'RandomForest', 'rf_max_depth': 17.174755975846097}.\n",
      "/Users/ikokpro/.pyenv/versions/anaconda3-5.2.0/lib/python3.6/site-packages/sklearn/model_selection/_split.py:2053: FutureWarning: You should specify a value for 'cv' instead of relying on the default value. The default value will change from 3 to 5 in version 0.22.\n",
      "  warnings.warn(CV_WARNING, FutureWarning)\n",
      "[I 2018-12-05 17:25:32,038] Finished a trial resulted in value: 0.0326797385620915. Current best value is 0.02614379084967322 with parameters: {'classifier': 'RandomForest', 'rf_max_depth': 17.174755975846097}.\n",
      "/Users/ikokpro/.pyenv/versions/anaconda3-5.2.0/lib/python3.6/site-packages/sklearn/model_selection/_split.py:2053: FutureWarning: You should specify a value for 'cv' instead of relying on the default value. The default value will change from 3 to 5 in version 0.22.\n",
      "  warnings.warn(CV_WARNING, FutureWarning)\n",
      "[I 2018-12-05 17:25:32,063] Finished a trial resulted in value: 0.03308823529411775. Current best value is 0.02614379084967322 with parameters: {'classifier': 'RandomForest', 'rf_max_depth': 17.174755975846097}.\n",
      "/Users/ikokpro/.pyenv/versions/anaconda3-5.2.0/lib/python3.6/site-packages/sklearn/model_selection/_split.py:2053: FutureWarning: You should specify a value for 'cv' instead of relying on the default value. The default value will change from 3 to 5 in version 0.22.\n",
      "  warnings.warn(CV_WARNING, FutureWarning)\n",
      "[I 2018-12-05 17:25:32,087] Finished a trial resulted in value: 0.046160130718954306. Current best value is 0.02614379084967322 with parameters: {'classifier': 'RandomForest', 'rf_max_depth': 17.174755975846097}.\n",
      "/Users/ikokpro/.pyenv/versions/anaconda3-5.2.0/lib/python3.6/site-packages/sklearn/model_selection/_split.py:2053: FutureWarning: You should specify a value for 'cv' instead of relying on the default value. The default value will change from 3 to 5 in version 0.22.\n",
      "  warnings.warn(CV_WARNING, FutureWarning)\n",
      "[I 2018-12-05 17:25:32,110] Finished a trial resulted in value: 0.04656862745098034. Current best value is 0.02614379084967322 with parameters: {'classifier': 'RandomForest', 'rf_max_depth': 17.174755975846097}.\n",
      "/Users/ikokpro/.pyenv/versions/anaconda3-5.2.0/lib/python3.6/site-packages/sklearn/model_selection/_split.py:2053: FutureWarning: You should specify a value for 'cv' instead of relying on the default value. The default value will change from 3 to 5 in version 0.22.\n",
      "  warnings.warn(CV_WARNING, FutureWarning)\n",
      "[I 2018-12-05 17:25:32,127] Finished a trial resulted in value: 0.02614379084967322. Current best value is 0.02614379084967322 with parameters: {'classifier': 'RandomForest', 'rf_max_depth': 17.174755975846097}.\n",
      "/Users/ikokpro/.pyenv/versions/anaconda3-5.2.0/lib/python3.6/site-packages/sklearn/model_selection/_split.py:2053: FutureWarning: You should specify a value for 'cv' instead of relying on the default value. The default value will change from 3 to 5 in version 0.22.\n",
      "  warnings.warn(CV_WARNING, FutureWarning)\n",
      "[I 2018-12-05 17:25:32,145] Finished a trial resulted in value: 0.06576797385620914. Current best value is 0.02614379084967322 with parameters: {'classifier': 'RandomForest', 'rf_max_depth': 17.174755975846097}.\n",
      "/Users/ikokpro/.pyenv/versions/anaconda3-5.2.0/lib/python3.6/site-packages/sklearn/model_selection/_split.py:2053: FutureWarning: You should specify a value for 'cv' instead of relying on the default value. The default value will change from 3 to 5 in version 0.22.\n",
      "  warnings.warn(CV_WARNING, FutureWarning)\n"
     ]
    },
    {
     "name": "stderr",
     "output_type": "stream",
     "text": [
      "[I 2018-12-05 17:25:32,163] Finished a trial resulted in value: 0.026552287581699363. Current best value is 0.02614379084967322 with parameters: {'classifier': 'RandomForest', 'rf_max_depth': 17.174755975846097}.\n",
      "/Users/ikokpro/.pyenv/versions/anaconda3-5.2.0/lib/python3.6/site-packages/sklearn/model_selection/_split.py:2053: FutureWarning: You should specify a value for 'cv' instead of relying on the default value. The default value will change from 3 to 5 in version 0.22.\n",
      "  warnings.warn(CV_WARNING, FutureWarning)\n",
      "[I 2018-12-05 17:25:32,180] Finished a trial resulted in value: 0.019607843137254832. Current best value is 0.019607843137254832 with parameters: {'classifier': 'SVC', 'svc_c': 4.576773987921341}.\n",
      "/Users/ikokpro/.pyenv/versions/anaconda3-5.2.0/lib/python3.6/site-packages/sklearn/model_selection/_split.py:2053: FutureWarning: You should specify a value for 'cv' instead of relying on the default value. The default value will change from 3 to 5 in version 0.22.\n",
      "  warnings.warn(CV_WARNING, FutureWarning)\n",
      "[I 2018-12-05 17:25:32,199] Finished a trial resulted in value: 0.06576797385620914. Current best value is 0.019607843137254832 with parameters: {'classifier': 'SVC', 'svc_c': 4.576773987921341}.\n",
      "/Users/ikokpro/.pyenv/versions/anaconda3-5.2.0/lib/python3.6/site-packages/sklearn/model_selection/_split.py:2053: FutureWarning: You should specify a value for 'cv' instead of relying on the default value. The default value will change from 3 to 5 in version 0.22.\n",
      "  warnings.warn(CV_WARNING, FutureWarning)\n",
      "[I 2018-12-05 17:25:32,217] Finished a trial resulted in value: 0.060049019607843146. Current best value is 0.019607843137254832 with parameters: {'classifier': 'SVC', 'svc_c': 4.576773987921341}.\n",
      "/Users/ikokpro/.pyenv/versions/anaconda3-5.2.0/lib/python3.6/site-packages/sklearn/model_selection/_split.py:2053: FutureWarning: You should specify a value for 'cv' instead of relying on the default value. The default value will change from 3 to 5 in version 0.22.\n",
      "  warnings.warn(CV_WARNING, FutureWarning)\n",
      "[I 2018-12-05 17:25:32,235] Finished a trial resulted in value: 0.0326797385620915. Current best value is 0.019607843137254832 with parameters: {'classifier': 'SVC', 'svc_c': 4.576773987921341}.\n",
      "/Users/ikokpro/.pyenv/versions/anaconda3-5.2.0/lib/python3.6/site-packages/sklearn/model_selection/_split.py:2053: FutureWarning: You should specify a value for 'cv' instead of relying on the default value. The default value will change from 3 to 5 in version 0.22.\n",
      "  warnings.warn(CV_WARNING, FutureWarning)\n",
      "[I 2018-12-05 17:25:32,253] Finished a trial resulted in value: 0.019607843137254832. Current best value is 0.019607843137254832 with parameters: {'classifier': 'SVC', 'svc_c': 4.576773987921341}.\n",
      "/Users/ikokpro/.pyenv/versions/anaconda3-5.2.0/lib/python3.6/site-packages/sklearn/model_selection/_split.py:2053: FutureWarning: You should specify a value for 'cv' instead of relying on the default value. The default value will change from 3 to 5 in version 0.22.\n",
      "  warnings.warn(CV_WARNING, FutureWarning)\n",
      "[I 2018-12-05 17:25:32,275] Finished a trial resulted in value: 0.06576797385620914. Current best value is 0.019607843137254832 with parameters: {'classifier': 'SVC', 'svc_c': 4.576773987921341}.\n",
      "/Users/ikokpro/.pyenv/versions/anaconda3-5.2.0/lib/python3.6/site-packages/sklearn/model_selection/_split.py:2053: FutureWarning: You should specify a value for 'cv' instead of relying on the default value. The default value will change from 3 to 5 in version 0.22.\n",
      "  warnings.warn(CV_WARNING, FutureWarning)\n",
      "[I 2018-12-05 17:25:32,295] Finished a trial resulted in value: 0.020016339869281086. Current best value is 0.019607843137254832 with parameters: {'classifier': 'SVC', 'svc_c': 4.576773987921341}.\n",
      "/Users/ikokpro/.pyenv/versions/anaconda3-5.2.0/lib/python3.6/site-packages/sklearn/model_selection/_split.py:2053: FutureWarning: You should specify a value for 'cv' instead of relying on the default value. The default value will change from 3 to 5 in version 0.22.\n",
      "  warnings.warn(CV_WARNING, FutureWarning)\n",
      "[I 2018-12-05 17:25:32,314] Finished a trial resulted in value: 0.046160130718954306. Current best value is 0.019607843137254832 with parameters: {'classifier': 'SVC', 'svc_c': 4.576773987921341}.\n",
      "/Users/ikokpro/.pyenv/versions/anaconda3-5.2.0/lib/python3.6/site-packages/sklearn/model_selection/_split.py:2053: FutureWarning: You should specify a value for 'cv' instead of relying on the default value. The default value will change from 3 to 5 in version 0.22.\n",
      "  warnings.warn(CV_WARNING, FutureWarning)\n",
      "[I 2018-12-05 17:25:32,332] Finished a trial resulted in value: 0.03308823529411764. Current best value is 0.019607843137254832 with parameters: {'classifier': 'SVC', 'svc_c': 4.576773987921341}.\n",
      "/Users/ikokpro/.pyenv/versions/anaconda3-5.2.0/lib/python3.6/site-packages/sklearn/model_selection/_split.py:2053: FutureWarning: You should specify a value for 'cv' instead of relying on the default value. The default value will change from 3 to 5 in version 0.22.\n",
      "  warnings.warn(CV_WARNING, FutureWarning)\n",
      "[I 2018-12-05 17:25:32,351] Finished a trial resulted in value: 0.03308823529411764. Current best value is 0.019607843137254832 with parameters: {'classifier': 'SVC', 'svc_c': 4.576773987921341}.\n",
      "/Users/ikokpro/.pyenv/versions/anaconda3-5.2.0/lib/python3.6/site-packages/sklearn/model_selection/_split.py:2053: FutureWarning: You should specify a value for 'cv' instead of relying on the default value. The default value will change from 3 to 5 in version 0.22.\n",
      "  warnings.warn(CV_WARNING, FutureWarning)\n",
      "[I 2018-12-05 17:25:32,370] Finished a trial resulted in value: 0.03308823529411764. Current best value is 0.019607843137254832 with parameters: {'classifier': 'SVC', 'svc_c': 4.576773987921341}.\n",
      "/Users/ikokpro/.pyenv/versions/anaconda3-5.2.0/lib/python3.6/site-packages/sklearn/model_selection/_split.py:2053: FutureWarning: You should specify a value for 'cv' instead of relying on the default value. The default value will change from 3 to 5 in version 0.22.\n",
      "  warnings.warn(CV_WARNING, FutureWarning)\n",
      "[I 2018-12-05 17:25:32,389] Finished a trial resulted in value: 0.06576797385620914. Current best value is 0.019607843137254832 with parameters: {'classifier': 'SVC', 'svc_c': 4.576773987921341}.\n",
      "/Users/ikokpro/.pyenv/versions/anaconda3-5.2.0/lib/python3.6/site-packages/sklearn/model_selection/_split.py:2053: FutureWarning: You should specify a value for 'cv' instead of relying on the default value. The default value will change from 3 to 5 in version 0.22.\n",
      "  warnings.warn(CV_WARNING, FutureWarning)\n",
      "[I 2018-12-05 17:25:32,407] Finished a trial resulted in value: 0.06576797385620914. Current best value is 0.019607843137254832 with parameters: {'classifier': 'SVC', 'svc_c': 4.576773987921341}.\n",
      "/Users/ikokpro/.pyenv/versions/anaconda3-5.2.0/lib/python3.6/site-packages/sklearn/model_selection/_split.py:2053: FutureWarning: You should specify a value for 'cv' instead of relying on the default value. The default value will change from 3 to 5 in version 0.22.\n",
      "  warnings.warn(CV_WARNING, FutureWarning)\n",
      "[I 2018-12-05 17:25:32,426] Finished a trial resulted in value: 0.03308823529411764. Current best value is 0.019607843137254832 with parameters: {'classifier': 'SVC', 'svc_c': 4.576773987921341}.\n",
      "/Users/ikokpro/.pyenv/versions/anaconda3-5.2.0/lib/python3.6/site-packages/sklearn/model_selection/_split.py:2053: FutureWarning: You should specify a value for 'cv' instead of relying on the default value. The default value will change from 3 to 5 in version 0.22.\n",
      "  warnings.warn(CV_WARNING, FutureWarning)\n",
      "[I 2018-12-05 17:25:32,445] Finished a trial resulted in value: 0.03308823529411764. Current best value is 0.019607843137254832 with parameters: {'classifier': 'SVC', 'svc_c': 4.576773987921341}.\n",
      "/Users/ikokpro/.pyenv/versions/anaconda3-5.2.0/lib/python3.6/site-packages/sklearn/model_selection/_split.py:2053: FutureWarning: You should specify a value for 'cv' instead of relying on the default value. The default value will change from 3 to 5 in version 0.22.\n",
      "  warnings.warn(CV_WARNING, FutureWarning)\n"
     ]
    },
    {
     "name": "stderr",
     "output_type": "stream",
     "text": [
      "[I 2018-12-05 17:25:32,464] Finished a trial resulted in value: 0.02614379084967322. Current best value is 0.019607843137254832 with parameters: {'classifier': 'SVC', 'svc_c': 4.576773987921341}.\n",
      "/Users/ikokpro/.pyenv/versions/anaconda3-5.2.0/lib/python3.6/site-packages/sklearn/model_selection/_split.py:2053: FutureWarning: You should specify a value for 'cv' instead of relying on the default value. The default value will change from 3 to 5 in version 0.22.\n",
      "  warnings.warn(CV_WARNING, FutureWarning)\n",
      "[I 2018-12-05 17:25:32,485] Finished a trial resulted in value: 0.039215686274509776. Current best value is 0.019607843137254832 with parameters: {'classifier': 'SVC', 'svc_c': 4.576773987921341}.\n",
      "/Users/ikokpro/.pyenv/versions/anaconda3-5.2.0/lib/python3.6/site-packages/sklearn/model_selection/_split.py:2053: FutureWarning: You should specify a value for 'cv' instead of relying on the default value. The default value will change from 3 to 5 in version 0.22.\n",
      "  warnings.warn(CV_WARNING, FutureWarning)\n",
      "[I 2018-12-05 17:25:32,503] Finished a trial resulted in value: 0.026552287581699363. Current best value is 0.019607843137254832 with parameters: {'classifier': 'SVC', 'svc_c': 4.576773987921341}.\n",
      "/Users/ikokpro/.pyenv/versions/anaconda3-5.2.0/lib/python3.6/site-packages/sklearn/model_selection/_split.py:2053: FutureWarning: You should specify a value for 'cv' instead of relying on the default value. The default value will change from 3 to 5 in version 0.22.\n",
      "  warnings.warn(CV_WARNING, FutureWarning)\n",
      "[I 2018-12-05 17:25:32,526] Finished a trial resulted in value: 0.03962418300653603. Current best value is 0.019607843137254832 with parameters: {'classifier': 'SVC', 'svc_c': 4.576773987921341}.\n",
      "/Users/ikokpro/.pyenv/versions/anaconda3-5.2.0/lib/python3.6/site-packages/sklearn/model_selection/_split.py:2053: FutureWarning: You should specify a value for 'cv' instead of relying on the default value. The default value will change from 3 to 5 in version 0.22.\n",
      "  warnings.warn(CV_WARNING, FutureWarning)\n",
      "[I 2018-12-05 17:25:32,547] Finished a trial resulted in value: 0.026552287581699363. Current best value is 0.019607843137254832 with parameters: {'classifier': 'SVC', 'svc_c': 4.576773987921341}.\n",
      "/Users/ikokpro/.pyenv/versions/anaconda3-5.2.0/lib/python3.6/site-packages/sklearn/model_selection/_split.py:2053: FutureWarning: You should specify a value for 'cv' instead of relying on the default value. The default value will change from 3 to 5 in version 0.22.\n",
      "  warnings.warn(CV_WARNING, FutureWarning)\n",
      "[I 2018-12-05 17:25:32,567] Finished a trial resulted in value: 0.0326797385620915. Current best value is 0.019607843137254832 with parameters: {'classifier': 'SVC', 'svc_c': 4.576773987921341}.\n",
      "/Users/ikokpro/.pyenv/versions/anaconda3-5.2.0/lib/python3.6/site-packages/sklearn/model_selection/_split.py:2053: FutureWarning: You should specify a value for 'cv' instead of relying on the default value. The default value will change from 3 to 5 in version 0.22.\n",
      "  warnings.warn(CV_WARNING, FutureWarning)\n",
      "[I 2018-12-05 17:25:32,588] Finished a trial resulted in value: 0.026552287581699363. Current best value is 0.019607843137254832 with parameters: {'classifier': 'SVC', 'svc_c': 4.576773987921341}.\n",
      "/Users/ikokpro/.pyenv/versions/anaconda3-5.2.0/lib/python3.6/site-packages/sklearn/model_selection/_split.py:2053: FutureWarning: You should specify a value for 'cv' instead of relying on the default value. The default value will change from 3 to 5 in version 0.22.\n",
      "  warnings.warn(CV_WARNING, FutureWarning)\n",
      "[I 2018-12-05 17:25:32,607] Finished a trial resulted in value: 0.019607843137254832. Current best value is 0.019607843137254832 with parameters: {'classifier': 'SVC', 'svc_c': 4.576773987921341}.\n",
      "/Users/ikokpro/.pyenv/versions/anaconda3-5.2.0/lib/python3.6/site-packages/sklearn/model_selection/_split.py:2053: FutureWarning: You should specify a value for 'cv' instead of relying on the default value. The default value will change from 3 to 5 in version 0.22.\n",
      "  warnings.warn(CV_WARNING, FutureWarning)\n",
      "[I 2018-12-05 17:25:32,628] Finished a trial resulted in value: 0.060049019607843146. Current best value is 0.019607843137254832 with parameters: {'classifier': 'SVC', 'svc_c': 4.576773987921341}.\n",
      "/Users/ikokpro/.pyenv/versions/anaconda3-5.2.0/lib/python3.6/site-packages/sklearn/model_selection/_split.py:2053: FutureWarning: You should specify a value for 'cv' instead of relying on the default value. The default value will change from 3 to 5 in version 0.22.\n",
      "  warnings.warn(CV_WARNING, FutureWarning)\n",
      "[I 2018-12-05 17:25:32,648] Finished a trial resulted in value: 0.026552287581699363. Current best value is 0.019607843137254832 with parameters: {'classifier': 'SVC', 'svc_c': 4.576773987921341}.\n",
      "/Users/ikokpro/.pyenv/versions/anaconda3-5.2.0/lib/python3.6/site-packages/sklearn/model_selection/_split.py:2053: FutureWarning: You should specify a value for 'cv' instead of relying on the default value. The default value will change from 3 to 5 in version 0.22.\n",
      "  warnings.warn(CV_WARNING, FutureWarning)\n",
      "[I 2018-12-05 17:25:32,668] Finished a trial resulted in value: 0.019607843137254832. Current best value is 0.019607843137254832 with parameters: {'classifier': 'SVC', 'svc_c': 4.576773987921341}.\n",
      "/Users/ikokpro/.pyenv/versions/anaconda3-5.2.0/lib/python3.6/site-packages/sklearn/model_selection/_split.py:2053: FutureWarning: You should specify a value for 'cv' instead of relying on the default value. The default value will change from 3 to 5 in version 0.22.\n",
      "  warnings.warn(CV_WARNING, FutureWarning)\n",
      "[I 2018-12-05 17:25:32,688] Finished a trial resulted in value: 0.019607843137254832. Current best value is 0.019607843137254832 with parameters: {'classifier': 'SVC', 'svc_c': 4.576773987921341}.\n",
      "/Users/ikokpro/.pyenv/versions/anaconda3-5.2.0/lib/python3.6/site-packages/sklearn/model_selection/_split.py:2053: FutureWarning: You should specify a value for 'cv' instead of relying on the default value. The default value will change from 3 to 5 in version 0.22.\n",
      "  warnings.warn(CV_WARNING, FutureWarning)\n",
      "[I 2018-12-05 17:25:32,708] Finished a trial resulted in value: 0.03308823529411764. Current best value is 0.019607843137254832 with parameters: {'classifier': 'SVC', 'svc_c': 4.576773987921341}.\n",
      "/Users/ikokpro/.pyenv/versions/anaconda3-5.2.0/lib/python3.6/site-packages/sklearn/model_selection/_split.py:2053: FutureWarning: You should specify a value for 'cv' instead of relying on the default value. The default value will change from 3 to 5 in version 0.22.\n",
      "  warnings.warn(CV_WARNING, FutureWarning)\n",
      "[I 2018-12-05 17:25:32,730] Finished a trial resulted in value: 0.019607843137254832. Current best value is 0.019607843137254832 with parameters: {'classifier': 'SVC', 'svc_c': 4.576773987921341}.\n",
      "/Users/ikokpro/.pyenv/versions/anaconda3-5.2.0/lib/python3.6/site-packages/sklearn/model_selection/_split.py:2053: FutureWarning: You should specify a value for 'cv' instead of relying on the default value. The default value will change from 3 to 5 in version 0.22.\n",
      "  warnings.warn(CV_WARNING, FutureWarning)\n",
      "[I 2018-12-05 17:25:32,752] Finished a trial resulted in value: 0.060049019607843146. Current best value is 0.019607843137254832 with parameters: {'classifier': 'SVC', 'svc_c': 4.576773987921341}.\n",
      "/Users/ikokpro/.pyenv/versions/anaconda3-5.2.0/lib/python3.6/site-packages/sklearn/model_selection/_split.py:2053: FutureWarning: You should specify a value for 'cv' instead of relying on the default value. The default value will change from 3 to 5 in version 0.22.\n",
      "  warnings.warn(CV_WARNING, FutureWarning)\n",
      "[I 2018-12-05 17:25:32,774] Finished a trial resulted in value: 0.06576797385620914. Current best value is 0.019607843137254832 with parameters: {'classifier': 'SVC', 'svc_c': 4.576773987921341}.\n",
      "/Users/ikokpro/.pyenv/versions/anaconda3-5.2.0/lib/python3.6/site-packages/sklearn/model_selection/_split.py:2053: FutureWarning: You should specify a value for 'cv' instead of relying on the default value. The default value will change from 3 to 5 in version 0.22.\n",
      "  warnings.warn(CV_WARNING, FutureWarning)\n"
     ]
    },
    {
     "name": "stderr",
     "output_type": "stream",
     "text": [
      "[I 2018-12-05 17:25:32,796] Finished a trial resulted in value: 0.06576797385620914. Current best value is 0.019607843137254832 with parameters: {'classifier': 'SVC', 'svc_c': 4.576773987921341}.\n",
      "/Users/ikokpro/.pyenv/versions/anaconda3-5.2.0/lib/python3.6/site-packages/sklearn/model_selection/_split.py:2053: FutureWarning: You should specify a value for 'cv' instead of relying on the default value. The default value will change from 3 to 5 in version 0.22.\n",
      "  warnings.warn(CV_WARNING, FutureWarning)\n",
      "[I 2018-12-05 17:25:32,819] Finished a trial resulted in value: 0.060049019607843146. Current best value is 0.019607843137254832 with parameters: {'classifier': 'SVC', 'svc_c': 4.576773987921341}.\n",
      "/Users/ikokpro/.pyenv/versions/anaconda3-5.2.0/lib/python3.6/site-packages/sklearn/model_selection/_split.py:2053: FutureWarning: You should specify a value for 'cv' instead of relying on the default value. The default value will change from 3 to 5 in version 0.22.\n",
      "  warnings.warn(CV_WARNING, FutureWarning)\n",
      "[I 2018-12-05 17:25:32,840] Finished a trial resulted in value: 0.03308823529411764. Current best value is 0.019607843137254832 with parameters: {'classifier': 'SVC', 'svc_c': 4.576773987921341}.\n",
      "/Users/ikokpro/.pyenv/versions/anaconda3-5.2.0/lib/python3.6/site-packages/sklearn/model_selection/_split.py:2053: FutureWarning: You should specify a value for 'cv' instead of relying on the default value. The default value will change from 3 to 5 in version 0.22.\n",
      "  warnings.warn(CV_WARNING, FutureWarning)\n",
      "[I 2018-12-05 17:25:32,861] Finished a trial resulted in value: 0.026552287581699363. Current best value is 0.019607843137254832 with parameters: {'classifier': 'SVC', 'svc_c': 4.576773987921341}.\n"
     ]
    },
    {
     "name": "stdout",
     "output_type": "stream",
     "text": [
      "FrozenTrial(trial_id=65, state=<TrialState.COMPLETE: 1>, value=0.019607843137254832, datetime_start=datetime.datetime(2018, 12, 5, 17, 25, 32, 165330), datetime_complete=datetime.datetime(2018, 12, 5, 17, 25, 32, 177660), params={'classifier': 'SVC', 'svc_c': 4.576773987921341}, user_attrs={}, system_attrs={}, intermediate_values={}, params_in_internal_repr={'classifier': 0, 'svc_c': 4.576773987921341})\n"
     ]
    }
   ],
   "source": [
    "study = optuna.create_study()\n",
    "study.optimize(objective, n_trials=100)\n",
    "print(study.best_trial)"
   ]
  },
  {
   "cell_type": "markdown",
   "metadata": {},
   "source": [
    "<a name=\"xgboost_cancer\"></a>\n",
    "### xgboostの実装例 (cancer)\n",
    "- [コードのソース(github)](https://github.com/pfnet/optuna/blob/master/examples/xgboost_simple.py)"
   ]
  },
  {
   "cell_type": "code",
   "execution_count": 14,
   "metadata": {},
   "outputs": [],
   "source": [
    "import numpy as np\n",
    "import sklearn.datasets\n",
    "import sklearn.metrics\n",
    "from sklearn.model_selection import train_test_split\n",
    "import xgboost as xgb\n",
    "\n",
    "\n",
    "def objective(trial):\n",
    "    # cancer データの読み込み\n",
    "    (data, target) = sklearn.datasets.load_breast_cancer(return_X_y=True)\n",
    "    train_x, test_x, train_y, test_y = train_test_split(data, target, test_size=0.25)\n",
    "    \n",
    "    # xgb.DMatrixに変換\n",
    "    dtrain = xgb.DMatrix(train_x, label=train_y)\n",
    "    dtest = xgb.DMatrix(test_x, label=test_y)\n",
    "\n",
    "    # 全体で共通の探索領域の定義\n",
    "    n_round = trial.suggest_int('n_round', 1, 9)\n",
    "    param = {'silent': 1, 'objective': 'binary:logistic',\n",
    "             'booster': trial.suggest_categorical('booster', ['gbtree', 'gblinear', 'dart']),\n",
    "             'lambda': trial.suggest_loguniform('lambda', 1e-8, 1.0),\n",
    "             'alpha': trial.suggest_loguniform('alpha', 1e-8, 1.0)\n",
    "             }\n",
    "    \n",
    "    # アルゴリズムごとの探索領域の定義\n",
    "    if param['booster'] == 'gbtree' or param['booster'] == 'dart':\n",
    "        param['max_depth'] = trial.suggest_int('max_depth', 1, 9)\n",
    "        param['ets'] = trial.suggest_loguniform('eta', 1e-8, 1.0)\n",
    "        param['gamma'] = trial.suggest_loguniform('gamma', 1e-8, 1.0)\n",
    "        param['grow_policy'] = trial.suggest_categorical('grow_policy', ['depthwise', 'lossguide'])\n",
    "    if param['booster'] == 'dart':\n",
    "        param['sample_type'] = trial.suggest_categorical('sample_type', ['uniform', 'weighted'])\n",
    "        param['normalize_type'] = trial.suggest_categorical('normalize_type', ['tree', 'forest'])\n",
    "        param['rate_drop'] = trial.suggest_loguniform('rate_drop', 1e-8, 1.0)\n",
    "        param['skip_drop'] = trial.suggest_loguniform('skip_drop', 1e-8, 1.0)\n",
    "\n",
    "    # 学習, 予測, 正答率の計算, 目的関数はaccuracy\n",
    "    bst = xgb.train(param, dtrain, n_round)\n",
    "    preds = bst.predict(dtest)\n",
    "    pred_labels = np.rint(preds) # 四捨五入に近い関数\n",
    "    accuracy = sklearn.metrics.accuracy_score(test_y, pred_labels)\n",
    "    return 1.0 - accuracy"
   ]
  },
  {
   "cell_type": "code",
   "execution_count": 15,
   "metadata": {},
   "outputs": [
    {
     "name": "stderr",
     "output_type": "stream",
     "text": [
      "[I 2018-12-05 17:25:32,900] Finished a trial resulted in value: 0.1048951048951049. Current best value is 0.1048951048951049 with parameters: {'n_round': 5, 'booster': 'gbtree', 'lambda': 3.0812810609967837e-06, 'alpha': 0.0007952040561412241, 'max_depth': 8, 'eta': 5.935834294937322e-06, 'gamma': 9.448345139512591e-06, 'grow_policy': 'depthwise'}.\n",
      "[I 2018-12-05 17:25:32,917] Finished a trial resulted in value: 0.05594405594405594. Current best value is 0.05594405594405594 with parameters: {'n_round': 5, 'booster': 'gbtree', 'lambda': 0.007874567611446453, 'alpha': 3.836066071914473e-05, 'max_depth': 8, 'eta': 0.2432759753625137, 'gamma': 7.826437848392463e-05, 'grow_policy': 'lossguide'}.\n",
      "[I 2018-12-05 17:25:32,930] Finished a trial resulted in value: 0.06293706293706292. Current best value is 0.05594405594405594 with parameters: {'n_round': 5, 'booster': 'gbtree', 'lambda': 0.007874567611446453, 'alpha': 3.836066071914473e-05, 'max_depth': 8, 'eta': 0.2432759753625137, 'gamma': 7.826437848392463e-05, 'grow_policy': 'lossguide'}.\n",
      "[I 2018-12-05 17:25:32,950] Finished a trial resulted in value: 0.04195804195804198. Current best value is 0.04195804195804198 with parameters: {'n_round': 9, 'booster': 'gbtree', 'lambda': 5.722667417230068e-07, 'alpha': 0.937388990885645, 'max_depth': 4, 'eta': 2.3346396563573355e-08, 'gamma': 6.318704032047599e-07, 'grow_policy': 'depthwise'}.\n",
      "[I 2018-12-05 17:25:32,963] Finished a trial resulted in value: 0.06293706293706292. Current best value is 0.04195804195804198 with parameters: {'n_round': 9, 'booster': 'gbtree', 'lambda': 5.722667417230068e-07, 'alpha': 0.937388990885645, 'max_depth': 4, 'eta': 2.3346396563573355e-08, 'gamma': 6.318704032047599e-07, 'grow_policy': 'depthwise'}.\n",
      "[I 2018-12-05 17:25:32,973] Finished a trial resulted in value: 0.08391608391608396. Current best value is 0.04195804195804198 with parameters: {'n_round': 9, 'booster': 'gbtree', 'lambda': 5.722667417230068e-07, 'alpha': 0.937388990885645, 'max_depth': 4, 'eta': 2.3346396563573355e-08, 'gamma': 6.318704032047599e-07, 'grow_policy': 'depthwise'}.\n",
      "[I 2018-12-05 17:25:32,986] Finished a trial resulted in value: 0.09090909090909094. Current best value is 0.04195804195804198 with parameters: {'n_round': 9, 'booster': 'gbtree', 'lambda': 5.722667417230068e-07, 'alpha': 0.937388990885645, 'max_depth': 4, 'eta': 2.3346396563573355e-08, 'gamma': 6.318704032047599e-07, 'grow_policy': 'depthwise'}.\n",
      "[I 2018-12-05 17:25:33,005] Finished a trial resulted in value: 0.09090909090909094. Current best value is 0.04195804195804198 with parameters: {'n_round': 9, 'booster': 'gbtree', 'lambda': 5.722667417230068e-07, 'alpha': 0.937388990885645, 'max_depth': 4, 'eta': 2.3346396563573355e-08, 'gamma': 6.318704032047599e-07, 'grow_policy': 'depthwise'}.\n",
      "[I 2018-12-05 17:25:33,028] Finished a trial resulted in value: 0.06293706293706292. Current best value is 0.04195804195804198 with parameters: {'n_round': 9, 'booster': 'gbtree', 'lambda': 5.722667417230068e-07, 'alpha': 0.937388990885645, 'max_depth': 4, 'eta': 2.3346396563573355e-08, 'gamma': 6.318704032047599e-07, 'grow_policy': 'depthwise'}.\n",
      "[I 2018-12-05 17:25:33,043] Finished a trial resulted in value: 0.14685314685314688. Current best value is 0.04195804195804198 with parameters: {'n_round': 9, 'booster': 'gbtree', 'lambda': 5.722667417230068e-07, 'alpha': 0.937388990885645, 'max_depth': 4, 'eta': 2.3346396563573355e-08, 'gamma': 6.318704032047599e-07, 'grow_policy': 'depthwise'}.\n",
      "[I 2018-12-05 17:25:33,072] Finished a trial resulted in value: 0.04195804195804198. Current best value is 0.04195804195804198 with parameters: {'n_round': 9, 'booster': 'gbtree', 'lambda': 5.722667417230068e-07, 'alpha': 0.937388990885645, 'max_depth': 4, 'eta': 2.3346396563573355e-08, 'gamma': 6.318704032047599e-07, 'grow_policy': 'depthwise'}.\n",
      "[I 2018-12-05 17:25:33,098] Finished a trial resulted in value: 0.04895104895104896. Current best value is 0.04195804195804198 with parameters: {'n_round': 9, 'booster': 'gbtree', 'lambda': 5.722667417230068e-07, 'alpha': 0.937388990885645, 'max_depth': 4, 'eta': 2.3346396563573355e-08, 'gamma': 6.318704032047599e-07, 'grow_policy': 'depthwise'}.\n",
      "[I 2018-12-05 17:25:33,127] Finished a trial resulted in value: 0.04895104895104896. Current best value is 0.04195804195804198 with parameters: {'n_round': 9, 'booster': 'gbtree', 'lambda': 5.722667417230068e-07, 'alpha': 0.937388990885645, 'max_depth': 4, 'eta': 2.3346396563573355e-08, 'gamma': 6.318704032047599e-07, 'grow_policy': 'depthwise'}.\n",
      "[I 2018-12-05 17:25:33,160] Finished a trial resulted in value: 0.04195804195804198. Current best value is 0.04195804195804198 with parameters: {'n_round': 9, 'booster': 'gbtree', 'lambda': 5.722667417230068e-07, 'alpha': 0.937388990885645, 'max_depth': 4, 'eta': 2.3346396563573355e-08, 'gamma': 6.318704032047599e-07, 'grow_policy': 'depthwise'}.\n",
      "[I 2018-12-05 17:25:33,191] Finished a trial resulted in value: 0.05594405594405594. Current best value is 0.04195804195804198 with parameters: {'n_round': 9, 'booster': 'gbtree', 'lambda': 5.722667417230068e-07, 'alpha': 0.937388990885645, 'max_depth': 4, 'eta': 2.3346396563573355e-08, 'gamma': 6.318704032047599e-07, 'grow_policy': 'depthwise'}.\n",
      "[I 2018-12-05 17:25:33,223] Finished a trial resulted in value: 0.05594405594405594. Current best value is 0.04195804195804198 with parameters: {'n_round': 9, 'booster': 'gbtree', 'lambda': 5.722667417230068e-07, 'alpha': 0.937388990885645, 'max_depth': 4, 'eta': 2.3346396563573355e-08, 'gamma': 6.318704032047599e-07, 'grow_policy': 'depthwise'}.\n",
      "[I 2018-12-05 17:25:33,243] Finished a trial resulted in value: 0.11888111888111885. Current best value is 0.04195804195804198 with parameters: {'n_round': 9, 'booster': 'gbtree', 'lambda': 5.722667417230068e-07, 'alpha': 0.937388990885645, 'max_depth': 4, 'eta': 2.3346396563573355e-08, 'gamma': 6.318704032047599e-07, 'grow_policy': 'depthwise'}.\n",
      "[I 2018-12-05 17:25:33,279] Finished a trial resulted in value: 0.034965034965035. Current best value is 0.034965034965035 with parameters: {'n_round': 9, 'booster': 'dart', 'lambda': 1.429108283289528e-07, 'alpha': 0.8404241167294455, 'max_depth': 5, 'eta': 5.311472888659225e-08, 'gamma': 1.357139955620966e-07, 'grow_policy': 'depthwise', 'sample_type': 'uniform', 'normalize_type': 'forest', 'rate_drop': 3.662553396019608e-07, 'skip_drop': 7.782137918633948e-06}.\n",
      "[I 2018-12-05 17:25:33,315] Finished a trial resulted in value: 0.034965034965035. Current best value is 0.034965034965035 with parameters: {'n_round': 9, 'booster': 'dart', 'lambda': 1.429108283289528e-07, 'alpha': 0.8404241167294455, 'max_depth': 5, 'eta': 5.311472888659225e-08, 'gamma': 1.357139955620966e-07, 'grow_policy': 'depthwise', 'sample_type': 'uniform', 'normalize_type': 'forest', 'rate_drop': 3.662553396019608e-07, 'skip_drop': 7.782137918633948e-06}.\n",
      "[I 2018-12-05 17:25:33,355] Finished a trial resulted in value: 0.07692307692307687. Current best value is 0.034965034965035 with parameters: {'n_round': 9, 'booster': 'dart', 'lambda': 1.429108283289528e-07, 'alpha': 0.8404241167294455, 'max_depth': 5, 'eta': 5.311472888659225e-08, 'gamma': 1.357139955620966e-07, 'grow_policy': 'depthwise', 'sample_type': 'uniform', 'normalize_type': 'forest', 'rate_drop': 3.662553396019608e-07, 'skip_drop': 7.782137918633948e-06}.\n",
      "[I 2018-12-05 17:25:33,392] Finished a trial resulted in value: 0.04895104895104896. Current best value is 0.034965034965035 with parameters: {'n_round': 9, 'booster': 'dart', 'lambda': 1.429108283289528e-07, 'alpha': 0.8404241167294455, 'max_depth': 5, 'eta': 5.311472888659225e-08, 'gamma': 1.357139955620966e-07, 'grow_policy': 'depthwise', 'sample_type': 'uniform', 'normalize_type': 'forest', 'rate_drop': 3.662553396019608e-07, 'skip_drop': 7.782137918633948e-06}.\n"
     ]
    },
    {
     "name": "stderr",
     "output_type": "stream",
     "text": [
      "[I 2018-12-05 17:25:33,432] Finished a trial resulted in value: 0.034965034965035. Current best value is 0.034965034965035 with parameters: {'n_round': 9, 'booster': 'dart', 'lambda': 1.429108283289528e-07, 'alpha': 0.8404241167294455, 'max_depth': 5, 'eta': 5.311472888659225e-08, 'gamma': 1.357139955620966e-07, 'grow_policy': 'depthwise', 'sample_type': 'uniform', 'normalize_type': 'forest', 'rate_drop': 3.662553396019608e-07, 'skip_drop': 7.782137918633948e-06}.\n",
      "[I 2018-12-05 17:25:33,470] Finished a trial resulted in value: 0.05594405594405594. Current best value is 0.034965034965035 with parameters: {'n_round': 9, 'booster': 'dart', 'lambda': 1.429108283289528e-07, 'alpha': 0.8404241167294455, 'max_depth': 5, 'eta': 5.311472888659225e-08, 'gamma': 1.357139955620966e-07, 'grow_policy': 'depthwise', 'sample_type': 'uniform', 'normalize_type': 'forest', 'rate_drop': 3.662553396019608e-07, 'skip_drop': 7.782137918633948e-06}.\n",
      "[I 2018-12-05 17:25:33,512] Finished a trial resulted in value: 0.05594405594405594. Current best value is 0.034965034965035 with parameters: {'n_round': 9, 'booster': 'dart', 'lambda': 1.429108283289528e-07, 'alpha': 0.8404241167294455, 'max_depth': 5, 'eta': 5.311472888659225e-08, 'gamma': 1.357139955620966e-07, 'grow_policy': 'depthwise', 'sample_type': 'uniform', 'normalize_type': 'forest', 'rate_drop': 3.662553396019608e-07, 'skip_drop': 7.782137918633948e-06}.\n",
      "[I 2018-12-05 17:25:33,558] Finished a trial resulted in value: 0.0699300699300699. Current best value is 0.034965034965035 with parameters: {'n_round': 9, 'booster': 'dart', 'lambda': 1.429108283289528e-07, 'alpha': 0.8404241167294455, 'max_depth': 5, 'eta': 5.311472888659225e-08, 'gamma': 1.357139955620966e-07, 'grow_policy': 'depthwise', 'sample_type': 'uniform', 'normalize_type': 'forest', 'rate_drop': 3.662553396019608e-07, 'skip_drop': 7.782137918633948e-06}.\n",
      "[I 2018-12-05 17:25:33,604] Finished a trial resulted in value: 0.06293706293706292. Current best value is 0.034965034965035 with parameters: {'n_round': 9, 'booster': 'dart', 'lambda': 1.429108283289528e-07, 'alpha': 0.8404241167294455, 'max_depth': 5, 'eta': 5.311472888659225e-08, 'gamma': 1.357139955620966e-07, 'grow_policy': 'depthwise', 'sample_type': 'uniform', 'normalize_type': 'forest', 'rate_drop': 3.662553396019608e-07, 'skip_drop': 7.782137918633948e-06}.\n",
      "[I 2018-12-05 17:25:33,650] Finished a trial resulted in value: 0.020979020979020935. Current best value is 0.020979020979020935 with parameters: {'n_round': 9, 'booster': 'dart', 'lambda': 1.700874990515763e-08, 'alpha': 0.8310427244181965, 'max_depth': 9, 'eta': 1.9728325212679313e-08, 'gamma': 4.7808186722849566e-08, 'grow_policy': 'depthwise', 'sample_type': 'uniform', 'normalize_type': 'forest', 'rate_drop': 1.6291690944835088e-06, 'skip_drop': 2.8573097544398783e-05}.\n",
      "[I 2018-12-05 17:25:33,696] Finished a trial resulted in value: 0.04195804195804198. Current best value is 0.020979020979020935 with parameters: {'n_round': 9, 'booster': 'dart', 'lambda': 1.700874990515763e-08, 'alpha': 0.8310427244181965, 'max_depth': 9, 'eta': 1.9728325212679313e-08, 'gamma': 4.7808186722849566e-08, 'grow_policy': 'depthwise', 'sample_type': 'uniform', 'normalize_type': 'forest', 'rate_drop': 1.6291690944835088e-06, 'skip_drop': 2.8573097544398783e-05}.\n",
      "[I 2018-12-05 17:25:33,736] Finished a trial resulted in value: 0.034965034965035. Current best value is 0.020979020979020935 with parameters: {'n_round': 9, 'booster': 'dart', 'lambda': 1.700874990515763e-08, 'alpha': 0.8310427244181965, 'max_depth': 9, 'eta': 1.9728325212679313e-08, 'gamma': 4.7808186722849566e-08, 'grow_policy': 'depthwise', 'sample_type': 'uniform', 'normalize_type': 'forest', 'rate_drop': 1.6291690944835088e-06, 'skip_drop': 2.8573097544398783e-05}.\n",
      "[I 2018-12-05 17:25:33,757] Finished a trial resulted in value: 0.13286713286713292. Current best value is 0.020979020979020935 with parameters: {'n_round': 9, 'booster': 'dart', 'lambda': 1.700874990515763e-08, 'alpha': 0.8310427244181965, 'max_depth': 9, 'eta': 1.9728325212679313e-08, 'gamma': 4.7808186722849566e-08, 'grow_policy': 'depthwise', 'sample_type': 'uniform', 'normalize_type': 'forest', 'rate_drop': 1.6291690944835088e-06, 'skip_drop': 2.8573097544398783e-05}.\n",
      "[I 2018-12-05 17:25:33,809] Finished a trial resulted in value: 0.0699300699300699. Current best value is 0.020979020979020935 with parameters: {'n_round': 9, 'booster': 'dart', 'lambda': 1.700874990515763e-08, 'alpha': 0.8310427244181965, 'max_depth': 9, 'eta': 1.9728325212679313e-08, 'gamma': 4.7808186722849566e-08, 'grow_policy': 'depthwise', 'sample_type': 'uniform', 'normalize_type': 'forest', 'rate_drop': 1.6291690944835088e-06, 'skip_drop': 2.8573097544398783e-05}.\n",
      "[I 2018-12-05 17:25:33,859] Finished a trial resulted in value: 0.05594405594405594. Current best value is 0.020979020979020935 with parameters: {'n_round': 9, 'booster': 'dart', 'lambda': 1.700874990515763e-08, 'alpha': 0.8310427244181965, 'max_depth': 9, 'eta': 1.9728325212679313e-08, 'gamma': 4.7808186722849566e-08, 'grow_policy': 'depthwise', 'sample_type': 'uniform', 'normalize_type': 'forest', 'rate_drop': 1.6291690944835088e-06, 'skip_drop': 2.8573097544398783e-05}.\n",
      "[I 2018-12-05 17:25:33,903] Finished a trial resulted in value: 0.08391608391608396. Current best value is 0.020979020979020935 with parameters: {'n_round': 9, 'booster': 'dart', 'lambda': 1.700874990515763e-08, 'alpha': 0.8310427244181965, 'max_depth': 9, 'eta': 1.9728325212679313e-08, 'gamma': 4.7808186722849566e-08, 'grow_policy': 'depthwise', 'sample_type': 'uniform', 'normalize_type': 'forest', 'rate_drop': 1.6291690944835088e-06, 'skip_drop': 2.8573097544398783e-05}.\n",
      "[I 2018-12-05 17:25:33,926] Finished a trial resulted in value: 0.15384615384615385. Current best value is 0.020979020979020935 with parameters: {'n_round': 9, 'booster': 'dart', 'lambda': 1.700874990515763e-08, 'alpha': 0.8310427244181965, 'max_depth': 9, 'eta': 1.9728325212679313e-08, 'gamma': 4.7808186722849566e-08, 'grow_policy': 'depthwise', 'sample_type': 'uniform', 'normalize_type': 'forest', 'rate_drop': 1.6291690944835088e-06, 'skip_drop': 2.8573097544398783e-05}.\n",
      "[I 2018-12-05 17:25:33,976] Finished a trial resulted in value: 0.04195804195804198. Current best value is 0.020979020979020935 with parameters: {'n_round': 9, 'booster': 'dart', 'lambda': 1.700874990515763e-08, 'alpha': 0.8310427244181965, 'max_depth': 9, 'eta': 1.9728325212679313e-08, 'gamma': 4.7808186722849566e-08, 'grow_policy': 'depthwise', 'sample_type': 'uniform', 'normalize_type': 'forest', 'rate_drop': 1.6291690944835088e-06, 'skip_drop': 2.8573097544398783e-05}.\n",
      "[I 2018-12-05 17:25:34,026] Finished a trial resulted in value: 0.06293706293706292. Current best value is 0.020979020979020935 with parameters: {'n_round': 9, 'booster': 'dart', 'lambda': 1.700874990515763e-08, 'alpha': 0.8310427244181965, 'max_depth': 9, 'eta': 1.9728325212679313e-08, 'gamma': 4.7808186722849566e-08, 'grow_policy': 'depthwise', 'sample_type': 'uniform', 'normalize_type': 'forest', 'rate_drop': 1.6291690944835088e-06, 'skip_drop': 2.8573097544398783e-05}.\n",
      "[I 2018-12-05 17:25:34,067] Finished a trial resulted in value: 0.06293706293706292. Current best value is 0.020979020979020935 with parameters: {'n_round': 9, 'booster': 'dart', 'lambda': 1.700874990515763e-08, 'alpha': 0.8310427244181965, 'max_depth': 9, 'eta': 1.9728325212679313e-08, 'gamma': 4.7808186722849566e-08, 'grow_policy': 'depthwise', 'sample_type': 'uniform', 'normalize_type': 'forest', 'rate_drop': 1.6291690944835088e-06, 'skip_drop': 2.8573097544398783e-05}.\n",
      "[I 2018-12-05 17:25:34,092] Finished a trial resulted in value: 0.0699300699300699. Current best value is 0.020979020979020935 with parameters: {'n_round': 9, 'booster': 'dart', 'lambda': 1.700874990515763e-08, 'alpha': 0.8310427244181965, 'max_depth': 9, 'eta': 1.9728325212679313e-08, 'gamma': 4.7808186722849566e-08, 'grow_policy': 'depthwise', 'sample_type': 'uniform', 'normalize_type': 'forest', 'rate_drop': 1.6291690944835088e-06, 'skip_drop': 2.8573097544398783e-05}.\n"
     ]
    },
    {
     "name": "stderr",
     "output_type": "stream",
     "text": [
      "[I 2018-12-05 17:25:34,146] Finished a trial resulted in value: 0.04195804195804198. Current best value is 0.020979020979020935 with parameters: {'n_round': 9, 'booster': 'dart', 'lambda': 1.700874990515763e-08, 'alpha': 0.8310427244181965, 'max_depth': 9, 'eta': 1.9728325212679313e-08, 'gamma': 4.7808186722849566e-08, 'grow_policy': 'depthwise', 'sample_type': 'uniform', 'normalize_type': 'forest', 'rate_drop': 1.6291690944835088e-06, 'skip_drop': 2.8573097544398783e-05}.\n",
      "[I 2018-12-05 17:25:34,182] Finished a trial resulted in value: 0.09090909090909094. Current best value is 0.020979020979020935 with parameters: {'n_round': 9, 'booster': 'dart', 'lambda': 1.700874990515763e-08, 'alpha': 0.8310427244181965, 'max_depth': 9, 'eta': 1.9728325212679313e-08, 'gamma': 4.7808186722849566e-08, 'grow_policy': 'depthwise', 'sample_type': 'uniform', 'normalize_type': 'forest', 'rate_drop': 1.6291690944835088e-06, 'skip_drop': 2.8573097544398783e-05}.\n",
      "[I 2018-12-05 17:25:34,208] Finished a trial resulted in value: 0.13286713286713292. Current best value is 0.020979020979020935 with parameters: {'n_round': 9, 'booster': 'dart', 'lambda': 1.700874990515763e-08, 'alpha': 0.8310427244181965, 'max_depth': 9, 'eta': 1.9728325212679313e-08, 'gamma': 4.7808186722849566e-08, 'grow_policy': 'depthwise', 'sample_type': 'uniform', 'normalize_type': 'forest', 'rate_drop': 1.6291690944835088e-06, 'skip_drop': 2.8573097544398783e-05}.\n",
      "[I 2018-12-05 17:25:34,262] Finished a trial resulted in value: 0.04895104895104896. Current best value is 0.020979020979020935 with parameters: {'n_round': 9, 'booster': 'dart', 'lambda': 1.700874990515763e-08, 'alpha': 0.8310427244181965, 'max_depth': 9, 'eta': 1.9728325212679313e-08, 'gamma': 4.7808186722849566e-08, 'grow_policy': 'depthwise', 'sample_type': 'uniform', 'normalize_type': 'forest', 'rate_drop': 1.6291690944835088e-06, 'skip_drop': 2.8573097544398783e-05}.\n",
      "[I 2018-12-05 17:25:34,310] Finished a trial resulted in value: 0.6573426573426573. Current best value is 0.020979020979020935 with parameters: {'n_round': 9, 'booster': 'dart', 'lambda': 1.700874990515763e-08, 'alpha': 0.8310427244181965, 'max_depth': 9, 'eta': 1.9728325212679313e-08, 'gamma': 4.7808186722849566e-08, 'grow_policy': 'depthwise', 'sample_type': 'uniform', 'normalize_type': 'forest', 'rate_drop': 1.6291690944835088e-06, 'skip_drop': 2.8573097544398783e-05}.\n",
      "[I 2018-12-05 17:25:34,360] Finished a trial resulted in value: 0.04195804195804198. Current best value is 0.020979020979020935 with parameters: {'n_round': 9, 'booster': 'dart', 'lambda': 1.700874990515763e-08, 'alpha': 0.8310427244181965, 'max_depth': 9, 'eta': 1.9728325212679313e-08, 'gamma': 4.7808186722849566e-08, 'grow_policy': 'depthwise', 'sample_type': 'uniform', 'normalize_type': 'forest', 'rate_drop': 1.6291690944835088e-06, 'skip_drop': 2.8573097544398783e-05}.\n",
      "[I 2018-12-05 17:25:34,421] Finished a trial resulted in value: 0.04195804195804198. Current best value is 0.020979020979020935 with parameters: {'n_round': 9, 'booster': 'dart', 'lambda': 1.700874990515763e-08, 'alpha': 0.8310427244181965, 'max_depth': 9, 'eta': 1.9728325212679313e-08, 'gamma': 4.7808186722849566e-08, 'grow_policy': 'depthwise', 'sample_type': 'uniform', 'normalize_type': 'forest', 'rate_drop': 1.6291690944835088e-06, 'skip_drop': 2.8573097544398783e-05}.\n",
      "[I 2018-12-05 17:25:34,450] Finished a trial resulted in value: 0.12587412587412583. Current best value is 0.020979020979020935 with parameters: {'n_round': 9, 'booster': 'dart', 'lambda': 1.700874990515763e-08, 'alpha': 0.8310427244181965, 'max_depth': 9, 'eta': 1.9728325212679313e-08, 'gamma': 4.7808186722849566e-08, 'grow_policy': 'depthwise', 'sample_type': 'uniform', 'normalize_type': 'forest', 'rate_drop': 1.6291690944835088e-06, 'skip_drop': 2.8573097544398783e-05}.\n",
      "[I 2018-12-05 17:25:34,500] Finished a trial resulted in value: 0.05594405594405594. Current best value is 0.020979020979020935 with parameters: {'n_round': 9, 'booster': 'dart', 'lambda': 1.700874990515763e-08, 'alpha': 0.8310427244181965, 'max_depth': 9, 'eta': 1.9728325212679313e-08, 'gamma': 4.7808186722849566e-08, 'grow_policy': 'depthwise', 'sample_type': 'uniform', 'normalize_type': 'forest', 'rate_drop': 1.6291690944835088e-06, 'skip_drop': 2.8573097544398783e-05}.\n",
      "[I 2018-12-05 17:25:34,559] Finished a trial resulted in value: 0.04195804195804198. Current best value is 0.020979020979020935 with parameters: {'n_round': 9, 'booster': 'dart', 'lambda': 1.700874990515763e-08, 'alpha': 0.8310427244181965, 'max_depth': 9, 'eta': 1.9728325212679313e-08, 'gamma': 4.7808186722849566e-08, 'grow_policy': 'depthwise', 'sample_type': 'uniform', 'normalize_type': 'forest', 'rate_drop': 1.6291690944835088e-06, 'skip_drop': 2.8573097544398783e-05}.\n",
      "[I 2018-12-05 17:25:34,619] Finished a trial resulted in value: 0.04895104895104896. Current best value is 0.020979020979020935 with parameters: {'n_round': 9, 'booster': 'dart', 'lambda': 1.700874990515763e-08, 'alpha': 0.8310427244181965, 'max_depth': 9, 'eta': 1.9728325212679313e-08, 'gamma': 4.7808186722849566e-08, 'grow_policy': 'depthwise', 'sample_type': 'uniform', 'normalize_type': 'forest', 'rate_drop': 1.6291690944835088e-06, 'skip_drop': 2.8573097544398783e-05}.\n",
      "[I 2018-12-05 17:25:34,649] Finished a trial resulted in value: 0.16083916083916083. Current best value is 0.020979020979020935 with parameters: {'n_round': 9, 'booster': 'dart', 'lambda': 1.700874990515763e-08, 'alpha': 0.8310427244181965, 'max_depth': 9, 'eta': 1.9728325212679313e-08, 'gamma': 4.7808186722849566e-08, 'grow_policy': 'depthwise', 'sample_type': 'uniform', 'normalize_type': 'forest', 'rate_drop': 1.6291690944835088e-06, 'skip_drop': 2.8573097544398783e-05}.\n",
      "[I 2018-12-05 17:25:34,692] Finished a trial resulted in value: 0.07692307692307687. Current best value is 0.020979020979020935 with parameters: {'n_round': 9, 'booster': 'dart', 'lambda': 1.700874990515763e-08, 'alpha': 0.8310427244181965, 'max_depth': 9, 'eta': 1.9728325212679313e-08, 'gamma': 4.7808186722849566e-08, 'grow_policy': 'depthwise', 'sample_type': 'uniform', 'normalize_type': 'forest', 'rate_drop': 1.6291690944835088e-06, 'skip_drop': 2.8573097544398783e-05}.\n",
      "[I 2018-12-05 17:25:34,757] Finished a trial resulted in value: 0.07692307692307687. Current best value is 0.020979020979020935 with parameters: {'n_round': 9, 'booster': 'dart', 'lambda': 1.700874990515763e-08, 'alpha': 0.8310427244181965, 'max_depth': 9, 'eta': 1.9728325212679313e-08, 'gamma': 4.7808186722849566e-08, 'grow_policy': 'depthwise', 'sample_type': 'uniform', 'normalize_type': 'forest', 'rate_drop': 1.6291690944835088e-06, 'skip_drop': 2.8573097544398783e-05}.\n",
      "[I 2018-12-05 17:25:34,819] Finished a trial resulted in value: 0.05594405594405594. Current best value is 0.020979020979020935 with parameters: {'n_round': 9, 'booster': 'dart', 'lambda': 1.700874990515763e-08, 'alpha': 0.8310427244181965, 'max_depth': 9, 'eta': 1.9728325212679313e-08, 'gamma': 4.7808186722849566e-08, 'grow_policy': 'depthwise', 'sample_type': 'uniform', 'normalize_type': 'forest', 'rate_drop': 1.6291690944835088e-06, 'skip_drop': 2.8573097544398783e-05}.\n",
      "[I 2018-12-05 17:25:34,886] Finished a trial resulted in value: 0.034965034965035. Current best value is 0.020979020979020935 with parameters: {'n_round': 9, 'booster': 'dart', 'lambda': 1.700874990515763e-08, 'alpha': 0.8310427244181965, 'max_depth': 9, 'eta': 1.9728325212679313e-08, 'gamma': 4.7808186722849566e-08, 'grow_policy': 'depthwise', 'sample_type': 'uniform', 'normalize_type': 'forest', 'rate_drop': 1.6291690944835088e-06, 'skip_drop': 2.8573097544398783e-05}.\n",
      "[I 2018-12-05 17:25:34,932] Finished a trial resulted in value: 0.09090909090909094. Current best value is 0.020979020979020935 with parameters: {'n_round': 9, 'booster': 'dart', 'lambda': 1.700874990515763e-08, 'alpha': 0.8310427244181965, 'max_depth': 9, 'eta': 1.9728325212679313e-08, 'gamma': 4.7808186722849566e-08, 'grow_policy': 'depthwise', 'sample_type': 'uniform', 'normalize_type': 'forest', 'rate_drop': 1.6291690944835088e-06, 'skip_drop': 2.8573097544398783e-05}.\n"
     ]
    },
    {
     "name": "stderr",
     "output_type": "stream",
     "text": [
      "[I 2018-12-05 17:25:34,991] Finished a trial resulted in value: 0.09790209790209792. Current best value is 0.020979020979020935 with parameters: {'n_round': 9, 'booster': 'dart', 'lambda': 1.700874990515763e-08, 'alpha': 0.8310427244181965, 'max_depth': 9, 'eta': 1.9728325212679313e-08, 'gamma': 4.7808186722849566e-08, 'grow_policy': 'depthwise', 'sample_type': 'uniform', 'normalize_type': 'forest', 'rate_drop': 1.6291690944835088e-06, 'skip_drop': 2.8573097544398783e-05}.\n",
      "[I 2018-12-05 17:25:35,020] Finished a trial resulted in value: 0.1048951048951049. Current best value is 0.020979020979020935 with parameters: {'n_round': 9, 'booster': 'dart', 'lambda': 1.700874990515763e-08, 'alpha': 0.8310427244181965, 'max_depth': 9, 'eta': 1.9728325212679313e-08, 'gamma': 4.7808186722849566e-08, 'grow_policy': 'depthwise', 'sample_type': 'uniform', 'normalize_type': 'forest', 'rate_drop': 1.6291690944835088e-06, 'skip_drop': 2.8573097544398783e-05}.\n",
      "[I 2018-12-05 17:25:35,080] Finished a trial resulted in value: 0.0699300699300699. Current best value is 0.020979020979020935 with parameters: {'n_round': 9, 'booster': 'dart', 'lambda': 1.700874990515763e-08, 'alpha': 0.8310427244181965, 'max_depth': 9, 'eta': 1.9728325212679313e-08, 'gamma': 4.7808186722849566e-08, 'grow_policy': 'depthwise', 'sample_type': 'uniform', 'normalize_type': 'forest', 'rate_drop': 1.6291690944835088e-06, 'skip_drop': 2.8573097544398783e-05}.\n",
      "[I 2018-12-05 17:25:35,138] Finished a trial resulted in value: 0.04895104895104896. Current best value is 0.020979020979020935 with parameters: {'n_round': 9, 'booster': 'dart', 'lambda': 1.700874990515763e-08, 'alpha': 0.8310427244181965, 'max_depth': 9, 'eta': 1.9728325212679313e-08, 'gamma': 4.7808186722849566e-08, 'grow_policy': 'depthwise', 'sample_type': 'uniform', 'normalize_type': 'forest', 'rate_drop': 1.6291690944835088e-06, 'skip_drop': 2.8573097544398783e-05}.\n",
      "[I 2018-12-05 17:25:35,206] Finished a trial resulted in value: 0.0699300699300699. Current best value is 0.020979020979020935 with parameters: {'n_round': 9, 'booster': 'dart', 'lambda': 1.700874990515763e-08, 'alpha': 0.8310427244181965, 'max_depth': 9, 'eta': 1.9728325212679313e-08, 'gamma': 4.7808186722849566e-08, 'grow_policy': 'depthwise', 'sample_type': 'uniform', 'normalize_type': 'forest', 'rate_drop': 1.6291690944835088e-06, 'skip_drop': 2.8573097544398783e-05}.\n",
      "[I 2018-12-05 17:25:35,263] Finished a trial resulted in value: 0.034965034965035. Current best value is 0.020979020979020935 with parameters: {'n_round': 9, 'booster': 'dart', 'lambda': 1.700874990515763e-08, 'alpha': 0.8310427244181965, 'max_depth': 9, 'eta': 1.9728325212679313e-08, 'gamma': 4.7808186722849566e-08, 'grow_policy': 'depthwise', 'sample_type': 'uniform', 'normalize_type': 'forest', 'rate_drop': 1.6291690944835088e-06, 'skip_drop': 2.8573097544398783e-05}.\n",
      "[I 2018-12-05 17:25:35,320] Finished a trial resulted in value: 0.034965034965035. Current best value is 0.020979020979020935 with parameters: {'n_round': 9, 'booster': 'dart', 'lambda': 1.700874990515763e-08, 'alpha': 0.8310427244181965, 'max_depth': 9, 'eta': 1.9728325212679313e-08, 'gamma': 4.7808186722849566e-08, 'grow_policy': 'depthwise', 'sample_type': 'uniform', 'normalize_type': 'forest', 'rate_drop': 1.6291690944835088e-06, 'skip_drop': 2.8573097544398783e-05}.\n",
      "[I 2018-12-05 17:25:35,377] Finished a trial resulted in value: 0.06293706293706292. Current best value is 0.020979020979020935 with parameters: {'n_round': 9, 'booster': 'dart', 'lambda': 1.700874990515763e-08, 'alpha': 0.8310427244181965, 'max_depth': 9, 'eta': 1.9728325212679313e-08, 'gamma': 4.7808186722849566e-08, 'grow_policy': 'depthwise', 'sample_type': 'uniform', 'normalize_type': 'forest', 'rate_drop': 1.6291690944835088e-06, 'skip_drop': 2.8573097544398783e-05}.\n",
      "[I 2018-12-05 17:25:35,438] Finished a trial resulted in value: 0.08391608391608396. Current best value is 0.020979020979020935 with parameters: {'n_round': 9, 'booster': 'dart', 'lambda': 1.700874990515763e-08, 'alpha': 0.8310427244181965, 'max_depth': 9, 'eta': 1.9728325212679313e-08, 'gamma': 4.7808186722849566e-08, 'grow_policy': 'depthwise', 'sample_type': 'uniform', 'normalize_type': 'forest', 'rate_drop': 1.6291690944835088e-06, 'skip_drop': 2.8573097544398783e-05}.\n",
      "[I 2018-12-05 17:25:35,470] Finished a trial resulted in value: 0.05594405594405594. Current best value is 0.020979020979020935 with parameters: {'n_round': 9, 'booster': 'dart', 'lambda': 1.700874990515763e-08, 'alpha': 0.8310427244181965, 'max_depth': 9, 'eta': 1.9728325212679313e-08, 'gamma': 4.7808186722849566e-08, 'grow_policy': 'depthwise', 'sample_type': 'uniform', 'normalize_type': 'forest', 'rate_drop': 1.6291690944835088e-06, 'skip_drop': 2.8573097544398783e-05}.\n",
      "[I 2018-12-05 17:25:35,541] Finished a trial resulted in value: 0.06293706293706292. Current best value is 0.020979020979020935 with parameters: {'n_round': 9, 'booster': 'dart', 'lambda': 1.700874990515763e-08, 'alpha': 0.8310427244181965, 'max_depth': 9, 'eta': 1.9728325212679313e-08, 'gamma': 4.7808186722849566e-08, 'grow_policy': 'depthwise', 'sample_type': 'uniform', 'normalize_type': 'forest', 'rate_drop': 1.6291690944835088e-06, 'skip_drop': 2.8573097544398783e-05}.\n",
      "[I 2018-12-05 17:25:35,607] Finished a trial resulted in value: 0.5594405594405594. Current best value is 0.020979020979020935 with parameters: {'n_round': 9, 'booster': 'dart', 'lambda': 1.700874990515763e-08, 'alpha': 0.8310427244181965, 'max_depth': 9, 'eta': 1.9728325212679313e-08, 'gamma': 4.7808186722849566e-08, 'grow_policy': 'depthwise', 'sample_type': 'uniform', 'normalize_type': 'forest', 'rate_drop': 1.6291690944835088e-06, 'skip_drop': 2.8573097544398783e-05}.\n",
      "[I 2018-12-05 17:25:35,660] Finished a trial resulted in value: 0.0699300699300699. Current best value is 0.020979020979020935 with parameters: {'n_round': 9, 'booster': 'dart', 'lambda': 1.700874990515763e-08, 'alpha': 0.8310427244181965, 'max_depth': 9, 'eta': 1.9728325212679313e-08, 'gamma': 4.7808186722849566e-08, 'grow_policy': 'depthwise', 'sample_type': 'uniform', 'normalize_type': 'forest', 'rate_drop': 1.6291690944835088e-06, 'skip_drop': 2.8573097544398783e-05}.\n",
      "[I 2018-12-05 17:25:35,711] Finished a trial resulted in value: 0.09090909090909094. Current best value is 0.020979020979020935 with parameters: {'n_round': 9, 'booster': 'dart', 'lambda': 1.700874990515763e-08, 'alpha': 0.8310427244181965, 'max_depth': 9, 'eta': 1.9728325212679313e-08, 'gamma': 4.7808186722849566e-08, 'grow_policy': 'depthwise', 'sample_type': 'uniform', 'normalize_type': 'forest', 'rate_drop': 1.6291690944835088e-06, 'skip_drop': 2.8573097544398783e-05}.\n",
      "[I 2018-12-05 17:25:35,768] Finished a trial resulted in value: 0.013986013986013957. Current best value is 0.013986013986013957 with parameters: {'n_round': 9, 'booster': 'gbtree', 'lambda': 0.12178516079019563, 'alpha': 0.20155636688952122, 'max_depth': 9, 'eta': 1.3521206721142007e-07, 'gamma': 2.476581871964534e-07, 'grow_policy': 'depthwise'}.\n",
      "[I 2018-12-05 17:25:35,825] Finished a trial resulted in value: 0.07692307692307687. Current best value is 0.013986013986013957 with parameters: {'n_round': 9, 'booster': 'gbtree', 'lambda': 0.12178516079019563, 'alpha': 0.20155636688952122, 'max_depth': 9, 'eta': 1.3521206721142007e-07, 'gamma': 2.476581871964534e-07, 'grow_policy': 'depthwise'}.\n",
      "[I 2018-12-05 17:25:35,884] Finished a trial resulted in value: 0.04195804195804198. Current best value is 0.013986013986013957 with parameters: {'n_round': 9, 'booster': 'gbtree', 'lambda': 0.12178516079019563, 'alpha': 0.20155636688952122, 'max_depth': 9, 'eta': 1.3521206721142007e-07, 'gamma': 2.476581871964534e-07, 'grow_policy': 'depthwise'}.\n",
      "[I 2018-12-05 17:25:35,942] Finished a trial resulted in value: 0.0699300699300699. Current best value is 0.013986013986013957 with parameters: {'n_round': 9, 'booster': 'gbtree', 'lambda': 0.12178516079019563, 'alpha': 0.20155636688952122, 'max_depth': 9, 'eta': 1.3521206721142007e-07, 'gamma': 2.476581871964534e-07, 'grow_policy': 'depthwise'}.\n"
     ]
    },
    {
     "name": "stderr",
     "output_type": "stream",
     "text": [
      "[I 2018-12-05 17:25:35,995] Finished a trial resulted in value: 0.027972027972028024. Current best value is 0.013986013986013957 with parameters: {'n_round': 9, 'booster': 'gbtree', 'lambda': 0.12178516079019563, 'alpha': 0.20155636688952122, 'max_depth': 9, 'eta': 1.3521206721142007e-07, 'gamma': 2.476581871964534e-07, 'grow_policy': 'depthwise'}.\n",
      "[I 2018-12-05 17:25:36,052] Finished a trial resulted in value: 0.020979020979020935. Current best value is 0.013986013986013957 with parameters: {'n_round': 9, 'booster': 'gbtree', 'lambda': 0.12178516079019563, 'alpha': 0.20155636688952122, 'max_depth': 9, 'eta': 1.3521206721142007e-07, 'gamma': 2.476581871964534e-07, 'grow_policy': 'depthwise'}.\n",
      "[I 2018-12-05 17:25:36,108] Finished a trial resulted in value: 0.07692307692307687. Current best value is 0.013986013986013957 with parameters: {'n_round': 9, 'booster': 'gbtree', 'lambda': 0.12178516079019563, 'alpha': 0.20155636688952122, 'max_depth': 9, 'eta': 1.3521206721142007e-07, 'gamma': 2.476581871964534e-07, 'grow_policy': 'depthwise'}.\n",
      "[I 2018-12-05 17:25:36,165] Finished a trial resulted in value: 0.08391608391608396. Current best value is 0.013986013986013957 with parameters: {'n_round': 9, 'booster': 'gbtree', 'lambda': 0.12178516079019563, 'alpha': 0.20155636688952122, 'max_depth': 9, 'eta': 1.3521206721142007e-07, 'gamma': 2.476581871964534e-07, 'grow_policy': 'depthwise'}.\n",
      "[I 2018-12-05 17:25:36,222] Finished a trial resulted in value: 0.07692307692307687. Current best value is 0.013986013986013957 with parameters: {'n_round': 9, 'booster': 'gbtree', 'lambda': 0.12178516079019563, 'alpha': 0.20155636688952122, 'max_depth': 9, 'eta': 1.3521206721142007e-07, 'gamma': 2.476581871964534e-07, 'grow_policy': 'depthwise'}.\n",
      "[I 2018-12-05 17:25:36,280] Finished a trial resulted in value: 0.09090909090909094. Current best value is 0.013986013986013957 with parameters: {'n_round': 9, 'booster': 'gbtree', 'lambda': 0.12178516079019563, 'alpha': 0.20155636688952122, 'max_depth': 9, 'eta': 1.3521206721142007e-07, 'gamma': 2.476581871964534e-07, 'grow_policy': 'depthwise'}.\n",
      "[I 2018-12-05 17:25:36,343] Finished a trial resulted in value: 0.05594405594405594. Current best value is 0.013986013986013957 with parameters: {'n_round': 9, 'booster': 'gbtree', 'lambda': 0.12178516079019563, 'alpha': 0.20155636688952122, 'max_depth': 9, 'eta': 1.3521206721142007e-07, 'gamma': 2.476581871964534e-07, 'grow_policy': 'depthwise'}.\n",
      "[I 2018-12-05 17:25:36,407] Finished a trial resulted in value: 0.04195804195804198. Current best value is 0.013986013986013957 with parameters: {'n_round': 9, 'booster': 'gbtree', 'lambda': 0.12178516079019563, 'alpha': 0.20155636688952122, 'max_depth': 9, 'eta': 1.3521206721142007e-07, 'gamma': 2.476581871964534e-07, 'grow_policy': 'depthwise'}.\n",
      "[I 2018-12-05 17:25:36,470] Finished a trial resulted in value: 0.04195804195804198. Current best value is 0.013986013986013957 with parameters: {'n_round': 9, 'booster': 'gbtree', 'lambda': 0.12178516079019563, 'alpha': 0.20155636688952122, 'max_depth': 9, 'eta': 1.3521206721142007e-07, 'gamma': 2.476581871964534e-07, 'grow_policy': 'depthwise'}.\n",
      "[I 2018-12-05 17:25:36,533] Finished a trial resulted in value: 0.04895104895104896. Current best value is 0.013986013986013957 with parameters: {'n_round': 9, 'booster': 'gbtree', 'lambda': 0.12178516079019563, 'alpha': 0.20155636688952122, 'max_depth': 9, 'eta': 1.3521206721142007e-07, 'gamma': 2.476581871964534e-07, 'grow_policy': 'depthwise'}.\n",
      "[I 2018-12-05 17:25:36,572] Finished a trial resulted in value: 0.16083916083916083. Current best value is 0.013986013986013957 with parameters: {'n_round': 9, 'booster': 'gbtree', 'lambda': 0.12178516079019563, 'alpha': 0.20155636688952122, 'max_depth': 9, 'eta': 1.3521206721142007e-07, 'gamma': 2.476581871964534e-07, 'grow_policy': 'depthwise'}.\n",
      "[I 2018-12-05 17:25:36,641] Finished a trial resulted in value: 0.06293706293706292. Current best value is 0.013986013986013957 with parameters: {'n_round': 9, 'booster': 'gbtree', 'lambda': 0.12178516079019563, 'alpha': 0.20155636688952122, 'max_depth': 9, 'eta': 1.3521206721142007e-07, 'gamma': 2.476581871964534e-07, 'grow_policy': 'depthwise'}.\n",
      "[I 2018-12-05 17:25:36,708] Finished a trial resulted in value: 0.05594405594405594. Current best value is 0.013986013986013957 with parameters: {'n_round': 9, 'booster': 'gbtree', 'lambda': 0.12178516079019563, 'alpha': 0.20155636688952122, 'max_depth': 9, 'eta': 1.3521206721142007e-07, 'gamma': 2.476581871964534e-07, 'grow_policy': 'depthwise'}.\n",
      "[I 2018-12-05 17:25:36,777] Finished a trial resulted in value: 0.06293706293706292. Current best value is 0.013986013986013957 with parameters: {'n_round': 9, 'booster': 'gbtree', 'lambda': 0.12178516079019563, 'alpha': 0.20155636688952122, 'max_depth': 9, 'eta': 1.3521206721142007e-07, 'gamma': 2.476581871964534e-07, 'grow_policy': 'depthwise'}.\n",
      "[I 2018-12-05 17:25:36,816] Finished a trial resulted in value: 0.12587412587412583. Current best value is 0.013986013986013957 with parameters: {'n_round': 9, 'booster': 'gbtree', 'lambda': 0.12178516079019563, 'alpha': 0.20155636688952122, 'max_depth': 9, 'eta': 1.3521206721142007e-07, 'gamma': 2.476581871964534e-07, 'grow_policy': 'depthwise'}.\n",
      "[I 2018-12-05 17:25:36,880] Finished a trial resulted in value: 0.09090909090909094. Current best value is 0.013986013986013957 with parameters: {'n_round': 9, 'booster': 'gbtree', 'lambda': 0.12178516079019563, 'alpha': 0.20155636688952122, 'max_depth': 9, 'eta': 1.3521206721142007e-07, 'gamma': 2.476581871964534e-07, 'grow_policy': 'depthwise'}.\n",
      "[I 2018-12-05 17:25:36,945] Finished a trial resulted in value: 0.034965034965035. Current best value is 0.013986013986013957 with parameters: {'n_round': 9, 'booster': 'gbtree', 'lambda': 0.12178516079019563, 'alpha': 0.20155636688952122, 'max_depth': 9, 'eta': 1.3521206721142007e-07, 'gamma': 2.476581871964534e-07, 'grow_policy': 'depthwise'}.\n",
      "[I 2018-12-05 17:25:36,985] Finished a trial resulted in value: 0.14685314685314688. Current best value is 0.013986013986013957 with parameters: {'n_round': 9, 'booster': 'gbtree', 'lambda': 0.12178516079019563, 'alpha': 0.20155636688952122, 'max_depth': 9, 'eta': 1.3521206721142007e-07, 'gamma': 2.476581871964534e-07, 'grow_policy': 'depthwise'}.\n",
      "[I 2018-12-05 17:25:37,045] Finished a trial resulted in value: 0.12587412587412583. Current best value is 0.013986013986013957 with parameters: {'n_round': 9, 'booster': 'gbtree', 'lambda': 0.12178516079019563, 'alpha': 0.20155636688952122, 'max_depth': 9, 'eta': 1.3521206721142007e-07, 'gamma': 2.476581871964534e-07, 'grow_policy': 'depthwise'}.\n",
      "[I 2018-12-05 17:25:37,113] Finished a trial resulted in value: 0.020979020979020935. Current best value is 0.013986013986013957 with parameters: {'n_round': 9, 'booster': 'gbtree', 'lambda': 0.12178516079019563, 'alpha': 0.20155636688952122, 'max_depth': 9, 'eta': 1.3521206721142007e-07, 'gamma': 2.476581871964534e-07, 'grow_policy': 'depthwise'}.\n",
      "[I 2018-12-05 17:25:37,184] Finished a trial resulted in value: 0.04195804195804198. Current best value is 0.013986013986013957 with parameters: {'n_round': 9, 'booster': 'gbtree', 'lambda': 0.12178516079019563, 'alpha': 0.20155636688952122, 'max_depth': 9, 'eta': 1.3521206721142007e-07, 'gamma': 2.476581871964534e-07, 'grow_policy': 'depthwise'}.\n",
      "[I 2018-12-05 17:25:37,248] Finished a trial resulted in value: 0.1048951048951049. Current best value is 0.013986013986013957 with parameters: {'n_round': 9, 'booster': 'gbtree', 'lambda': 0.12178516079019563, 'alpha': 0.20155636688952122, 'max_depth': 9, 'eta': 1.3521206721142007e-07, 'gamma': 2.476581871964534e-07, 'grow_policy': 'depthwise'}.\n",
      "[I 2018-12-05 17:25:37,314] Finished a trial resulted in value: 0.0699300699300699. Current best value is 0.013986013986013957 with parameters: {'n_round': 9, 'booster': 'gbtree', 'lambda': 0.12178516079019563, 'alpha': 0.20155636688952122, 'max_depth': 9, 'eta': 1.3521206721142007e-07, 'gamma': 2.476581871964534e-07, 'grow_policy': 'depthwise'}.\n"
     ]
    },
    {
     "name": "stderr",
     "output_type": "stream",
     "text": [
      "[I 2018-12-05 17:25:37,356] Finished a trial resulted in value: 0.11188811188811187. Current best value is 0.013986013986013957 with parameters: {'n_round': 9, 'booster': 'gbtree', 'lambda': 0.12178516079019563, 'alpha': 0.20155636688952122, 'max_depth': 9, 'eta': 1.3521206721142007e-07, 'gamma': 2.476581871964534e-07, 'grow_policy': 'depthwise'}.\n",
      "[I 2018-12-05 17:25:37,444] Finished a trial resulted in value: 0.0699300699300699. Current best value is 0.013986013986013957 with parameters: {'n_round': 9, 'booster': 'gbtree', 'lambda': 0.12178516079019563, 'alpha': 0.20155636688952122, 'max_depth': 9, 'eta': 1.3521206721142007e-07, 'gamma': 2.476581871964534e-07, 'grow_policy': 'depthwise'}.\n",
      "[I 2018-12-05 17:25:37,534] Finished a trial resulted in value: 0.04195804195804198. Current best value is 0.013986013986013957 with parameters: {'n_round': 9, 'booster': 'gbtree', 'lambda': 0.12178516079019563, 'alpha': 0.20155636688952122, 'max_depth': 9, 'eta': 1.3521206721142007e-07, 'gamma': 2.476581871964534e-07, 'grow_policy': 'depthwise'}.\n",
      "[I 2018-12-05 17:25:37,576] Finished a trial resulted in value: 0.08391608391608396. Current best value is 0.013986013986013957 with parameters: {'n_round': 9, 'booster': 'gbtree', 'lambda': 0.12178516079019563, 'alpha': 0.20155636688952122, 'max_depth': 9, 'eta': 1.3521206721142007e-07, 'gamma': 2.476581871964534e-07, 'grow_policy': 'depthwise'}.\n"
     ]
    },
    {
     "name": "stdout",
     "output_type": "stream",
     "text": [
      "FrozenTrial(trial_id=69, state=<TrialState.COMPLETE: 1>, value=0.013986013986013957, datetime_start=datetime.datetime(2018, 12, 5, 17, 25, 35, 713225), datetime_complete=datetime.datetime(2018, 12, 5, 17, 25, 35, 762859), params={'n_round': 9, 'booster': 'gbtree', 'lambda': 0.12178516079019563, 'alpha': 0.20155636688952122, 'max_depth': 9, 'eta': 1.3521206721142007e-07, 'gamma': 2.476581871964534e-07, 'grow_policy': 'depthwise'}, user_attrs={}, system_attrs={}, intermediate_values={}, params_in_internal_repr={'n_round': 9, 'booster': 0, 'lambda': 0.12178516079019563, 'alpha': 0.20155636688952122, 'max_depth': 9, 'eta': 1.3521206721142007e-07, 'gamma': 2.476581871964534e-07, 'grow_policy': 0})\n"
     ]
    }
   ],
   "source": [
    "study = optuna.create_study()\n",
    "study.optimize(objective, n_trials=100)\n",
    "print(study.best_trial)"
   ]
  },
  {
   "cell_type": "markdown",
   "metadata": {},
   "source": [
    "<a name=\"pruning\"></a>\n",
    "## Pruning Unpromising Trials\n",
    "- [公式サイト](https://optuna.readthedocs.io/en/stable/tutorial/pruning.html)"
   ]
  },
  {
   "cell_type": "markdown",
   "metadata": {},
   "source": [
    "### 有望ではない学習を途中で打ち切る\n",
    "- 繰り返し最適化(学習)のloop内に`report()`と`should_prune()`を入れる\n",
    "- ログを見ると、`TrialState.PRUNED`と書かれたステップがあり、そこでは指定回数(今回は100回)の学習を終える前に学習が打ち切られている"
   ]
  },
  {
   "cell_type": "markdown",
   "metadata": {},
   "source": [
    "<a name=\"sklearn_pruning\"></a>\n",
    "### scikit-learnの実装例 (Iris)"
   ]
  },
  {
   "cell_type": "code",
   "execution_count": 16,
   "metadata": {},
   "outputs": [
    {
     "name": "stderr",
     "output_type": "stream",
     "text": [
      "[I 2018-12-05 17:25:37,866] Finished a trial resulted in value: 0.07894736842105265. Current best value is 0.07894736842105265 with parameters: {'alpha': 0.004153145646674557}.\n",
      "[I 2018-12-05 17:25:37,980] Finished a trial resulted in value: 0.23684210526315785. Current best value is 0.07894736842105265 with parameters: {'alpha': 0.004153145646674557}.\n",
      "[I 2018-12-05 17:25:38,117] Finished a trial resulted in value: 0.26315789473684215. Current best value is 0.07894736842105265 with parameters: {'alpha': 0.004153145646674557}.\n",
      "[I 2018-12-05 17:25:38,263] Finished a trial resulted in value: 0.23684210526315785. Current best value is 0.07894736842105265 with parameters: {'alpha': 0.004153145646674557}.\n",
      "[I 2018-12-05 17:25:38,433] Finished a trial resulted in value: 0.052631578947368474. Current best value is 0.052631578947368474 with parameters: {'alpha': 0.0002374612185683246}.\n",
      "[I 2018-12-05 17:25:38,446] Setting trial status as TrialState.PRUNED. \n",
      "[I 2018-12-05 17:25:38,462] Setting trial status as TrialState.PRUNED. \n",
      "[I 2018-12-05 17:25:38,478] Setting trial status as TrialState.PRUNED. \n",
      "[I 2018-12-05 17:25:38,494] Setting trial status as TrialState.PRUNED. \n",
      "[I 2018-12-05 17:25:38,868] Finished a trial resulted in value: 0.21052631578947367. Current best value is 0.052631578947368474 with parameters: {'alpha': 0.0002374612185683246}.\n",
      "[I 2018-12-05 17:25:38,883] Setting trial status as TrialState.PRUNED. \n",
      "[I 2018-12-05 17:25:38,914] Setting trial status as TrialState.PRUNED. \n",
      "[I 2018-12-05 17:25:38,933] Setting trial status as TrialState.PRUNED. \n",
      "[I 2018-12-05 17:25:38,956] Setting trial status as TrialState.PRUNED. \n",
      "[I 2018-12-05 17:25:38,978] Setting trial status as TrialState.PRUNED. \n",
      "[I 2018-12-05 17:25:38,998] Setting trial status as TrialState.PRUNED. \n",
      "[I 2018-12-05 17:25:39,019] Setting trial status as TrialState.PRUNED. \n",
      "[I 2018-12-05 17:25:39,037] Setting trial status as TrialState.PRUNED. \n",
      "[I 2018-12-05 17:25:39,056] Setting trial status as TrialState.PRUNED. \n",
      "[I 2018-12-05 17:25:39,076] Setting trial status as TrialState.PRUNED. \n"
     ]
    }
   ],
   "source": [
    "import sklearn.datasets\n",
    "import sklearn.linear_model\n",
    "import sklearn.model_selection\n",
    "\n",
    "import optuna\n",
    "\n",
    "def objective(trial):\n",
    "    \n",
    "    # Irisデータの読み込み\n",
    "    iris = sklearn.datasets.load_iris()\n",
    "    classes = list(set(iris.target))\n",
    "    train_x, test_x, train_y, test_y = \\\n",
    "        sklearn.model_selection.train_test_split(iris.data, iris.target, test_size=0.25, random_state=0)\n",
    "\n",
    "    # 学習率のサンプリング範囲を定義\n",
    "    alpha = trial.suggest_loguniform('alpha', 1e-5, 1e-1)\n",
    "    \n",
    "    # 学習モデルを作成\n",
    "    clf = sklearn.linear_model.SGDClassifier(alpha=alpha)\n",
    "\n",
    "    # 繰り返し学習\n",
    "    for step in range(100):\n",
    "        clf.partial_fit(train_x, train_y, classes=classes)\n",
    "\n",
    "        # 学習途中の目的関数の値を report する\n",
    "        intermediate_value = 1.0 - clf.score(test_x, test_y)\n",
    "        trial.report(intermediate_value, step)\n",
    "\n",
    "        # 学習途中の目的関数値にもとづいて打ち切りを判断する\n",
    "        if trial.should_prune(step):\n",
    "            raise optuna.structs.TrialPruned()\n",
    "\n",
    "    return 1.0 - clf.score(test_x, test_y)\n",
    "\n",
    "# 打ち切りの基準として median stopping を指定\n",
    "study = optuna.create_study(pruner=optuna.pruners.MedianPruner())\n",
    "study.optimize(objective, n_trials=20)"
   ]
  },
  {
   "cell_type": "markdown",
   "metadata": {},
   "source": [
    "<a name=\"xgboost_pruning\"></a>\n",
    "### xgboost等にも用いることが出来る\n",
    "- 例は上で用いたcancerのデータ\n",
    "- [コードのソース(github)](https://github.com/pfnet/optuna/blob/master/examples/pruning/xgboost_integration.py)"
   ]
  },
  {
   "cell_type": "code",
   "execution_count": 17,
   "metadata": {},
   "outputs": [],
   "source": [
    "import numpy as np\n",
    "import sklearn.datasets\n",
    "import sklearn.metrics\n",
    "from sklearn.model_selection import train_test_split\n",
    "import xgboost as xgb\n",
    "\n",
    "\n",
    "def objective(trial):\n",
    "    data, target = sklearn.datasets.load_breast_cancer(return_X_y=True)\n",
    "    train_x, test_x, train_y, test_y = train_test_split(data, target, test_size=0.25)\n",
    "    dtrain = xgb.DMatrix(train_x, label=train_y)\n",
    "    dtest = xgb.DMatrix(test_x, label=test_y)\n",
    "\n",
    "    n_round = trial.suggest_int('n_round', 1, 9)\n",
    "    param = {'silent': 1, 'objective': 'binary:logistic',\n",
    "             'booster': trial.suggest_categorical('booster', ['gbtree', 'gblinear', 'dart']),\n",
    "             'lambda': trial.suggest_loguniform('lambda', 1e-8, 1.0),\n",
    "             'alpha': trial.suggest_loguniform('alpha', 1e-8, 1.0)\n",
    "             }\n",
    "\n",
    "    if param['booster'] == 'gbtree' or param['booster'] == 'dart':\n",
    "        param['max_depth'] = trial.suggest_int('max_depth', 1, 9)\n",
    "        param['ets'] = trial.suggest_loguniform('eta', 1e-8, 1.0)\n",
    "        param['gamma'] = trial.suggest_loguniform('gamma', 1e-8, 1.0)\n",
    "        param['grow_policy'] = trial.suggest_categorical('grow_policy', ['depthwise', 'lossguide'])\n",
    "    if param['booster'] == 'dart':\n",
    "        param['sample_type'] = trial.suggest_categorical('sample_type', ['uniform', 'weighted'])\n",
    "        param['normalize_type'] = trial.suggest_categorical('normalize_type', ['tree', 'forest'])\n",
    "        param['rate_drop'] = trial.suggest_loguniform('rate_drop', 1e-8, 1.0)\n",
    "        param['skip_drop'] = trial.suggest_loguniform('skip_drop', 1e-8, 1.0)\n",
    "\n",
    "    # 打ち切りを判断するためにcallbackを加える\n",
    "    pruning_callback = optuna.integration.XGBoostPruningCallback(trial, 'validation-error')\n",
    "    bst = xgb.train(param, dtrain, n_round, evals=[(dtest, 'validation')],\n",
    "                    callbacks=[pruning_callback])\n",
    "    preds = bst.predict(dtest)\n",
    "    pred_labels = np.rint(preds)\n",
    "    accuracy = sklearn.metrics.accuracy_score(test_y, pred_labels)\n",
    "    return 1.0 - accuracy"
   ]
  },
  {
   "cell_type": "code",
   "execution_count": 18,
   "metadata": {},
   "outputs": [
    {
     "name": "stdout",
     "output_type": "stream",
     "text": [
      "[0]\tvalidation-error:0.097902\n",
      "[1]\tvalidation-error:0.055944\n",
      "[2]\tvalidation-error:0.055944\n",
      "[3]\tvalidation-error:0.048951\n",
      "[4]\tvalidation-error:0.055944\n"
     ]
    },
    {
     "name": "stderr",
     "output_type": "stream",
     "text": [
      "[I 2018-12-05 17:25:39,115] Finished a trial resulted in value: 0.05594405594405594. Current best value is 0.05594405594405594 with parameters: {'n_round': 5, 'booster': 'gbtree', 'lambda': 1.5650564431276194e-06, 'alpha': 0.014013405192880015, 'max_depth': 6, 'eta': 2.286217767569133e-06, 'gamma': 3.599915440421067e-08, 'grow_policy': 'lossguide'}.\n"
     ]
    },
    {
     "name": "stdout",
     "output_type": "stream",
     "text": [
      "[0]\tvalidation-error:0.076923\n",
      "[1]\tvalidation-error:0.076923\n",
      "[2]\tvalidation-error:0.076923\n",
      "[3]\tvalidation-error:0.076923\n"
     ]
    },
    {
     "name": "stderr",
     "output_type": "stream",
     "text": [
      "[I 2018-12-05 17:25:39,136] Finished a trial resulted in value: 0.07692307692307687. Current best value is 0.05594405594405594 with parameters: {'n_round': 5, 'booster': 'gbtree', 'lambda': 1.5650564431276194e-06, 'alpha': 0.014013405192880015, 'max_depth': 6, 'eta': 2.286217767569133e-06, 'gamma': 3.599915440421067e-08, 'grow_policy': 'lossguide'}.\n"
     ]
    },
    {
     "name": "stdout",
     "output_type": "stream",
     "text": [
      "[0]\tvalidation-error:0.125874\n",
      "[1]\tvalidation-error:0.125874\n",
      "[2]\tvalidation-error:0.125874\n",
      "[3]\tvalidation-error:0.125874\n",
      "[4]\tvalidation-error:0.125874\n"
     ]
    },
    {
     "name": "stderr",
     "output_type": "stream",
     "text": [
      "[I 2018-12-05 17:25:39,155] Finished a trial resulted in value: 0.12587412587412583. Current best value is 0.05594405594405594 with parameters: {'n_round': 5, 'booster': 'gbtree', 'lambda': 1.5650564431276194e-06, 'alpha': 0.014013405192880015, 'max_depth': 6, 'eta': 2.286217767569133e-06, 'gamma': 3.599915440421067e-08, 'grow_policy': 'lossguide'}.\n"
     ]
    },
    {
     "name": "stdout",
     "output_type": "stream",
     "text": [
      "[0]\tvalidation-error:0.146853\n",
      "[1]\tvalidation-error:0.146853\n",
      "[2]\tvalidation-error:0.153846\n",
      "[3]\tvalidation-error:0.146853\n",
      "[4]\tvalidation-error:0.146853\n",
      "[5]\tvalidation-error:0.146853\n",
      "[6]\tvalidation-error:0.153846\n",
      "[7]\tvalidation-error:0.153846\n",
      "[8]\tvalidation-error:0.160839\n"
     ]
    },
    {
     "name": "stderr",
     "output_type": "stream",
     "text": [
      "[I 2018-12-05 17:25:39,181] Finished a trial resulted in value: 0.16083916083916083. Current best value is 0.05594405594405594 with parameters: {'n_round': 5, 'booster': 'gbtree', 'lambda': 1.5650564431276194e-06, 'alpha': 0.014013405192880015, 'max_depth': 6, 'eta': 2.286217767569133e-06, 'gamma': 3.599915440421067e-08, 'grow_policy': 'lossguide'}.\n"
     ]
    },
    {
     "name": "stdout",
     "output_type": "stream",
     "text": [
      "[0]\tvalidation-error:0.034965\n",
      "[1]\tvalidation-error:0.034965\n"
     ]
    },
    {
     "name": "stderr",
     "output_type": "stream",
     "text": [
      "[I 2018-12-05 17:25:39,201] Finished a trial resulted in value: 0.034965034965035. Current best value is 0.034965034965035 with parameters: {'n_round': 2, 'booster': 'gbtree', 'lambda': 0.3783643289056699, 'alpha': 0.011395854622525379, 'max_depth': 3, 'eta': 4.4317226794919205e-05, 'gamma': 0.00014772824835306667, 'grow_policy': 'depthwise'}.\n"
     ]
    },
    {
     "name": "stdout",
     "output_type": "stream",
     "text": [
      "[0]\tvalidation-error:0.06993\n"
     ]
    },
    {
     "name": "stderr",
     "output_type": "stream",
     "text": [
      "[I 2018-12-05 17:25:39,223] Finished a trial resulted in value: 0.0699300699300699. Current best value is 0.034965034965035 with parameters: {'n_round': 2, 'booster': 'gbtree', 'lambda': 0.3783643289056699, 'alpha': 0.011395854622525379, 'max_depth': 3, 'eta': 4.4317226794919205e-05, 'gamma': 0.00014772824835306667, 'grow_policy': 'depthwise'}.\n"
     ]
    },
    {
     "name": "stdout",
     "output_type": "stream",
     "text": [
      "[0]\tvalidation-error:0.090909\n",
      "[1]\tvalidation-error:0.06993\n",
      "[2]\tvalidation-error:0.055944\n",
      "[3]\tvalidation-error:0.034965\n",
      "[4]\tvalidation-error:0.034965\n",
      "[5]\tvalidation-error:0.041958\n",
      "[6]\tvalidation-error:0.048951\n",
      "[7]\tvalidation-error:0.048951\n"
     ]
    },
    {
     "name": "stderr",
     "output_type": "stream",
     "text": [
      "[I 2018-12-05 17:25:39,256] Finished a trial resulted in value: 0.04895104895104896. Current best value is 0.034965034965035 with parameters: {'n_round': 2, 'booster': 'gbtree', 'lambda': 0.3783643289056699, 'alpha': 0.011395854622525379, 'max_depth': 3, 'eta': 4.4317226794919205e-05, 'gamma': 0.00014772824835306667, 'grow_policy': 'depthwise'}.\n"
     ]
    },
    {
     "name": "stdout",
     "output_type": "stream",
     "text": [
      "[0]\tvalidation-error:0.13986\n",
      "[1]\tvalidation-error:0.13986\n",
      "[2]\tvalidation-error:0.125874\n",
      "[3]\tvalidation-error:0.125874\n",
      "[4]\tvalidation-error:0.125874\n"
     ]
    },
    {
     "name": "stderr",
     "output_type": "stream",
     "text": [
      "[I 2018-12-05 17:25:39,280] Finished a trial resulted in value: 0.12587412587412583. Current best value is 0.034965034965035 with parameters: {'n_round': 2, 'booster': 'gbtree', 'lambda': 0.3783643289056699, 'alpha': 0.011395854622525379, 'max_depth': 3, 'eta': 4.4317226794919205e-05, 'gamma': 0.00014772824835306667, 'grow_policy': 'depthwise'}.\n"
     ]
    },
    {
     "name": "stdout",
     "output_type": "stream",
     "text": [
      "[0]\tvalidation-error:0.055944\n",
      "[1]\tvalidation-error:0.062937\n",
      "[2]\tvalidation-error:0.062937\n",
      "[3]\tvalidation-error:0.034965\n",
      "[4]\tvalidation-error:0.034965\n"
     ]
    },
    {
     "name": "stderr",
     "output_type": "stream",
     "text": [
      "[I 2018-12-05 17:25:39,315] Finished a trial resulted in value: 0.04895104895104896. Current best value is 0.034965034965035 with parameters: {'n_round': 2, 'booster': 'gbtree', 'lambda': 0.3783643289056699, 'alpha': 0.011395854622525379, 'max_depth': 3, 'eta': 4.4317226794919205e-05, 'gamma': 0.00014772824835306667, 'grow_policy': 'depthwise'}.\n"
     ]
    },
    {
     "name": "stdout",
     "output_type": "stream",
     "text": [
      "[0]\tvalidation-error:0.181818\n",
      "[1]\tvalidation-error:0.181818\n"
     ]
    },
    {
     "name": "stderr",
     "output_type": "stream",
     "text": [
      "[I 2018-12-05 17:25:39,335] Finished a trial resulted in value: 0.18181818181818177. Current best value is 0.034965034965035 with parameters: {'n_round': 2, 'booster': 'gbtree', 'lambda': 0.3783643289056699, 'alpha': 0.011395854622525379, 'max_depth': 3, 'eta': 4.4317226794919205e-05, 'gamma': 0.00014772824835306667, 'grow_policy': 'depthwise'}.\n"
     ]
    },
    {
     "name": "stdout",
     "output_type": "stream",
     "text": [
      "[0]\tvalidation-error:0.06993\n"
     ]
    },
    {
     "name": "stderr",
     "output_type": "stream",
     "text": [
      "[I 2018-12-05 17:25:39,360] Finished a trial resulted in value: 0.0699300699300699. Current best value is 0.034965034965035 with parameters: {'n_round': 2, 'booster': 'gbtree', 'lambda': 0.3783643289056699, 'alpha': 0.011395854622525379, 'max_depth': 3, 'eta': 4.4317226794919205e-05, 'gamma': 0.00014772824835306667, 'grow_policy': 'depthwise'}.\n"
     ]
    },
    {
     "name": "stdout",
     "output_type": "stream",
     "text": [
      "[0]\tvalidation-error:0.062937\n"
     ]
    },
    {
     "name": "stderr",
     "output_type": "stream",
     "text": [
      "[I 2018-12-05 17:25:39,387] Finished a trial resulted in value: 0.06293706293706292. Current best value is 0.034965034965035 with parameters: {'n_round': 2, 'booster': 'gbtree', 'lambda': 0.3783643289056699, 'alpha': 0.011395854622525379, 'max_depth': 3, 'eta': 4.4317226794919205e-05, 'gamma': 0.00014772824835306667, 'grow_policy': 'depthwise'}.\n"
     ]
    },
    {
     "name": "stdout",
     "output_type": "stream",
     "text": [
      "[0]\tvalidation-error:0.104895\n"
     ]
    },
    {
     "name": "stderr",
     "output_type": "stream",
     "text": [
      "[I 2018-12-05 17:25:39,413] Finished a trial resulted in value: 0.1048951048951049. Current best value is 0.034965034965035 with parameters: {'n_round': 2, 'booster': 'gbtree', 'lambda': 0.3783643289056699, 'alpha': 0.011395854622525379, 'max_depth': 3, 'eta': 4.4317226794919205e-05, 'gamma': 0.00014772824835306667, 'grow_policy': 'depthwise'}.\n"
     ]
    },
    {
     "name": "stdout",
     "output_type": "stream",
     "text": [
      "[0]\tvalidation-error:0.076923\n"
     ]
    },
    {
     "name": "stderr",
     "output_type": "stream",
     "text": [
      "[I 2018-12-05 17:25:39,439] Finished a trial resulted in value: 0.07692307692307687. Current best value is 0.034965034965035 with parameters: {'n_round': 2, 'booster': 'gbtree', 'lambda': 0.3783643289056699, 'alpha': 0.011395854622525379, 'max_depth': 3, 'eta': 4.4317226794919205e-05, 'gamma': 0.00014772824835306667, 'grow_policy': 'depthwise'}.\n"
     ]
    },
    {
     "name": "stdout",
     "output_type": "stream",
     "text": [
      "[0]\tvalidation-error:0.104895\n"
     ]
    },
    {
     "name": "stderr",
     "output_type": "stream",
     "text": [
      "[I 2018-12-05 17:25:39,466] Finished a trial resulted in value: 0.1048951048951049. Current best value is 0.034965034965035 with parameters: {'n_round': 2, 'booster': 'gbtree', 'lambda': 0.3783643289056699, 'alpha': 0.011395854622525379, 'max_depth': 3, 'eta': 4.4317226794919205e-05, 'gamma': 0.00014772824835306667, 'grow_policy': 'depthwise'}.\n"
     ]
    },
    {
     "name": "stdout",
     "output_type": "stream",
     "text": [
      "[0]\tvalidation-error:0.083916\n",
      "[1]\tvalidation-error:0.048951\n",
      "[2]\tvalidation-error:0.055944\n"
     ]
    },
    {
     "name": "stderr",
     "output_type": "stream",
     "text": [
      "[I 2018-12-05 17:25:39,501] Finished a trial resulted in value: 0.05594405594405594. Current best value is 0.034965034965035 with parameters: {'n_round': 2, 'booster': 'gbtree', 'lambda': 0.3783643289056699, 'alpha': 0.011395854622525379, 'max_depth': 3, 'eta': 4.4317226794919205e-05, 'gamma': 0.00014772824835306667, 'grow_policy': 'depthwise'}.\n"
     ]
    },
    {
     "name": "stdout",
     "output_type": "stream",
     "text": [
      "[0]\tvalidation-error:0.118881\n",
      "[1]\tvalidation-error:0.118881\n",
      "[2]\tvalidation-error:0.118881\n"
     ]
    },
    {
     "name": "stderr",
     "output_type": "stream",
     "text": [
      "[I 2018-12-05 17:25:39,536] Finished a trial resulted in value: 0.07692307692307687. Current best value is 0.034965034965035 with parameters: {'n_round': 2, 'booster': 'gbtree', 'lambda': 0.3783643289056699, 'alpha': 0.011395854622525379, 'max_depth': 3, 'eta': 4.4317226794919205e-05, 'gamma': 0.00014772824835306667, 'grow_policy': 'depthwise'}.\n"
     ]
    },
    {
     "name": "stdout",
     "output_type": "stream",
     "text": [
      "[0]\tvalidation-error:0.111888\n",
      "[1]\tvalidation-error:0.111888\n",
      "[2]\tvalidation-error:0.062937\n",
      "[3]\tvalidation-error:0.111888\n",
      "[4]\tvalidation-error:0.076923\n",
      "[5]\tvalidation-error:0.083916\n",
      "[6]\tvalidation-error:0.076923\n",
      "[7]\tvalidation-error:0.06993\n",
      "[8]\tvalidation-error:0.055944\n"
     ]
    },
    {
     "name": "stderr",
     "output_type": "stream",
     "text": [
      "[I 2018-12-05 17:25:39,586] Finished a trial resulted in value: 0.05594405594405594. Current best value is 0.034965034965035 with parameters: {'n_round': 2, 'booster': 'gbtree', 'lambda': 0.3783643289056699, 'alpha': 0.011395854622525379, 'max_depth': 3, 'eta': 4.4317226794919205e-05, 'gamma': 0.00014772824835306667, 'grow_policy': 'depthwise'}.\n"
     ]
    },
    {
     "name": "stdout",
     "output_type": "stream",
     "text": [
      "[0]\tvalidation-error:0.090909\n",
      "[1]\tvalidation-error:0.083916\n",
      "[2]\tvalidation-error:0.06993\n",
      "[3]\tvalidation-error:0.083916\n",
      "[4]\tvalidation-error:0.06993\n",
      "[5]\tvalidation-error:0.06993\n",
      "[6]\tvalidation-error:0.076923\n",
      "[7]\tvalidation-error:0.062937\n"
     ]
    },
    {
     "name": "stderr",
     "output_type": "stream",
     "text": [
      "[I 2018-12-05 17:25:39,640] Finished a trial resulted in value: 0.06293706293706292. Current best value is 0.034965034965035 with parameters: {'n_round': 2, 'booster': 'gbtree', 'lambda': 0.3783643289056699, 'alpha': 0.011395854622525379, 'max_depth': 3, 'eta': 4.4317226794919205e-05, 'gamma': 0.00014772824835306667, 'grow_policy': 'depthwise'}.\n"
     ]
    },
    {
     "name": "stdout",
     "output_type": "stream",
     "text": [
      "[0]\tvalidation-error:0.034965\n",
      "[1]\tvalidation-error:0.034965\n",
      "[2]\tvalidation-error:0.034965\n",
      "[3]\tvalidation-error:0.027972\n",
      "[4]\tvalidation-error:0.027972\n"
     ]
    },
    {
     "name": "stderr",
     "output_type": "stream",
     "text": [
      "[I 2018-12-05 17:25:39,685] Finished a trial resulted in value: 0.027972027972028024. Current best value is 0.027972027972028024 with parameters: {'n_round': 5, 'booster': 'dart', 'lambda': 0.0031461392818938005, 'alpha': 0.0012861694629960317, 'max_depth': 4, 'eta': 0.0001056814226002701, 'gamma': 6.331700092624553e-05, 'grow_policy': 'lossguide', 'sample_type': 'weighted', 'normalize_type': 'forest', 'rate_drop': 0.031782941706658595, 'skip_drop': 5.922702271277406e-07}.\n"
     ]
    },
    {
     "name": "stdout",
     "output_type": "stream",
     "text": [
      "[0]\tvalidation-error:0.090909\n",
      "[1]\tvalidation-error:0.062937\n",
      "[2]\tvalidation-error:0.062937\n",
      "[3]\tvalidation-error:0.06993\n"
     ]
    },
    {
     "name": "stderr",
     "output_type": "stream",
     "text": [
      "[I 2018-12-05 17:25:39,731] Finished a trial resulted in value: 0.0699300699300699. Current best value is 0.027972027972028024 with parameters: {'n_round': 5, 'booster': 'dart', 'lambda': 0.0031461392818938005, 'alpha': 0.0012861694629960317, 'max_depth': 4, 'eta': 0.0001056814226002701, 'gamma': 6.331700092624553e-05, 'grow_policy': 'lossguide', 'sample_type': 'weighted', 'normalize_type': 'forest', 'rate_drop': 0.031782941706658595, 'skip_drop': 5.922702271277406e-07}.\n"
     ]
    },
    {
     "name": "stdout",
     "output_type": "stream",
     "text": [
      "[0]\tvalidation-error:0.104895\n",
      "[1]\tvalidation-error:0.104895\n",
      "[2]\tvalidation-error:0.055944\n",
      "[3]\tvalidation-error:0.055944\n"
     ]
    },
    {
     "name": "stderr",
     "output_type": "stream",
     "text": [
      "[I 2018-12-05 17:25:39,773] Finished a trial resulted in value: 0.05594405594405594. Current best value is 0.027972027972028024 with parameters: {'n_round': 5, 'booster': 'dart', 'lambda': 0.0031461392818938005, 'alpha': 0.0012861694629960317, 'max_depth': 4, 'eta': 0.0001056814226002701, 'gamma': 6.331700092624553e-05, 'grow_policy': 'lossguide', 'sample_type': 'weighted', 'normalize_type': 'forest', 'rate_drop': 0.031782941706658595, 'skip_drop': 5.922702271277406e-07}.\n"
     ]
    },
    {
     "name": "stdout",
     "output_type": "stream",
     "text": [
      "[0]\tvalidation-error:0.06993\n",
      "[1]\tvalidation-error:0.076923\n",
      "[2]\tvalidation-error:0.055944\n",
      "[3]\tvalidation-error:0.048951\n"
     ]
    },
    {
     "name": "stderr",
     "output_type": "stream",
     "text": [
      "[I 2018-12-05 17:25:39,816] Finished a trial resulted in value: 0.04895104895104896. Current best value is 0.027972027972028024 with parameters: {'n_round': 5, 'booster': 'dart', 'lambda': 0.0031461392818938005, 'alpha': 0.0012861694629960317, 'max_depth': 4, 'eta': 0.0001056814226002701, 'gamma': 6.331700092624553e-05, 'grow_policy': 'lossguide', 'sample_type': 'weighted', 'normalize_type': 'forest', 'rate_drop': 0.031782941706658595, 'skip_drop': 5.922702271277406e-07}.\n"
     ]
    },
    {
     "name": "stdout",
     "output_type": "stream",
     "text": [
      "[0]\tvalidation-error:0.104895\n",
      "[1]\tvalidation-error:0.090909\n",
      "[2]\tvalidation-error:0.083916\n",
      "[3]\tvalidation-error:0.076923\n"
     ]
    },
    {
     "name": "stderr",
     "output_type": "stream",
     "text": [
      "[I 2018-12-05 17:25:39,859] Finished a trial resulted in value: 0.07692307692307687. Current best value is 0.027972027972028024 with parameters: {'n_round': 5, 'booster': 'dart', 'lambda': 0.0031461392818938005, 'alpha': 0.0012861694629960317, 'max_depth': 4, 'eta': 0.0001056814226002701, 'gamma': 6.331700092624553e-05, 'grow_policy': 'lossguide', 'sample_type': 'weighted', 'normalize_type': 'forest', 'rate_drop': 0.031782941706658595, 'skip_drop': 5.922702271277406e-07}.\n"
     ]
    },
    {
     "name": "stdout",
     "output_type": "stream",
     "text": [
      "[0]\tvalidation-error:0.13986\n",
      "[1]\tvalidation-error:0.146853\n",
      "[2]\tvalidation-error:0.153846\n",
      "[3]\tvalidation-error:0.153846\n"
     ]
    },
    {
     "name": "stderr",
     "output_type": "stream",
     "text": [
      "[I 2018-12-05 17:25:39,891] Finished a trial resulted in value: 0.15384615384615385. Current best value is 0.027972027972028024 with parameters: {'n_round': 5, 'booster': 'dart', 'lambda': 0.0031461392818938005, 'alpha': 0.0012861694629960317, 'max_depth': 4, 'eta': 0.0001056814226002701, 'gamma': 6.331700092624553e-05, 'grow_policy': 'lossguide', 'sample_type': 'weighted', 'normalize_type': 'forest', 'rate_drop': 0.031782941706658595, 'skip_drop': 5.922702271277406e-07}.\n"
     ]
    },
    {
     "name": "stdout",
     "output_type": "stream",
     "text": [
      "[0]\tvalidation-error:0.601399\n",
      "[1]\tvalidation-error:0.601399\n",
      "[2]\tvalidation-error:0.601399\n",
      "[3]\tvalidation-error:0.601399\n"
     ]
    },
    {
     "name": "stderr",
     "output_type": "stream",
     "text": [
      "[I 2018-12-05 17:25:39,943] Finished a trial resulted in value: 0.6013986013986015. Current best value is 0.027972027972028024 with parameters: {'n_round': 5, 'booster': 'dart', 'lambda': 0.0031461392818938005, 'alpha': 0.0012861694629960317, 'max_depth': 4, 'eta': 0.0001056814226002701, 'gamma': 6.331700092624553e-05, 'grow_policy': 'lossguide', 'sample_type': 'weighted', 'normalize_type': 'forest', 'rate_drop': 0.031782941706658595, 'skip_drop': 5.922702271277406e-07}.\n"
     ]
    },
    {
     "name": "stdout",
     "output_type": "stream",
     "text": [
      "[0]\tvalidation-error:0.055944\n",
      "[1]\tvalidation-error:0.034965\n",
      "[2]\tvalidation-error:0.034965\n",
      "[3]\tvalidation-error:0.034965\n"
     ]
    },
    {
     "name": "stderr",
     "output_type": "stream",
     "text": [
      "[I 2018-12-05 17:25:39,986] Finished a trial resulted in value: 0.034965034965035. Current best value is 0.027972027972028024 with parameters: {'n_round': 5, 'booster': 'dart', 'lambda': 0.0031461392818938005, 'alpha': 0.0012861694629960317, 'max_depth': 4, 'eta': 0.0001056814226002701, 'gamma': 6.331700092624553e-05, 'grow_policy': 'lossguide', 'sample_type': 'weighted', 'normalize_type': 'forest', 'rate_drop': 0.031782941706658595, 'skip_drop': 5.922702271277406e-07}.\n"
     ]
    },
    {
     "name": "stdout",
     "output_type": "stream",
     "text": [
      "[0]\tvalidation-error:0.090909\n",
      "[1]\tvalidation-error:0.090909\n",
      "[2]\tvalidation-error:0.111888\n",
      "[3]\tvalidation-error:0.104895\n",
      "[4]\tvalidation-error:0.090909\n",
      "[5]\tvalidation-error:0.097902\n"
     ]
    },
    {
     "name": "stderr",
     "output_type": "stream",
     "text": [
      "[I 2018-12-05 17:25:40,053] Setting trial status as TrialState.PRUNED. Trial was pruned at iteration 6.\n"
     ]
    },
    {
     "name": "stdout",
     "output_type": "stream",
     "text": [
      "[0]\tvalidation-error:0.083916\n",
      "[1]\tvalidation-error:0.083916\n",
      "[2]\tvalidation-error:0.65035\n",
      "[3]\tvalidation-error:0.06993\n",
      "[4]\tvalidation-error:0.06993\n",
      "[5]\tvalidation-error:0.06993\n",
      "[6]\tvalidation-error:0.06993\n"
     ]
    },
    {
     "name": "stderr",
     "output_type": "stream",
     "text": [
      "[I 2018-12-05 17:25:40,123] Setting trial status as TrialState.PRUNED. Trial was pruned at iteration 7.\n"
     ]
    },
    {
     "name": "stdout",
     "output_type": "stream",
     "text": [
      "[0]\tvalidation-error:0.055944\n",
      "[1]\tvalidation-error:0.083916\n",
      "[2]\tvalidation-error:0.055944\n",
      "[3]\tvalidation-error:0.048951\n",
      "[4]\tvalidation-error:0.041958\n",
      "[5]\tvalidation-error:0.041958\n",
      "[6]\tvalidation-error:0.048951\n",
      "[7]\tvalidation-error:0.048951\n",
      "[8]\tvalidation-error:0.048951\n"
     ]
    },
    {
     "name": "stderr",
     "output_type": "stream",
     "text": [
      "[I 2018-12-05 17:25:40,195] Finished a trial resulted in value: 0.04895104895104896. Current best value is 0.027972027972028024 with parameters: {'n_round': 5, 'booster': 'dart', 'lambda': 0.0031461392818938005, 'alpha': 0.0012861694629960317, 'max_depth': 4, 'eta': 0.0001056814226002701, 'gamma': 6.331700092624553e-05, 'grow_policy': 'lossguide', 'sample_type': 'weighted', 'normalize_type': 'forest', 'rate_drop': 0.031782941706658595, 'skip_drop': 5.922702271277406e-07}.\n"
     ]
    },
    {
     "name": "stdout",
     "output_type": "stream",
     "text": [
      "[0]\tvalidation-error:0.58042\n",
      "[1]\tvalidation-error:0.58042\n"
     ]
    },
    {
     "name": "stderr",
     "output_type": "stream",
     "text": [
      "[I 2018-12-05 17:25:40,242] Finished a trial resulted in value: 0.09790209790209792. Current best value is 0.027972027972028024 with parameters: {'n_round': 5, 'booster': 'dart', 'lambda': 0.0031461392818938005, 'alpha': 0.0012861694629960317, 'max_depth': 4, 'eta': 0.0001056814226002701, 'gamma': 6.331700092624553e-05, 'grow_policy': 'lossguide', 'sample_type': 'weighted', 'normalize_type': 'forest', 'rate_drop': 0.031782941706658595, 'skip_drop': 5.922702271277406e-07}.\n"
     ]
    },
    {
     "name": "stdout",
     "output_type": "stream",
     "text": [
      "[0]\tvalidation-error:0.090909\n",
      "[1]\tvalidation-error:0.083916\n",
      "[2]\tvalidation-error:0.076923\n",
      "[3]\tvalidation-error:0.076923\n",
      "[4]\tvalidation-error:0.076923\n",
      "[5]\tvalidation-error:0.076923\n",
      "[6]\tvalidation-error:0.062937\n",
      "[7]\tvalidation-error:0.06993\n"
     ]
    },
    {
     "name": "stderr",
     "output_type": "stream",
     "text": [
      "[I 2018-12-05 17:25:40,315] Setting trial status as TrialState.PRUNED. Trial was pruned at iteration 8.\n"
     ]
    },
    {
     "name": "stdout",
     "output_type": "stream",
     "text": [
      "[0]\tvalidation-error:0.090909\n",
      "[1]\tvalidation-error:0.076923\n",
      "[2]\tvalidation-error:0.076923\n",
      "[3]\tvalidation-error:0.076923\n",
      "[4]\tvalidation-error:0.076923\n",
      "[5]\tvalidation-error:0.06993\n",
      "[6]\tvalidation-error:0.06993\n"
     ]
    },
    {
     "name": "stderr",
     "output_type": "stream",
     "text": [
      "[I 2018-12-05 17:25:40,386] Setting trial status as TrialState.PRUNED. Trial was pruned at iteration 7.\n"
     ]
    },
    {
     "name": "stdout",
     "output_type": "stream",
     "text": [
      "[0]\tvalidation-error:0.06993\n",
      "[1]\tvalidation-error:0.048951\n",
      "[2]\tvalidation-error:0.041958\n",
      "[3]\tvalidation-error:0.055944\n",
      "[4]\tvalidation-error:0.048951\n",
      "[5]\tvalidation-error:0.048951\n",
      "[6]\tvalidation-error:0.048951\n",
      "[7]\tvalidation-error:0.041958\n",
      "[8]\tvalidation-error:0.034965\n"
     ]
    },
    {
     "name": "stderr",
     "output_type": "stream",
     "text": [
      "[I 2018-12-05 17:25:40,463] Finished a trial resulted in value: 0.034965034965035. Current best value is 0.027972027972028024 with parameters: {'n_round': 5, 'booster': 'dart', 'lambda': 0.0031461392818938005, 'alpha': 0.0012861694629960317, 'max_depth': 4, 'eta': 0.0001056814226002701, 'gamma': 6.331700092624553e-05, 'grow_policy': 'lossguide', 'sample_type': 'weighted', 'normalize_type': 'forest', 'rate_drop': 0.031782941706658595, 'skip_drop': 5.922702271277406e-07}.\n"
     ]
    },
    {
     "name": "stdout",
     "output_type": "stream",
     "text": [
      "[0]\tvalidation-error:0.041958\n",
      "[1]\tvalidation-error:0.048951\n",
      "[2]\tvalidation-error:0.048951\n",
      "[3]\tvalidation-error:0.048951\n",
      "[4]\tvalidation-error:0.048951\n",
      "[5]\tvalidation-error:0.041958\n",
      "[6]\tvalidation-error:0.041958\n",
      "[7]\tvalidation-error:0.034965\n"
     ]
    },
    {
     "name": "stderr",
     "output_type": "stream",
     "text": [
      "[I 2018-12-05 17:25:40,537] Finished a trial resulted in value: 0.034965034965035. Current best value is 0.027972027972028024 with parameters: {'n_round': 5, 'booster': 'dart', 'lambda': 0.0031461392818938005, 'alpha': 0.0012861694629960317, 'max_depth': 4, 'eta': 0.0001056814226002701, 'gamma': 6.331700092624553e-05, 'grow_policy': 'lossguide', 'sample_type': 'weighted', 'normalize_type': 'forest', 'rate_drop': 0.031782941706658595, 'skip_drop': 5.922702271277406e-07}.\n"
     ]
    },
    {
     "name": "stdout",
     "output_type": "stream",
     "text": [
      "[0]\tvalidation-error:0.125874\n",
      "[1]\tvalidation-error:0.104895\n",
      "[2]\tvalidation-error:0.090909\n",
      "[3]\tvalidation-error:0.083916\n",
      "[4]\tvalidation-error:0.06993\n",
      "[5]\tvalidation-error:0.06993\n"
     ]
    },
    {
     "name": "stderr",
     "output_type": "stream",
     "text": [
      "[I 2018-12-05 17:25:40,582] Setting trial status as TrialState.PRUNED. Trial was pruned at iteration 6.\n"
     ]
    },
    {
     "name": "stdout",
     "output_type": "stream",
     "text": [
      "[0]\tvalidation-error:0.174825\n",
      "[1]\tvalidation-error:0.146853\n",
      "[2]\tvalidation-error:0.125874\n",
      "[3]\tvalidation-error:0.125874\n",
      "[4]\tvalidation-error:0.111888\n",
      "[5]\tvalidation-error:0.104895\n"
     ]
    },
    {
     "name": "stderr",
     "output_type": "stream",
     "text": [
      "[I 2018-12-05 17:25:40,625] Setting trial status as TrialState.PRUNED. Trial was pruned at iteration 6.\n"
     ]
    },
    {
     "name": "stdout",
     "output_type": "stream",
     "text": [
      "[0]\tvalidation-error:0.132867\n",
      "[1]\tvalidation-error:0.111888\n",
      "[2]\tvalidation-error:0.097902\n",
      "[3]\tvalidation-error:0.097902\n",
      "[4]\tvalidation-error:0.111888\n",
      "[5]\tvalidation-error:0.111888\n"
     ]
    },
    {
     "name": "stderr",
     "output_type": "stream",
     "text": [
      "[I 2018-12-05 17:25:40,674] Setting trial status as TrialState.PRUNED. Trial was pruned at iteration 6.\n"
     ]
    },
    {
     "name": "stdout",
     "output_type": "stream",
     "text": [
      "[0]\tvalidation-error:0.118881\n",
      "[1]\tvalidation-error:0.104895\n",
      "[2]\tvalidation-error:0.125874\n",
      "[3]\tvalidation-error:0.132867\n",
      "[4]\tvalidation-error:0.125874\n",
      "[5]\tvalidation-error:0.118881\n"
     ]
    },
    {
     "name": "stderr",
     "output_type": "stream",
     "text": [
      "[I 2018-12-05 17:25:40,724] Setting trial status as TrialState.PRUNED. Trial was pruned at iteration 6.\n"
     ]
    },
    {
     "name": "stdout",
     "output_type": "stream",
     "text": [
      "[0]\tvalidation-error:0.13986\n",
      "[1]\tvalidation-error:0.118881\n",
      "[2]\tvalidation-error:0.104895\n",
      "[3]\tvalidation-error:0.097902\n",
      "[4]\tvalidation-error:0.076923\n",
      "[5]\tvalidation-error:0.062937\n"
     ]
    },
    {
     "name": "stderr",
     "output_type": "stream",
     "text": [
      "[I 2018-12-05 17:25:40,773] Setting trial status as TrialState.PRUNED. Trial was pruned at iteration 6.\n"
     ]
    },
    {
     "name": "stdout",
     "output_type": "stream",
     "text": [
      "[0]\tvalidation-error:0.104895\n",
      "[1]\tvalidation-error:0.090909\n",
      "[2]\tvalidation-error:0.104895\n",
      "[3]\tvalidation-error:0.097902\n",
      "[4]\tvalidation-error:0.097902\n",
      "[5]\tvalidation-error:0.097902\n"
     ]
    },
    {
     "name": "stderr",
     "output_type": "stream",
     "text": [
      "[I 2018-12-05 17:25:40,822] Setting trial status as TrialState.PRUNED. Trial was pruned at iteration 6.\n"
     ]
    },
    {
     "name": "stdout",
     "output_type": "stream",
     "text": [
      "[0]\tvalidation-error:0.118881\n",
      "[1]\tvalidation-error:0.111888\n",
      "[2]\tvalidation-error:0.090909\n",
      "[3]\tvalidation-error:0.083916\n",
      "[4]\tvalidation-error:0.083916\n",
      "[5]\tvalidation-error:0.06993\n"
     ]
    },
    {
     "name": "stderr",
     "output_type": "stream",
     "text": [
      "[I 2018-12-05 17:25:40,870] Setting trial status as TrialState.PRUNED. Trial was pruned at iteration 6.\n"
     ]
    },
    {
     "name": "stdout",
     "output_type": "stream",
     "text": [
      "[0]\tvalidation-error:0.146853\n",
      "[1]\tvalidation-error:0.125874\n",
      "[2]\tvalidation-error:0.104895\n",
      "[3]\tvalidation-error:0.097902\n",
      "[4]\tvalidation-error:0.104895\n",
      "[5]\tvalidation-error:0.111888\n"
     ]
    },
    {
     "name": "stderr",
     "output_type": "stream",
     "text": [
      "[I 2018-12-05 17:25:40,916] Setting trial status as TrialState.PRUNED. Trial was pruned at iteration 6.\n"
     ]
    },
    {
     "name": "stdout",
     "output_type": "stream",
     "text": [
      "[0]\tvalidation-error:0.118881\n",
      "[1]\tvalidation-error:0.097902\n",
      "[2]\tvalidation-error:0.083916\n",
      "[3]\tvalidation-error:0.090909\n",
      "[4]\tvalidation-error:0.083916\n",
      "[5]\tvalidation-error:0.062937\n"
     ]
    },
    {
     "name": "stderr",
     "output_type": "stream",
     "text": [
      "[I 2018-12-05 17:25:40,965] Setting trial status as TrialState.PRUNED. Trial was pruned at iteration 6.\n"
     ]
    },
    {
     "name": "stdout",
     "output_type": "stream",
     "text": [
      "[0]\tvalidation-error:0.13986\n",
      "[1]\tvalidation-error:0.125874\n",
      "[2]\tvalidation-error:0.111888\n",
      "[3]\tvalidation-error:0.104895\n",
      "[4]\tvalidation-error:0.097902\n",
      "[5]\tvalidation-error:0.083916\n"
     ]
    },
    {
     "name": "stderr",
     "output_type": "stream",
     "text": [
      "[I 2018-12-05 17:25:41,013] Setting trial status as TrialState.PRUNED. Trial was pruned at iteration 6.\n"
     ]
    },
    {
     "name": "stdout",
     "output_type": "stream",
     "text": [
      "[0]\tvalidation-error:0.146853\n",
      "[1]\tvalidation-error:0.125874\n",
      "[2]\tvalidation-error:0.097902\n",
      "[3]\tvalidation-error:0.083916\n",
      "[4]\tvalidation-error:0.076923\n",
      "[5]\tvalidation-error:0.06993\n"
     ]
    },
    {
     "name": "stderr",
     "output_type": "stream",
     "text": [
      "[I 2018-12-05 17:25:41,062] Setting trial status as TrialState.PRUNED. Trial was pruned at iteration 6.\n"
     ]
    },
    {
     "name": "stdout",
     "output_type": "stream",
     "text": [
      "[0]\tvalidation-error:0.160839\n",
      "[1]\tvalidation-error:0.13986\n",
      "[2]\tvalidation-error:0.111888\n",
      "[3]\tvalidation-error:0.104895\n",
      "[4]\tvalidation-error:0.104895\n",
      "[5]\tvalidation-error:0.097902\n"
     ]
    },
    {
     "name": "stderr",
     "output_type": "stream",
     "text": [
      "[I 2018-12-05 17:25:41,114] Setting trial status as TrialState.PRUNED. Trial was pruned at iteration 6.\n"
     ]
    },
    {
     "name": "stdout",
     "output_type": "stream",
     "text": [
      "[0]\tvalidation-error:0.118881\n",
      "[1]\tvalidation-error:0.104895\n",
      "[2]\tvalidation-error:0.083916\n",
      "[3]\tvalidation-error:0.083916\n",
      "[4]\tvalidation-error:0.083916\n",
      "[5]\tvalidation-error:0.062937\n"
     ]
    },
    {
     "name": "stderr",
     "output_type": "stream",
     "text": [
      "[I 2018-12-05 17:25:41,164] Setting trial status as TrialState.PRUNED. Trial was pruned at iteration 6.\n"
     ]
    },
    {
     "name": "stdout",
     "output_type": "stream",
     "text": [
      "[0]\tvalidation-error:0.097902\n",
      "[1]\tvalidation-error:0.083916\n",
      "[2]\tvalidation-error:0.090909\n",
      "[3]\tvalidation-error:0.090909\n",
      "[4]\tvalidation-error:0.090909\n",
      "[5]\tvalidation-error:0.090909\n"
     ]
    },
    {
     "name": "stderr",
     "output_type": "stream",
     "text": [
      "[I 2018-12-05 17:25:41,214] Setting trial status as TrialState.PRUNED. Trial was pruned at iteration 6.\n"
     ]
    },
    {
     "name": "stdout",
     "output_type": "stream",
     "text": [
      "[0]\tvalidation-error:0.118881\n",
      "[1]\tvalidation-error:0.097902\n",
      "[2]\tvalidation-error:0.104895\n",
      "[3]\tvalidation-error:0.097902\n",
      "[4]\tvalidation-error:0.090909\n",
      "[5]\tvalidation-error:0.076923\n"
     ]
    },
    {
     "name": "stderr",
     "output_type": "stream",
     "text": [
      "[I 2018-12-05 17:25:41,264] Setting trial status as TrialState.PRUNED. Trial was pruned at iteration 6.\n"
     ]
    },
    {
     "name": "stdout",
     "output_type": "stream",
     "text": [
      "[0]\tvalidation-error:0.090909\n",
      "[1]\tvalidation-error:0.090909\n",
      "[2]\tvalidation-error:0.083916\n",
      "[3]\tvalidation-error:0.055944\n",
      "[4]\tvalidation-error:0.048951\n",
      "[5]\tvalidation-error:0.048951\n",
      "[6]\tvalidation-error:0.055944\n",
      "[7]\tvalidation-error:0.048951\n",
      "[8]\tvalidation-error:0.041958\n"
     ]
    },
    {
     "name": "stderr",
     "output_type": "stream",
     "text": [
      "[I 2018-12-05 17:25:41,335] Finished a trial resulted in value: 0.04195804195804198. Current best value is 0.027972027972028024 with parameters: {'n_round': 5, 'booster': 'dart', 'lambda': 0.0031461392818938005, 'alpha': 0.0012861694629960317, 'max_depth': 4, 'eta': 0.0001056814226002701, 'gamma': 6.331700092624553e-05, 'grow_policy': 'lossguide', 'sample_type': 'weighted', 'normalize_type': 'forest', 'rate_drop': 0.031782941706658595, 'skip_drop': 5.922702271277406e-07}.\n"
     ]
    },
    {
     "name": "stdout",
     "output_type": "stream",
     "text": [
      "[0]\tvalidation-error:0.097902\n",
      "[1]\tvalidation-error:0.076923\n",
      "[2]\tvalidation-error:0.062937\n",
      "[3]\tvalidation-error:0.062937\n",
      "[4]\tvalidation-error:0.062937\n",
      "[5]\tvalidation-error:0.048951\n",
      "[6]\tvalidation-error:0.062937\n",
      "[7]\tvalidation-error:0.055944\n",
      "[8]\tvalidation-error:0.055944\n"
     ]
    },
    {
     "name": "stderr",
     "output_type": "stream",
     "text": [
      "[I 2018-12-05 17:25:41,439] Finished a trial resulted in value: 0.05594405594405594. Current best value is 0.027972027972028024 with parameters: {'n_round': 5, 'booster': 'dart', 'lambda': 0.0031461392818938005, 'alpha': 0.0012861694629960317, 'max_depth': 4, 'eta': 0.0001056814226002701, 'gamma': 6.331700092624553e-05, 'grow_policy': 'lossguide', 'sample_type': 'weighted', 'normalize_type': 'forest', 'rate_drop': 0.031782941706658595, 'skip_drop': 5.922702271277406e-07}.\n"
     ]
    },
    {
     "name": "stdout",
     "output_type": "stream",
     "text": [
      "[0]\tvalidation-error:0.097902\n",
      "[1]\tvalidation-error:0.090909\n",
      "[2]\tvalidation-error:0.090909\n",
      "[3]\tvalidation-error:0.097902\n",
      "[4]\tvalidation-error:0.097902\n",
      "[5]\tvalidation-error:0.097902\n"
     ]
    },
    {
     "name": "stderr",
     "output_type": "stream",
     "text": [
      "[I 2018-12-05 17:25:41,491] Setting trial status as TrialState.PRUNED. Trial was pruned at iteration 6.\n"
     ]
    },
    {
     "name": "stdout",
     "output_type": "stream",
     "text": [
      "[0]\tvalidation-error:0.104895\n",
      "[1]\tvalidation-error:0.097902\n",
      "[2]\tvalidation-error:0.097902\n",
      "[3]\tvalidation-error:0.097902\n",
      "[4]\tvalidation-error:0.104895\n",
      "[5]\tvalidation-error:0.090909\n"
     ]
    },
    {
     "name": "stderr",
     "output_type": "stream",
     "text": [
      "[I 2018-12-05 17:25:41,546] Setting trial status as TrialState.PRUNED. Trial was pruned at iteration 6.\n"
     ]
    },
    {
     "name": "stdout",
     "output_type": "stream",
     "text": [
      "[0]\tvalidation-error:0.090909\n",
      "[1]\tvalidation-error:0.090909\n",
      "[2]\tvalidation-error:0.090909\n",
      "[3]\tvalidation-error:0.090909\n",
      "[4]\tvalidation-error:0.090909\n",
      "[5]\tvalidation-error:0.083916\n"
     ]
    },
    {
     "name": "stderr",
     "output_type": "stream",
     "text": [
      "[I 2018-12-05 17:25:41,601] Setting trial status as TrialState.PRUNED. Trial was pruned at iteration 6.\n"
     ]
    },
    {
     "name": "stdout",
     "output_type": "stream",
     "text": [
      "[0]\tvalidation-error:0.132867\n",
      "[1]\tvalidation-error:0.118881\n",
      "[2]\tvalidation-error:0.125874\n",
      "[3]\tvalidation-error:0.104895\n",
      "[4]\tvalidation-error:0.090909\n",
      "[5]\tvalidation-error:0.090909\n"
     ]
    },
    {
     "name": "stderr",
     "output_type": "stream",
     "text": [
      "[I 2018-12-05 17:25:41,656] Setting trial status as TrialState.PRUNED. Trial was pruned at iteration 6.\n"
     ]
    },
    {
     "name": "stdout",
     "output_type": "stream",
     "text": [
      "[0]\tvalidation-error:0.097902\n",
      "[1]\tvalidation-error:0.083916\n",
      "[2]\tvalidation-error:0.06993\n",
      "[3]\tvalidation-error:0.06993\n",
      "[4]\tvalidation-error:0.06993\n",
      "[5]\tvalidation-error:0.06993\n"
     ]
    },
    {
     "name": "stderr",
     "output_type": "stream",
     "text": [
      "[I 2018-12-05 17:25:41,734] Setting trial status as TrialState.PRUNED. Trial was pruned at iteration 6.\n"
     ]
    },
    {
     "name": "stdout",
     "output_type": "stream",
     "text": [
      "[0]\tvalidation-error:0.104895\n",
      "[1]\tvalidation-error:0.090909\n",
      "[2]\tvalidation-error:0.06993\n",
      "[3]\tvalidation-error:0.076923\n",
      "[4]\tvalidation-error:0.076923\n",
      "[5]\tvalidation-error:0.06993\n"
     ]
    },
    {
     "name": "stderr",
     "output_type": "stream",
     "text": [
      "[I 2018-12-05 17:25:41,811] Setting trial status as TrialState.PRUNED. Trial was pruned at iteration 6.\n"
     ]
    },
    {
     "name": "stdout",
     "output_type": "stream",
     "text": [
      "[0]\tvalidation-error:0.097902\n",
      "[1]\tvalidation-error:0.076923\n",
      "[2]\tvalidation-error:0.076923\n",
      "[3]\tvalidation-error:0.083916\n",
      "[4]\tvalidation-error:0.083916\n",
      "[5]\tvalidation-error:0.076923\n"
     ]
    },
    {
     "name": "stderr",
     "output_type": "stream",
     "text": [
      "[I 2018-12-05 17:25:41,889] Setting trial status as TrialState.PRUNED. Trial was pruned at iteration 6.\n"
     ]
    },
    {
     "name": "stdout",
     "output_type": "stream",
     "text": [
      "[0]\tvalidation-error:0.076923\n",
      "[1]\tvalidation-error:0.090909\n",
      "[2]\tvalidation-error:0.083916\n",
      "[3]\tvalidation-error:0.076923\n",
      "[4]\tvalidation-error:0.062937\n",
      "[5]\tvalidation-error:0.076923\n"
     ]
    },
    {
     "name": "stderr",
     "output_type": "stream",
     "text": [
      "[I 2018-12-05 17:25:41,971] Setting trial status as TrialState.PRUNED. Trial was pruned at iteration 6.\n"
     ]
    },
    {
     "name": "stdout",
     "output_type": "stream",
     "text": [
      "[0]\tvalidation-error:0.083916\n",
      "[1]\tvalidation-error:0.097902\n",
      "[2]\tvalidation-error:0.083916\n",
      "[3]\tvalidation-error:0.076923\n",
      "[4]\tvalidation-error:0.055944\n",
      "[5]\tvalidation-error:0.041958\n",
      "[6]\tvalidation-error:0.048951\n",
      "[7]\tvalidation-error:0.048951\n",
      "[8]\tvalidation-error:0.034965\n"
     ]
    },
    {
     "name": "stderr",
     "output_type": "stream",
     "text": [
      "[I 2018-12-05 17:25:42,075] Finished a trial resulted in value: 0.034965034965035. Current best value is 0.027972027972028024 with parameters: {'n_round': 5, 'booster': 'dart', 'lambda': 0.0031461392818938005, 'alpha': 0.0012861694629960317, 'max_depth': 4, 'eta': 0.0001056814226002701, 'gamma': 6.331700092624553e-05, 'grow_policy': 'lossguide', 'sample_type': 'weighted', 'normalize_type': 'forest', 'rate_drop': 0.031782941706658595, 'skip_drop': 5.922702271277406e-07}.\n"
     ]
    },
    {
     "name": "stdout",
     "output_type": "stream",
     "text": [
      "[0]\tvalidation-error:0.076923\n",
      "[1]\tvalidation-error:0.06993\n",
      "[2]\tvalidation-error:0.083916\n",
      "[3]\tvalidation-error:0.083916\n",
      "[4]\tvalidation-error:0.083916\n",
      "[5]\tvalidation-error:0.076923\n"
     ]
    },
    {
     "name": "stderr",
     "output_type": "stream",
     "text": [
      "[I 2018-12-05 17:25:42,134] Setting trial status as TrialState.PRUNED. Trial was pruned at iteration 6.\n"
     ]
    },
    {
     "name": "stdout",
     "output_type": "stream",
     "text": [
      "[0]\tvalidation-error:0.104895\n",
      "[1]\tvalidation-error:0.097902\n",
      "[2]\tvalidation-error:0.097902\n",
      "[3]\tvalidation-error:0.118881\n",
      "[4]\tvalidation-error:0.118881\n",
      "[5]\tvalidation-error:0.111888\n"
     ]
    },
    {
     "name": "stderr",
     "output_type": "stream",
     "text": [
      "[I 2018-12-05 17:25:42,191] Setting trial status as TrialState.PRUNED. Trial was pruned at iteration 6.\n"
     ]
    },
    {
     "name": "stdout",
     "output_type": "stream",
     "text": [
      "[0]\tvalidation-error:0.146853\n",
      "[1]\tvalidation-error:0.097902\n",
      "[2]\tvalidation-error:0.090909\n",
      "[3]\tvalidation-error:0.083916\n",
      "[4]\tvalidation-error:0.090909\n",
      "[5]\tvalidation-error:0.090909\n"
     ]
    },
    {
     "name": "stderr",
     "output_type": "stream",
     "text": [
      "[I 2018-12-05 17:25:42,252] Setting trial status as TrialState.PRUNED. Trial was pruned at iteration 6.\n"
     ]
    },
    {
     "name": "stdout",
     "output_type": "stream",
     "text": [
      "[0]\tvalidation-error:0.104895\n",
      "[1]\tvalidation-error:0.111888\n",
      "[2]\tvalidation-error:0.118881\n",
      "[3]\tvalidation-error:0.104895\n",
      "[4]\tvalidation-error:0.090909\n",
      "[5]\tvalidation-error:0.090909\n"
     ]
    },
    {
     "name": "stderr",
     "output_type": "stream",
     "text": [
      "[I 2018-12-05 17:25:42,311] Setting trial status as TrialState.PRUNED. Trial was pruned at iteration 6.\n"
     ]
    },
    {
     "name": "stdout",
     "output_type": "stream",
     "text": [
      "[0]\tvalidation-error:0.132867\n",
      "[1]\tvalidation-error:0.111888\n",
      "[2]\tvalidation-error:0.097902\n",
      "[3]\tvalidation-error:0.104895\n",
      "[4]\tvalidation-error:0.104895\n",
      "[5]\tvalidation-error:0.097902\n"
     ]
    },
    {
     "name": "stderr",
     "output_type": "stream",
     "text": [
      "[I 2018-12-05 17:25:42,373] Setting trial status as TrialState.PRUNED. Trial was pruned at iteration 6.\n"
     ]
    },
    {
     "name": "stdout",
     "output_type": "stream",
     "text": [
      "[0]\tvalidation-error:0.104895\n",
      "[1]\tvalidation-error:0.090909\n",
      "[2]\tvalidation-error:0.083916\n",
      "[3]\tvalidation-error:0.083916\n",
      "[4]\tvalidation-error:0.076923\n",
      "[5]\tvalidation-error:0.06993\n"
     ]
    },
    {
     "name": "stderr",
     "output_type": "stream",
     "text": [
      "[I 2018-12-05 17:25:42,435] Setting trial status as TrialState.PRUNED. Trial was pruned at iteration 6.\n"
     ]
    },
    {
     "name": "stdout",
     "output_type": "stream",
     "text": [
      "[0]\tvalidation-error:0.132867\n",
      "[1]\tvalidation-error:0.111888\n",
      "[2]\tvalidation-error:0.111888\n",
      "[3]\tvalidation-error:0.111888\n",
      "[4]\tvalidation-error:0.111888\n",
      "[5]\tvalidation-error:0.111888\n"
     ]
    },
    {
     "name": "stderr",
     "output_type": "stream",
     "text": [
      "[I 2018-12-05 17:25:42,495] Setting trial status as TrialState.PRUNED. Trial was pruned at iteration 6.\n"
     ]
    },
    {
     "name": "stdout",
     "output_type": "stream",
     "text": [
      "[0]\tvalidation-error:0.104895\n",
      "[1]\tvalidation-error:0.076923\n",
      "[2]\tvalidation-error:0.055944\n",
      "[3]\tvalidation-error:0.055944\n",
      "[4]\tvalidation-error:0.048951\n",
      "[5]\tvalidation-error:0.034965\n",
      "[6]\tvalidation-error:0.034965\n",
      "[7]\tvalidation-error:0.041958\n",
      "[8]\tvalidation-error:0.041958\n"
     ]
    },
    {
     "name": "stderr",
     "output_type": "stream",
     "text": [
      "[I 2018-12-05 17:25:42,580] Finished a trial resulted in value: 0.04195804195804198. Current best value is 0.027972027972028024 with parameters: {'n_round': 5, 'booster': 'dart', 'lambda': 0.0031461392818938005, 'alpha': 0.0012861694629960317, 'max_depth': 4, 'eta': 0.0001056814226002701, 'gamma': 6.331700092624553e-05, 'grow_policy': 'lossguide', 'sample_type': 'weighted', 'normalize_type': 'forest', 'rate_drop': 0.031782941706658595, 'skip_drop': 5.922702271277406e-07}.\n"
     ]
    },
    {
     "name": "stdout",
     "output_type": "stream",
     "text": [
      "[0]\tvalidation-error:0.090909\n",
      "[1]\tvalidation-error:0.083916\n",
      "[2]\tvalidation-error:0.083916\n",
      "[3]\tvalidation-error:0.083916\n",
      "[4]\tvalidation-error:0.083916\n",
      "[5]\tvalidation-error:0.083916\n"
     ]
    },
    {
     "name": "stderr",
     "output_type": "stream",
     "text": [
      "[I 2018-12-05 17:25:42,683] Setting trial status as TrialState.PRUNED. Trial was pruned at iteration 6.\n"
     ]
    },
    {
     "name": "stdout",
     "output_type": "stream",
     "text": [
      "[0]\tvalidation-error:0.062937\n",
      "[1]\tvalidation-error:0.055944\n",
      "[2]\tvalidation-error:0.062937\n",
      "[3]\tvalidation-error:0.055944\n",
      "[4]\tvalidation-error:0.048951\n",
      "[5]\tvalidation-error:0.048951\n",
      "[6]\tvalidation-error:0.048951\n",
      "[7]\tvalidation-error:0.048951\n"
     ]
    },
    {
     "name": "stderr",
     "output_type": "stream",
     "text": [
      "[I 2018-12-05 17:25:42,803] Setting trial status as TrialState.PRUNED. Trial was pruned at iteration 8.\n"
     ]
    },
    {
     "name": "stdout",
     "output_type": "stream",
     "text": [
      "[0]\tvalidation-error:0.076923\n",
      "[1]\tvalidation-error:0.076923\n",
      "[2]\tvalidation-error:0.076923\n",
      "[3]\tvalidation-error:0.06993\n",
      "[4]\tvalidation-error:0.06993\n",
      "[5]\tvalidation-error:0.062937\n",
      "[6]\tvalidation-error:0.048951\n",
      "[7]\tvalidation-error:0.048951\n"
     ]
    },
    {
     "name": "stderr",
     "output_type": "stream",
     "text": [
      "[I 2018-12-05 17:25:42,923] Setting trial status as TrialState.PRUNED. Trial was pruned at iteration 8.\n"
     ]
    },
    {
     "name": "stdout",
     "output_type": "stream",
     "text": [
      "[0]\tvalidation-error:0.027972\n",
      "[1]\tvalidation-error:0.027972\n",
      "[2]\tvalidation-error:0.027972\n",
      "[3]\tvalidation-error:0.027972\n",
      "[4]\tvalidation-error:0.027972\n",
      "[5]\tvalidation-error:0.027972\n",
      "[6]\tvalidation-error:0.027972\n",
      "[7]\tvalidation-error:0.013986\n",
      "[8]\tvalidation-error:0.013986\n"
     ]
    },
    {
     "name": "stderr",
     "output_type": "stream",
     "text": [
      "[I 2018-12-05 17:25:43,054] Finished a trial resulted in value: 0.013986013986013957. Current best value is 0.013986013986013957 with parameters: {'n_round': 9, 'booster': 'dart', 'lambda': 1.2186895878330335e-08, 'alpha': 1.8645474494305143e-08, 'max_depth': 9, 'eta': 0.3349503686607608, 'gamma': 1.3475964627637423e-07, 'grow_policy': 'lossguide', 'sample_type': 'weighted', 'normalize_type': 'forest', 'rate_drop': 0.0051076290771565735, 'skip_drop': 0.00015105908837443943}.\n"
     ]
    },
    {
     "name": "stdout",
     "output_type": "stream",
     "text": [
      "[0]\tvalidation-error:0.083916\n",
      "[1]\tvalidation-error:0.090909\n",
      "[2]\tvalidation-error:0.076923\n",
      "[3]\tvalidation-error:0.062937\n",
      "[4]\tvalidation-error:0.06993\n",
      "[5]\tvalidation-error:0.06993\n"
     ]
    },
    {
     "name": "stderr",
     "output_type": "stream",
     "text": [
      "[I 2018-12-05 17:25:43,159] Setting trial status as TrialState.PRUNED. Trial was pruned at iteration 6.\n"
     ]
    },
    {
     "name": "stdout",
     "output_type": "stream",
     "text": [
      "[0]\tvalidation-error:0.076923\n",
      "[1]\tvalidation-error:0.090909\n",
      "[2]\tvalidation-error:0.06993\n",
      "[3]\tvalidation-error:0.076923\n",
      "[4]\tvalidation-error:0.062937\n",
      "[5]\tvalidation-error:0.062937\n"
     ]
    },
    {
     "name": "stderr",
     "output_type": "stream",
     "text": [
      "[I 2018-12-05 17:25:43,266] Setting trial status as TrialState.PRUNED. Trial was pruned at iteration 6.\n"
     ]
    },
    {
     "name": "stdout",
     "output_type": "stream",
     "text": [
      "[0]\tvalidation-error:0.048951\n",
      "[1]\tvalidation-error:0.041958\n",
      "[2]\tvalidation-error:0.013986\n",
      "[3]\tvalidation-error:0.020979\n",
      "[4]\tvalidation-error:0.006993\n",
      "[5]\tvalidation-error:0.006993\n",
      "[6]\tvalidation-error:0.013986\n"
     ]
    },
    {
     "name": "stderr",
     "output_type": "stream",
     "text": [
      "[I 2018-12-05 17:25:43,382] Finished a trial resulted in value: 0.013986013986013957. Current best value is 0.013986013986013957 with parameters: {'n_round': 9, 'booster': 'dart', 'lambda': 1.2186895878330335e-08, 'alpha': 1.8645474494305143e-08, 'max_depth': 9, 'eta': 0.3349503686607608, 'gamma': 1.3475964627637423e-07, 'grow_policy': 'lossguide', 'sample_type': 'weighted', 'normalize_type': 'forest', 'rate_drop': 0.0051076290771565735, 'skip_drop': 0.00015105908837443943}.\n"
     ]
    },
    {
     "name": "stdout",
     "output_type": "stream",
     "text": [
      "[0]\tvalidation-error:0.06993\n",
      "[1]\tvalidation-error:0.062937\n",
      "[2]\tvalidation-error:0.062937\n",
      "[3]\tvalidation-error:0.048951\n",
      "[4]\tvalidation-error:0.055944\n",
      "[5]\tvalidation-error:0.048951\n",
      "[6]\tvalidation-error:0.048951\n",
      "[7]\tvalidation-error:0.048951\n",
      "[8]\tvalidation-error:0.041958\n"
     ]
    },
    {
     "name": "stderr",
     "output_type": "stream",
     "text": [
      "[I 2018-12-05 17:25:43,516] Finished a trial resulted in value: 0.04195804195804198. Current best value is 0.013986013986013957 with parameters: {'n_round': 9, 'booster': 'dart', 'lambda': 1.2186895878330335e-08, 'alpha': 1.8645474494305143e-08, 'max_depth': 9, 'eta': 0.3349503686607608, 'gamma': 1.3475964627637423e-07, 'grow_policy': 'lossguide', 'sample_type': 'weighted', 'normalize_type': 'forest', 'rate_drop': 0.0051076290771565735, 'skip_drop': 0.00015105908837443943}.\n"
     ]
    },
    {
     "name": "stdout",
     "output_type": "stream",
     "text": [
      "[0]\tvalidation-error:0.097902\n",
      "[1]\tvalidation-error:0.076923\n",
      "[2]\tvalidation-error:0.062937\n",
      "[3]\tvalidation-error:0.055944\n",
      "[4]\tvalidation-error:0.048951\n",
      "[5]\tvalidation-error:0.048951\n",
      "[6]\tvalidation-error:0.048951\n",
      "[7]\tvalidation-error:0.048951\n"
     ]
    },
    {
     "name": "stderr",
     "output_type": "stream",
     "text": [
      "[I 2018-12-05 17:25:43,643] Setting trial status as TrialState.PRUNED. Trial was pruned at iteration 8.\n"
     ]
    },
    {
     "name": "stdout",
     "output_type": "stream",
     "text": [
      "[0]\tvalidation-error:0.076923\n",
      "[1]\tvalidation-error:0.090909\n",
      "[2]\tvalidation-error:0.097902\n",
      "[3]\tvalidation-error:0.076923\n",
      "[4]\tvalidation-error:0.076923\n",
      "[5]\tvalidation-error:0.076923\n"
     ]
    },
    {
     "name": "stderr",
     "output_type": "stream",
     "text": [
      "[I 2018-12-05 17:25:43,756] Setting trial status as TrialState.PRUNED. Trial was pruned at iteration 6.\n"
     ]
    },
    {
     "name": "stdout",
     "output_type": "stream",
     "text": [
      "[0]\tvalidation-error:0.041958\n",
      "[1]\tvalidation-error:0.027972\n",
      "[2]\tvalidation-error:0.027972\n",
      "[3]\tvalidation-error:0.034965\n",
      "[4]\tvalidation-error:0.020979\n",
      "[5]\tvalidation-error:0.034965\n",
      "[6]\tvalidation-error:0.020979\n",
      "[7]\tvalidation-error:0.013986\n",
      "[8]\tvalidation-error:0.013986\n"
     ]
    },
    {
     "name": "stderr",
     "output_type": "stream",
     "text": [
      "[I 2018-12-05 17:25:43,900] Finished a trial resulted in value: 0.013986013986013957. Current best value is 0.013986013986013957 with parameters: {'n_round': 9, 'booster': 'dart', 'lambda': 1.2186895878330335e-08, 'alpha': 1.8645474494305143e-08, 'max_depth': 9, 'eta': 0.3349503686607608, 'gamma': 1.3475964627637423e-07, 'grow_policy': 'lossguide', 'sample_type': 'weighted', 'normalize_type': 'forest', 'rate_drop': 0.0051076290771565735, 'skip_drop': 0.00015105908837443943}.\n"
     ]
    },
    {
     "name": "stdout",
     "output_type": "stream",
     "text": [
      "[0]\tvalidation-error:0.104895\n",
      "[1]\tvalidation-error:0.104895\n",
      "[2]\tvalidation-error:0.104895\n",
      "[3]\tvalidation-error:0.090909\n",
      "[4]\tvalidation-error:0.083916\n",
      "[5]\tvalidation-error:0.090909\n"
     ]
    },
    {
     "name": "stderr",
     "output_type": "stream",
     "text": [
      "[I 2018-12-05 17:25:44,015] Setting trial status as TrialState.PRUNED. Trial was pruned at iteration 6.\n"
     ]
    },
    {
     "name": "stdout",
     "output_type": "stream",
     "text": [
      "[0]\tvalidation-error:0.076923\n",
      "[1]\tvalidation-error:0.076923\n",
      "[2]\tvalidation-error:0.055944\n",
      "[3]\tvalidation-error:0.055944\n",
      "[4]\tvalidation-error:0.048951\n",
      "[5]\tvalidation-error:0.055944\n",
      "[6]\tvalidation-error:0.062937\n",
      "[7]\tvalidation-error:0.055944\n"
     ]
    },
    {
     "name": "stderr",
     "output_type": "stream",
     "text": [
      "[I 2018-12-05 17:25:44,155] Setting trial status as TrialState.PRUNED. Trial was pruned at iteration 8.\n"
     ]
    },
    {
     "name": "stdout",
     "output_type": "stream",
     "text": [
      "[0]\tvalidation-error:0.083916\n",
      "[1]\tvalidation-error:0.083916\n",
      "[2]\tvalidation-error:0.062937\n",
      "[3]\tvalidation-error:0.06993\n",
      "[4]\tvalidation-error:0.06993\n",
      "[5]\tvalidation-error:0.076923\n"
     ]
    },
    {
     "name": "stderr",
     "output_type": "stream",
     "text": [
      "[I 2018-12-05 17:25:44,273] Setting trial status as TrialState.PRUNED. Trial was pruned at iteration 6.\n"
     ]
    },
    {
     "name": "stdout",
     "output_type": "stream",
     "text": [
      "[0]\tvalidation-error:0.062937\n",
      "[1]\tvalidation-error:0.06993\n",
      "[2]\tvalidation-error:0.062937\n",
      "[3]\tvalidation-error:0.055944\n",
      "[4]\tvalidation-error:0.06993\n",
      "[5]\tvalidation-error:0.055944\n"
     ]
    },
    {
     "name": "stderr",
     "output_type": "stream",
     "text": [
      "[I 2018-12-05 17:25:44,391] Setting trial status as TrialState.PRUNED. Trial was pruned at iteration 6.\n"
     ]
    },
    {
     "name": "stdout",
     "output_type": "stream",
     "text": [
      "[0]\tvalidation-error:0.048951\n",
      "[1]\tvalidation-error:0.048951\n",
      "[2]\tvalidation-error:0.048951\n",
      "[3]\tvalidation-error:0.055944\n",
      "[4]\tvalidation-error:0.041958\n",
      "[5]\tvalidation-error:0.041958\n",
      "[6]\tvalidation-error:0.034965\n",
      "[7]\tvalidation-error:0.034965\n",
      "[8]\tvalidation-error:0.034965\n"
     ]
    },
    {
     "name": "stderr",
     "output_type": "stream",
     "text": [
      "[I 2018-12-05 17:25:44,543] Finished a trial resulted in value: 0.034965034965035. Current best value is 0.013986013986013957 with parameters: {'n_round': 9, 'booster': 'dart', 'lambda': 1.2186895878330335e-08, 'alpha': 1.8645474494305143e-08, 'max_depth': 9, 'eta': 0.3349503686607608, 'gamma': 1.3475964627637423e-07, 'grow_policy': 'lossguide', 'sample_type': 'weighted', 'normalize_type': 'forest', 'rate_drop': 0.0051076290771565735, 'skip_drop': 0.00015105908837443943}.\n"
     ]
    },
    {
     "name": "stdout",
     "output_type": "stream",
     "text": [
      "[0]\tvalidation-error:0.055944\n",
      "[1]\tvalidation-error:0.048951\n",
      "[2]\tvalidation-error:0.034965\n",
      "[3]\tvalidation-error:0.034965\n",
      "[4]\tvalidation-error:0.027972\n",
      "[5]\tvalidation-error:0.027972\n",
      "[6]\tvalidation-error:0.034965\n",
      "[7]\tvalidation-error:0.020979\n",
      "[8]\tvalidation-error:0.027972\n"
     ]
    },
    {
     "name": "stderr",
     "output_type": "stream",
     "text": [
      "[I 2018-12-05 17:25:44,698] Finished a trial resulted in value: 0.027972027972028024. Current best value is 0.013986013986013957 with parameters: {'n_round': 9, 'booster': 'dart', 'lambda': 1.2186895878330335e-08, 'alpha': 1.8645474494305143e-08, 'max_depth': 9, 'eta': 0.3349503686607608, 'gamma': 1.3475964627637423e-07, 'grow_policy': 'lossguide', 'sample_type': 'weighted', 'normalize_type': 'forest', 'rate_drop': 0.0051076290771565735, 'skip_drop': 0.00015105908837443943}.\n"
     ]
    },
    {
     "name": "stdout",
     "output_type": "stream",
     "text": [
      "[0]\tvalidation-error:0.055944\n",
      "[1]\tvalidation-error:0.055944\n",
      "[2]\tvalidation-error:0.034965\n",
      "[3]\tvalidation-error:0.034965\n",
      "[4]\tvalidation-error:0.020979\n",
      "[5]\tvalidation-error:0.027972\n",
      "[6]\tvalidation-error:0.020979\n",
      "[7]\tvalidation-error:0.020979\n",
      "[8]\tvalidation-error:0.020979\n"
     ]
    },
    {
     "name": "stderr",
     "output_type": "stream",
     "text": [
      "[I 2018-12-05 17:25:44,848] Finished a trial resulted in value: 0.020979020979020935. Current best value is 0.013986013986013957 with parameters: {'n_round': 9, 'booster': 'dart', 'lambda': 1.2186895878330335e-08, 'alpha': 1.8645474494305143e-08, 'max_depth': 9, 'eta': 0.3349503686607608, 'gamma': 1.3475964627637423e-07, 'grow_policy': 'lossguide', 'sample_type': 'weighted', 'normalize_type': 'forest', 'rate_drop': 0.0051076290771565735, 'skip_drop': 0.00015105908837443943}.\n"
     ]
    },
    {
     "name": "stdout",
     "output_type": "stream",
     "text": [
      "[0]\tvalidation-error:0.111888\n",
      "[1]\tvalidation-error:0.104895\n",
      "[2]\tvalidation-error:0.111888\n",
      "[3]\tvalidation-error:0.097902\n",
      "[4]\tvalidation-error:0.090909\n",
      "[5]\tvalidation-error:0.097902\n"
     ]
    },
    {
     "name": "stderr",
     "output_type": "stream",
     "text": [
      "[I 2018-12-05 17:25:44,920] Setting trial status as TrialState.PRUNED. Trial was pruned at iteration 6.\n"
     ]
    },
    {
     "name": "stdout",
     "output_type": "stream",
     "text": [
      "[0]\tvalidation-error:0.104895\n",
      "[1]\tvalidation-error:0.090909\n",
      "[2]\tvalidation-error:0.076923\n",
      "[3]\tvalidation-error:0.06993\n",
      "[4]\tvalidation-error:0.076923\n",
      "[5]\tvalidation-error:0.06993\n"
     ]
    },
    {
     "name": "stderr",
     "output_type": "stream",
     "text": [
      "[I 2018-12-05 17:25:44,995] Setting trial status as TrialState.PRUNED. Trial was pruned at iteration 6.\n"
     ]
    },
    {
     "name": "stdout",
     "output_type": "stream",
     "text": [
      "[0]\tvalidation-error:0.146853\n",
      "[1]\tvalidation-error:0.132867\n",
      "[2]\tvalidation-error:0.132867\n",
      "[3]\tvalidation-error:0.111888\n",
      "[4]\tvalidation-error:0.083916\n",
      "[5]\tvalidation-error:0.083916\n"
     ]
    },
    {
     "name": "stderr",
     "output_type": "stream",
     "text": [
      "[I 2018-12-05 17:25:45,073] Setting trial status as TrialState.PRUNED. Trial was pruned at iteration 6.\n"
     ]
    },
    {
     "name": "stdout",
     "output_type": "stream",
     "text": [
      "[0]\tvalidation-error:0.111888\n",
      "[1]\tvalidation-error:0.083916\n",
      "[2]\tvalidation-error:0.090909\n",
      "[3]\tvalidation-error:0.097902\n",
      "[4]\tvalidation-error:0.097902\n",
      "[5]\tvalidation-error:0.097902\n"
     ]
    },
    {
     "name": "stderr",
     "output_type": "stream",
     "text": [
      "[I 2018-12-05 17:25:45,153] Setting trial status as TrialState.PRUNED. Trial was pruned at iteration 6.\n"
     ]
    },
    {
     "name": "stdout",
     "output_type": "stream",
     "text": [
      "[0]\tvalidation-error:0.062937\n",
      "[1]\tvalidation-error:0.076923\n",
      "[2]\tvalidation-error:0.06993\n",
      "[3]\tvalidation-error:0.062937\n",
      "[4]\tvalidation-error:0.055944\n",
      "[5]\tvalidation-error:0.048951\n",
      "[6]\tvalidation-error:0.055944\n",
      "[7]\tvalidation-error:0.055944\n"
     ]
    },
    {
     "name": "stderr",
     "output_type": "stream",
     "text": [
      "[I 2018-12-05 17:25:45,249] Setting trial status as TrialState.PRUNED. Trial was pruned at iteration 8.\n"
     ]
    },
    {
     "name": "stdout",
     "output_type": "stream",
     "text": [
      "[0]\tvalidation-error:0.118881\n",
      "[1]\tvalidation-error:0.111888\n",
      "[2]\tvalidation-error:0.090909\n",
      "[3]\tvalidation-error:0.083916\n",
      "[4]\tvalidation-error:0.076923\n",
      "[5]\tvalidation-error:0.06993\n"
     ]
    },
    {
     "name": "stderr",
     "output_type": "stream",
     "text": [
      "[I 2018-12-05 17:25:45,324] Setting trial status as TrialState.PRUNED. Trial was pruned at iteration 6.\n"
     ]
    },
    {
     "name": "stdout",
     "output_type": "stream",
     "text": [
      "[0]\tvalidation-error:0.132867\n",
      "[1]\tvalidation-error:0.118881\n",
      "[2]\tvalidation-error:0.097902\n",
      "[3]\tvalidation-error:0.104895\n",
      "[4]\tvalidation-error:0.104895\n",
      "[5]\tvalidation-error:0.097902\n"
     ]
    },
    {
     "name": "stderr",
     "output_type": "stream",
     "text": [
      "[I 2018-12-05 17:25:45,404] Setting trial status as TrialState.PRUNED. Trial was pruned at iteration 6.\n"
     ]
    },
    {
     "name": "stdout",
     "output_type": "stream",
     "text": [
      "[0]\tvalidation-error:0.167832\n",
      "[1]\tvalidation-error:0.146853\n",
      "[2]\tvalidation-error:0.13986\n",
      "[3]\tvalidation-error:0.125874\n",
      "[4]\tvalidation-error:0.118881\n",
      "[5]\tvalidation-error:0.090909\n"
     ]
    },
    {
     "name": "stderr",
     "output_type": "stream",
     "text": [
      "[I 2018-12-05 17:25:45,483] Setting trial status as TrialState.PRUNED. Trial was pruned at iteration 6.\n"
     ]
    },
    {
     "name": "stdout",
     "output_type": "stream",
     "text": [
      "[0]\tvalidation-error:0.104895\n",
      "[1]\tvalidation-error:0.083916\n",
      "[2]\tvalidation-error:0.090909\n",
      "[3]\tvalidation-error:0.090909\n",
      "[4]\tvalidation-error:0.090909\n",
      "[5]\tvalidation-error:0.083916\n"
     ]
    },
    {
     "name": "stderr",
     "output_type": "stream",
     "text": [
      "[I 2018-12-05 17:25:45,563] Setting trial status as TrialState.PRUNED. Trial was pruned at iteration 6.\n"
     ]
    },
    {
     "name": "stdout",
     "output_type": "stream",
     "text": [
      "[0]\tvalidation-error:0.118881\n",
      "[1]\tvalidation-error:0.104895\n",
      "[2]\tvalidation-error:0.097902\n",
      "[3]\tvalidation-error:0.083916\n",
      "[4]\tvalidation-error:0.06993\n",
      "[5]\tvalidation-error:0.06993\n"
     ]
    },
    {
     "name": "stderr",
     "output_type": "stream",
     "text": [
      "[I 2018-12-05 17:25:45,641] Setting trial status as TrialState.PRUNED. Trial was pruned at iteration 6.\n"
     ]
    },
    {
     "name": "stdout",
     "output_type": "stream",
     "text": [
      "[0]\tvalidation-error:0.104895\n",
      "[1]\tvalidation-error:0.097902\n",
      "[2]\tvalidation-error:0.06993\n",
      "[3]\tvalidation-error:0.06993\n",
      "[4]\tvalidation-error:0.055944\n",
      "[5]\tvalidation-error:0.048951\n",
      "[6]\tvalidation-error:0.048951\n",
      "[7]\tvalidation-error:0.048951\n"
     ]
    },
    {
     "name": "stderr",
     "output_type": "stream",
     "text": [
      "[I 2018-12-05 17:25:45,744] Setting trial status as TrialState.PRUNED. Trial was pruned at iteration 8.\n"
     ]
    },
    {
     "name": "stdout",
     "output_type": "stream",
     "text": [
      "[0]\tvalidation-error:0.146853\n",
      "[1]\tvalidation-error:0.118881\n",
      "[2]\tvalidation-error:0.104895\n",
      "[3]\tvalidation-error:0.118881\n",
      "[4]\tvalidation-error:0.111888\n",
      "[5]\tvalidation-error:0.097902\n"
     ]
    },
    {
     "name": "stderr",
     "output_type": "stream",
     "text": [
      "[I 2018-12-05 17:25:45,823] Setting trial status as TrialState.PRUNED. Trial was pruned at iteration 6.\n"
     ]
    },
    {
     "name": "stdout",
     "output_type": "stream",
     "text": [
      "[0]\tvalidation-error:0.118881\n",
      "[1]\tvalidation-error:0.111888\n",
      "[2]\tvalidation-error:0.083916\n",
      "[3]\tvalidation-error:0.076923\n",
      "[4]\tvalidation-error:0.062937\n",
      "[5]\tvalidation-error:0.06993\n"
     ]
    },
    {
     "name": "stderr",
     "output_type": "stream",
     "text": [
      "[I 2018-12-05 17:25:45,904] Setting trial status as TrialState.PRUNED. Trial was pruned at iteration 6.\n"
     ]
    },
    {
     "name": "stdout",
     "output_type": "stream",
     "text": [
      "FrozenTrial(trial_id=72, state=<TrialState.COMPLETE: 1>, value=0.013986013986013957, datetime_start=datetime.datetime(2018, 12, 5, 17, 25, 42, 925454), datetime_complete=datetime.datetime(2018, 12, 5, 17, 25, 43, 48130), params={'n_round': 9, 'booster': 'dart', 'lambda': 1.2186895878330335e-08, 'alpha': 1.8645474494305143e-08, 'max_depth': 9, 'eta': 0.3349503686607608, 'gamma': 1.3475964627637423e-07, 'grow_policy': 'lossguide', 'sample_type': 'weighted', 'normalize_type': 'forest', 'rate_drop': 0.0051076290771565735, 'skip_drop': 0.00015105908837443943}, user_attrs={}, system_attrs={}, intermediate_values={0: 0.027972, 1: 0.027972, 2: 0.027972, 3: 0.027972, 4: 0.027972, 5: 0.027972, 6: 0.027972, 7: 0.013986, 8: 0.013986}, params_in_internal_repr={'n_round': 9, 'booster': 2, 'lambda': 1.2186895878330335e-08, 'alpha': 1.8645474494305143e-08, 'max_depth': 9, 'eta': 0.3349503686607608, 'gamma': 1.3475964627637423e-07, 'grow_policy': 1, 'sample_type': 1, 'normalize_type': 1, 'rate_drop': 0.0051076290771565735, 'skip_drop': 0.00015105908837443943})\n"
     ]
    }
   ],
   "source": [
    "study = optuna.create_study(pruner=optuna.pruners.MedianPruner(n_warmup_steps=5))\n",
    "study.optimize(objective, n_trials=100)\n",
    "print(study.best_trial)"
   ]
  },
  {
   "cell_type": "markdown",
   "metadata": {},
   "source": [
    "#### [トップへ](#top)"
   ]
  }
 ],
 "metadata": {
  "kernelspec": {
   "display_name": "Python 3",
   "language": "python",
   "name": "python3"
  },
  "language_info": {
   "codemirror_mode": {
    "name": "ipython",
    "version": 3
   },
   "file_extension": ".py",
   "mimetype": "text/x-python",
   "name": "python",
   "nbconvert_exporter": "python",
   "pygments_lexer": "ipython3",
   "version": "3.6.5"
  }
 },
 "nbformat": 4,
 "nbformat_minor": 2
}
