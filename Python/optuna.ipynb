{
 "cells": [
  {
   "cell_type": "markdown",
   "metadata": {},
   "source": [
    "<a name=\"top\"></a>\n",
    "# optunaのTutorial :\n",
    "- [TutorialのURL](https://optuna.readthedocs.io/en/stable/tutorial/index.html)\n",
    "- [GitHub](https://github.com/pfnet/optuna)\n",
    "- [First Optimization](#first_optimization)\n",
    "    - [二次関数の最小化](#quadratic)\n",
    "- [Advanced Configurations](#advanced_configurations)\n",
    "    - [scikit-learnの実装例 (Irisデータ)](#sklearn_iris)\n",
    "    - [xgboostの実装例 (cancerデータ)](#xgboost_cancer)\n",
    "- [Pruning Unpromising Trials](#pruning)\n",
    "    - [scikit-learnの実装例](#sklearn_pruning)\n",
    "    - [xgboostの実装例](#xgboost_pruning)"
   ]
  },
  {
   "cell_type": "markdown",
   "metadata": {},
   "source": [
    "<a name=\"first_optimization\"></a>\n",
    "## First Optimization\n",
    "- [公式サイト](https://optuna.readthedocs.io/en/stable/tutorial/first.html)"
   ]
  },
  {
   "cell_type": "code",
   "execution_count": 1,
   "metadata": {},
   "outputs": [],
   "source": [
    "import optuna"
   ]
  },
  {
   "cell_type": "markdown",
   "metadata": {},
   "source": [
    "<a name=\"quadratic\"></a>\n",
    "### 二次関数の最小値を探索する最適化問題\n",
    "- `objective`で定義される二次関数の最小値を探索する\n",
    "- 最適値は`x=2`"
   ]
  },
  {
   "cell_type": "markdown",
   "metadata": {},
   "source": [
    "#### 最小化したい目的関数の定義\n",
    "- 最適化の過程で`suggest_uniform`が呼ばれる\n",
    "- trial.suggest_uniform は`('name', range_min, range_max)`で指定, 'name'はxである必要はない\n",
    "- `return`で目的関数を返す"
   ]
  },
  {
   "cell_type": "code",
   "execution_count": 2,
   "metadata": {},
   "outputs": [],
   "source": [
    "def objective(trial):\n",
    "    \"\"\" 目的関数 \"\"\"\n",
    "    x = trial.suggest_uniform('x', -10, 10)\n",
    "    return (x - 2) ** 2"
   ]
  },
  {
   "cell_type": "markdown",
   "metadata": {},
   "source": [
    "#### 最適化\n",
    "- `study`オブジェクトを生成して、`optimize`メソッドに目的関数`objective`を渡す"
   ]
  },
  {
   "cell_type": "code",
   "execution_count": 3,
   "metadata": {},
   "outputs": [
    {
     "name": "stderr",
     "output_type": "stream",
     "text": [
      "[I 2018-12-05 03:57:10,830] Finished a trial resulted in value: 8.090362528567963. Current best value is 8.090362528567963 with parameters: {'x': -0.8443562590800688}.\n",
      "[I 2018-12-05 03:57:10,832] Finished a trial resulted in value: 98.08979376324466. Current best value is 8.090362528567963 with parameters: {'x': -0.8443562590800688}.\n",
      "[I 2018-12-05 03:57:10,834] Finished a trial resulted in value: 9.389921340182921. Current best value is 8.090362528567963 with parameters: {'x': -0.8443562590800688}.\n",
      "[I 2018-12-05 03:57:10,836] Finished a trial resulted in value: 96.42136764019976. Current best value is 8.090362528567963 with parameters: {'x': -0.8443562590800688}.\n",
      "[I 2018-12-05 03:57:10,838] Finished a trial resulted in value: 0.0877042626971673. Current best value is 0.0877042626971673 with parameters: {'x': 2.296149054864552}.\n",
      "[I 2018-12-05 03:57:10,841] Finished a trial resulted in value: 1.1374335892826002. Current best value is 0.0877042626971673 with parameters: {'x': 2.296149054864552}.\n",
      "[I 2018-12-05 03:57:10,844] Finished a trial resulted in value: 29.338787931391. Current best value is 0.0877042626971673 with parameters: {'x': 2.296149054864552}.\n",
      "[I 2018-12-05 03:57:10,846] Finished a trial resulted in value: 62.56099608385786. Current best value is 0.0877042626971673 with parameters: {'x': 2.296149054864552}.\n",
      "[I 2018-12-05 03:57:10,848] Finished a trial resulted in value: 45.39753536870892. Current best value is 0.0877042626971673 with parameters: {'x': 2.296149054864552}.\n",
      "[I 2018-12-05 03:57:10,850] Finished a trial resulted in value: 37.076866836793435. Current best value is 0.0877042626971673 with parameters: {'x': 2.296149054864552}.\n",
      "[I 2018-12-05 03:57:10,855] Finished a trial resulted in value: 60.24005138306182. Current best value is 0.0877042626971673 with parameters: {'x': 2.296149054864552}.\n",
      "[I 2018-12-05 03:57:10,859] Finished a trial resulted in value: 62.60765424867775. Current best value is 0.0877042626971673 with parameters: {'x': 2.296149054864552}.\n",
      "[I 2018-12-05 03:57:10,863] Finished a trial resulted in value: 54.20370653460849. Current best value is 0.0877042626971673 with parameters: {'x': 2.296149054864552}.\n",
      "[I 2018-12-05 03:57:10,870] Finished a trial resulted in value: 45.95920713869576. Current best value is 0.0877042626971673 with parameters: {'x': 2.296149054864552}.\n",
      "[I 2018-12-05 03:57:10,877] Finished a trial resulted in value: 20.821056171853858. Current best value is 0.0877042626971673 with parameters: {'x': 2.296149054864552}.\n",
      "[I 2018-12-05 03:57:10,881] Finished a trial resulted in value: 0.08038051388163421. Current best value is 0.08038051388163421 with parameters: {'x': 2.2835145743725254}.\n",
      "[I 2018-12-05 03:57:10,885] Finished a trial resulted in value: 0.11100308543951898. Current best value is 0.08038051388163421 with parameters: {'x': 2.2835145743725254}.\n",
      "[I 2018-12-05 03:57:10,890] Finished a trial resulted in value: 9.394548597158423. Current best value is 0.08038051388163421 with parameters: {'x': 2.2835145743725254}.\n",
      "[I 2018-12-05 03:57:10,898] Finished a trial resulted in value: 2.939243792250339. Current best value is 0.08038051388163421 with parameters: {'x': 2.2835145743725254}.\n",
      "[I 2018-12-05 03:57:10,904] Finished a trial resulted in value: 0.0005342788298354124. Current best value is 0.0005342788298354124 with parameters: {'x': 2.0231144723027676}.\n",
      "[I 2018-12-05 03:57:10,910] Finished a trial resulted in value: 1.871228139310377. Current best value is 0.0005342788298354124 with parameters: {'x': 2.0231144723027676}.\n",
      "[I 2018-12-05 03:57:10,916] Finished a trial resulted in value: 0.5454524256296454. Current best value is 0.0005342788298354124 with parameters: {'x': 2.0231144723027676}.\n",
      "[I 2018-12-05 03:57:10,921] Finished a trial resulted in value: 3.2357188167646513. Current best value is 0.0005342788298354124 with parameters: {'x': 2.0231144723027676}.\n",
      "[I 2018-12-05 03:57:10,927] Finished a trial resulted in value: 0.1672493323916807. Current best value is 0.0005342788298354124 with parameters: {'x': 2.0231144723027676}.\n",
      "[I 2018-12-05 03:57:10,933] Finished a trial resulted in value: 0.7189542776520719. Current best value is 0.0005342788298354124 with parameters: {'x': 2.0231144723027676}.\n",
      "[I 2018-12-05 03:57:10,938] Finished a trial resulted in value: 0.0046924534207633505. Current best value is 0.0005342788298354124 with parameters: {'x': 2.0231144723027676}.\n",
      "[I 2018-12-05 03:57:10,944] Finished a trial resulted in value: 3.758507147664563. Current best value is 0.0005342788298354124 with parameters: {'x': 2.0231144723027676}.\n",
      "[I 2018-12-05 03:57:10,949] Finished a trial resulted in value: 0.5828382330711847. Current best value is 0.0005342788298354124 with parameters: {'x': 2.0231144723027676}.\n",
      "[I 2018-12-05 03:57:10,956] Finished a trial resulted in value: 14.149108942805743. Current best value is 0.0005342788298354124 with parameters: {'x': 2.0231144723027676}.\n",
      "[I 2018-12-05 03:57:10,962] Finished a trial resulted in value: 2.0928466714445464. Current best value is 0.0005342788298354124 with parameters: {'x': 2.0231144723027676}.\n",
      "[I 2018-12-05 03:57:10,968] Finished a trial resulted in value: 12.558133252130219. Current best value is 0.0005342788298354124 with parameters: {'x': 2.0231144723027676}.\n",
      "[I 2018-12-05 03:57:10,974] Finished a trial resulted in value: 4.262732266567697. Current best value is 0.0005342788298354124 with parameters: {'x': 2.0231144723027676}.\n",
      "[I 2018-12-05 03:57:10,982] Finished a trial resulted in value: 3.728003190709561. Current best value is 0.0005342788298354124 with parameters: {'x': 2.0231144723027676}.\n",
      "[I 2018-12-05 03:57:10,988] Finished a trial resulted in value: 4.051673494576832. Current best value is 0.0005342788298354124 with parameters: {'x': 2.0231144723027676}.\n",
      "[I 2018-12-05 03:57:10,994] Finished a trial resulted in value: 4.9165597107163315. Current best value is 0.0005342788298354124 with parameters: {'x': 2.0231144723027676}.\n",
      "[I 2018-12-05 03:57:11,000] Finished a trial resulted in value: 6.532626899805716. Current best value is 0.0005342788298354124 with parameters: {'x': 2.0231144723027676}.\n",
      "[I 2018-12-05 03:57:11,006] Finished a trial resulted in value: 1.8071662579773367. Current best value is 0.0005342788298354124 with parameters: {'x': 2.0231144723027676}.\n",
      "[I 2018-12-05 03:57:11,013] Finished a trial resulted in value: 6.519418665591869. Current best value is 0.0005342788298354124 with parameters: {'x': 2.0231144723027676}.\n",
      "[I 2018-12-05 03:57:11,019] Finished a trial resulted in value: 11.060502269608111. Current best value is 0.0005342788298354124 with parameters: {'x': 2.0231144723027676}.\n",
      "[I 2018-12-05 03:57:11,026] Finished a trial resulted in value: 2.837112339129931. Current best value is 0.0005342788298354124 with parameters: {'x': 2.0231144723027676}.\n",
      "[I 2018-12-05 03:57:11,035] Finished a trial resulted in value: 3.1712160462716974. Current best value is 0.0005342788298354124 with parameters: {'x': 2.0231144723027676}.\n",
      "[I 2018-12-05 03:57:11,042] Finished a trial resulted in value: 0.2483404875593159. Current best value is 0.0005342788298354124 with parameters: {'x': 2.0231144723027676}.\n",
      "[I 2018-12-05 03:57:11,049] Finished a trial resulted in value: 0.00048148561762163025. Current best value is 0.00048148561762163025 with parameters: {'x': 2.0219427805353294}.\n",
      "[I 2018-12-05 03:57:11,056] Finished a trial resulted in value: 1.5259970261087206. Current best value is 0.00048148561762163025 with parameters: {'x': 2.0219427805353294}.\n",
      "[I 2018-12-05 03:57:11,062] Finished a trial resulted in value: 1.9812023702970227. Current best value is 0.00048148561762163025 with parameters: {'x': 2.0219427805353294}.\n",
      "[I 2018-12-05 03:57:11,071] Finished a trial resulted in value: 0.03226980172687718. Current best value is 0.00048148561762163025 with parameters: {'x': 2.0219427805353294}.\n",
      "[I 2018-12-05 03:57:11,078] Finished a trial resulted in value: 1.4217045505021393. Current best value is 0.00048148561762163025 with parameters: {'x': 2.0219427805353294}.\n",
      "[I 2018-12-05 03:57:11,085] Finished a trial resulted in value: 2.6332595136089227. Current best value is 0.00048148561762163025 with parameters: {'x': 2.0219427805353294}.\n",
      "[I 2018-12-05 03:57:11,092] Finished a trial resulted in value: 0.0431032478707395. Current best value is 0.00048148561762163025 with parameters: {'x': 2.0219427805353294}.\n",
      "[I 2018-12-05 03:57:11,100] Finished a trial resulted in value: 0.027751443878011643. Current best value is 0.00048148561762163025 with parameters: {'x': 2.0219427805353294}.\n",
      "[I 2018-12-05 03:57:11,108] Finished a trial resulted in value: 0.13187809069820014. Current best value is 0.00048148561762163025 with parameters: {'x': 2.0219427805353294}.\n",
      "[I 2018-12-05 03:57:11,114] Finished a trial resulted in value: 0.0015228541004336823. Current best value is 0.00048148561762163025 with parameters: {'x': 2.0219427805353294}.\n",
      "[I 2018-12-05 03:57:11,122] Finished a trial resulted in value: 0.018531894609911677. Current best value is 0.00048148561762163025 with parameters: {'x': 2.0219427805353294}.\n",
      "[I 2018-12-05 03:57:11,130] Finished a trial resulted in value: 0.08298113766867385. Current best value is 0.00048148561762163025 with parameters: {'x': 2.0219427805353294}.\n",
      "[I 2018-12-05 03:57:11,138] Finished a trial resulted in value: 0.011642827899754984. Current best value is 0.00048148561762163025 with parameters: {'x': 2.0219427805353294}.\n",
      "[I 2018-12-05 03:57:11,145] Finished a trial resulted in value: 0.3527660919641228. Current best value is 0.00048148561762163025 with parameters: {'x': 2.0219427805353294}.\n",
      "[I 2018-12-05 03:57:11,152] Finished a trial resulted in value: 7.2870378587492155. Current best value is 0.00048148561762163025 with parameters: {'x': 2.0219427805353294}.\n",
      "[I 2018-12-05 03:57:11,160] Finished a trial resulted in value: 5.077471387468449. Current best value is 0.00048148561762163025 with parameters: {'x': 2.0219427805353294}.\n",
      "[I 2018-12-05 03:57:11,169] Finished a trial resulted in value: 7.913519607573718. Current best value is 0.00048148561762163025 with parameters: {'x': 2.0219427805353294}.\n",
      "[I 2018-12-05 03:57:11,177] Finished a trial resulted in value: 3.0638606915363478. Current best value is 0.00048148561762163025 with parameters: {'x': 2.0219427805353294}.\n",
      "[I 2018-12-05 03:57:11,184] Finished a trial resulted in value: 7.363869960664635. Current best value is 0.00048148561762163025 with parameters: {'x': 2.0219427805353294}.\n",
      "[I 2018-12-05 03:57:11,192] Finished a trial resulted in value: 0.668776408767591. Current best value is 0.00048148561762163025 with parameters: {'x': 2.0219427805353294}.\n",
      "[I 2018-12-05 03:57:11,200] Finished a trial resulted in value: 7.31691364458574. Current best value is 0.00048148561762163025 with parameters: {'x': 2.0219427805353294}.\n",
      "[I 2018-12-05 03:57:11,209] Finished a trial resulted in value: 2.075250117702956. Current best value is 0.00048148561762163025 with parameters: {'x': 2.0219427805353294}.\n",
      "[I 2018-12-05 03:57:11,218] Finished a trial resulted in value: 8.77430565864272. Current best value is 0.00048148561762163025 with parameters: {'x': 2.0219427805353294}.\n",
      "[I 2018-12-05 03:57:11,227] Finished a trial resulted in value: 50.41764241923808. Current best value is 0.00048148561762163025 with parameters: {'x': 2.0219427805353294}.\n",
      "[I 2018-12-05 03:57:11,236] Finished a trial resulted in value: 2.4436885023757826. Current best value is 0.00048148561762163025 with parameters: {'x': 2.0219427805353294}.\n",
      "[I 2018-12-05 03:57:11,244] Finished a trial resulted in value: 5.159224124914842. Current best value is 0.00048148561762163025 with parameters: {'x': 2.0219427805353294}.\n",
      "[I 2018-12-05 03:57:11,254] Finished a trial resulted in value: 0.06973526457894592. Current best value is 0.00048148561762163025 with parameters: {'x': 2.0219427805353294}.\n",
      "[I 2018-12-05 03:57:11,262] Finished a trial resulted in value: 0.14383710706304562. Current best value is 0.00048148561762163025 with parameters: {'x': 2.0219427805353294}.\n",
      "[I 2018-12-05 03:57:11,271] Finished a trial resulted in value: 2.9493978482382976. Current best value is 0.00048148561762163025 with parameters: {'x': 2.0219427805353294}.\n",
      "[I 2018-12-05 03:57:11,279] Finished a trial resulted in value: 0.12303119505910302. Current best value is 0.00048148561762163025 with parameters: {'x': 2.0219427805353294}.\n",
      "[I 2018-12-05 03:57:11,288] Finished a trial resulted in value: 3.0287492978301693. Current best value is 0.00048148561762163025 with parameters: {'x': 2.0219427805353294}.\n",
      "[I 2018-12-05 03:57:11,298] Finished a trial resulted in value: 0.013872599999883587. Current best value is 0.00048148561762163025 with parameters: {'x': 2.0219427805353294}.\n",
      "[I 2018-12-05 03:57:11,307] Finished a trial resulted in value: 1.7413887281503242. Current best value is 0.00048148561762163025 with parameters: {'x': 2.0219427805353294}.\n",
      "[I 2018-12-05 03:57:11,316] Finished a trial resulted in value: 0.009053840062762476. Current best value is 0.00048148561762163025 with parameters: {'x': 2.0219427805353294}.\n",
      "[I 2018-12-05 03:57:11,325] Finished a trial resulted in value: 4.424016678309847. Current best value is 0.00048148561762163025 with parameters: {'x': 2.0219427805353294}.\n",
      "[I 2018-12-05 03:57:11,335] Finished a trial resulted in value: 1.4420824219646358. Current best value is 0.00048148561762163025 with parameters: {'x': 2.0219427805353294}.\n",
      "[I 2018-12-05 03:57:11,345] Finished a trial resulted in value: 1.096127755344829. Current best value is 0.00048148561762163025 with parameters: {'x': 2.0219427805353294}.\n",
      "[I 2018-12-05 03:57:11,354] Finished a trial resulted in value: 1.3217422733775377. Current best value is 0.00048148561762163025 with parameters: {'x': 2.0219427805353294}.\n",
      "[I 2018-12-05 03:57:11,363] Finished a trial resulted in value: 0.3436801461745617. Current best value is 0.00048148561762163025 with parameters: {'x': 2.0219427805353294}.\n",
      "[I 2018-12-05 03:57:11,373] Finished a trial resulted in value: 4.172943527161051. Current best value is 0.00048148561762163025 with parameters: {'x': 2.0219427805353294}.\n",
      "[I 2018-12-05 03:57:11,382] Finished a trial resulted in value: 2.592268973276394. Current best value is 0.00048148561762163025 with parameters: {'x': 2.0219427805353294}.\n",
      "[I 2018-12-05 03:57:11,393] Finished a trial resulted in value: 2.6037850117447228. Current best value is 0.00048148561762163025 with parameters: {'x': 2.0219427805353294}.\n",
      "[I 2018-12-05 03:57:11,404] Finished a trial resulted in value: 1.1055909968809632. Current best value is 0.00048148561762163025 with parameters: {'x': 2.0219427805353294}.\n",
      "[I 2018-12-05 03:57:11,413] Finished a trial resulted in value: 0.007658752541266304. Current best value is 0.00048148561762163025 with parameters: {'x': 2.0219427805353294}.\n",
      "[I 2018-12-05 03:57:11,423] Finished a trial resulted in value: 2.6537565404867935. Current best value is 0.00048148561762163025 with parameters: {'x': 2.0219427805353294}.\n",
      "[I 2018-12-05 03:57:11,433] Finished a trial resulted in value: 0.003346822435977463. Current best value is 0.00048148561762163025 with parameters: {'x': 2.0219427805353294}.\n",
      "[I 2018-12-05 03:57:11,443] Finished a trial resulted in value: 0.0018441804298485209. Current best value is 0.00048148561762163025 with parameters: {'x': 2.0219427805353294}.\n",
      "[I 2018-12-05 03:57:11,453] Finished a trial resulted in value: 0.3751111928365426. Current best value is 0.00048148561762163025 with parameters: {'x': 2.0219427805353294}.\n",
      "[I 2018-12-05 03:57:11,463] Finished a trial resulted in value: 0.2491380862995574. Current best value is 0.00048148561762163025 with parameters: {'x': 2.0219427805353294}.\n",
      "[I 2018-12-05 03:57:11,474] Finished a trial resulted in value: 0.06613531894234276. Current best value is 0.00048148561762163025 with parameters: {'x': 2.0219427805353294}.\n",
      "[I 2018-12-05 03:57:11,486] Finished a trial resulted in value: 0.9749600128115118. Current best value is 0.00048148561762163025 with parameters: {'x': 2.0219427805353294}.\n",
      "[I 2018-12-05 03:57:11,496] Finished a trial resulted in value: 0.08424291193123844. Current best value is 0.00048148561762163025 with parameters: {'x': 2.0219427805353294}.\n",
      "[I 2018-12-05 03:57:11,506] Finished a trial resulted in value: 0.2871470637863245. Current best value is 0.00048148561762163025 with parameters: {'x': 2.0219427805353294}.\n"
     ]
    },
    {
     "name": "stderr",
     "output_type": "stream",
     "text": [
      "[I 2018-12-05 03:57:11,516] Finished a trial resulted in value: 1.9366679885954416. Current best value is 0.00048148561762163025 with parameters: {'x': 2.0219427805353294}.\n",
      "[I 2018-12-05 03:57:11,528] Finished a trial resulted in value: 0.5617230938765964. Current best value is 0.00048148561762163025 with parameters: {'x': 2.0219427805353294}.\n",
      "[I 2018-12-05 03:57:11,539] Finished a trial resulted in value: 3.6121307308512436. Current best value is 0.00048148561762163025 with parameters: {'x': 2.0219427805353294}.\n",
      "[I 2018-12-05 03:57:11,550] Finished a trial resulted in value: 1.9973549649470117. Current best value is 0.00048148561762163025 with parameters: {'x': 2.0219427805353294}.\n",
      "[I 2018-12-05 03:57:11,561] Finished a trial resulted in value: 7.51517901598519. Current best value is 0.00048148561762163025 with parameters: {'x': 2.0219427805353294}.\n"
     ]
    }
   ],
   "source": [
    "study = optuna.create_study()\n",
    "study.optimize(objective, n_trials=100)"
   ]
  },
  {
   "cell_type": "markdown",
   "metadata": {},
   "source": [
    "#### 用語について\n",
    "- Trial: 目的関数について、1回の評価・試行\n",
    "- Study: 最適化の過程, 探索, trialの集合\n",
    "- Parameter: 最適化される変数, 上の例では`x`"
   ]
  },
  {
   "cell_type": "markdown",
   "metadata": {},
   "source": [
    "### study objectのattribute等\n",
    "- 最適化の結果\n",
    "- 試行のログ"
   ]
  },
  {
   "cell_type": "code",
   "execution_count": 4,
   "metadata": {},
   "outputs": [
    {
     "name": "stdout",
     "output_type": "stream",
     "text": [
      "最適化された変数の値\n",
      "{'x': 2.0219427805353294}\n",
      "----------------------------------------\n",
      "目的関数の最適値\n",
      "0.00048148561762163025\n",
      "----------------------------------------\n",
      "最適値を達成した試行\n",
      "FrozenTrial(trial_id=42, state=<TrialState.COMPLETE: 1>, value=0.00048148561762163025, datetime_start=datetime.datetime(2018, 12, 5, 3, 57, 11, 44024), datetime_complete=datetime.datetime(2018, 12, 5, 3, 57, 11, 47728), params={'x': 2.0219427805353294}, user_attrs={}, system_attrs={}, intermediate_values={}, params_in_internal_repr={'x': 2.0219427805353294})\n",
      "----------------------------------------\n",
      "全試行回数\n",
      "100\n",
      "----------------------------------------\n",
      "全試行\n",
      "[FrozenTrial(trial_id=0, state=<TrialState.COMPLETE: 1>, value=8.090362528567963, datetime_start=datetime.datetime(2018, 12, 5, 3, 57, 10, 829628), datetime_complete=datetime.datetime(2018, 12, 5, 3, 57, 10, 829882), params={'x': -0.8443562590800688}, user_attrs={}, system_attrs={}, intermediate_values={}, params_in_internal_repr={'x': -0.8443562590800688}), FrozenTrial(trial_id=1, state=<TrialState.COMPLETE: 1>, value=98.08979376324466, datetime_start=datetime.datetime(2018, 12, 5, 3, 57, 10, 832379), datetime_complete=datetime.datetime(2018, 12, 5, 3, 57, 10, 832569), params={'x': -7.904029168133779}, user_attrs={}, system_attrs={}, intermediate_values={}, params_in_internal_repr={'x': -7.904029168133779}), FrozenTrial(trial_id=2, state=<TrialState.COMPLETE: 1>, value=9.389921340182921, datetime_start=datetime.datetime(2018, 12, 5, 3, 57, 10, 834161), datetime_complete=datetime.datetime(2018, 12, 5, 3, 57, 10, 834326), params={'x': 5.064297854351453}, user_attrs={}, system_attrs={}, intermediate_values={}, params_in_internal_repr={'x': 5.064297854351453}), FrozenTrial(trial_id=3, state=<TrialState.COMPLETE: 1>, value=96.42136764019976, datetime_start=datetime.datetime(2018, 12, 5, 3, 57, 10, 835676), datetime_complete=datetime.datetime(2018, 12, 5, 3, 57, 10, 835866), params={'x': -7.819438254818845}, user_attrs={}, system_attrs={}, intermediate_values={}, params_in_internal_repr={'x': -7.819438254818845}), FrozenTrial(trial_id=4, state=<TrialState.COMPLETE: 1>, value=0.0877042626971673, datetime_start=datetime.datetime(2018, 12, 5, 3, 57, 10, 838486), datetime_complete=datetime.datetime(2018, 12, 5, 3, 57, 10, 838711), params={'x': 2.296149054864552}, user_attrs={}, system_attrs={}, intermediate_values={}, params_in_internal_repr={'x': 2.296149054864552}), FrozenTrial(trial_id=5, state=<TrialState.COMPLETE: 1>, value=1.1374335892826002, datetime_start=datetime.datetime(2018, 12, 5, 3, 57, 10, 841218), datetime_complete=datetime.datetime(2018, 12, 5, 3, 57, 10, 841485), params={'x': 0.9334946838938869}, user_attrs={}, system_attrs={}, intermediate_values={}, params_in_internal_repr={'x': 0.9334946838938869}), FrozenTrial(trial_id=6, state=<TrialState.COMPLETE: 1>, value=29.338787931391, datetime_start=datetime.datetime(2018, 12, 5, 3, 57, 10, 843895), datetime_complete=datetime.datetime(2018, 12, 5, 3, 57, 10, 844134), params={'x': -3.416529140638957}, user_attrs={}, system_attrs={}, intermediate_values={}, params_in_internal_repr={'x': -3.416529140638957}), FrozenTrial(trial_id=7, state=<TrialState.COMPLETE: 1>, value=62.56099608385786, datetime_start=datetime.datetime(2018, 12, 5, 3, 57, 10, 845767), datetime_complete=datetime.datetime(2018, 12, 5, 3, 57, 10, 846082), params={'x': -5.909550940720836}, user_attrs={}, system_attrs={}, intermediate_values={}, params_in_internal_repr={'x': -5.909550940720836}), FrozenTrial(trial_id=8, state=<TrialState.COMPLETE: 1>, value=45.39753536870892, datetime_start=datetime.datetime(2018, 12, 5, 3, 57, 10, 847800), datetime_complete=datetime.datetime(2018, 12, 5, 3, 57, 10, 848080), params={'x': -4.7377693169704855}, user_attrs={}, system_attrs={}, intermediate_values={}, params_in_internal_repr={'x': -4.7377693169704855}), FrozenTrial(trial_id=9, state=<TrialState.COMPLETE: 1>, value=37.076866836793435, datetime_start=datetime.datetime(2018, 12, 5, 3, 57, 10, 850172), datetime_complete=datetime.datetime(2018, 12, 5, 3, 57, 10, 850489), params={'x': -4.089077667167125}, user_attrs={}, system_attrs={}, intermediate_values={}, params_in_internal_repr={'x': -4.089077667167125}), FrozenTrial(trial_id=10, state=<TrialState.COMPLETE: 1>, value=60.24005138306182, datetime_start=datetime.datetime(2018, 12, 5, 3, 57, 10, 852418), datetime_complete=datetime.datetime(2018, 12, 5, 3, 57, 10, 855145), params={'x': 9.761446474920884}, user_attrs={}, system_attrs={}, intermediate_values={}, params_in_internal_repr={'x': 9.761446474920884}), FrozenTrial(trial_id=11, state=<TrialState.COMPLETE: 1>, value=62.60765424867775, datetime_start=datetime.datetime(2018, 12, 5, 3, 57, 10, 857160), datetime_complete=datetime.datetime(2018, 12, 5, 3, 57, 10, 859206), params={'x': 9.912499873534138}, user_attrs={}, system_attrs={}, intermediate_values={}, params_in_internal_repr={'x': 9.912499873534138}), FrozenTrial(trial_id=12, state=<TrialState.COMPLETE: 1>, value=54.20370653460849, datetime_start=datetime.datetime(2018, 12, 5, 3, 57, 10, 861019), datetime_complete=datetime.datetime(2018, 12, 5, 3, 57, 10, 863290), params={'x': 9.362316655415501}, user_attrs={}, system_attrs={}, intermediate_values={}, params_in_internal_repr={'x': 9.362316655415501}), FrozenTrial(trial_id=13, state=<TrialState.COMPLETE: 1>, value=45.95920713869576, datetime_start=datetime.datetime(2018, 12, 5, 3, 57, 10, 865276), datetime_complete=datetime.datetime(2018, 12, 5, 3, 57, 10, 868741), params={'x': 8.779322026478441}, user_attrs={}, system_attrs={}, intermediate_values={}, params_in_internal_repr={'x': 8.779322026478441}), FrozenTrial(trial_id=14, state=<TrialState.COMPLETE: 1>, value=20.821056171853858, datetime_start=datetime.datetime(2018, 12, 5, 3, 57, 10, 872646), datetime_complete=datetime.datetime(2018, 12, 5, 3, 57, 10, 876625), params={'x': 6.563009552023079}, user_attrs={}, system_attrs={}, intermediate_values={}, params_in_internal_repr={'x': 6.563009552023079}), FrozenTrial(trial_id=15, state=<TrialState.COMPLETE: 1>, value=0.08038051388163421, datetime_start=datetime.datetime(2018, 12, 5, 3, 57, 10, 878610), datetime_complete=datetime.datetime(2018, 12, 5, 3, 57, 10, 880267), params={'x': 2.2835145743725254}, user_attrs={}, system_attrs={}, intermediate_values={}, params_in_internal_repr={'x': 2.2835145743725254}), FrozenTrial(trial_id=16, state=<TrialState.COMPLETE: 1>, value=0.11100308543951898, datetime_start=datetime.datetime(2018, 12, 5, 3, 57, 10, 882491), datetime_complete=datetime.datetime(2018, 12, 5, 3, 57, 10, 884766), params={'x': 1.6668287445779288}, user_attrs={}, system_attrs={}, intermediate_values={}, params_in_internal_repr={'x': 1.6668287445779288}), FrozenTrial(trial_id=17, state=<TrialState.COMPLETE: 1>, value=9.394548597158423, datetime_start=datetime.datetime(2018, 12, 5, 3, 57, 10, 886787), datetime_complete=datetime.datetime(2018, 12, 5, 3, 57, 10, 889774), params={'x': 5.0650527886414}, user_attrs={}, system_attrs={}, intermediate_values={}, params_in_internal_repr={'x': 5.0650527886414}), FrozenTrial(trial_id=18, state=<TrialState.COMPLETE: 1>, value=2.939243792250339, datetime_start=datetime.datetime(2018, 12, 5, 3, 57, 10, 893076), datetime_complete=datetime.datetime(2018, 12, 5, 3, 57, 10, 896565), params={'x': 3.714422291108681}, user_attrs={}, system_attrs={}, intermediate_values={}, params_in_internal_repr={'x': 3.714422291108681}), FrozenTrial(trial_id=19, state=<TrialState.COMPLETE: 1>, value=0.0005342788298354124, datetime_start=datetime.datetime(2018, 12, 5, 3, 57, 10, 900518), datetime_complete=datetime.datetime(2018, 12, 5, 3, 57, 10, 903627), params={'x': 2.0231144723027676}, user_attrs={}, system_attrs={}, intermediate_values={}, params_in_internal_repr={'x': 2.0231144723027676}), FrozenTrial(trial_id=20, state=<TrialState.COMPLETE: 1>, value=1.871228139310377, datetime_start=datetime.datetime(2018, 12, 5, 3, 57, 10, 906717), datetime_complete=datetime.datetime(2018, 12, 5, 3, 57, 10, 909873), params={'x': 0.6320715883824999}, user_attrs={}, system_attrs={}, intermediate_values={}, params_in_internal_repr={'x': 0.6320715883824999}), FrozenTrial(trial_id=21, state=<TrialState.COMPLETE: 1>, value=0.5454524256296454, datetime_start=datetime.datetime(2018, 12, 5, 3, 57, 10, 912110), datetime_complete=datetime.datetime(2018, 12, 5, 3, 57, 10, 915278), params={'x': 1.2614524892536396}, user_attrs={}, system_attrs={}, intermediate_values={}, params_in_internal_repr={'x': 1.2614524892536396}), FrozenTrial(trial_id=22, state=<TrialState.COMPLETE: 1>, value=3.2357188167646513, datetime_start=datetime.datetime(2018, 12, 5, 3, 57, 10, 917728), datetime_complete=datetime.datetime(2018, 12, 5, 3, 57, 10, 920259), params={'x': 0.20118961066913688}, user_attrs={}, system_attrs={}, intermediate_values={}, params_in_internal_repr={'x': 0.20118961066913688}), FrozenTrial(trial_id=23, state=<TrialState.COMPLETE: 1>, value=0.1672493323916807, datetime_start=datetime.datetime(2018, 12, 5, 3, 57, 10, 922632), datetime_complete=datetime.datetime(2018, 12, 5, 3, 57, 10, 926235), params={'x': 2.408961284710033}, user_attrs={}, system_attrs={}, intermediate_values={}, params_in_internal_repr={'x': 2.408961284710033}), FrozenTrial(trial_id=24, state=<TrialState.COMPLETE: 1>, value=0.7189542776520719, datetime_start=datetime.datetime(2018, 12, 5, 3, 57, 10, 928980), datetime_complete=datetime.datetime(2018, 12, 5, 3, 57, 10, 931909), params={'x': 1.1520882842818647}, user_attrs={}, system_attrs={}, intermediate_values={}, params_in_internal_repr={'x': 1.1520882842818647}), FrozenTrial(trial_id=25, state=<TrialState.COMPLETE: 1>, value=0.0046924534207633505, datetime_start=datetime.datetime(2018, 12, 5, 3, 57, 10, 934531), datetime_complete=datetime.datetime(2018, 12, 5, 3, 57, 10, 937665), params={'x': 1.9314985151930022}, user_attrs={}, system_attrs={}, intermediate_values={}, params_in_internal_repr={'x': 1.9314985151930022}), FrozenTrial(trial_id=26, state=<TrialState.COMPLETE: 1>, value=3.758507147664563, datetime_start=datetime.datetime(2018, 12, 5, 3, 57, 10, 940306), datetime_complete=datetime.datetime(2018, 12, 5, 3, 57, 10, 943244), params={'x': 0.06131303515380204}, user_attrs={}, system_attrs={}, intermediate_values={}, params_in_internal_repr={'x': 0.06131303515380204}), FrozenTrial(trial_id=27, state=<TrialState.COMPLETE: 1>, value=0.5828382330711847, datetime_start=datetime.datetime(2018, 12, 5, 3, 57, 10, 945766), datetime_complete=datetime.datetime(2018, 12, 5, 3, 57, 10, 948450), params={'x': 1.236561572180713}, user_attrs={}, system_attrs={}, intermediate_values={}, params_in_internal_repr={'x': 1.236561572180713}), FrozenTrial(trial_id=28, state=<TrialState.COMPLETE: 1>, value=14.149108942805743, datetime_start=datetime.datetime(2018, 12, 5, 3, 57, 10, 950874), datetime_complete=datetime.datetime(2018, 12, 5, 3, 57, 10, 954536), params={'x': -1.7615301331779523}, user_attrs={}, system_attrs={}, intermediate_values={}, params_in_internal_repr={'x': -1.7615301331779523}), FrozenTrial(trial_id=29, state=<TrialState.COMPLETE: 1>, value=2.0928466714445464, datetime_start=datetime.datetime(2018, 12, 5, 3, 57, 10, 957748), datetime_complete=datetime.datetime(2018, 12, 5, 3, 57, 10, 961191), params={'x': 0.553332563633042}, user_attrs={}, system_attrs={}, intermediate_values={}, params_in_internal_repr={'x': 0.553332563633042}), FrozenTrial(trial_id=30, state=<TrialState.COMPLETE: 1>, value=12.558133252130219, datetime_start=datetime.datetime(2018, 12, 5, 3, 57, 10, 963979), datetime_complete=datetime.datetime(2018, 12, 5, 3, 57, 10, 966950), params={'x': -1.5437456528552127}, user_attrs={}, system_attrs={}, intermediate_values={}, params_in_internal_repr={'x': -1.5437456528552127}), FrozenTrial(trial_id=31, state=<TrialState.COMPLETE: 1>, value=4.262732266567697, datetime_start=datetime.datetime(2018, 12, 5, 3, 57, 10, 970263), datetime_complete=datetime.datetime(2018, 12, 5, 3, 57, 10, 972962), params={'x': -0.06463853169694}, user_attrs={}, system_attrs={}, intermediate_values={}, params_in_internal_repr={'x': -0.06463853169694}), FrozenTrial(trial_id=32, state=<TrialState.COMPLETE: 1>, value=3.728003190709561, datetime_start=datetime.datetime(2018, 12, 5, 3, 57, 10, 976040), datetime_complete=datetime.datetime(2018, 12, 5, 3, 57, 10, 980245), params={'x': 0.06919623195168767}, user_attrs={}, system_attrs={}, intermediate_values={}, params_in_internal_repr={'x': 0.06919623195168767}), FrozenTrial(trial_id=33, state=<TrialState.COMPLETE: 1>, value=4.051673494576832, datetime_start=datetime.datetime(2018, 12, 5, 3, 57, 10, 984131), datetime_complete=datetime.datetime(2018, 12, 5, 3, 57, 10, 987053), params={'x': -0.012876919877822912}, user_attrs={}, system_attrs={}, intermediate_values={}, params_in_internal_repr={'x': -0.012876919877822912}), FrozenTrial(trial_id=34, state=<TrialState.COMPLETE: 1>, value=4.9165597107163315, datetime_start=datetime.datetime(2018, 12, 5, 3, 57, 10, 989724), datetime_complete=datetime.datetime(2018, 12, 5, 3, 57, 10, 992868), params={'x': -0.21733166457260794}, user_attrs={}, system_attrs={}, intermediate_values={}, params_in_internal_repr={'x': -0.21733166457260794}), FrozenTrial(trial_id=35, state=<TrialState.COMPLETE: 1>, value=6.532626899805716, datetime_start=datetime.datetime(2018, 12, 5, 3, 57, 10, 995562), datetime_complete=datetime.datetime(2018, 12, 5, 3, 57, 10, 998770), params={'x': -0.5559004088198969}, user_attrs={}, system_attrs={}, intermediate_values={}, params_in_internal_repr={'x': -0.5559004088198969}), FrozenTrial(trial_id=36, state=<TrialState.COMPLETE: 1>, value=1.8071662579773367, datetime_start=datetime.datetime(2018, 12, 5, 3, 57, 11, 1532), datetime_complete=datetime.datetime(2018, 12, 5, 3, 57, 11, 4982), params={'x': 0.6556911597488706}, user_attrs={}, system_attrs={}, intermediate_values={}, params_in_internal_repr={'x': 0.6556911597488706}), FrozenTrial(trial_id=37, state=<TrialState.COMPLETE: 1>, value=6.519418665591869, datetime_start=datetime.datetime(2018, 12, 5, 3, 57, 11, 8380), datetime_complete=datetime.datetime(2018, 12, 5, 3, 57, 11, 11431), params={'x': -0.5533152303606912}, user_attrs={}, system_attrs={}, intermediate_values={}, params_in_internal_repr={'x': -0.5533152303606912}), FrozenTrial(trial_id=38, state=<TrialState.COMPLETE: 1>, value=11.060502269608111, datetime_start=datetime.datetime(2018, 12, 5, 3, 57, 11, 14351), datetime_complete=datetime.datetime(2018, 12, 5, 3, 57, 11, 17417), params={'x': -1.3257333431302203}, user_attrs={}, system_attrs={}, intermediate_values={}, params_in_internal_repr={'x': -1.3257333431302203}), FrozenTrial(trial_id=39, state=<TrialState.COMPLETE: 1>, value=2.837112339129931, datetime_start=datetime.datetime(2018, 12, 5, 3, 57, 11, 21025), datetime_complete=datetime.datetime(2018, 12, 5, 3, 57, 11, 24578), params={'x': 0.3156270189978909}, user_attrs={}, system_attrs={}, intermediate_values={}, params_in_internal_repr={'x': 0.3156270189978909}), FrozenTrial(trial_id=40, state=<TrialState.COMPLETE: 1>, value=3.1712160462716974, datetime_start=datetime.datetime(2018, 12, 5, 3, 57, 11, 28791), datetime_complete=datetime.datetime(2018, 12, 5, 3, 57, 11, 32761), params={'x': 0.2192091514521707}, user_attrs={}, system_attrs={}, intermediate_values={}, params_in_internal_repr={'x': 0.2192091514521707}), FrozenTrial(trial_id=41, state=<TrialState.COMPLETE: 1>, value=0.2483404875593159, datetime_start=datetime.datetime(2018, 12, 5, 3, 57, 11, 36896), datetime_complete=datetime.datetime(2018, 12, 5, 3, 57, 11, 40539), params={'x': 2.4983377243991427}, user_attrs={}, system_attrs={}, intermediate_values={}, params_in_internal_repr={'x': 2.4983377243991427}), FrozenTrial(trial_id=42, state=<TrialState.COMPLETE: 1>, value=0.00048148561762163025, datetime_start=datetime.datetime(2018, 12, 5, 3, 57, 11, 44024), datetime_complete=datetime.datetime(2018, 12, 5, 3, 57, 11, 47728), params={'x': 2.0219427805353294}, user_attrs={}, system_attrs={}, intermediate_values={}, params_in_internal_repr={'x': 2.0219427805353294}), FrozenTrial(trial_id=43, state=<TrialState.COMPLETE: 1>, value=1.5259970261087206, datetime_start=datetime.datetime(2018, 12, 5, 3, 57, 11, 50821), datetime_complete=datetime.datetime(2018, 12, 5, 3, 57, 11, 54238), params={'x': 3.2353125216352017}, user_attrs={}, system_attrs={}, intermediate_values={}, params_in_internal_repr={'x': 3.2353125216352017}), FrozenTrial(trial_id=44, state=<TrialState.COMPLETE: 1>, value=1.9812023702970227, datetime_start=datetime.datetime(2018, 12, 5, 3, 57, 11, 57391), datetime_complete=datetime.datetime(2018, 12, 5, 3, 57, 11, 60691), params={'x': 3.407551906786042}, user_attrs={}, system_attrs={}, intermediate_values={}, params_in_internal_repr={'x': 3.407551906786042}), FrozenTrial(trial_id=45, state=<TrialState.COMPLETE: 1>, value=0.03226980172687718, datetime_start=datetime.datetime(2018, 12, 5, 3, 57, 11, 64798), datetime_complete=datetime.datetime(2018, 12, 5, 3, 57, 11, 69414), params={'x': 2.179637974066947}, user_attrs={}, system_attrs={}, intermediate_values={}, params_in_internal_repr={'x': 2.179637974066947}), FrozenTrial(trial_id=46, state=<TrialState.COMPLETE: 1>, value=1.4217045505021393, datetime_start=datetime.datetime(2018, 12, 5, 3, 57, 11, 72751), datetime_complete=datetime.datetime(2018, 12, 5, 3, 57, 11, 76456), params={'x': 0.80764747222051}, user_attrs={}, system_attrs={}, intermediate_values={}, params_in_internal_repr={'x': 0.80764747222051}), FrozenTrial(trial_id=47, state=<TrialState.COMPLETE: 1>, value=2.6332595136089227, datetime_start=datetime.datetime(2018, 12, 5, 3, 57, 11, 79594), datetime_complete=datetime.datetime(2018, 12, 5, 3, 57, 11, 83408), params={'x': 3.622732113938996}, user_attrs={}, system_attrs={}, intermediate_values={}, params_in_internal_repr={'x': 3.622732113938996}), FrozenTrial(trial_id=48, state=<TrialState.COMPLETE: 1>, value=0.0431032478707395, datetime_start=datetime.datetime(2018, 12, 5, 3, 57, 11, 86634), datetime_complete=datetime.datetime(2018, 12, 5, 3, 57, 11, 90183), params={'x': 1.7923867830056586}, user_attrs={}, system_attrs={}, intermediate_values={}, params_in_internal_repr={'x': 1.7923867830056586}), FrozenTrial(trial_id=49, state=<TrialState.COMPLETE: 1>, value=0.027751443878011643, datetime_start=datetime.datetime(2018, 12, 5, 3, 57, 11, 94304), datetime_complete=datetime.datetime(2018, 12, 5, 3, 57, 11, 98422), params={'x': 1.8334123537653177}, user_attrs={}, system_attrs={}, intermediate_values={}, params_in_internal_repr={'x': 1.8334123537653177}), FrozenTrial(trial_id=50, state=<TrialState.COMPLETE: 1>, value=0.13187809069820014, datetime_start=datetime.datetime(2018, 12, 5, 3, 57, 11, 102030), datetime_complete=datetime.datetime(2018, 12, 5, 3, 57, 11, 105812), params={'x': 2.3631502315821926}, user_attrs={}, system_attrs={}, intermediate_values={}, params_in_internal_repr={'x': 2.3631502315821926}), FrozenTrial(trial_id=51, state=<TrialState.COMPLETE: 1>, value=0.0015228541004336823, datetime_start=datetime.datetime(2018, 12, 5, 3, 57, 11, 109134), datetime_complete=datetime.datetime(2018, 12, 5, 3, 57, 11, 112703), params={'x': 1.9609762367212786}, user_attrs={}, system_attrs={}, intermediate_values={}, params_in_internal_repr={'x': 1.9609762367212786}), FrozenTrial(trial_id=52, state=<TrialState.COMPLETE: 1>, value=0.018531894609911677, datetime_start=datetime.datetime(2018, 12, 5, 3, 57, 11, 116216), datetime_complete=datetime.datetime(2018, 12, 5, 3, 57, 11, 119901), params={'x': 1.8638680984856537}, user_attrs={}, system_attrs={}, intermediate_values={}, params_in_internal_repr={'x': 1.8638680984856537}), FrozenTrial(trial_id=53, state=<TrialState.COMPLETE: 1>, value=0.08298113766867385, datetime_start=datetime.datetime(2018, 12, 5, 3, 57, 11, 124008), datetime_complete=datetime.datetime(2018, 12, 5, 3, 57, 11, 128254), params={'x': 1.7119355320962444}, user_attrs={}, system_attrs={}, intermediate_values={}, params_in_internal_repr={'x': 1.7119355320962444}), FrozenTrial(trial_id=54, state=<TrialState.COMPLETE: 1>, value=0.011642827899754984, datetime_start=datetime.datetime(2018, 12, 5, 3, 57, 11, 132191), datetime_complete=datetime.datetime(2018, 12, 5, 3, 57, 11, 135596), params={'x': 2.1079019364967793}, user_attrs={}, system_attrs={}, intermediate_values={}, params_in_internal_repr={'x': 2.1079019364967793}), FrozenTrial(trial_id=55, state=<TrialState.COMPLETE: 1>, value=0.3527660919641228, datetime_start=datetime.datetime(2018, 12, 5, 3, 57, 11, 139139), datetime_complete=datetime.datetime(2018, 12, 5, 3, 57, 11, 142918), params={'x': 2.5939411519368925}, user_attrs={}, system_attrs={}, intermediate_values={}, params_in_internal_repr={'x': 2.5939411519368925}), FrozenTrial(trial_id=56, state=<TrialState.COMPLETE: 1>, value=7.2870378587492155, datetime_start=datetime.datetime(2018, 12, 5, 3, 57, 11, 146448), datetime_complete=datetime.datetime(2018, 12, 5, 3, 57, 11, 150292), params={'x': -0.6994513995901492}, user_attrs={}, system_attrs={}, intermediate_values={}, params_in_internal_repr={'x': -0.6994513995901492}), FrozenTrial(trial_id=57, state=<TrialState.COMPLETE: 1>, value=5.077471387468449, datetime_start=datetime.datetime(2018, 12, 5, 3, 57, 11, 153824), datetime_complete=datetime.datetime(2018, 12, 5, 3, 57, 11, 157743), params={'x': 4.253324518898343}, user_attrs={}, system_attrs={}, intermediate_values={}, params_in_internal_repr={'x': 4.253324518898343}), FrozenTrial(trial_id=58, state=<TrialState.COMPLETE: 1>, value=7.913519607573718, datetime_start=datetime.datetime(2018, 12, 5, 3, 57, 11, 161857), datetime_complete=datetime.datetime(2018, 12, 5, 3, 57, 11, 166515), params={'x': -0.8130978666896249}, user_attrs={}, system_attrs={}, intermediate_values={}, params_in_internal_repr={'x': -0.8130978666896249}), FrozenTrial(trial_id=59, state=<TrialState.COMPLETE: 1>, value=3.0638606915363478, datetime_start=datetime.datetime(2018, 12, 5, 3, 57, 11, 171334), datetime_complete=datetime.datetime(2018, 12, 5, 3, 57, 11, 174553), params={'x': 3.7503887258367348}, user_attrs={}, system_attrs={}, intermediate_values={}, params_in_internal_repr={'x': 3.7503887258367348}), FrozenTrial(trial_id=60, state=<TrialState.COMPLETE: 1>, value=7.363869960664635, datetime_start=datetime.datetime(2018, 12, 5, 3, 57, 11, 178535), datetime_complete=datetime.datetime(2018, 12, 5, 3, 57, 11, 182086), params={'x': -0.7136451427304631}, user_attrs={}, system_attrs={}, intermediate_values={}, params_in_internal_repr={'x': -0.7136451427304631}), FrozenTrial(trial_id=61, state=<TrialState.COMPLETE: 1>, value=0.668776408767591, datetime_start=datetime.datetime(2018, 12, 5, 3, 57, 11, 186100), datetime_complete=datetime.datetime(2018, 12, 5, 3, 57, 11, 189941), params={'x': 2.8177875083220525}, user_attrs={}, system_attrs={}, intermediate_values={}, params_in_internal_repr={'x': 2.8177875083220525}), FrozenTrial(trial_id=62, state=<TrialState.COMPLETE: 1>, value=7.31691364458574, datetime_start=datetime.datetime(2018, 12, 5, 3, 57, 11, 193754), datetime_complete=datetime.datetime(2018, 12, 5, 3, 57, 11, 197572), params={'x': -0.7049794166658163}, user_attrs={}, system_attrs={}, intermediate_values={}, params_in_internal_repr={'x': -0.7049794166658163}), FrozenTrial(trial_id=63, state=<TrialState.COMPLETE: 1>, value=2.075250117702956, datetime_start=datetime.datetime(2018, 12, 5, 3, 57, 11, 201784), datetime_complete=datetime.datetime(2018, 12, 5, 3, 57, 11, 206355), params={'x': 3.4405728435948513}, user_attrs={}, system_attrs={}, intermediate_values={}, params_in_internal_repr={'x': 3.4405728435948513}), FrozenTrial(trial_id=64, state=<TrialState.COMPLETE: 1>, value=8.77430565864272, datetime_start=datetime.datetime(2018, 12, 5, 3, 57, 11, 211186), datetime_complete=datetime.datetime(2018, 12, 5, 3, 57, 11, 215359), params={'x': -0.9621454485967971}, user_attrs={}, system_attrs={}, intermediate_values={}, params_in_internal_repr={'x': -0.9621454485967971}), FrozenTrial(trial_id=65, state=<TrialState.COMPLETE: 1>, value=50.41764241923808, datetime_start=datetime.datetime(2018, 12, 5, 3, 57, 11, 220165), datetime_complete=datetime.datetime(2018, 12, 5, 3, 57, 11, 224652), params={'x': 9.100538178141012}, user_attrs={}, system_attrs={}, intermediate_values={}, params_in_internal_repr={'x': 9.100538178141012}), FrozenTrial(trial_id=66, state=<TrialState.COMPLETE: 1>, value=2.4436885023757826, datetime_start=datetime.datetime(2018, 12, 5, 3, 57, 11, 229239), datetime_complete=datetime.datetime(2018, 12, 5, 3, 57, 11, 233395), params={'x': 3.5632301501620876}, user_attrs={}, system_attrs={}, intermediate_values={}, params_in_internal_repr={'x': 3.5632301501620876}), FrozenTrial(trial_id=67, state=<TrialState.COMPLETE: 1>, value=5.159224124914842, datetime_start=datetime.datetime(2018, 12, 5, 3, 57, 11, 237950), datetime_complete=datetime.datetime(2018, 12, 5, 3, 57, 11, 241806), params={'x': -0.27139255191938183}, user_attrs={}, system_attrs={}, intermediate_values={}, params_in_internal_repr={'x': -0.27139255191938183}), FrozenTrial(trial_id=68, state=<TrialState.COMPLETE: 1>, value=0.06973526457894592, datetime_start=datetime.datetime(2018, 12, 5, 3, 57, 11, 246482), datetime_complete=datetime.datetime(2018, 12, 5, 3, 57, 11, 250858), params={'x': 1.7359256457378984}, user_attrs={}, system_attrs={}, intermediate_values={}, params_in_internal_repr={'x': 1.7359256457378984}), FrozenTrial(trial_id=69, state=<TrialState.COMPLETE: 1>, value=0.14383710706304562, datetime_start=datetime.datetime(2018, 12, 5, 3, 57, 11, 255288), datetime_complete=datetime.datetime(2018, 12, 5, 3, 57, 11, 259378), params={'x': 1.6207413718014505}, user_attrs={}, system_attrs={}, intermediate_values={}, params_in_internal_repr={'x': 1.6207413718014505}), FrozenTrial(trial_id=70, state=<TrialState.COMPLETE: 1>, value=2.9493978482382976, datetime_start=datetime.datetime(2018, 12, 5, 3, 57, 11, 263688), datetime_complete=datetime.datetime(2018, 12, 5, 3, 57, 11, 268182), params={'x': 0.2826188983692939}, user_attrs={}, system_attrs={}, intermediate_values={}, params_in_internal_repr={'x': 0.2826188983692939}), FrozenTrial(trial_id=71, state=<TrialState.COMPLETE: 1>, value=0.12303119505910302, datetime_start=datetime.datetime(2018, 12, 5, 3, 57, 11, 272753), datetime_complete=datetime.datetime(2018, 12, 5, 3, 57, 11, 276746), params={'x': 2.350758029215445}, user_attrs={}, system_attrs={}, intermediate_values={}, params_in_internal_repr={'x': 2.350758029215445}), FrozenTrial(trial_id=72, state=<TrialState.COMPLETE: 1>, value=3.0287492978301693, datetime_start=datetime.datetime(2018, 12, 5, 3, 57, 11, 281237), datetime_complete=datetime.datetime(2018, 12, 5, 3, 57, 11, 285696), params={'x': 0.2596697733389306}, user_attrs={}, system_attrs={}, intermediate_values={}, params_in_internal_repr={'x': 0.2596697733389306}), FrozenTrial(trial_id=73, state=<TrialState.COMPLETE: 1>, value=0.013872599999883587, datetime_start=datetime.datetime(2018, 12, 5, 3, 57, 11, 290517), datetime_complete=datetime.datetime(2018, 12, 5, 3, 57, 11, 294935), params={'x': 2.117782002020188}, user_attrs={}, system_attrs={}, intermediate_values={}, params_in_internal_repr={'x': 2.117782002020188}), FrozenTrial(trial_id=74, state=<TrialState.COMPLETE: 1>, value=1.7413887281503242, datetime_start=datetime.datetime(2018, 12, 5, 3, 57, 11, 299416), datetime_complete=datetime.datetime(2018, 12, 5, 3, 57, 11, 304208), params={'x': 0.6803831131156572}, user_attrs={}, system_attrs={}, intermediate_values={}, params_in_internal_repr={'x': 0.6803831131156572}), FrozenTrial(trial_id=75, state=<TrialState.COMPLETE: 1>, value=0.009053840062762476, datetime_start=datetime.datetime(2018, 12, 5, 3, 57, 11, 309215), datetime_complete=datetime.datetime(2018, 12, 5, 3, 57, 11, 313474), params={'x': 2.095151668733462}, user_attrs={}, system_attrs={}, intermediate_values={}, params_in_internal_repr={'x': 2.095151668733462}), FrozenTrial(trial_id=76, state=<TrialState.COMPLETE: 1>, value=4.424016678309847, datetime_start=datetime.datetime(2018, 12, 5, 3, 57, 11, 318664), datetime_complete=datetime.datetime(2018, 12, 5, 3, 57, 11, 322480), params={'x': -0.10333465675575448}, user_attrs={}, system_attrs={}, intermediate_values={}, params_in_internal_repr={'x': -0.10333465675575448}), FrozenTrial(trial_id=77, state=<TrialState.COMPLETE: 1>, value=1.4420824219646358, datetime_start=datetime.datetime(2018, 12, 5, 3, 57, 11, 327845), datetime_complete=datetime.datetime(2018, 12, 5, 3, 57, 11, 332115), params={'x': 3.2008673623529935}, user_attrs={}, system_attrs={}, intermediate_values={}, params_in_internal_repr={'x': 3.2008673623529935}), FrozenTrial(trial_id=78, state=<TrialState.COMPLETE: 1>, value=1.096127755344829, datetime_start=datetime.datetime(2018, 12, 5, 3, 57, 11, 337626), datetime_complete=datetime.datetime(2018, 12, 5, 3, 57, 11, 341599), params={'x': 0.9530387995036163}, user_attrs={}, system_attrs={}, intermediate_values={}, params_in_internal_repr={'x': 0.9530387995036163}), FrozenTrial(trial_id=79, state=<TrialState.COMPLETE: 1>, value=1.3217422733775377, datetime_start=datetime.datetime(2018, 12, 5, 3, 57, 11, 346465), datetime_complete=datetime.datetime(2018, 12, 5, 3, 57, 11, 350862), params={'x': 0.8503294935602037}, user_attrs={}, system_attrs={}, intermediate_values={}, params_in_internal_repr={'x': 0.8503294935602037}), FrozenTrial(trial_id=80, state=<TrialState.COMPLETE: 1>, value=0.3436801461745617, datetime_start=datetime.datetime(2018, 12, 5, 3, 57, 11, 355725), datetime_complete=datetime.datetime(2018, 12, 5, 3, 57, 11, 359922), params={'x': 2.5862423954087266}, user_attrs={}, system_attrs={}, intermediate_values={}, params_in_internal_repr={'x': 2.5862423954087266}), FrozenTrial(trial_id=81, state=<TrialState.COMPLETE: 1>, value=4.172943527161051, datetime_start=datetime.datetime(2018, 12, 5, 3, 57, 11, 365070), datetime_complete=datetime.datetime(2018, 12, 5, 3, 57, 11, 369532), params={'x': -0.042778384250492074}, user_attrs={}, system_attrs={}, intermediate_values={}, params_in_internal_repr={'x': -0.042778384250492074}), FrozenTrial(trial_id=82, state=<TrialState.COMPLETE: 1>, value=2.592268973276394, datetime_start=datetime.datetime(2018, 12, 5, 3, 57, 11, 374627), datetime_complete=datetime.datetime(2018, 12, 5, 3, 57, 11, 378748), params={'x': 3.6100524753176195}, user_attrs={}, system_attrs={}, intermediate_values={}, params_in_internal_repr={'x': 3.6100524753176195}), FrozenTrial(trial_id=83, state=<TrialState.COMPLETE: 1>, value=2.6037850117447228, datetime_start=datetime.datetime(2018, 12, 5, 3, 57, 11, 384503), datetime_complete=datetime.datetime(2018, 12, 5, 3, 57, 11, 389413), params={'x': 0.38637519486569516}, user_attrs={}, system_attrs={}, intermediate_values={}, params_in_internal_repr={'x': 0.38637519486569516}), FrozenTrial(trial_id=84, state=<TrialState.COMPLETE: 1>, value=1.1055909968809632, datetime_start=datetime.datetime(2018, 12, 5, 3, 57, 11, 394986), datetime_complete=datetime.datetime(2018, 12, 5, 3, 57, 11, 400423), params={'x': 0.9485291269459895}, user_attrs={}, system_attrs={}, intermediate_values={}, params_in_internal_repr={'x': 0.9485291269459895}), FrozenTrial(trial_id=85, state=<TrialState.COMPLETE: 1>, value=0.007658752541266304, datetime_start=datetime.datetime(2018, 12, 5, 3, 57, 11, 405828), datetime_complete=datetime.datetime(2018, 12, 5, 3, 57, 11, 409830), params={'x': 1.9124857009325544}, user_attrs={}, system_attrs={}, intermediate_values={}, params_in_internal_repr={'x': 1.9124857009325544}), FrozenTrial(trial_id=86, state=<TrialState.COMPLETE: 1>, value=2.6537565404867935, datetime_start=datetime.datetime(2018, 12, 5, 3, 57, 11, 414753), datetime_complete=datetime.datetime(2018, 12, 5, 3, 57, 11, 419741), params={'x': 0.3709645367620773}, user_attrs={}, system_attrs={}, intermediate_values={}, params_in_internal_repr={'x': 0.3709645367620773}), FrozenTrial(trial_id=87, state=<TrialState.COMPLETE: 1>, value=0.003346822435977463, datetime_start=datetime.datetime(2018, 12, 5, 3, 57, 11, 425639), datetime_complete=datetime.datetime(2018, 12, 5, 3, 57, 11, 430147), params={'x': 1.9421482719706882}, user_attrs={}, system_attrs={}, intermediate_values={}, params_in_internal_repr={'x': 1.9421482719706882}), FrozenTrial(trial_id=88, state=<TrialState.COMPLETE: 1>, value=0.0018441804298485209, datetime_start=datetime.datetime(2018, 12, 5, 3, 57, 11, 435247), datetime_complete=datetime.datetime(2018, 12, 5, 3, 57, 11, 439934), params={'x': 2.0429439219197376}, user_attrs={}, system_attrs={}, intermediate_values={}, params_in_internal_repr={'x': 2.0429439219197376}), FrozenTrial(trial_id=89, state=<TrialState.COMPLETE: 1>, value=0.3751111928365426, datetime_start=datetime.datetime(2018, 12, 5, 3, 57, 11, 445125), datetime_complete=datetime.datetime(2018, 12, 5, 3, 57, 11, 449789), params={'x': 1.387536782462373}, user_attrs={}, system_attrs={}, intermediate_values={}, params_in_internal_repr={'x': 1.387536782462373}), FrozenTrial(trial_id=90, state=<TrialState.COMPLETE: 1>, value=0.2491380862995574, datetime_start=datetime.datetime(2018, 12, 5, 3, 57, 11, 454926), datetime_complete=datetime.datetime(2018, 12, 5, 3, 57, 11, 459580), params={'x': 1.500862657879059}, user_attrs={}, system_attrs={}, intermediate_values={}, params_in_internal_repr={'x': 1.500862657879059}), FrozenTrial(trial_id=91, state=<TrialState.COMPLETE: 1>, value=0.06613531894234276, datetime_start=datetime.datetime(2018, 12, 5, 3, 57, 11, 465204), datetime_complete=datetime.datetime(2018, 12, 5, 3, 57, 11, 469957), params={'x': 1.7428321191471556}, user_attrs={}, system_attrs={}, intermediate_values={}, params_in_internal_repr={'x': 1.7428321191471556}), FrozenTrial(trial_id=92, state=<TrialState.COMPLETE: 1>, value=0.9749600128115118, datetime_start=datetime.datetime(2018, 12, 5, 3, 57, 11, 475935), datetime_complete=datetime.datetime(2018, 12, 5, 3, 57, 11, 481821), params={'x': 1.0125993656010182}, user_attrs={}, system_attrs={}, intermediate_values={}, params_in_internal_repr={'x': 1.0125993656010182}), FrozenTrial(trial_id=93, state=<TrialState.COMPLETE: 1>, value=0.08424291193123844, datetime_start=datetime.datetime(2018, 12, 5, 3, 57, 11, 487823), datetime_complete=datetime.datetime(2018, 12, 5, 3, 57, 11, 492345), params={'x': 2.2902462952928744}, user_attrs={}, system_attrs={}, intermediate_values={}, params_in_internal_repr={'x': 2.2902462952928744}), FrozenTrial(trial_id=94, state=<TrialState.COMPLETE: 1>, value=0.2871470637863245, datetime_start=datetime.datetime(2018, 12, 5, 3, 57, 11, 498192), datetime_complete=datetime.datetime(2018, 12, 5, 3, 57, 11, 502726), params={'x': 1.464138951045773}, user_attrs={}, system_attrs={}, intermediate_values={}, params_in_internal_repr={'x': 1.464138951045773}), FrozenTrial(trial_id=95, state=<TrialState.COMPLETE: 1>, value=1.9366679885954416, datetime_start=datetime.datetime(2018, 12, 5, 3, 57, 11, 508101), datetime_complete=datetime.datetime(2018, 12, 5, 3, 57, 11, 512296), params={'x': 0.608357808703889}, user_attrs={}, system_attrs={}, intermediate_values={}, params_in_internal_repr={'x': 0.608357808703889}), FrozenTrial(trial_id=96, state=<TrialState.COMPLETE: 1>, value=0.5617230938765964, datetime_start=datetime.datetime(2018, 12, 5, 3, 57, 11, 518787), datetime_complete=datetime.datetime(2018, 12, 5, 3, 57, 11, 524583), params={'x': 2.749481883621343}, user_attrs={}, system_attrs={}, intermediate_values={}, params_in_internal_repr={'x': 2.749481883621343}), FrozenTrial(trial_id=97, state=<TrialState.COMPLETE: 1>, value=3.6121307308512436, datetime_start=datetime.datetime(2018, 12, 5, 3, 57, 11, 530531), datetime_complete=datetime.datetime(2018, 12, 5, 3, 57, 11, 535637), params={'x': 0.0994393640687905}, user_attrs={}, system_attrs={}, intermediate_values={}, params_in_internal_repr={'x': 0.0994393640687905}), FrozenTrial(trial_id=98, state=<TrialState.COMPLETE: 1>, value=1.9973549649470117, datetime_start=datetime.datetime(2018, 12, 5, 3, 57, 11, 541396), datetime_complete=datetime.datetime(2018, 12, 5, 3, 57, 11, 546100), params={'x': 3.413278091865508}, user_attrs={}, system_attrs={}, intermediate_values={}, params_in_internal_repr={'x': 3.413278091865508}), FrozenTrial(trial_id=99, state=<TrialState.COMPLETE: 1>, value=7.51517901598519, datetime_start=datetime.datetime(2018, 12, 5, 3, 57, 11, 552625), datetime_complete=datetime.datetime(2018, 12, 5, 3, 57, 11, 557289), params={'x': -0.7413826832431094}, user_attrs={}, system_attrs={}, intermediate_values={}, params_in_internal_repr={'x': -0.7413826832431094})]\n"
     ]
    }
   ],
   "source": [
    "print('最適化された変数の値')\n",
    "print(study.best_params)\n",
    "print('-'*40)\n",
    "print('目的関数の最適値')\n",
    "print(study.best_value)\n",
    "print('-'*40)\n",
    "print('最適値を達成した試行')\n",
    "print(study.best_trial)\n",
    "print('-'*40)\n",
    "print('全試行回数')\n",
    "print(len(study.trials))\n",
    "print('-'*40)\n",
    "print('全試行')\n",
    "print(study.trials)"
   ]
  },
  {
   "cell_type": "markdown",
   "metadata": {},
   "source": [
    "#### 結果を引き継いで再最適化\n",
    "- `len(study.trials)`の値から継続的に最適化が行われていることが分かる\n",
    "- `best_params`が改善している"
   ]
  },
  {
   "cell_type": "code",
   "execution_count": 5,
   "metadata": {},
   "outputs": [
    {
     "name": "stderr",
     "output_type": "stream",
     "text": [
      "[I 2018-12-05 03:57:11,606] Finished a trial resulted in value: 4.712859864216515. Current best value is 0.00048148561762163025 with parameters: {'x': 2.0219427805353294}.\n",
      "[I 2018-12-05 03:57:11,618] Finished a trial resulted in value: 11.898120623018198. Current best value is 0.00048148561762163025 with parameters: {'x': 2.0219427805353294}.\n",
      "[I 2018-12-05 03:57:11,629] Finished a trial resulted in value: 4.406783665331058. Current best value is 0.00048148561762163025 with parameters: {'x': 2.0219427805353294}.\n",
      "[I 2018-12-05 03:57:11,640] Finished a trial resulted in value: 6.146304871405808. Current best value is 0.00048148561762163025 with parameters: {'x': 2.0219427805353294}.\n",
      "[I 2018-12-05 03:57:11,651] Finished a trial resulted in value: 3.750760713335725. Current best value is 0.00048148561762163025 with parameters: {'x': 2.0219427805353294}.\n",
      "[I 2018-12-05 03:57:11,663] Finished a trial resulted in value: 11.01071201863862. Current best value is 0.00048148561762163025 with parameters: {'x': 2.0219427805353294}.\n",
      "[I 2018-12-05 03:57:11,674] Finished a trial resulted in value: 5.751237088605551. Current best value is 0.00048148561762163025 with parameters: {'x': 2.0219427805353294}.\n",
      "[I 2018-12-05 03:57:11,686] Finished a trial resulted in value: 17.655329426947343. Current best value is 0.00048148561762163025 with parameters: {'x': 2.0219427805353294}.\n",
      "[I 2018-12-05 03:57:11,697] Finished a trial resulted in value: 11.483630054805673. Current best value is 0.00048148561762163025 with parameters: {'x': 2.0219427805353294}.\n",
      "[I 2018-12-05 03:57:11,710] Finished a trial resulted in value: 9.4595040498463. Current best value is 0.00048148561762163025 with parameters: {'x': 2.0219427805353294}.\n",
      "[I 2018-12-05 03:57:11,721] Finished a trial resulted in value: 0.8783513179349882. Current best value is 0.00048148561762163025 with parameters: {'x': 2.0219427805353294}.\n",
      "[I 2018-12-05 03:57:11,732] Finished a trial resulted in value: 2.1019844132468064. Current best value is 0.00048148561762163025 with parameters: {'x': 2.0219427805353294}.\n",
      "[I 2018-12-05 03:57:11,744] Finished a trial resulted in value: 0.3037066781403168. Current best value is 0.00048148561762163025 with parameters: {'x': 2.0219427805353294}.\n",
      "[I 2018-12-05 03:57:11,756] Finished a trial resulted in value: 0.2824446547856611. Current best value is 0.00048148561762163025 with parameters: {'x': 2.0219427805353294}.\n",
      "[I 2018-12-05 03:57:11,769] Finished a trial resulted in value: 2.9697841084505003. Current best value is 0.00048148561762163025 with parameters: {'x': 2.0219427805353294}.\n",
      "[I 2018-12-05 03:57:11,784] Finished a trial resulted in value: 0.6557423461549153. Current best value is 0.00048148561762163025 with parameters: {'x': 2.0219427805353294}.\n",
      "[I 2018-12-05 03:57:11,798] Finished a trial resulted in value: 1.5276079225034456. Current best value is 0.00048148561762163025 with parameters: {'x': 2.0219427805353294}.\n",
      "[I 2018-12-05 03:57:11,809] Finished a trial resulted in value: 0.012804730510612131. Current best value is 0.00048148561762163025 with parameters: {'x': 2.0219427805353294}.\n",
      "[I 2018-12-05 03:57:11,821] Finished a trial resulted in value: 0.6317476495678427. Current best value is 0.00048148561762163025 with parameters: {'x': 2.0219427805353294}.\n",
      "[I 2018-12-05 03:57:11,834] Finished a trial resulted in value: 1.4011732115770128. Current best value is 0.00048148561762163025 with parameters: {'x': 2.0219427805353294}.\n",
      "[I 2018-12-05 03:57:11,845] Finished a trial resulted in value: 0.09514745207301993. Current best value is 0.00048148561762163025 with parameters: {'x': 2.0219427805353294}.\n",
      "[I 2018-12-05 03:57:11,858] Finished a trial resulted in value: 2.342742069211205e-05. Current best value is 2.342742069211205e-05 with parameters: {'x': 2.0048401880843736}.\n",
      "[I 2018-12-05 03:57:11,869] Finished a trial resulted in value: 0.3845374667665205. Current best value is 2.342742069211205e-05 with parameters: {'x': 2.0048401880843736}.\n",
      "[I 2018-12-05 03:57:11,881] Finished a trial resulted in value: 0.20744106264723147. Current best value is 2.342742069211205e-05 with parameters: {'x': 2.0048401880843736}.\n",
      "[I 2018-12-05 03:57:11,893] Finished a trial resulted in value: 1.4348875250624729. Current best value is 2.342742069211205e-05 with parameters: {'x': 2.0048401880843736}.\n",
      "[I 2018-12-05 03:57:11,906] Finished a trial resulted in value: 0.8530795143912718. Current best value is 2.342742069211205e-05 with parameters: {'x': 2.0048401880843736}.\n",
      "[I 2018-12-05 03:57:11,917] Finished a trial resulted in value: 8.905785404170736. Current best value is 2.342742069211205e-05 with parameters: {'x': 2.0048401880843736}.\n",
      "[I 2018-12-05 03:57:11,930] Finished a trial resulted in value: 8.394208608199834. Current best value is 2.342742069211205e-05 with parameters: {'x': 2.0048401880843736}.\n",
      "[I 2018-12-05 03:57:11,943] Finished a trial resulted in value: 11.635630260242406. Current best value is 2.342742069211205e-05 with parameters: {'x': 2.0048401880843736}.\n",
      "[I 2018-12-05 03:57:11,959] Finished a trial resulted in value: 6.873106062748902. Current best value is 2.342742069211205e-05 with parameters: {'x': 2.0048401880843736}.\n",
      "[I 2018-12-05 03:57:11,971] Finished a trial resulted in value: 6.584648200675658. Current best value is 2.342742069211205e-05 with parameters: {'x': 2.0048401880843736}.\n",
      "[I 2018-12-05 03:57:12,029] Finished a trial resulted in value: 0.0037836983865374278. Current best value is 2.342742069211205e-05 with parameters: {'x': 2.0048401880843736}.\n",
      "[I 2018-12-05 03:57:12,045] Finished a trial resulted in value: 0.15269393919230712. Current best value is 2.342742069211205e-05 with parameters: {'x': 2.0048401880843736}.\n",
      "[I 2018-12-05 03:57:12,059] Finished a trial resulted in value: 0.41326861028419964. Current best value is 2.342742069211205e-05 with parameters: {'x': 2.0048401880843736}.\n",
      "[I 2018-12-05 03:57:12,073] Finished a trial resulted in value: 1.1150094966417725. Current best value is 2.342742069211205e-05 with parameters: {'x': 2.0048401880843736}.\n",
      "[I 2018-12-05 03:57:12,086] Finished a trial resulted in value: 0.16612326445464104. Current best value is 2.342742069211205e-05 with parameters: {'x': 2.0048401880843736}.\n",
      "[I 2018-12-05 03:57:12,100] Finished a trial resulted in value: 1.2762732602094689. Current best value is 2.342742069211205e-05 with parameters: {'x': 2.0048401880843736}.\n",
      "[I 2018-12-05 03:57:12,114] Finished a trial resulted in value: 0.5097719118453209. Current best value is 2.342742069211205e-05 with parameters: {'x': 2.0048401880843736}.\n",
      "[I 2018-12-05 03:57:12,127] Finished a trial resulted in value: 0.06097599624678037. Current best value is 2.342742069211205e-05 with parameters: {'x': 2.0048401880843736}.\n",
      "[I 2018-12-05 03:57:12,141] Finished a trial resulted in value: 0.008333327791289338. Current best value is 2.342742069211205e-05 with parameters: {'x': 2.0048401880843736}.\n",
      "[I 2018-12-05 03:57:12,155] Finished a trial resulted in value: 2.0470875784567735. Current best value is 2.342742069211205e-05 with parameters: {'x': 2.0048401880843736}.\n",
      "[I 2018-12-05 03:57:12,169] Finished a trial resulted in value: 1.0427224462795068. Current best value is 2.342742069211205e-05 with parameters: {'x': 2.0048401880843736}.\n",
      "[I 2018-12-05 03:57:12,182] Finished a trial resulted in value: 2.600732614221054. Current best value is 2.342742069211205e-05 with parameters: {'x': 2.0048401880843736}.\n",
      "[I 2018-12-05 03:57:12,197] Finished a trial resulted in value: 1.3181619010764543. Current best value is 2.342742069211205e-05 with parameters: {'x': 2.0048401880843736}.\n",
      "[I 2018-12-05 03:57:12,210] Finished a trial resulted in value: 3.0971613138674536. Current best value is 2.342742069211205e-05 with parameters: {'x': 2.0048401880843736}.\n",
      "[I 2018-12-05 03:57:12,225] Finished a trial resulted in value: 59.79926660157371. Current best value is 2.342742069211205e-05 with parameters: {'x': 2.0048401880843736}.\n",
      "[I 2018-12-05 03:57:12,239] Finished a trial resulted in value: 0.48192525759820665. Current best value is 2.342742069211205e-05 with parameters: {'x': 2.0048401880843736}.\n",
      "[I 2018-12-05 03:57:12,253] Finished a trial resulted in value: 8.61208120891791. Current best value is 2.342742069211205e-05 with parameters: {'x': 2.0048401880843736}.\n",
      "[I 2018-12-05 03:57:12,267] Finished a trial resulted in value: 3.019319363189883. Current best value is 2.342742069211205e-05 with parameters: {'x': 2.0048401880843736}.\n",
      "[I 2018-12-05 03:57:12,281] Finished a trial resulted in value: 1.2273600693678939. Current best value is 2.342742069211205e-05 with parameters: {'x': 2.0048401880843736}.\n",
      "[I 2018-12-05 03:57:12,295] Finished a trial resulted in value: 0.015614199507090825. Current best value is 2.342742069211205e-05 with parameters: {'x': 2.0048401880843736}.\n",
      "[I 2018-12-05 03:57:12,309] Finished a trial resulted in value: 1.7021679832570522. Current best value is 2.342742069211205e-05 with parameters: {'x': 2.0048401880843736}.\n",
      "[I 2018-12-05 03:57:12,325] Finished a trial resulted in value: 0.06065498073380174. Current best value is 2.342742069211205e-05 with parameters: {'x': 2.0048401880843736}.\n",
      "[I 2018-12-05 03:57:12,340] Finished a trial resulted in value: 0.23466133013429563. Current best value is 2.342742069211205e-05 with parameters: {'x': 2.0048401880843736}.\n",
      "[I 2018-12-05 03:57:12,356] Finished a trial resulted in value: 1.0294734064236486. Current best value is 2.342742069211205e-05 with parameters: {'x': 2.0048401880843736}.\n",
      "[I 2018-12-05 03:57:12,370] Finished a trial resulted in value: 0.4636494106903596. Current best value is 2.342742069211205e-05 with parameters: {'x': 2.0048401880843736}.\n",
      "[I 2018-12-05 03:57:12,384] Finished a trial resulted in value: 2.550978880277123. Current best value is 2.342742069211205e-05 with parameters: {'x': 2.0048401880843736}.\n",
      "[I 2018-12-05 03:57:12,401] Finished a trial resulted in value: 0.34151319983567996. Current best value is 2.342742069211205e-05 with parameters: {'x': 2.0048401880843736}.\n",
      "[I 2018-12-05 03:57:12,416] Finished a trial resulted in value: 1.7193801906965678. Current best value is 2.342742069211205e-05 with parameters: {'x': 2.0048401880843736}.\n",
      "[I 2018-12-05 03:57:12,431] Finished a trial resulted in value: 0.9198760272010664. Current best value is 2.342742069211205e-05 with parameters: {'x': 2.0048401880843736}.\n",
      "[I 2018-12-05 03:57:12,446] Finished a trial resulted in value: 3.880142101915811. Current best value is 2.342742069211205e-05 with parameters: {'x': 2.0048401880843736}.\n",
      "[I 2018-12-05 03:57:12,462] Finished a trial resulted in value: 0.051982722596072936. Current best value is 2.342742069211205e-05 with parameters: {'x': 2.0048401880843736}.\n",
      "[I 2018-12-05 03:57:12,476] Finished a trial resulted in value: 0.0739677713021056. Current best value is 2.342742069211205e-05 with parameters: {'x': 2.0048401880843736}.\n",
      "[I 2018-12-05 03:57:12,491] Finished a trial resulted in value: 0.8694145534431831. Current best value is 2.342742069211205e-05 with parameters: {'x': 2.0048401880843736}.\n",
      "[I 2018-12-05 03:57:12,506] Finished a trial resulted in value: 0.2595277944775133. Current best value is 2.342742069211205e-05 with parameters: {'x': 2.0048401880843736}.\n",
      "[I 2018-12-05 03:57:12,521] Finished a trial resulted in value: 1.7113941153612924. Current best value is 2.342742069211205e-05 with parameters: {'x': 2.0048401880843736}.\n",
      "[I 2018-12-05 03:57:12,537] Finished a trial resulted in value: 0.8882254037057346. Current best value is 2.342742069211205e-05 with parameters: {'x': 2.0048401880843736}.\n",
      "[I 2018-12-05 03:57:12,552] Finished a trial resulted in value: 0.05589136593672017. Current best value is 2.342742069211205e-05 with parameters: {'x': 2.0048401880843736}.\n",
      "[I 2018-12-05 03:57:12,567] Finished a trial resulted in value: 1.028500910019633. Current best value is 2.342742069211205e-05 with parameters: {'x': 2.0048401880843736}.\n",
      "[I 2018-12-05 03:57:12,582] Finished a trial resulted in value: 0.02006835549985513. Current best value is 2.342742069211205e-05 with parameters: {'x': 2.0048401880843736}.\n",
      "[I 2018-12-05 03:57:12,598] Finished a trial resulted in value: 0.009516307540201474. Current best value is 2.342742069211205e-05 with parameters: {'x': 2.0048401880843736}.\n",
      "[I 2018-12-05 03:57:12,613] Finished a trial resulted in value: 1.8419601416187783. Current best value is 2.342742069211205e-05 with parameters: {'x': 2.0048401880843736}.\n",
      "[I 2018-12-05 03:57:12,628] Finished a trial resulted in value: 1.0527750203026138e-08. Current best value is 1.0527750203026138e-08 with parameters: {'x': 1.9998973951745627}.\n",
      "[I 2018-12-05 03:57:12,644] Finished a trial resulted in value: 0.38749813792649823. Current best value is 1.0527750203026138e-08 with parameters: {'x': 1.9998973951745627}.\n",
      "[I 2018-12-05 03:57:12,660] Finished a trial resulted in value: 0.0013663120640230056. Current best value is 1.0527750203026138e-08 with parameters: {'x': 1.9998973951745627}.\n",
      "[I 2018-12-05 03:57:12,675] Finished a trial resulted in value: 0.6667728306772065. Current best value is 1.0527750203026138e-08 with parameters: {'x': 1.9998973951745627}.\n",
      "[I 2018-12-05 03:57:12,690] Finished a trial resulted in value: 0.13727825394969317. Current best value is 1.0527750203026138e-08 with parameters: {'x': 1.9998973951745627}.\n",
      "[I 2018-12-05 03:57:12,707] Finished a trial resulted in value: 2.323937674440154. Current best value is 1.0527750203026138e-08 with parameters: {'x': 1.9998973951745627}.\n",
      "[I 2018-12-05 03:57:12,722] Finished a trial resulted in value: 0.1373059327121781. Current best value is 1.0527750203026138e-08 with parameters: {'x': 1.9998973951745627}.\n",
      "[I 2018-12-05 03:57:12,738] Finished a trial resulted in value: 1.1349873675396345. Current best value is 1.0527750203026138e-08 with parameters: {'x': 1.9998973951745627}.\n",
      "[I 2018-12-05 03:57:12,754] Finished a trial resulted in value: 0.7990587348359397. Current best value is 1.0527750203026138e-08 with parameters: {'x': 1.9998973951745627}.\n",
      "[I 2018-12-05 03:57:12,770] Finished a trial resulted in value: 1.244916023315046. Current best value is 1.0527750203026138e-08 with parameters: {'x': 1.9998973951745627}.\n",
      "[I 2018-12-05 03:57:12,787] Finished a trial resulted in value: 0.10991977292204899. Current best value is 1.0527750203026138e-08 with parameters: {'x': 1.9998973951745627}.\n",
      "[I 2018-12-05 03:57:12,804] Finished a trial resulted in value: 1.0552594821314225. Current best value is 1.0527750203026138e-08 with parameters: {'x': 1.9998973951745627}.\n",
      "[I 2018-12-05 03:57:12,821] Finished a trial resulted in value: 0.001527650509227076. Current best value is 1.0527750203026138e-08 with parameters: {'x': 1.9998973951745627}.\n",
      "[I 2018-12-05 03:57:12,839] Finished a trial resulted in value: 2.3904022895265933. Current best value is 1.0527750203026138e-08 with parameters: {'x': 1.9998973951745627}.\n",
      "[I 2018-12-05 03:57:12,856] Finished a trial resulted in value: 2.5261083762015306. Current best value is 1.0527750203026138e-08 with parameters: {'x': 1.9998973951745627}.\n",
      "[I 2018-12-05 03:57:12,873] Finished a trial resulted in value: 5.863793658287707. Current best value is 1.0527750203026138e-08 with parameters: {'x': 1.9998973951745627}.\n",
      "[I 2018-12-05 03:57:12,889] Finished a trial resulted in value: 0.6240962946976025. Current best value is 1.0527750203026138e-08 with parameters: {'x': 1.9998973951745627}.\n",
      "[I 2018-12-05 03:57:12,907] Finished a trial resulted in value: 0.43285203066597694. Current best value is 1.0527750203026138e-08 with parameters: {'x': 1.9998973951745627}.\n",
      "[I 2018-12-05 03:57:12,925] Finished a trial resulted in value: 0.09022446330528192. Current best value is 1.0527750203026138e-08 with parameters: {'x': 1.9998973951745627}.\n",
      "[I 2018-12-05 03:57:12,944] Finished a trial resulted in value: 1.9515536749369862. Current best value is 1.0527750203026138e-08 with parameters: {'x': 1.9998973951745627}.\n",
      "[I 2018-12-05 03:57:12,962] Finished a trial resulted in value: 0.03412059943576128. Current best value is 1.0527750203026138e-08 with parameters: {'x': 1.9998973951745627}.\n",
      "[I 2018-12-05 03:57:12,979] Finished a trial resulted in value: 1.2538036405909814. Current best value is 1.0527750203026138e-08 with parameters: {'x': 1.9998973951745627}.\n"
     ]
    },
    {
     "name": "stderr",
     "output_type": "stream",
     "text": [
      "[I 2018-12-05 03:57:12,997] Finished a trial resulted in value: 1.0511557305746542. Current best value is 1.0527750203026138e-08 with parameters: {'x': 1.9998973951745627}.\n",
      "[I 2018-12-05 03:57:13,015] Finished a trial resulted in value: 3.3324751459987243. Current best value is 1.0527750203026138e-08 with parameters: {'x': 1.9998973951745627}.\n",
      "[I 2018-12-05 03:57:13,032] Finished a trial resulted in value: 0.33247050413952306. Current best value is 1.0527750203026138e-08 with parameters: {'x': 1.9998973951745627}.\n",
      "[I 2018-12-05 03:57:13,050] Finished a trial resulted in value: 0.7595183302564733. Current best value is 1.0527750203026138e-08 with parameters: {'x': 1.9998973951745627}.\n",
      "[I 2018-12-05 03:57:13,067] Finished a trial resulted in value: 0.676509948157123. Current best value is 1.0527750203026138e-08 with parameters: {'x': 1.9998973951745627}.\n",
      "[I 2018-12-05 03:57:13,085] Finished a trial resulted in value: 4.73865128211823. Current best value is 1.0527750203026138e-08 with parameters: {'x': 1.9998973951745627}.\n"
     ]
    }
   ],
   "source": [
    "study.optimize(objective, n_trials=100)"
   ]
  },
  {
   "cell_type": "code",
   "execution_count": 6,
   "metadata": {},
   "outputs": [
    {
     "name": "stdout",
     "output_type": "stream",
     "text": [
      "全試行回数\n",
      "200\n",
      "----------------------------------------\n",
      "最適化された変数の値\n",
      "{'x': 1.9998973951745627}\n"
     ]
    }
   ],
   "source": [
    "print('全試行回数')\n",
    "print(len(study.trials))\n",
    "print('-'*40)\n",
    "print('最適化された変数の値')\n",
    "print(study.best_params)"
   ]
  },
  {
   "cell_type": "markdown",
   "metadata": {},
   "source": [
    "#### 試行回数ではなくtimeoutの時間を指定して実行"
   ]
  },
  {
   "cell_type": "code",
   "execution_count": 7,
   "metadata": {},
   "outputs": [
    {
     "name": "stderr",
     "output_type": "stream",
     "text": [
      "[I 2018-12-05 03:57:13,127] Finished a trial resulted in value: 0.00024876013444282525. Current best value is 1.0527750203026138e-08 with parameters: {'x': 1.9998973951745627}.\n",
      "[I 2018-12-05 03:57:13,146] Finished a trial resulted in value: 0.1699228993850685. Current best value is 1.0527750203026138e-08 with parameters: {'x': 1.9998973951745627}.\n",
      "[I 2018-12-05 03:57:13,165] Finished a trial resulted in value: 0.30561231754959073. Current best value is 1.0527750203026138e-08 with parameters: {'x': 1.9998973951745627}.\n",
      "[I 2018-12-05 03:57:13,182] Finished a trial resulted in value: 1.0528011499782632. Current best value is 1.0527750203026138e-08 with parameters: {'x': 1.9998973951745627}.\n",
      "[I 2018-12-05 03:57:13,200] Finished a trial resulted in value: 0.9233263298154628. Current best value is 1.0527750203026138e-08 with parameters: {'x': 1.9998973951745627}.\n",
      "[I 2018-12-05 03:57:13,220] Finished a trial resulted in value: 3.0484800501318667. Current best value is 1.0527750203026138e-08 with parameters: {'x': 1.9998973951745627}.\n",
      "[I 2018-12-05 03:57:13,239] Finished a trial resulted in value: 1.018111020638324. Current best value is 1.0527750203026138e-08 with parameters: {'x': 1.9998973951745627}.\n",
      "[I 2018-12-05 03:57:13,258] Finished a trial resulted in value: 4.825824342717536. Current best value is 1.0527750203026138e-08 with parameters: {'x': 1.9998973951745627}.\n",
      "[I 2018-12-05 03:57:13,278] Finished a trial resulted in value: 0.8329390534722423. Current best value is 1.0527750203026138e-08 with parameters: {'x': 1.9998973951745627}.\n",
      "[I 2018-12-05 03:57:13,297] Finished a trial resulted in value: 1.3731448473696384. Current best value is 1.0527750203026138e-08 with parameters: {'x': 1.9998973951745627}.\n",
      "[I 2018-12-05 03:57:13,318] Finished a trial resulted in value: 1.5458713997654738. Current best value is 1.0527750203026138e-08 with parameters: {'x': 1.9998973951745627}.\n",
      "[I 2018-12-05 03:57:13,338] Finished a trial resulted in value: 6.360943505056722. Current best value is 1.0527750203026138e-08 with parameters: {'x': 1.9998973951745627}.\n",
      "[I 2018-12-05 03:57:13,357] Finished a trial resulted in value: 4.793684243114836. Current best value is 1.0527750203026138e-08 with parameters: {'x': 1.9998973951745627}.\n",
      "[I 2018-12-05 03:57:13,378] Finished a trial resulted in value: 4.578741398122225. Current best value is 1.0527750203026138e-08 with parameters: {'x': 1.9998973951745627}.\n",
      "[I 2018-12-05 03:57:13,397] Finished a trial resulted in value: 0.0027343537679841573. Current best value is 1.0527750203026138e-08 with parameters: {'x': 1.9998973951745627}.\n",
      "[I 2018-12-05 03:57:13,416] Finished a trial resulted in value: 0.405028783523632. Current best value is 1.0527750203026138e-08 with parameters: {'x': 1.9998973951745627}.\n",
      "[I 2018-12-05 03:57:13,437] Finished a trial resulted in value: 1.6690146526053222. Current best value is 1.0527750203026138e-08 with parameters: {'x': 1.9998973951745627}.\n",
      "[I 2018-12-05 03:57:13,457] Finished a trial resulted in value: 0.33695130308598176. Current best value is 1.0527750203026138e-08 with parameters: {'x': 1.9998973951745627}.\n",
      "[I 2018-12-05 03:57:13,477] Finished a trial resulted in value: 0.04348576211276216. Current best value is 1.0527750203026138e-08 with parameters: {'x': 1.9998973951745627}.\n",
      "[I 2018-12-05 03:57:13,497] Finished a trial resulted in value: 0.2312335126185343. Current best value is 1.0527750203026138e-08 with parameters: {'x': 1.9998973951745627}.\n",
      "[I 2018-12-05 03:57:13,518] Finished a trial resulted in value: 0.3338114114379973. Current best value is 1.0527750203026138e-08 with parameters: {'x': 1.9998973951745627}.\n",
      "[I 2018-12-05 03:57:13,537] Finished a trial resulted in value: 0.007665160933072824. Current best value is 1.0527750203026138e-08 with parameters: {'x': 1.9998973951745627}.\n",
      "[I 2018-12-05 03:57:13,558] Finished a trial resulted in value: 0.46439308018405745. Current best value is 1.0527750203026138e-08 with parameters: {'x': 1.9998973951745627}.\n",
      "[I 2018-12-05 03:57:13,578] Finished a trial resulted in value: 0.9292904212334878. Current best value is 1.0527750203026138e-08 with parameters: {'x': 1.9998973951745627}.\n",
      "[I 2018-12-05 03:57:13,598] Finished a trial resulted in value: 2.674031100958578. Current best value is 1.0527750203026138e-08 with parameters: {'x': 1.9998973951745627}.\n",
      "[I 2018-12-05 03:57:13,620] Finished a trial resulted in value: 6.659808757549836. Current best value is 1.0527750203026138e-08 with parameters: {'x': 1.9998973951745627}.\n",
      "[I 2018-12-05 03:57:13,640] Finished a trial resulted in value: 0.9704366187339908. Current best value is 1.0527750203026138e-08 with parameters: {'x': 1.9998973951745627}.\n",
      "[I 2018-12-05 03:57:13,660] Finished a trial resulted in value: 2.000311746844401. Current best value is 1.0527750203026138e-08 with parameters: {'x': 1.9998973951745627}.\n",
      "[I 2018-12-05 03:57:13,680] Finished a trial resulted in value: 0.21257631970094626. Current best value is 1.0527750203026138e-08 with parameters: {'x': 1.9998973951745627}.\n",
      "[I 2018-12-05 03:57:13,701] Finished a trial resulted in value: 0.567970527973238. Current best value is 1.0527750203026138e-08 with parameters: {'x': 1.9998973951745627}.\n",
      "[I 2018-12-05 03:57:13,722] Finished a trial resulted in value: 0.32911840712859336. Current best value is 1.0527750203026138e-08 with parameters: {'x': 1.9998973951745627}.\n",
      "[I 2018-12-05 03:57:13,742] Finished a trial resulted in value: 0.006497273541190637. Current best value is 1.0527750203026138e-08 with parameters: {'x': 1.9998973951745627}.\n",
      "[I 2018-12-05 03:57:13,763] Finished a trial resulted in value: 0.3973525248243168. Current best value is 1.0527750203026138e-08 with parameters: {'x': 1.9998973951745627}.\n",
      "[I 2018-12-05 03:57:13,783] Finished a trial resulted in value: 0.02277641110259886. Current best value is 1.0527750203026138e-08 with parameters: {'x': 1.9998973951745627}.\n",
      "[I 2018-12-05 03:57:13,804] Finished a trial resulted in value: 1.5975163464512967. Current best value is 1.0527750203026138e-08 with parameters: {'x': 1.9998973951745627}.\n",
      "[I 2018-12-05 03:57:13,824] Finished a trial resulted in value: 0.5413064649000513. Current best value is 1.0527750203026138e-08 with parameters: {'x': 1.9998973951745627}.\n",
      "[I 2018-12-05 03:57:13,844] Finished a trial resulted in value: 0.8853103298822215. Current best value is 1.0527750203026138e-08 with parameters: {'x': 1.9998973951745627}.\n",
      "[I 2018-12-05 03:57:13,865] Finished a trial resulted in value: 0.0654545790002229. Current best value is 1.0527750203026138e-08 with parameters: {'x': 1.9998973951745627}.\n",
      "[I 2018-12-05 03:57:13,886] Finished a trial resulted in value: 0.0227980013771158. Current best value is 1.0527750203026138e-08 with parameters: {'x': 1.9998973951745627}.\n",
      "[I 2018-12-05 03:57:13,908] Finished a trial resulted in value: 2.5562793798324726. Current best value is 1.0527750203026138e-08 with parameters: {'x': 1.9998973951745627}.\n",
      "[I 2018-12-05 03:57:13,928] Finished a trial resulted in value: 1.898066891250086. Current best value is 1.0527750203026138e-08 with parameters: {'x': 1.9998973951745627}.\n",
      "[I 2018-12-05 03:57:13,949] Finished a trial resulted in value: 0.9242133580699446. Current best value is 1.0527750203026138e-08 with parameters: {'x': 1.9998973951745627}.\n",
      "[I 2018-12-05 03:57:13,970] Finished a trial resulted in value: 0.13956217035934892. Current best value is 1.0527750203026138e-08 with parameters: {'x': 1.9998973951745627}.\n",
      "[I 2018-12-05 03:57:13,992] Finished a trial resulted in value: 0.16733516939395654. Current best value is 1.0527750203026138e-08 with parameters: {'x': 1.9998973951745627}.\n",
      "[I 2018-12-05 03:57:14,013] Finished a trial resulted in value: 1.4507887971497067. Current best value is 1.0527750203026138e-08 with parameters: {'x': 1.9998973951745627}.\n",
      "[I 2018-12-05 03:57:14,034] Finished a trial resulted in value: 1.6200576605338157. Current best value is 1.0527750203026138e-08 with parameters: {'x': 1.9998973951745627}.\n",
      "[I 2018-12-05 03:57:14,055] Finished a trial resulted in value: 3.142414362633499. Current best value is 1.0527750203026138e-08 with parameters: {'x': 1.9998973951745627}.\n",
      "[I 2018-12-05 03:57:14,077] Finished a trial resulted in value: 0.2348797979141479. Current best value is 1.0527750203026138e-08 with parameters: {'x': 1.9998973951745627}.\n",
      "[I 2018-12-05 03:57:14,097] Finished a trial resulted in value: 0.8839248928109064. Current best value is 1.0527750203026138e-08 with parameters: {'x': 1.9998973951745627}.\n",
      "[I 2018-12-05 03:57:14,120] Finished a trial resulted in value: 2.6759396498530554. Current best value is 1.0527750203026138e-08 with parameters: {'x': 1.9998973951745627}.\n",
      "[I 2018-12-05 03:57:14,142] Finished a trial resulted in value: 0.4124180032956517. Current best value is 1.0527750203026138e-08 with parameters: {'x': 1.9998973951745627}.\n",
      "[I 2018-12-05 03:57:14,163] Finished a trial resulted in value: 2.156556611942183. Current best value is 1.0527750203026138e-08 with parameters: {'x': 1.9998973951745627}.\n",
      "[I 2018-12-05 03:57:14,187] Finished a trial resulted in value: 0.049285139929229595. Current best value is 1.0527750203026138e-08 with parameters: {'x': 1.9998973951745627}.\n",
      "[I 2018-12-05 03:57:14,208] Finished a trial resulted in value: 0.5423801222142957. Current best value is 1.0527750203026138e-08 with parameters: {'x': 1.9998973951745627}.\n",
      "[I 2018-12-05 03:57:14,229] Finished a trial resulted in value: 0.21352384794699203. Current best value is 1.0527750203026138e-08 with parameters: {'x': 1.9998973951745627}.\n",
      "[I 2018-12-05 03:57:14,252] Finished a trial resulted in value: 2.9161228551244602. Current best value is 1.0527750203026138e-08 with parameters: {'x': 1.9998973951745627}.\n",
      "[I 2018-12-05 03:57:14,274] Finished a trial resulted in value: 0.6212034172442173. Current best value is 1.0527750203026138e-08 with parameters: {'x': 1.9998973951745627}.\n",
      "[I 2018-12-05 03:57:14,296] Finished a trial resulted in value: 45.573382264103024. Current best value is 1.0527750203026138e-08 with parameters: {'x': 1.9998973951745627}.\n",
      "[I 2018-12-05 03:57:14,317] Finished a trial resulted in value: 6.382322757615124. Current best value is 1.0527750203026138e-08 with parameters: {'x': 1.9998973951745627}.\n",
      "[I 2018-12-05 03:57:14,338] Finished a trial resulted in value: 1.035738959063556. Current best value is 1.0527750203026138e-08 with parameters: {'x': 1.9998973951745627}.\n",
      "[I 2018-12-05 03:57:14,360] Finished a trial resulted in value: 0.012242657765066778. Current best value is 1.0527750203026138e-08 with parameters: {'x': 1.9998973951745627}.\n",
      "[I 2018-12-05 03:57:14,382] Finished a trial resulted in value: 0.0533495769105228. Current best value is 1.0527750203026138e-08 with parameters: {'x': 1.9998973951745627}.\n",
      "[I 2018-12-05 03:57:14,404] Finished a trial resulted in value: 0.4496470652976315. Current best value is 1.0527750203026138e-08 with parameters: {'x': 1.9998973951745627}.\n",
      "[I 2018-12-05 03:57:14,425] Finished a trial resulted in value: 2.8723646919758865. Current best value is 1.0527750203026138e-08 with parameters: {'x': 1.9998973951745627}.\n",
      "[I 2018-12-05 03:57:14,447] Finished a trial resulted in value: 1.8614043271600673. Current best value is 1.0527750203026138e-08 with parameters: {'x': 1.9998973951745627}.\n",
      "[I 2018-12-05 03:57:14,468] Finished a trial resulted in value: 1.531647872387715. Current best value is 1.0527750203026138e-08 with parameters: {'x': 1.9998973951745627}.\n",
      "[I 2018-12-05 03:57:14,490] Finished a trial resulted in value: 0.002007415606488206. Current best value is 1.0527750203026138e-08 with parameters: {'x': 1.9998973951745627}.\n",
      "[I 2018-12-05 03:57:14,512] Finished a trial resulted in value: 0.4015226811905976. Current best value is 1.0527750203026138e-08 with parameters: {'x': 1.9998973951745627}.\n",
      "[I 2018-12-05 03:57:14,533] Finished a trial resulted in value: 3.4086324691136225. Current best value is 1.0527750203026138e-08 with parameters: {'x': 1.9998973951745627}.\n",
      "[I 2018-12-05 03:57:14,556] Finished a trial resulted in value: 0.5150799533858776. Current best value is 1.0527750203026138e-08 with parameters: {'x': 1.9998973951745627}.\n",
      "[I 2018-12-05 03:57:14,579] Finished a trial resulted in value: 1.221713378067055. Current best value is 1.0527750203026138e-08 with parameters: {'x': 1.9998973951745627}.\n",
      "[I 2018-12-05 03:57:14,601] Finished a trial resulted in value: 0.0016323724157412296. Current best value is 1.0527750203026138e-08 with parameters: {'x': 1.9998973951745627}.\n",
      "[I 2018-12-05 03:57:14,623] Finished a trial resulted in value: 0.00993636469528365. Current best value is 1.0527750203026138e-08 with parameters: {'x': 1.9998973951745627}.\n",
      "[I 2018-12-05 03:57:14,646] Finished a trial resulted in value: 1.7386254151327234. Current best value is 1.0527750203026138e-08 with parameters: {'x': 1.9998973951745627}.\n",
      "[I 2018-12-05 03:57:14,669] Finished a trial resulted in value: 0.22879600783517662. Current best value is 1.0527750203026138e-08 with parameters: {'x': 1.9998973951745627}.\n",
      "[I 2018-12-05 03:57:14,691] Finished a trial resulted in value: 0.005933452651123589. Current best value is 1.0527750203026138e-08 with parameters: {'x': 1.9998973951745627}.\n",
      "[I 2018-12-05 03:57:14,714] Finished a trial resulted in value: 0.8842138258898398. Current best value is 1.0527750203026138e-08 with parameters: {'x': 1.9998973951745627}.\n",
      "[I 2018-12-05 03:57:14,737] Finished a trial resulted in value: 0.6790518780977531. Current best value is 1.0527750203026138e-08 with parameters: {'x': 1.9998973951745627}.\n",
      "[I 2018-12-05 03:57:14,761] Finished a trial resulted in value: 2.090720427449079. Current best value is 1.0527750203026138e-08 with parameters: {'x': 1.9998973951745627}.\n",
      "[I 2018-12-05 03:57:14,784] Finished a trial resulted in value: 0.5755730612453108. Current best value is 1.0527750203026138e-08 with parameters: {'x': 1.9998973951745627}.\n",
      "[I 2018-12-05 03:57:14,809] Finished a trial resulted in value: 0.2528906265428303. Current best value is 1.0527750203026138e-08 with parameters: {'x': 1.9998973951745627}.\n",
      "[I 2018-12-05 03:57:14,831] Finished a trial resulted in value: 0.8469426644493738. Current best value is 1.0527750203026138e-08 with parameters: {'x': 1.9998973951745627}.\n",
      "[I 2018-12-05 03:57:14,855] Finished a trial resulted in value: 0.0222372495143263. Current best value is 1.0527750203026138e-08 with parameters: {'x': 1.9998973951745627}.\n",
      "[I 2018-12-05 03:57:14,879] Finished a trial resulted in value: 0.42338330039138805. Current best value is 1.0527750203026138e-08 with parameters: {'x': 1.9998973951745627}.\n",
      "[I 2018-12-05 03:57:14,903] Finished a trial resulted in value: 0.09083279169923371. Current best value is 1.0527750203026138e-08 with parameters: {'x': 1.9998973951745627}.\n",
      "[I 2018-12-05 03:57:14,927] Finished a trial resulted in value: 0.16831551992204616. Current best value is 1.0527750203026138e-08 with parameters: {'x': 1.9998973951745627}.\n",
      "[I 2018-12-05 03:57:14,952] Finished a trial resulted in value: 0.8909851946557231. Current best value is 1.0527750203026138e-08 with parameters: {'x': 1.9998973951745627}.\n",
      "[I 2018-12-05 03:57:14,976] Finished a trial resulted in value: 0.0008030999081145754. Current best value is 1.0527750203026138e-08 with parameters: {'x': 1.9998973951745627}.\n",
      "[I 2018-12-05 03:57:15,000] Finished a trial resulted in value: 0.8051713499019187. Current best value is 1.0527750203026138e-08 with parameters: {'x': 1.9998973951745627}.\n",
      "[I 2018-12-05 03:57:15,025] Finished a trial resulted in value: 0.002028319244412201. Current best value is 1.0527750203026138e-08 with parameters: {'x': 1.9998973951745627}.\n",
      "[I 2018-12-05 03:57:15,051] Finished a trial resulted in value: 0.2836429808520678. Current best value is 1.0527750203026138e-08 with parameters: {'x': 1.9998973951745627}.\n",
      "[I 2018-12-05 03:57:15,075] Finished a trial resulted in value: 0.045334833702406166. Current best value is 1.0527750203026138e-08 with parameters: {'x': 1.9998973951745627}.\n",
      "[I 2018-12-05 03:57:15,098] Finished a trial resulted in value: 1.7517211176208856. Current best value is 1.0527750203026138e-08 with parameters: {'x': 1.9998973951745627}.\n",
      "[I 2018-12-05 03:57:15,123] Finished a trial resulted in value: 2.8324692699839495. Current best value is 1.0527750203026138e-08 with parameters: {'x': 1.9998973951745627}.\n"
     ]
    }
   ],
   "source": [
    "study.optimize(objective, timeout=2.0)"
   ]
  },
  {
   "cell_type": "code",
   "execution_count": 8,
   "metadata": {},
   "outputs": [
    {
     "name": "stdout",
     "output_type": "stream",
     "text": [
      "全試行回数\n",
      "294\n",
      "----------------------------------------\n",
      "最適化された変数の値\n",
      "{'x': 1.9998973951745627}\n"
     ]
    }
   ],
   "source": [
    "print('全試行回数')\n",
    "print(len(study.trials))\n",
    "print('-'*40)\n",
    "print('最適化された変数の値')\n",
    "print(study.best_params)"
   ]
  },
  {
   "cell_type": "markdown",
   "metadata": {},
   "source": [
    "<a name=\"advanced_configurations\"></a>\n",
    "## Advanced Configurations\n",
    "- [公式サイト](https://optuna.readthedocs.io/en/stable/tutorial/configurations.html)"
   ]
  },
  {
   "cell_type": "markdown",
   "metadata": {},
   "source": [
    "### 探索するパラメータ空間の定義方法\n",
    "- 提示される値は`Sampler`によってサンプリングされる\n",
    "    - RandomSampler\n",
    "    - TPESampler"
   ]
  },
  {
   "cell_type": "code",
   "execution_count": 9,
   "metadata": {},
   "outputs": [],
   "source": [
    "def objective(trial):\n",
    "    # カテゴリ変数を提示する, (name, choices) choicesにリスト[]で指定\n",
    "    optimizer = trial.suggest_categorical('optimizer', ['MomentumSGD', 'Adam'])\n",
    "\n",
    "    # 整数値変数[low, high]から提示, (name, low, high)\n",
    "    num_layers = trial.suggest_int('num_layers', 1, 3)\n",
    "\n",
    "    # 連続値変数[low, high)から提示, (name, low, high)\n",
    "    dropout_rate = trial.suggest_uniform('dropout_rate', 0.0, 1.0)\n",
    "\n",
    "    # 連続値変数, 対数範囲[low, high)から提示 (name, low, high)\n",
    "    learning_rate = trial.suggest_loguniform('learning_rate', 1e-5, 1e-2)\n",
    "\n",
    "    # 離散値[low, high, step]から提示, (name, low, high, q)\n",
    "    drop_path_rate = trial.suggest_discrete_uniform('drop_path_rate', 0.0, 1.0, 0.1)\n"
   ]
  },
  {
   "cell_type": "markdown",
   "metadata": {},
   "source": [
    "### 変数の値によって条件分岐して探索することも可能"
   ]
  },
  {
   "cell_type": "code",
   "execution_count": 10,
   "metadata": {},
   "outputs": [],
   "source": [
    "def objective(trial):\n",
    "    classifier_name = trial.suggest_categorical('classifier', ['SVC', 'RandomForest'])\n",
    "    \n",
    "    # アルゴリズムごとに探索空間を定義\n",
    "    if classifier_name == 'SVC':\n",
    "        svc_c = trial.suggest_loguniform('svc_c', 1e-10, 1e10)\n",
    "        classifier_obj = sklearn.svm.SVC(C=svc_c)\n",
    "    else:\n",
    "        rf_max_depth = int(trial.suggest_loguniform('rf_max_depth', 2, 32))\n",
    "        classifier_obj = sklearn.ensemble.RandomForestClassifier(max_depth=rf_max_depth)\n"
   ]
  },
  {
   "cell_type": "markdown",
   "metadata": {},
   "source": [
    "### ループ処理を入れることも可能"
   ]
  },
  {
   "cell_type": "code",
   "execution_count": 11,
   "metadata": {},
   "outputs": [],
   "source": [
    "def create_model(trial):\n",
    "    n_layers = trial.suggest_int('n_layers', 1, 3)\n",
    "\n",
    "    layers = []\n",
    "    for i in range(n_layers):\n",
    "        n_units = int(trial.suggest_loguniform('n_units_l{}'.format(i), 4, 128))\n",
    "        layers.append(L.Linear(None, n_units))\n",
    "        layers.append(F.relu)\n",
    "    layers.append(L.Linear(None, 10))\n",
    "\n",
    "    return chainer.Sequential(*layers)"
   ]
  },
  {
   "cell_type": "markdown",
   "metadata": {},
   "source": [
    "### 他の留意事項等\n",
    "- 変数の数を増やすとおよそ指数的に計算量が増える\n",
    "- `optimize`に渡す変数の中で計算時間にかかわるものとして、`n_trials`と`timeout`がある\n",
    "- `n_trials`と`timeout`が指定されないと、`Ctrl+C`等で中断されるまで実行される"
   ]
  },
  {
   "cell_type": "markdown",
   "metadata": {},
   "source": [
    "<a name=\"sklearn_iris\"></a>\n",
    "### scikit-learnの実装例 (Iris)\n",
    "- [コードのソース(github)](https://github.com/pfnet/optuna/blob/master/examples/sklearn_simple.py)"
   ]
  },
  {
   "cell_type": "code",
   "execution_count": 12,
   "metadata": {},
   "outputs": [],
   "source": [
    "import sklearn.datasets\n",
    "import sklearn.ensemble\n",
    "import sklearn.model_selection\n",
    "import sklearn.svm\n",
    "\n",
    "\n",
    "def objective(trial):\n",
    "    # Iris データの読み込み\n",
    "    iris = sklearn.datasets.load_iris()\n",
    "    x, y = iris.data, iris.target\n",
    "\n",
    "    # 分類器の名前をカテゴリ変数として探索空間を定義\n",
    "    classifier_name = trial.suggest_categorical('classifier', ['SVC', 'RandomForest'])\n",
    "    \n",
    "    # 分類器ごとに変数の探索空間を定義\n",
    "    if classifier_name == 'SVC':\n",
    "        svc_c = trial.suggest_loguniform('svc_c', 1e-10, 1e10)\n",
    "        classifier_obj = sklearn.svm.SVC(C=svc_c)\n",
    "    else:\n",
    "        rf_max_depth = int(trial.suggest_loguniform('rf_max_depth', 2, 32))\n",
    "        classifier_obj = sklearn.ensemble.RandomForestClassifier(max_depth=rf_max_depth)\n",
    "\n",
    "    # 最適化する目的関数の定義\n",
    "    score = sklearn.model_selection.cross_val_score(classifier_obj, x, y, n_jobs=-1)\n",
    "    accuracy = score.mean()\n",
    "    return 1.0 - accuracy"
   ]
  },
  {
   "cell_type": "code",
   "execution_count": 13,
   "metadata": {},
   "outputs": [
    {
     "name": "stderr",
     "output_type": "stream",
     "text": [
      "/Users/ikokpro/.pyenv/versions/anaconda3-5.2.0/lib/python3.6/site-packages/sklearn/model_selection/_split.py:2053: FutureWarning: You should specify a value for 'cv' instead of relying on the default value. The default value will change from 3 to 5 in version 0.22.\n",
      "  warnings.warn(CV_WARNING, FutureWarning)\n",
      "[I 2018-12-05 03:57:17,920] Finished a trial resulted in value: 0.04003267973856206. Current best value is 0.04003267973856206 with parameters: {'classifier': 'RandomForest', 'rf_max_depth': 12.989749976030364}.\n",
      "/Users/ikokpro/.pyenv/versions/anaconda3-5.2.0/lib/python3.6/site-packages/sklearn/model_selection/_split.py:2053: FutureWarning: You should specify a value for 'cv' instead of relying on the default value. The default value will change from 3 to 5 in version 0.22.\n",
      "  warnings.warn(CV_WARNING, FutureWarning)\n",
      "[I 2018-12-05 03:57:19,124] Finished a trial resulted in value: 0.06576797385620914. Current best value is 0.04003267973856206 with parameters: {'classifier': 'RandomForest', 'rf_max_depth': 12.989749976030364}.\n",
      "/Users/ikokpro/.pyenv/versions/anaconda3-5.2.0/lib/python3.6/site-packages/sklearn/model_selection/_split.py:2053: FutureWarning: You should specify a value for 'cv' instead of relying on the default value. The default value will change from 3 to 5 in version 0.22.\n",
      "  warnings.warn(CV_WARNING, FutureWarning)\n",
      "[I 2018-12-05 03:57:20,226] Finished a trial resulted in value: 0.06576797385620914. Current best value is 0.04003267973856206 with parameters: {'classifier': 'RandomForest', 'rf_max_depth': 12.989749976030364}.\n",
      "/Users/ikokpro/.pyenv/versions/anaconda3-5.2.0/lib/python3.6/site-packages/sklearn/model_selection/_split.py:2053: FutureWarning: You should specify a value for 'cv' instead of relying on the default value. The default value will change from 3 to 5 in version 0.22.\n",
      "  warnings.warn(CV_WARNING, FutureWarning)\n",
      "[I 2018-12-05 03:57:21,385] Finished a trial resulted in value: 0.03962418300653603. Current best value is 0.03962418300653603 with parameters: {'classifier': 'RandomForest', 'rf_max_depth': 13.14430785967871}.\n",
      "/Users/ikokpro/.pyenv/versions/anaconda3-5.2.0/lib/python3.6/site-packages/sklearn/model_selection/_split.py:2053: FutureWarning: You should specify a value for 'cv' instead of relying on the default value. The default value will change from 3 to 5 in version 0.22.\n",
      "  warnings.warn(CV_WARNING, FutureWarning)\n",
      "[I 2018-12-05 03:57:21,422] Finished a trial resulted in value: 0.052696078431372584. Current best value is 0.03962418300653603 with parameters: {'classifier': 'RandomForest', 'rf_max_depth': 13.14430785967871}.\n",
      "/Users/ikokpro/.pyenv/versions/anaconda3-5.2.0/lib/python3.6/site-packages/sklearn/model_selection/_split.py:2053: FutureWarning: You should specify a value for 'cv' instead of relying on the default value. The default value will change from 3 to 5 in version 0.22.\n",
      "  warnings.warn(CV_WARNING, FutureWarning)\n",
      "[I 2018-12-05 03:57:21,460] Finished a trial resulted in value: 0.06576797385620914. Current best value is 0.03962418300653603 with parameters: {'classifier': 'RandomForest', 'rf_max_depth': 13.14430785967871}.\n",
      "/Users/ikokpro/.pyenv/versions/anaconda3-5.2.0/lib/python3.6/site-packages/sklearn/model_selection/_split.py:2053: FutureWarning: You should specify a value for 'cv' instead of relying on the default value. The default value will change from 3 to 5 in version 0.22.\n",
      "  warnings.warn(CV_WARNING, FutureWarning)\n",
      "[I 2018-12-05 03:57:21,471] Finished a trial resulted in value: 0.060049019607843146. Current best value is 0.03962418300653603 with parameters: {'classifier': 'RandomForest', 'rf_max_depth': 13.14430785967871}.\n",
      "/Users/ikokpro/.pyenv/versions/anaconda3-5.2.0/lib/python3.6/site-packages/sklearn/model_selection/_split.py:2053: FutureWarning: You should specify a value for 'cv' instead of relying on the default value. The default value will change from 3 to 5 in version 0.22.\n",
      "  warnings.warn(CV_WARNING, FutureWarning)\n",
      "[I 2018-12-05 03:57:21,481] Finished a trial resulted in value: 0.0326797385620915. Current best value is 0.0326797385620915 with parameters: {'classifier': 'SVC', 'svc_c': 184.589902309806}.\n",
      "/Users/ikokpro/.pyenv/versions/anaconda3-5.2.0/lib/python3.6/site-packages/sklearn/model_selection/_split.py:2053: FutureWarning: You should specify a value for 'cv' instead of relying on the default value. The default value will change from 3 to 5 in version 0.22.\n",
      "  warnings.warn(CV_WARNING, FutureWarning)\n",
      "[I 2018-12-05 03:57:21,492] Finished a trial resulted in value: 0.060049019607843146. Current best value is 0.0326797385620915 with parameters: {'classifier': 'SVC', 'svc_c': 184.589902309806}.\n",
      "/Users/ikokpro/.pyenv/versions/anaconda3-5.2.0/lib/python3.6/site-packages/sklearn/model_selection/_split.py:2053: FutureWarning: You should specify a value for 'cv' instead of relying on the default value. The default value will change from 3 to 5 in version 0.22.\n",
      "  warnings.warn(CV_WARNING, FutureWarning)\n",
      "[I 2018-12-05 03:57:21,503] Finished a trial resulted in value: 0.06576797385620914. Current best value is 0.0326797385620915 with parameters: {'classifier': 'SVC', 'svc_c': 184.589902309806}.\n",
      "/Users/ikokpro/.pyenv/versions/anaconda3-5.2.0/lib/python3.6/site-packages/sklearn/model_selection/_split.py:2053: FutureWarning: You should specify a value for 'cv' instead of relying on the default value. The default value will change from 3 to 5 in version 0.22.\n",
      "  warnings.warn(CV_WARNING, FutureWarning)\n",
      "[I 2018-12-05 03:57:21,535] Finished a trial resulted in value: 0.060049019607843146. Current best value is 0.0326797385620915 with parameters: {'classifier': 'SVC', 'svc_c': 184.589902309806}.\n",
      "/Users/ikokpro/.pyenv/versions/anaconda3-5.2.0/lib/python3.6/site-packages/sklearn/model_selection/_split.py:2053: FutureWarning: You should specify a value for 'cv' instead of relying on the default value. The default value will change from 3 to 5 in version 0.22.\n",
      "  warnings.warn(CV_WARNING, FutureWarning)\n",
      "[I 2018-12-05 03:57:21,553] Finished a trial resulted in value: 0.052696078431372584. Current best value is 0.0326797385620915 with parameters: {'classifier': 'SVC', 'svc_c': 184.589902309806}.\n",
      "/Users/ikokpro/.pyenv/versions/anaconda3-5.2.0/lib/python3.6/site-packages/sklearn/model_selection/_split.py:2053: FutureWarning: You should specify a value for 'cv' instead of relying on the default value. The default value will change from 3 to 5 in version 0.22.\n",
      "  warnings.warn(CV_WARNING, FutureWarning)\n",
      "[I 2018-12-05 03:57:21,563] Finished a trial resulted in value: 0.03962418300653603. Current best value is 0.0326797385620915 with parameters: {'classifier': 'SVC', 'svc_c': 184.589902309806}.\n",
      "/Users/ikokpro/.pyenv/versions/anaconda3-5.2.0/lib/python3.6/site-packages/sklearn/model_selection/_split.py:2053: FutureWarning: You should specify a value for 'cv' instead of relying on the default value. The default value will change from 3 to 5 in version 0.22.\n",
      "  warnings.warn(CV_WARNING, FutureWarning)\n",
      "[I 2018-12-05 03:57:21,576] Finished a trial resulted in value: 0.06576797385620914. Current best value is 0.0326797385620915 with parameters: {'classifier': 'SVC', 'svc_c': 184.589902309806}.\n",
      "/Users/ikokpro/.pyenv/versions/anaconda3-5.2.0/lib/python3.6/site-packages/sklearn/model_selection/_split.py:2053: FutureWarning: You should specify a value for 'cv' instead of relying on the default value. The default value will change from 3 to 5 in version 0.22.\n",
      "  warnings.warn(CV_WARNING, FutureWarning)\n",
      "[I 2018-12-05 03:57:21,596] Finished a trial resulted in value: 0.0326797385620915. Current best value is 0.0326797385620915 with parameters: {'classifier': 'SVC', 'svc_c': 184.589902309806}.\n",
      "/Users/ikokpro/.pyenv/versions/anaconda3-5.2.0/lib/python3.6/site-packages/sklearn/model_selection/_split.py:2053: FutureWarning: You should specify a value for 'cv' instead of relying on the default value. The default value will change from 3 to 5 in version 0.22.\n",
      "  warnings.warn(CV_WARNING, FutureWarning)\n",
      "[I 2018-12-05 03:57:21,609] Finished a trial resulted in value: 0.060049019607843146. Current best value is 0.0326797385620915 with parameters: {'classifier': 'SVC', 'svc_c': 184.589902309806}.\n",
      "/Users/ikokpro/.pyenv/versions/anaconda3-5.2.0/lib/python3.6/site-packages/sklearn/model_selection/_split.py:2053: FutureWarning: You should specify a value for 'cv' instead of relying on the default value. The default value will change from 3 to 5 in version 0.22.\n",
      "  warnings.warn(CV_WARNING, FutureWarning)\n"
     ]
    },
    {
     "name": "stderr",
     "output_type": "stream",
     "text": [
      "[I 2018-12-05 03:57:21,621] Finished a trial resulted in value: 0.060049019607843146. Current best value is 0.0326797385620915 with parameters: {'classifier': 'SVC', 'svc_c': 184.589902309806}.\n",
      "/Users/ikokpro/.pyenv/versions/anaconda3-5.2.0/lib/python3.6/site-packages/sklearn/model_selection/_split.py:2053: FutureWarning: You should specify a value for 'cv' instead of relying on the default value. The default value will change from 3 to 5 in version 0.22.\n",
      "  warnings.warn(CV_WARNING, FutureWarning)\n",
      "[I 2018-12-05 03:57:21,640] Finished a trial resulted in value: 0.046160130718954306. Current best value is 0.0326797385620915 with parameters: {'classifier': 'SVC', 'svc_c': 184.589902309806}.\n",
      "/Users/ikokpro/.pyenv/versions/anaconda3-5.2.0/lib/python3.6/site-packages/sklearn/model_selection/_split.py:2053: FutureWarning: You should specify a value for 'cv' instead of relying on the default value. The default value will change from 3 to 5 in version 0.22.\n",
      "  warnings.warn(CV_WARNING, FutureWarning)\n",
      "[I 2018-12-05 03:57:21,669] Finished a trial resulted in value: 0.04656862745098034. Current best value is 0.0326797385620915 with parameters: {'classifier': 'SVC', 'svc_c': 184.589902309806}.\n",
      "/Users/ikokpro/.pyenv/versions/anaconda3-5.2.0/lib/python3.6/site-packages/sklearn/model_selection/_split.py:2053: FutureWarning: You should specify a value for 'cv' instead of relying on the default value. The default value will change from 3 to 5 in version 0.22.\n",
      "  warnings.warn(CV_WARNING, FutureWarning)\n",
      "[I 2018-12-05 03:57:21,690] Finished a trial resulted in value: 0.053104575163398615. Current best value is 0.0326797385620915 with parameters: {'classifier': 'SVC', 'svc_c': 184.589902309806}.\n",
      "/Users/ikokpro/.pyenv/versions/anaconda3-5.2.0/lib/python3.6/site-packages/sklearn/model_selection/_split.py:2053: FutureWarning: You should specify a value for 'cv' instead of relying on the default value. The default value will change from 3 to 5 in version 0.22.\n",
      "  warnings.warn(CV_WARNING, FutureWarning)\n",
      "[I 2018-12-05 03:57:21,712] Finished a trial resulted in value: 0.053104575163398615. Current best value is 0.0326797385620915 with parameters: {'classifier': 'SVC', 'svc_c': 184.589902309806}.\n",
      "/Users/ikokpro/.pyenv/versions/anaconda3-5.2.0/lib/python3.6/site-packages/sklearn/model_selection/_split.py:2053: FutureWarning: You should specify a value for 'cv' instead of relying on the default value. The default value will change from 3 to 5 in version 0.22.\n",
      "  warnings.warn(CV_WARNING, FutureWarning)\n",
      "[I 2018-12-05 03:57:21,734] Finished a trial resulted in value: 0.053104575163398615. Current best value is 0.0326797385620915 with parameters: {'classifier': 'SVC', 'svc_c': 184.589902309806}.\n",
      "/Users/ikokpro/.pyenv/versions/anaconda3-5.2.0/lib/python3.6/site-packages/sklearn/model_selection/_split.py:2053: FutureWarning: You should specify a value for 'cv' instead of relying on the default value. The default value will change from 3 to 5 in version 0.22.\n",
      "  warnings.warn(CV_WARNING, FutureWarning)\n",
      "[I 2018-12-05 03:57:21,754] Finished a trial resulted in value: 0.03962418300653603. Current best value is 0.0326797385620915 with parameters: {'classifier': 'SVC', 'svc_c': 184.589902309806}.\n",
      "/Users/ikokpro/.pyenv/versions/anaconda3-5.2.0/lib/python3.6/site-packages/sklearn/model_selection/_split.py:2053: FutureWarning: You should specify a value for 'cv' instead of relying on the default value. The default value will change from 3 to 5 in version 0.22.\n",
      "  warnings.warn(CV_WARNING, FutureWarning)\n",
      "[I 2018-12-05 03:57:21,775] Finished a trial resulted in value: 0.046160130718954306. Current best value is 0.0326797385620915 with parameters: {'classifier': 'SVC', 'svc_c': 184.589902309806}.\n",
      "/Users/ikokpro/.pyenv/versions/anaconda3-5.2.0/lib/python3.6/site-packages/sklearn/model_selection/_split.py:2053: FutureWarning: You should specify a value for 'cv' instead of relying on the default value. The default value will change from 3 to 5 in version 0.22.\n",
      "  warnings.warn(CV_WARNING, FutureWarning)\n",
      "[I 2018-12-05 03:57:21,791] Finished a trial resulted in value: 0.0326797385620915. Current best value is 0.0326797385620915 with parameters: {'classifier': 'SVC', 'svc_c': 184.589902309806}.\n",
      "/Users/ikokpro/.pyenv/versions/anaconda3-5.2.0/lib/python3.6/site-packages/sklearn/model_selection/_split.py:2053: FutureWarning: You should specify a value for 'cv' instead of relying on the default value. The default value will change from 3 to 5 in version 0.22.\n",
      "  warnings.warn(CV_WARNING, FutureWarning)\n",
      "[I 2018-12-05 03:57:21,813] Finished a trial resulted in value: 0.046160130718954306. Current best value is 0.0326797385620915 with parameters: {'classifier': 'SVC', 'svc_c': 184.589902309806}.\n",
      "/Users/ikokpro/.pyenv/versions/anaconda3-5.2.0/lib/python3.6/site-packages/sklearn/model_selection/_split.py:2053: FutureWarning: You should specify a value for 'cv' instead of relying on the default value. The default value will change from 3 to 5 in version 0.22.\n",
      "  warnings.warn(CV_WARNING, FutureWarning)\n",
      "[I 2018-12-05 03:57:21,833] Finished a trial resulted in value: 0.03308823529411775. Current best value is 0.0326797385620915 with parameters: {'classifier': 'SVC', 'svc_c': 184.589902309806}.\n",
      "/Users/ikokpro/.pyenv/versions/anaconda3-5.2.0/lib/python3.6/site-packages/sklearn/model_selection/_split.py:2053: FutureWarning: You should specify a value for 'cv' instead of relying on the default value. The default value will change from 3 to 5 in version 0.22.\n",
      "  warnings.warn(CV_WARNING, FutureWarning)\n",
      "[I 2018-12-05 03:57:21,847] Finished a trial resulted in value: 0.0326797385620915. Current best value is 0.0326797385620915 with parameters: {'classifier': 'SVC', 'svc_c': 184.589902309806}.\n",
      "/Users/ikokpro/.pyenv/versions/anaconda3-5.2.0/lib/python3.6/site-packages/sklearn/model_selection/_split.py:2053: FutureWarning: You should specify a value for 'cv' instead of relying on the default value. The default value will change from 3 to 5 in version 0.22.\n",
      "  warnings.warn(CV_WARNING, FutureWarning)\n",
      "[I 2018-12-05 03:57:21,860] Finished a trial resulted in value: 0.0326797385620915. Current best value is 0.0326797385620915 with parameters: {'classifier': 'SVC', 'svc_c': 184.589902309806}.\n",
      "/Users/ikokpro/.pyenv/versions/anaconda3-5.2.0/lib/python3.6/site-packages/sklearn/model_selection/_split.py:2053: FutureWarning: You should specify a value for 'cv' instead of relying on the default value. The default value will change from 3 to 5 in version 0.22.\n",
      "  warnings.warn(CV_WARNING, FutureWarning)\n",
      "[I 2018-12-05 03:57:21,882] Finished a trial resulted in value: 0.039215686274509776. Current best value is 0.0326797385620915 with parameters: {'classifier': 'SVC', 'svc_c': 184.589902309806}.\n",
      "/Users/ikokpro/.pyenv/versions/anaconda3-5.2.0/lib/python3.6/site-packages/sklearn/model_selection/_split.py:2053: FutureWarning: You should specify a value for 'cv' instead of relying on the default value. The default value will change from 3 to 5 in version 0.22.\n",
      "  warnings.warn(CV_WARNING, FutureWarning)\n",
      "[I 2018-12-05 03:57:21,901] Finished a trial resulted in value: 0.039215686274509776. Current best value is 0.0326797385620915 with parameters: {'classifier': 'SVC', 'svc_c': 184.589902309806}.\n",
      "/Users/ikokpro/.pyenv/versions/anaconda3-5.2.0/lib/python3.6/site-packages/sklearn/model_selection/_split.py:2053: FutureWarning: You should specify a value for 'cv' instead of relying on the default value. The default value will change from 3 to 5 in version 0.22.\n",
      "  warnings.warn(CV_WARNING, FutureWarning)\n",
      "[I 2018-12-05 03:57:21,915] Finished a trial resulted in value: 0.019607843137254832. Current best value is 0.019607843137254832 with parameters: {'classifier': 'SVC', 'svc_c': 5.09781973587029}.\n",
      "/Users/ikokpro/.pyenv/versions/anaconda3-5.2.0/lib/python3.6/site-packages/sklearn/model_selection/_split.py:2053: FutureWarning: You should specify a value for 'cv' instead of relying on the default value. The default value will change from 3 to 5 in version 0.22.\n",
      "  warnings.warn(CV_WARNING, FutureWarning)\n",
      "[I 2018-12-05 03:57:21,930] Finished a trial resulted in value: 0.06576797385620914. Current best value is 0.019607843137254832 with parameters: {'classifier': 'SVC', 'svc_c': 5.09781973587029}.\n",
      "/Users/ikokpro/.pyenv/versions/anaconda3-5.2.0/lib/python3.6/site-packages/sklearn/model_selection/_split.py:2053: FutureWarning: You should specify a value for 'cv' instead of relying on the default value. The default value will change from 3 to 5 in version 0.22.\n",
      "  warnings.warn(CV_WARNING, FutureWarning)\n",
      "[I 2018-12-05 03:57:21,945] Finished a trial resulted in value: 0.0326797385620915. Current best value is 0.019607843137254832 with parameters: {'classifier': 'SVC', 'svc_c': 5.09781973587029}.\n",
      "/Users/ikokpro/.pyenv/versions/anaconda3-5.2.0/lib/python3.6/site-packages/sklearn/model_selection/_split.py:2053: FutureWarning: You should specify a value for 'cv' instead of relying on the default value. The default value will change from 3 to 5 in version 0.22.\n",
      "  warnings.warn(CV_WARNING, FutureWarning)\n",
      "[I 2018-12-05 03:57:21,960] Finished a trial resulted in value: 0.019607843137254832. Current best value is 0.019607843137254832 with parameters: {'classifier': 'SVC', 'svc_c': 5.09781973587029}.\n",
      "/Users/ikokpro/.pyenv/versions/anaconda3-5.2.0/lib/python3.6/site-packages/sklearn/model_selection/_split.py:2053: FutureWarning: You should specify a value for 'cv' instead of relying on the default value. The default value will change from 3 to 5 in version 0.22.\n",
      "  warnings.warn(CV_WARNING, FutureWarning)\n",
      "[I 2018-12-05 03:57:21,975] Finished a trial resulted in value: 0.05923202614379086. Current best value is 0.019607843137254832 with parameters: {'classifier': 'SVC', 'svc_c': 5.09781973587029}.\n",
      "/Users/ikokpro/.pyenv/versions/anaconda3-5.2.0/lib/python3.6/site-packages/sklearn/model_selection/_split.py:2053: FutureWarning: You should specify a value for 'cv' instead of relying on the default value. The default value will change from 3 to 5 in version 0.22.\n",
      "  warnings.warn(CV_WARNING, FutureWarning)\n",
      "[I 2018-12-05 03:57:21,991] Finished a trial resulted in value: 0.013480392156862808. Current best value is 0.013480392156862808 with parameters: {'classifier': 'SVC', 'svc_c': 1.9983676575923972}.\n",
      "/Users/ikokpro/.pyenv/versions/anaconda3-5.2.0/lib/python3.6/site-packages/sklearn/model_selection/_split.py:2053: FutureWarning: You should specify a value for 'cv' instead of relying on the default value. The default value will change from 3 to 5 in version 0.22.\n",
      "  warnings.warn(CV_WARNING, FutureWarning)\n",
      "[I 2018-12-05 03:57:22,008] Finished a trial resulted in value: 0.06576797385620914. Current best value is 0.013480392156862808 with parameters: {'classifier': 'SVC', 'svc_c': 1.9983676575923972}.\n",
      "/Users/ikokpro/.pyenv/versions/anaconda3-5.2.0/lib/python3.6/site-packages/sklearn/model_selection/_split.py:2053: FutureWarning: You should specify a value for 'cv' instead of relying on the default value. The default value will change from 3 to 5 in version 0.22.\n",
      "  warnings.warn(CV_WARNING, FutureWarning)\n",
      "[I 2018-12-05 03:57:22,024] Finished a trial resulted in value: 0.06576797385620914. Current best value is 0.013480392156862808 with parameters: {'classifier': 'SVC', 'svc_c': 1.9983676575923972}.\n",
      "/Users/ikokpro/.pyenv/versions/anaconda3-5.2.0/lib/python3.6/site-packages/sklearn/model_selection/_split.py:2053: FutureWarning: You should specify a value for 'cv' instead of relying on the default value. The default value will change from 3 to 5 in version 0.22.\n",
      "  warnings.warn(CV_WARNING, FutureWarning)\n",
      "[I 2018-12-05 03:57:22,038] Finished a trial resulted in value: 0.019607843137254832. Current best value is 0.013480392156862808 with parameters: {'classifier': 'SVC', 'svc_c': 1.9983676575923972}.\n",
      "/Users/ikokpro/.pyenv/versions/anaconda3-5.2.0/lib/python3.6/site-packages/sklearn/model_selection/_split.py:2053: FutureWarning: You should specify a value for 'cv' instead of relying on the default value. The default value will change from 3 to 5 in version 0.22.\n",
      "  warnings.warn(CV_WARNING, FutureWarning)\n",
      "[I 2018-12-05 03:57:22,053] Finished a trial resulted in value: 0.026552287581699363. Current best value is 0.013480392156862808 with parameters: {'classifier': 'SVC', 'svc_c': 1.9983676575923972}.\n",
      "/Users/ikokpro/.pyenv/versions/anaconda3-5.2.0/lib/python3.6/site-packages/sklearn/model_selection/_split.py:2053: FutureWarning: You should specify a value for 'cv' instead of relying on the default value. The default value will change from 3 to 5 in version 0.22.\n",
      "  warnings.warn(CV_WARNING, FutureWarning)\n",
      "[I 2018-12-05 03:57:22,069] Finished a trial resulted in value: 0.019607843137254832. Current best value is 0.013480392156862808 with parameters: {'classifier': 'SVC', 'svc_c': 1.9983676575923972}.\n",
      "/Users/ikokpro/.pyenv/versions/anaconda3-5.2.0/lib/python3.6/site-packages/sklearn/model_selection/_split.py:2053: FutureWarning: You should specify a value for 'cv' instead of relying on the default value. The default value will change from 3 to 5 in version 0.22.\n",
      "  warnings.warn(CV_WARNING, FutureWarning)\n",
      "[I 2018-12-05 03:57:22,084] Finished a trial resulted in value: 0.026552287581699363. Current best value is 0.013480392156862808 with parameters: {'classifier': 'SVC', 'svc_c': 1.9983676575923972}.\n",
      "/Users/ikokpro/.pyenv/versions/anaconda3-5.2.0/lib/python3.6/site-packages/sklearn/model_selection/_split.py:2053: FutureWarning: You should specify a value for 'cv' instead of relying on the default value. The default value will change from 3 to 5 in version 0.22.\n",
      "  warnings.warn(CV_WARNING, FutureWarning)\n",
      "[I 2018-12-05 03:57:22,099] Finished a trial resulted in value: 0.026552287581699363. Current best value is 0.013480392156862808 with parameters: {'classifier': 'SVC', 'svc_c': 1.9983676575923972}.\n",
      "/Users/ikokpro/.pyenv/versions/anaconda3-5.2.0/lib/python3.6/site-packages/sklearn/model_selection/_split.py:2053: FutureWarning: You should specify a value for 'cv' instead of relying on the default value. The default value will change from 3 to 5 in version 0.22.\n",
      "  warnings.warn(CV_WARNING, FutureWarning)\n",
      "[I 2018-12-05 03:57:22,116] Finished a trial resulted in value: 0.06576797385620914. Current best value is 0.013480392156862808 with parameters: {'classifier': 'SVC', 'svc_c': 1.9983676575923972}.\n",
      "/Users/ikokpro/.pyenv/versions/anaconda3-5.2.0/lib/python3.6/site-packages/sklearn/model_selection/_split.py:2053: FutureWarning: You should specify a value for 'cv' instead of relying on the default value. The default value will change from 3 to 5 in version 0.22.\n",
      "  warnings.warn(CV_WARNING, FutureWarning)\n",
      "[I 2018-12-05 03:57:22,132] Finished a trial resulted in value: 0.026552287581699363. Current best value is 0.013480392156862808 with parameters: {'classifier': 'SVC', 'svc_c': 1.9983676575923972}.\n",
      "/Users/ikokpro/.pyenv/versions/anaconda3-5.2.0/lib/python3.6/site-packages/sklearn/model_selection/_split.py:2053: FutureWarning: You should specify a value for 'cv' instead of relying on the default value. The default value will change from 3 to 5 in version 0.22.\n",
      "  warnings.warn(CV_WARNING, FutureWarning)\n",
      "[I 2018-12-05 03:57:22,148] Finished a trial resulted in value: 0.06576797385620914. Current best value is 0.013480392156862808 with parameters: {'classifier': 'SVC', 'svc_c': 1.9983676575923972}.\n",
      "/Users/ikokpro/.pyenv/versions/anaconda3-5.2.0/lib/python3.6/site-packages/sklearn/model_selection/_split.py:2053: FutureWarning: You should specify a value for 'cv' instead of relying on the default value. The default value will change from 3 to 5 in version 0.22.\n",
      "  warnings.warn(CV_WARNING, FutureWarning)\n",
      "[I 2018-12-05 03:57:22,165] Finished a trial resulted in value: 0.06576797385620914. Current best value is 0.013480392156862808 with parameters: {'classifier': 'SVC', 'svc_c': 1.9983676575923972}.\n",
      "/Users/ikokpro/.pyenv/versions/anaconda3-5.2.0/lib/python3.6/site-packages/sklearn/model_selection/_split.py:2053: FutureWarning: You should specify a value for 'cv' instead of relying on the default value. The default value will change from 3 to 5 in version 0.22.\n",
      "  warnings.warn(CV_WARNING, FutureWarning)\n"
     ]
    },
    {
     "name": "stderr",
     "output_type": "stream",
     "text": [
      "[I 2018-12-05 03:57:22,181] Finished a trial resulted in value: 0.026552287581699363. Current best value is 0.013480392156862808 with parameters: {'classifier': 'SVC', 'svc_c': 1.9983676575923972}.\n",
      "/Users/ikokpro/.pyenv/versions/anaconda3-5.2.0/lib/python3.6/site-packages/sklearn/model_selection/_split.py:2053: FutureWarning: You should specify a value for 'cv' instead of relying on the default value. The default value will change from 3 to 5 in version 0.22.\n",
      "  warnings.warn(CV_WARNING, FutureWarning)\n",
      "[I 2018-12-05 03:57:22,197] Finished a trial resulted in value: 0.060049019607843146. Current best value is 0.013480392156862808 with parameters: {'classifier': 'SVC', 'svc_c': 1.9983676575923972}.\n",
      "/Users/ikokpro/.pyenv/versions/anaconda3-5.2.0/lib/python3.6/site-packages/sklearn/model_selection/_split.py:2053: FutureWarning: You should specify a value for 'cv' instead of relying on the default value. The default value will change from 3 to 5 in version 0.22.\n",
      "  warnings.warn(CV_WARNING, FutureWarning)\n",
      "[I 2018-12-05 03:57:22,213] Finished a trial resulted in value: 0.0326797385620915. Current best value is 0.013480392156862808 with parameters: {'classifier': 'SVC', 'svc_c': 1.9983676575923972}.\n",
      "/Users/ikokpro/.pyenv/versions/anaconda3-5.2.0/lib/python3.6/site-packages/sklearn/model_selection/_split.py:2053: FutureWarning: You should specify a value for 'cv' instead of relying on the default value. The default value will change from 3 to 5 in version 0.22.\n",
      "  warnings.warn(CV_WARNING, FutureWarning)\n",
      "[I 2018-12-05 03:57:22,229] Finished a trial resulted in value: 0.026552287581699363. Current best value is 0.013480392156862808 with parameters: {'classifier': 'SVC', 'svc_c': 1.9983676575923972}.\n",
      "/Users/ikokpro/.pyenv/versions/anaconda3-5.2.0/lib/python3.6/site-packages/sklearn/model_selection/_split.py:2053: FutureWarning: You should specify a value for 'cv' instead of relying on the default value. The default value will change from 3 to 5 in version 0.22.\n",
      "  warnings.warn(CV_WARNING, FutureWarning)\n",
      "[I 2018-12-05 03:57:22,245] Finished a trial resulted in value: 0.019607843137254832. Current best value is 0.013480392156862808 with parameters: {'classifier': 'SVC', 'svc_c': 1.9983676575923972}.\n",
      "/Users/ikokpro/.pyenv/versions/anaconda3-5.2.0/lib/python3.6/site-packages/sklearn/model_selection/_split.py:2053: FutureWarning: You should specify a value for 'cv' instead of relying on the default value. The default value will change from 3 to 5 in version 0.22.\n",
      "  warnings.warn(CV_WARNING, FutureWarning)\n",
      "[I 2018-12-05 03:57:22,262] Finished a trial resulted in value: 0.0326797385620915. Current best value is 0.013480392156862808 with parameters: {'classifier': 'SVC', 'svc_c': 1.9983676575923972}.\n",
      "/Users/ikokpro/.pyenv/versions/anaconda3-5.2.0/lib/python3.6/site-packages/sklearn/model_selection/_split.py:2053: FutureWarning: You should specify a value for 'cv' instead of relying on the default value. The default value will change from 3 to 5 in version 0.22.\n",
      "  warnings.warn(CV_WARNING, FutureWarning)\n",
      "[I 2018-12-05 03:57:22,279] Finished a trial resulted in value: 0.026552287581699363. Current best value is 0.013480392156862808 with parameters: {'classifier': 'SVC', 'svc_c': 1.9983676575923972}.\n",
      "/Users/ikokpro/.pyenv/versions/anaconda3-5.2.0/lib/python3.6/site-packages/sklearn/model_selection/_split.py:2053: FutureWarning: You should specify a value for 'cv' instead of relying on the default value. The default value will change from 3 to 5 in version 0.22.\n",
      "  warnings.warn(CV_WARNING, FutureWarning)\n",
      "[I 2018-12-05 03:57:22,295] Finished a trial resulted in value: 0.019607843137254832. Current best value is 0.013480392156862808 with parameters: {'classifier': 'SVC', 'svc_c': 1.9983676575923972}.\n",
      "/Users/ikokpro/.pyenv/versions/anaconda3-5.2.0/lib/python3.6/site-packages/sklearn/model_selection/_split.py:2053: FutureWarning: You should specify a value for 'cv' instead of relying on the default value. The default value will change from 3 to 5 in version 0.22.\n",
      "  warnings.warn(CV_WARNING, FutureWarning)\n",
      "[I 2018-12-05 03:57:22,312] Finished a trial resulted in value: 0.019607843137254832. Current best value is 0.013480392156862808 with parameters: {'classifier': 'SVC', 'svc_c': 1.9983676575923972}.\n",
      "/Users/ikokpro/.pyenv/versions/anaconda3-5.2.0/lib/python3.6/site-packages/sklearn/model_selection/_split.py:2053: FutureWarning: You should specify a value for 'cv' instead of relying on the default value. The default value will change from 3 to 5 in version 0.22.\n",
      "  warnings.warn(CV_WARNING, FutureWarning)\n",
      "[I 2018-12-05 03:57:22,329] Finished a trial resulted in value: 0.060049019607843146. Current best value is 0.013480392156862808 with parameters: {'classifier': 'SVC', 'svc_c': 1.9983676575923972}.\n",
      "/Users/ikokpro/.pyenv/versions/anaconda3-5.2.0/lib/python3.6/site-packages/sklearn/model_selection/_split.py:2053: FutureWarning: You should specify a value for 'cv' instead of relying on the default value. The default value will change from 3 to 5 in version 0.22.\n",
      "  warnings.warn(CV_WARNING, FutureWarning)\n",
      "[I 2018-12-05 03:57:22,354] Finished a trial resulted in value: 0.03962418300653603. Current best value is 0.013480392156862808 with parameters: {'classifier': 'SVC', 'svc_c': 1.9983676575923972}.\n",
      "/Users/ikokpro/.pyenv/versions/anaconda3-5.2.0/lib/python3.6/site-packages/sklearn/model_selection/_split.py:2053: FutureWarning: You should specify a value for 'cv' instead of relying on the default value. The default value will change from 3 to 5 in version 0.22.\n",
      "  warnings.warn(CV_WARNING, FutureWarning)\n",
      "[I 2018-12-05 03:57:22,370] Finished a trial resulted in value: 0.026552287581699363. Current best value is 0.013480392156862808 with parameters: {'classifier': 'SVC', 'svc_c': 1.9983676575923972}.\n",
      "/Users/ikokpro/.pyenv/versions/anaconda3-5.2.0/lib/python3.6/site-packages/sklearn/model_selection/_split.py:2053: FutureWarning: You should specify a value for 'cv' instead of relying on the default value. The default value will change from 3 to 5 in version 0.22.\n",
      "  warnings.warn(CV_WARNING, FutureWarning)\n",
      "[I 2018-12-05 03:57:22,396] Finished a trial resulted in value: 0.03962418300653603. Current best value is 0.013480392156862808 with parameters: {'classifier': 'SVC', 'svc_c': 1.9983676575923972}.\n",
      "/Users/ikokpro/.pyenv/versions/anaconda3-5.2.0/lib/python3.6/site-packages/sklearn/model_selection/_split.py:2053: FutureWarning: You should specify a value for 'cv' instead of relying on the default value. The default value will change from 3 to 5 in version 0.22.\n",
      "  warnings.warn(CV_WARNING, FutureWarning)\n",
      "[I 2018-12-05 03:57:22,414] Finished a trial resulted in value: 0.06576797385620914. Current best value is 0.013480392156862808 with parameters: {'classifier': 'SVC', 'svc_c': 1.9983676575923972}.\n",
      "/Users/ikokpro/.pyenv/versions/anaconda3-5.2.0/lib/python3.6/site-packages/sklearn/model_selection/_split.py:2053: FutureWarning: You should specify a value for 'cv' instead of relying on the default value. The default value will change from 3 to 5 in version 0.22.\n",
      "  warnings.warn(CV_WARNING, FutureWarning)\n",
      "[I 2018-12-05 03:57:22,433] Finished a trial resulted in value: 0.060049019607843146. Current best value is 0.013480392156862808 with parameters: {'classifier': 'SVC', 'svc_c': 1.9983676575923972}.\n",
      "/Users/ikokpro/.pyenv/versions/anaconda3-5.2.0/lib/python3.6/site-packages/sklearn/model_selection/_split.py:2053: FutureWarning: You should specify a value for 'cv' instead of relying on the default value. The default value will change from 3 to 5 in version 0.22.\n",
      "  warnings.warn(CV_WARNING, FutureWarning)\n",
      "[I 2018-12-05 03:57:22,460] Finished a trial resulted in value: 0.03308823529411775. Current best value is 0.013480392156862808 with parameters: {'classifier': 'SVC', 'svc_c': 1.9983676575923972}.\n",
      "/Users/ikokpro/.pyenv/versions/anaconda3-5.2.0/lib/python3.6/site-packages/sklearn/model_selection/_split.py:2053: FutureWarning: You should specify a value for 'cv' instead of relying on the default value. The default value will change from 3 to 5 in version 0.22.\n",
      "  warnings.warn(CV_WARNING, FutureWarning)\n",
      "[I 2018-12-05 03:57:22,477] Finished a trial resulted in value: 0.026552287581699363. Current best value is 0.013480392156862808 with parameters: {'classifier': 'SVC', 'svc_c': 1.9983676575923972}.\n",
      "/Users/ikokpro/.pyenv/versions/anaconda3-5.2.0/lib/python3.6/site-packages/sklearn/model_selection/_split.py:2053: FutureWarning: You should specify a value for 'cv' instead of relying on the default value. The default value will change from 3 to 5 in version 0.22.\n",
      "  warnings.warn(CV_WARNING, FutureWarning)\n",
      "[I 2018-12-05 03:57:22,495] Finished a trial resulted in value: 0.0326797385620915. Current best value is 0.013480392156862808 with parameters: {'classifier': 'SVC', 'svc_c': 1.9983676575923972}.\n",
      "/Users/ikokpro/.pyenv/versions/anaconda3-5.2.0/lib/python3.6/site-packages/sklearn/model_selection/_split.py:2053: FutureWarning: You should specify a value for 'cv' instead of relying on the default value. The default value will change from 3 to 5 in version 0.22.\n",
      "  warnings.warn(CV_WARNING, FutureWarning)\n",
      "[I 2018-12-05 03:57:22,512] Finished a trial resulted in value: 0.026552287581699363. Current best value is 0.013480392156862808 with parameters: {'classifier': 'SVC', 'svc_c': 1.9983676575923972}.\n",
      "/Users/ikokpro/.pyenv/versions/anaconda3-5.2.0/lib/python3.6/site-packages/sklearn/model_selection/_split.py:2053: FutureWarning: You should specify a value for 'cv' instead of relying on the default value. The default value will change from 3 to 5 in version 0.22.\n",
      "  warnings.warn(CV_WARNING, FutureWarning)\n",
      "[I 2018-12-05 03:57:22,530] Finished a trial resulted in value: 0.039215686274509776. Current best value is 0.013480392156862808 with parameters: {'classifier': 'SVC', 'svc_c': 1.9983676575923972}.\n",
      "/Users/ikokpro/.pyenv/versions/anaconda3-5.2.0/lib/python3.6/site-packages/sklearn/model_selection/_split.py:2053: FutureWarning: You should specify a value for 'cv' instead of relying on the default value. The default value will change from 3 to 5 in version 0.22.\n",
      "  warnings.warn(CV_WARNING, FutureWarning)\n",
      "[I 2018-12-05 03:57:22,547] Finished a trial resulted in value: 0.06576797385620914. Current best value is 0.013480392156862808 with parameters: {'classifier': 'SVC', 'svc_c': 1.9983676575923972}.\n",
      "/Users/ikokpro/.pyenv/versions/anaconda3-5.2.0/lib/python3.6/site-packages/sklearn/model_selection/_split.py:2053: FutureWarning: You should specify a value for 'cv' instead of relying on the default value. The default value will change from 3 to 5 in version 0.22.\n",
      "  warnings.warn(CV_WARNING, FutureWarning)\n",
      "[I 2018-12-05 03:57:22,565] Finished a trial resulted in value: 0.0326797385620915. Current best value is 0.013480392156862808 with parameters: {'classifier': 'SVC', 'svc_c': 1.9983676575923972}.\n",
      "/Users/ikokpro/.pyenv/versions/anaconda3-5.2.0/lib/python3.6/site-packages/sklearn/model_selection/_split.py:2053: FutureWarning: You should specify a value for 'cv' instead of relying on the default value. The default value will change from 3 to 5 in version 0.22.\n",
      "  warnings.warn(CV_WARNING, FutureWarning)\n",
      "[I 2018-12-05 03:57:22,584] Finished a trial resulted in value: 0.020016339869281086. Current best value is 0.013480392156862808 with parameters: {'classifier': 'SVC', 'svc_c': 1.9983676575923972}.\n",
      "/Users/ikokpro/.pyenv/versions/anaconda3-5.2.0/lib/python3.6/site-packages/sklearn/model_selection/_split.py:2053: FutureWarning: You should specify a value for 'cv' instead of relying on the default value. The default value will change from 3 to 5 in version 0.22.\n",
      "  warnings.warn(CV_WARNING, FutureWarning)\n",
      "[I 2018-12-05 03:57:22,602] Finished a trial resulted in value: 0.026552287581699363. Current best value is 0.013480392156862808 with parameters: {'classifier': 'SVC', 'svc_c': 1.9983676575923972}.\n",
      "/Users/ikokpro/.pyenv/versions/anaconda3-5.2.0/lib/python3.6/site-packages/sklearn/model_selection/_split.py:2053: FutureWarning: You should specify a value for 'cv' instead of relying on the default value. The default value will change from 3 to 5 in version 0.22.\n",
      "  warnings.warn(CV_WARNING, FutureWarning)\n",
      "[I 2018-12-05 03:57:22,620] Finished a trial resulted in value: 0.0326797385620915. Current best value is 0.013480392156862808 with parameters: {'classifier': 'SVC', 'svc_c': 1.9983676575923972}.\n",
      "/Users/ikokpro/.pyenv/versions/anaconda3-5.2.0/lib/python3.6/site-packages/sklearn/model_selection/_split.py:2053: FutureWarning: You should specify a value for 'cv' instead of relying on the default value. The default value will change from 3 to 5 in version 0.22.\n",
      "  warnings.warn(CV_WARNING, FutureWarning)\n",
      "[I 2018-12-05 03:57:22,638] Finished a trial resulted in value: 0.06576797385620914. Current best value is 0.013480392156862808 with parameters: {'classifier': 'SVC', 'svc_c': 1.9983676575923972}.\n",
      "/Users/ikokpro/.pyenv/versions/anaconda3-5.2.0/lib/python3.6/site-packages/sklearn/model_selection/_split.py:2053: FutureWarning: You should specify a value for 'cv' instead of relying on the default value. The default value will change from 3 to 5 in version 0.22.\n",
      "  warnings.warn(CV_WARNING, FutureWarning)\n",
      "[I 2018-12-05 03:57:22,656] Finished a trial resulted in value: 0.046160130718954306. Current best value is 0.013480392156862808 with parameters: {'classifier': 'SVC', 'svc_c': 1.9983676575923972}.\n",
      "/Users/ikokpro/.pyenv/versions/anaconda3-5.2.0/lib/python3.6/site-packages/sklearn/model_selection/_split.py:2053: FutureWarning: You should specify a value for 'cv' instead of relying on the default value. The default value will change from 3 to 5 in version 0.22.\n",
      "  warnings.warn(CV_WARNING, FutureWarning)\n",
      "[I 2018-12-05 03:57:22,676] Finished a trial resulted in value: 0.06576797385620914. Current best value is 0.013480392156862808 with parameters: {'classifier': 'SVC', 'svc_c': 1.9983676575923972}.\n",
      "/Users/ikokpro/.pyenv/versions/anaconda3-5.2.0/lib/python3.6/site-packages/sklearn/model_selection/_split.py:2053: FutureWarning: You should specify a value for 'cv' instead of relying on the default value. The default value will change from 3 to 5 in version 0.22.\n",
      "  warnings.warn(CV_WARNING, FutureWarning)\n",
      "[I 2018-12-05 03:57:22,704] Finished a trial resulted in value: 0.03308823529411775. Current best value is 0.013480392156862808 with parameters: {'classifier': 'SVC', 'svc_c': 1.9983676575923972}.\n",
      "/Users/ikokpro/.pyenv/versions/anaconda3-5.2.0/lib/python3.6/site-packages/sklearn/model_selection/_split.py:2053: FutureWarning: You should specify a value for 'cv' instead of relying on the default value. The default value will change from 3 to 5 in version 0.22.\n",
      "  warnings.warn(CV_WARNING, FutureWarning)\n",
      "[I 2018-12-05 03:57:22,722] Finished a trial resulted in value: 0.060049019607843146. Current best value is 0.013480392156862808 with parameters: {'classifier': 'SVC', 'svc_c': 1.9983676575923972}.\n",
      "/Users/ikokpro/.pyenv/versions/anaconda3-5.2.0/lib/python3.6/site-packages/sklearn/model_selection/_split.py:2053: FutureWarning: You should specify a value for 'cv' instead of relying on the default value. The default value will change from 3 to 5 in version 0.22.\n",
      "  warnings.warn(CV_WARNING, FutureWarning)\n",
      "[I 2018-12-05 03:57:22,742] Finished a trial resulted in value: 0.05923202614379086. Current best value is 0.013480392156862808 with parameters: {'classifier': 'SVC', 'svc_c': 1.9983676575923972}.\n",
      "/Users/ikokpro/.pyenv/versions/anaconda3-5.2.0/lib/python3.6/site-packages/sklearn/model_selection/_split.py:2053: FutureWarning: You should specify a value for 'cv' instead of relying on the default value. The default value will change from 3 to 5 in version 0.22.\n",
      "  warnings.warn(CV_WARNING, FutureWarning)\n",
      "[I 2018-12-05 03:57:22,760] Finished a trial resulted in value: 0.03308823529411764. Current best value is 0.013480392156862808 with parameters: {'classifier': 'SVC', 'svc_c': 1.9983676575923972}.\n",
      "/Users/ikokpro/.pyenv/versions/anaconda3-5.2.0/lib/python3.6/site-packages/sklearn/model_selection/_split.py:2053: FutureWarning: You should specify a value for 'cv' instead of relying on the default value. The default value will change from 3 to 5 in version 0.22.\n",
      "  warnings.warn(CV_WARNING, FutureWarning)\n"
     ]
    },
    {
     "name": "stderr",
     "output_type": "stream",
     "text": [
      "[I 2018-12-05 03:57:22,789] Finished a trial resulted in value: 0.03962418300653603. Current best value is 0.013480392156862808 with parameters: {'classifier': 'SVC', 'svc_c': 1.9983676575923972}.\n",
      "/Users/ikokpro/.pyenv/versions/anaconda3-5.2.0/lib/python3.6/site-packages/sklearn/model_selection/_split.py:2053: FutureWarning: You should specify a value for 'cv' instead of relying on the default value. The default value will change from 3 to 5 in version 0.22.\n",
      "  warnings.warn(CV_WARNING, FutureWarning)\n",
      "[I 2018-12-05 03:57:22,810] Finished a trial resulted in value: 0.03308823529411764. Current best value is 0.013480392156862808 with parameters: {'classifier': 'SVC', 'svc_c': 1.9983676575923972}.\n",
      "/Users/ikokpro/.pyenv/versions/anaconda3-5.2.0/lib/python3.6/site-packages/sklearn/model_selection/_split.py:2053: FutureWarning: You should specify a value for 'cv' instead of relying on the default value. The default value will change from 3 to 5 in version 0.22.\n",
      "  warnings.warn(CV_WARNING, FutureWarning)\n",
      "[I 2018-12-05 03:57:22,830] Finished a trial resulted in value: 0.02614379084967322. Current best value is 0.013480392156862808 with parameters: {'classifier': 'SVC', 'svc_c': 1.9983676575923972}.\n",
      "/Users/ikokpro/.pyenv/versions/anaconda3-5.2.0/lib/python3.6/site-packages/sklearn/model_selection/_split.py:2053: FutureWarning: You should specify a value for 'cv' instead of relying on the default value. The default value will change from 3 to 5 in version 0.22.\n",
      "  warnings.warn(CV_WARNING, FutureWarning)\n",
      "[I 2018-12-05 03:57:22,849] Finished a trial resulted in value: 0.03962418300653603. Current best value is 0.013480392156862808 with parameters: {'classifier': 'SVC', 'svc_c': 1.9983676575923972}.\n",
      "/Users/ikokpro/.pyenv/versions/anaconda3-5.2.0/lib/python3.6/site-packages/sklearn/model_selection/_split.py:2053: FutureWarning: You should specify a value for 'cv' instead of relying on the default value. The default value will change from 3 to 5 in version 0.22.\n",
      "  warnings.warn(CV_WARNING, FutureWarning)\n",
      "[I 2018-12-05 03:57:22,868] Finished a trial resulted in value: 0.06576797385620914. Current best value is 0.013480392156862808 with parameters: {'classifier': 'SVC', 'svc_c': 1.9983676575923972}.\n",
      "/Users/ikokpro/.pyenv/versions/anaconda3-5.2.0/lib/python3.6/site-packages/sklearn/model_selection/_split.py:2053: FutureWarning: You should specify a value for 'cv' instead of relying on the default value. The default value will change from 3 to 5 in version 0.22.\n",
      "  warnings.warn(CV_WARNING, FutureWarning)\n",
      "[I 2018-12-05 03:57:22,897] Finished a trial resulted in value: 0.0326797385620915. Current best value is 0.013480392156862808 with parameters: {'classifier': 'SVC', 'svc_c': 1.9983676575923972}.\n",
      "/Users/ikokpro/.pyenv/versions/anaconda3-5.2.0/lib/python3.6/site-packages/sklearn/model_selection/_split.py:2053: FutureWarning: You should specify a value for 'cv' instead of relying on the default value. The default value will change from 3 to 5 in version 0.22.\n",
      "  warnings.warn(CV_WARNING, FutureWarning)\n",
      "[I 2018-12-05 03:57:22,916] Finished a trial resulted in value: 0.013480392156862808. Current best value is 0.013480392156862808 with parameters: {'classifier': 'SVC', 'svc_c': 1.9983676575923972}.\n",
      "/Users/ikokpro/.pyenv/versions/anaconda3-5.2.0/lib/python3.6/site-packages/sklearn/model_selection/_split.py:2053: FutureWarning: You should specify a value for 'cv' instead of relying on the default value. The default value will change from 3 to 5 in version 0.22.\n",
      "  warnings.warn(CV_WARNING, FutureWarning)\n",
      "[I 2018-12-05 03:57:22,936] Finished a trial resulted in value: 0.026552287581699363. Current best value is 0.013480392156862808 with parameters: {'classifier': 'SVC', 'svc_c': 1.9983676575923972}.\n",
      "/Users/ikokpro/.pyenv/versions/anaconda3-5.2.0/lib/python3.6/site-packages/sklearn/model_selection/_split.py:2053: FutureWarning: You should specify a value for 'cv' instead of relying on the default value. The default value will change from 3 to 5 in version 0.22.\n",
      "  warnings.warn(CV_WARNING, FutureWarning)\n",
      "[I 2018-12-05 03:57:22,955] Finished a trial resulted in value: 0.0326797385620915. Current best value is 0.013480392156862808 with parameters: {'classifier': 'SVC', 'svc_c': 1.9983676575923972}.\n",
      "/Users/ikokpro/.pyenv/versions/anaconda3-5.2.0/lib/python3.6/site-packages/sklearn/model_selection/_split.py:2053: FutureWarning: You should specify a value for 'cv' instead of relying on the default value. The default value will change from 3 to 5 in version 0.22.\n",
      "  warnings.warn(CV_WARNING, FutureWarning)\n",
      "[I 2018-12-05 03:57:22,977] Finished a trial resulted in value: 0.06576797385620914. Current best value is 0.013480392156862808 with parameters: {'classifier': 'SVC', 'svc_c': 1.9983676575923972}.\n",
      "/Users/ikokpro/.pyenv/versions/anaconda3-5.2.0/lib/python3.6/site-packages/sklearn/model_selection/_split.py:2053: FutureWarning: You should specify a value for 'cv' instead of relying on the default value. The default value will change from 3 to 5 in version 0.22.\n",
      "  warnings.warn(CV_WARNING, FutureWarning)\n",
      "[I 2018-12-05 03:57:23,006] Finished a trial resulted in value: 0.046160130718954306. Current best value is 0.013480392156862808 with parameters: {'classifier': 'SVC', 'svc_c': 1.9983676575923972}.\n",
      "/Users/ikokpro/.pyenv/versions/anaconda3-5.2.0/lib/python3.6/site-packages/sklearn/model_selection/_split.py:2053: FutureWarning: You should specify a value for 'cv' instead of relying on the default value. The default value will change from 3 to 5 in version 0.22.\n",
      "  warnings.warn(CV_WARNING, FutureWarning)\n",
      "[I 2018-12-05 03:57:23,027] Finished a trial resulted in value: 0.0326797385620915. Current best value is 0.013480392156862808 with parameters: {'classifier': 'SVC', 'svc_c': 1.9983676575923972}.\n",
      "/Users/ikokpro/.pyenv/versions/anaconda3-5.2.0/lib/python3.6/site-packages/sklearn/model_selection/_split.py:2053: FutureWarning: You should specify a value for 'cv' instead of relying on the default value. The default value will change from 3 to 5 in version 0.22.\n",
      "  warnings.warn(CV_WARNING, FutureWarning)\n",
      "[I 2018-12-05 03:57:23,047] Finished a trial resulted in value: 0.03962418300653603. Current best value is 0.013480392156862808 with parameters: {'classifier': 'SVC', 'svc_c': 1.9983676575923972}.\n",
      "/Users/ikokpro/.pyenv/versions/anaconda3-5.2.0/lib/python3.6/site-packages/sklearn/model_selection/_split.py:2053: FutureWarning: You should specify a value for 'cv' instead of relying on the default value. The default value will change from 3 to 5 in version 0.22.\n",
      "  warnings.warn(CV_WARNING, FutureWarning)\n",
      "[I 2018-12-05 03:57:23,068] Finished a trial resulted in value: 0.026552287581699363. Current best value is 0.013480392156862808 with parameters: {'classifier': 'SVC', 'svc_c': 1.9983676575923972}.\n",
      "/Users/ikokpro/.pyenv/versions/anaconda3-5.2.0/lib/python3.6/site-packages/sklearn/model_selection/_split.py:2053: FutureWarning: You should specify a value for 'cv' instead of relying on the default value. The default value will change from 3 to 5 in version 0.22.\n",
      "  warnings.warn(CV_WARNING, FutureWarning)\n",
      "[I 2018-12-05 03:57:23,089] Finished a trial resulted in value: 0.0326797385620915. Current best value is 0.013480392156862808 with parameters: {'classifier': 'SVC', 'svc_c': 1.9983676575923972}.\n",
      "/Users/ikokpro/.pyenv/versions/anaconda3-5.2.0/lib/python3.6/site-packages/sklearn/model_selection/_split.py:2053: FutureWarning: You should specify a value for 'cv' instead of relying on the default value. The default value will change from 3 to 5 in version 0.22.\n",
      "  warnings.warn(CV_WARNING, FutureWarning)\n",
      "[I 2018-12-05 03:57:23,115] Finished a trial resulted in value: 0.039215686274509776. Current best value is 0.013480392156862808 with parameters: {'classifier': 'SVC', 'svc_c': 1.9983676575923972}.\n",
      "/Users/ikokpro/.pyenv/versions/anaconda3-5.2.0/lib/python3.6/site-packages/sklearn/model_selection/_split.py:2053: FutureWarning: You should specify a value for 'cv' instead of relying on the default value. The default value will change from 3 to 5 in version 0.22.\n",
      "  warnings.warn(CV_WARNING, FutureWarning)\n",
      "[I 2018-12-05 03:57:23,137] Finished a trial resulted in value: 0.06576797385620914. Current best value is 0.013480392156862808 with parameters: {'classifier': 'SVC', 'svc_c': 1.9983676575923972}.\n",
      "/Users/ikokpro/.pyenv/versions/anaconda3-5.2.0/lib/python3.6/site-packages/sklearn/model_selection/_split.py:2053: FutureWarning: You should specify a value for 'cv' instead of relying on the default value. The default value will change from 3 to 5 in version 0.22.\n",
      "  warnings.warn(CV_WARNING, FutureWarning)\n",
      "[I 2018-12-05 03:57:23,158] Finished a trial resulted in value: 0.046160130718954306. Current best value is 0.013480392156862808 with parameters: {'classifier': 'SVC', 'svc_c': 1.9983676575923972}.\n",
      "/Users/ikokpro/.pyenv/versions/anaconda3-5.2.0/lib/python3.6/site-packages/sklearn/model_selection/_split.py:2053: FutureWarning: You should specify a value for 'cv' instead of relying on the default value. The default value will change from 3 to 5 in version 0.22.\n",
      "  warnings.warn(CV_WARNING, FutureWarning)\n",
      "[I 2018-12-05 03:57:23,180] Finished a trial resulted in value: 0.026552287581699363. Current best value is 0.013480392156862808 with parameters: {'classifier': 'SVC', 'svc_c': 1.9983676575923972}.\n",
      "/Users/ikokpro/.pyenv/versions/anaconda3-5.2.0/lib/python3.6/site-packages/sklearn/model_selection/_split.py:2053: FutureWarning: You should specify a value for 'cv' instead of relying on the default value. The default value will change from 3 to 5 in version 0.22.\n",
      "  warnings.warn(CV_WARNING, FutureWarning)\n",
      "[I 2018-12-05 03:57:23,201] Finished a trial resulted in value: 0.06576797385620914. Current best value is 0.013480392156862808 with parameters: {'classifier': 'SVC', 'svc_c': 1.9983676575923972}.\n"
     ]
    },
    {
     "name": "stdout",
     "output_type": "stream",
     "text": [
      "FrozenTrial(trial_id=36, state=<TrialState.COMPLETE: 1>, value=0.013480392156862808, datetime_start=datetime.datetime(2018, 12, 5, 3, 57, 21, 976644), datetime_complete=datetime.datetime(2018, 12, 5, 3, 57, 21, 989797), params={'classifier': 'SVC', 'svc_c': 1.9983676575923972}, user_attrs={}, system_attrs={}, intermediate_values={}, params_in_internal_repr={'classifier': 0, 'svc_c': 1.9983676575923972})\n"
     ]
    }
   ],
   "source": [
    "study = optuna.create_study()\n",
    "study.optimize(objective, n_trials=100)\n",
    "print(study.best_trial)"
   ]
  },
  {
   "cell_type": "markdown",
   "metadata": {},
   "source": [
    "<a name=\"xgboost_cancer\"></a>\n",
    "### xgboostの実装例 (cancer)\n",
    "- [コードのソース(github)](https://github.com/pfnet/optuna/blob/master/examples/xgboost_simple.py)"
   ]
  },
  {
   "cell_type": "code",
   "execution_count": 14,
   "metadata": {},
   "outputs": [],
   "source": [
    "import numpy as np\n",
    "import sklearn.datasets\n",
    "import sklearn.metrics\n",
    "from sklearn.model_selection import train_test_split\n",
    "import xgboost as xgb\n",
    "\n",
    "\n",
    "def objective(trial):\n",
    "    # cancer データの読み込み\n",
    "    (data, target) = sklearn.datasets.load_breast_cancer(return_X_y=True)\n",
    "    train_x, test_x, train_y, test_y = train_test_split(data, target, test_size=0.25)\n",
    "    \n",
    "    # xgb.DMatrixに変換\n",
    "    dtrain = xgb.DMatrix(train_x, label=train_y)\n",
    "    dtest = xgb.DMatrix(test_x, label=test_y)\n",
    "\n",
    "    # 全体で共通の探索領域の定義\n",
    "    n_round = trial.suggest_int('n_round', 1, 9)\n",
    "    param = {'silent': 1, 'objective': 'binary:logistic',\n",
    "             'booster': trial.suggest_categorical('booster', ['gbtree', 'gblinear', 'dart']),\n",
    "             'lambda': trial.suggest_loguniform('lambda', 1e-8, 1.0),\n",
    "             'alpha': trial.suggest_loguniform('alpha', 1e-8, 1.0)\n",
    "             }\n",
    "    \n",
    "    # アルゴリズムごとの探索領域の定義\n",
    "    if param['booster'] == 'gbtree' or param['booster'] == 'dart':\n",
    "        param['max_depth'] = trial.suggest_int('max_depth', 1, 9)\n",
    "        param['ets'] = trial.suggest_loguniform('eta', 1e-8, 1.0)\n",
    "        param['gamma'] = trial.suggest_loguniform('gamma', 1e-8, 1.0)\n",
    "        param['grow_policy'] = trial.suggest_categorical('grow_policy', ['depthwise', 'lossguide'])\n",
    "    if param['booster'] == 'dart':\n",
    "        param['sample_type'] = trial.suggest_categorical('sample_type', ['uniform', 'weighted'])\n",
    "        param['normalize_type'] = trial.suggest_categorical('normalize_type', ['tree', 'forest'])\n",
    "        param['rate_drop'] = trial.suggest_loguniform('rate_drop', 1e-8, 1.0)\n",
    "        param['skip_drop'] = trial.suggest_loguniform('skip_drop', 1e-8, 1.0)\n",
    "\n",
    "    # 学習, 予測, 正答率の計算, 目的関数はaccuracy\n",
    "    bst = xgb.train(param, dtrain, n_round)\n",
    "    preds = bst.predict(dtest)\n",
    "    pred_labels = np.rint(preds) # 四捨五入に近い関数\n",
    "    accuracy = sklearn.metrics.accuracy_score(test_y, pred_labels)\n",
    "    return 1.0 - accuracy"
   ]
  },
  {
   "cell_type": "code",
   "execution_count": 15,
   "metadata": {},
   "outputs": [
    {
     "name": "stderr",
     "output_type": "stream",
     "text": [
      "[I 2018-12-05 03:57:23,231] Finished a trial resulted in value: 0.05594405594405594. Current best value is 0.05594405594405594 with parameters: {'n_round': 3, 'booster': 'dart', 'lambda': 1.6294842684445261e-07, 'alpha': 0.003881620167277564, 'max_depth': 2, 'eta': 0.019729719036663394, 'gamma': 0.0004913017308786807, 'grow_policy': 'depthwise', 'sample_type': 'weighted', 'normalize_type': 'forest', 'rate_drop': 3.9517298923244786e-07, 'skip_drop': 0.005370083273604612}.\n",
      "[I 2018-12-05 03:57:23,241] Finished a trial resulted in value: 0.14685314685314688. Current best value is 0.05594405594405594 with parameters: {'n_round': 3, 'booster': 'dart', 'lambda': 1.6294842684445261e-07, 'alpha': 0.003881620167277564, 'max_depth': 2, 'eta': 0.019729719036663394, 'gamma': 0.0004913017308786807, 'grow_policy': 'depthwise', 'sample_type': 'weighted', 'normalize_type': 'forest', 'rate_drop': 3.9517298923244786e-07, 'skip_drop': 0.005370083273604612}.\n",
      "[I 2018-12-05 03:57:23,261] Finished a trial resulted in value: 0.020979020979020935. Current best value is 0.020979020979020935 with parameters: {'n_round': 7, 'booster': 'gbtree', 'lambda': 4.525482517272851e-05, 'alpha': 0.0002582716925167782, 'max_depth': 8, 'eta': 0.5380849881804378, 'gamma': 0.0030370634700011136, 'grow_policy': 'lossguide'}.\n",
      "[I 2018-12-05 03:57:23,274] Finished a trial resulted in value: 0.04195804195804198. Current best value is 0.020979020979020935 with parameters: {'n_round': 7, 'booster': 'gbtree', 'lambda': 4.525482517272851e-05, 'alpha': 0.0002582716925167782, 'max_depth': 8, 'eta': 0.5380849881804378, 'gamma': 0.0030370634700011136, 'grow_policy': 'lossguide'}.\n",
      "[I 2018-12-05 03:57:23,288] Finished a trial resulted in value: 0.0699300699300699. Current best value is 0.020979020979020935 with parameters: {'n_round': 7, 'booster': 'gbtree', 'lambda': 4.525482517272851e-05, 'alpha': 0.0002582716925167782, 'max_depth': 8, 'eta': 0.5380849881804378, 'gamma': 0.0030370634700011136, 'grow_policy': 'lossguide'}.\n",
      "[I 2018-12-05 03:57:23,303] Finished a trial resulted in value: 0.09790209790209792. Current best value is 0.020979020979020935 with parameters: {'n_round': 7, 'booster': 'gbtree', 'lambda': 4.525482517272851e-05, 'alpha': 0.0002582716925167782, 'max_depth': 8, 'eta': 0.5380849881804378, 'gamma': 0.0030370634700011136, 'grow_policy': 'lossguide'}.\n",
      "[I 2018-12-05 03:57:23,316] Finished a trial resulted in value: 0.09090909090909094. Current best value is 0.020979020979020935 with parameters: {'n_round': 7, 'booster': 'gbtree', 'lambda': 4.525482517272851e-05, 'alpha': 0.0002582716925167782, 'max_depth': 8, 'eta': 0.5380849881804378, 'gamma': 0.0030370634700011136, 'grow_policy': 'lossguide'}.\n",
      "[I 2018-12-05 03:57:23,336] Finished a trial resulted in value: 0.04895104895104896. Current best value is 0.020979020979020935 with parameters: {'n_round': 7, 'booster': 'gbtree', 'lambda': 4.525482517272851e-05, 'alpha': 0.0002582716925167782, 'max_depth': 8, 'eta': 0.5380849881804378, 'gamma': 0.0030370634700011136, 'grow_policy': 'lossguide'}.\n",
      "[I 2018-12-05 03:57:23,351] Finished a trial resulted in value: 0.0699300699300699. Current best value is 0.020979020979020935 with parameters: {'n_round': 7, 'booster': 'gbtree', 'lambda': 4.525482517272851e-05, 'alpha': 0.0002582716925167782, 'max_depth': 8, 'eta': 0.5380849881804378, 'gamma': 0.0030370634700011136, 'grow_policy': 'lossguide'}.\n",
      "[I 2018-12-05 03:57:23,375] Finished a trial resulted in value: 0.07692307692307687. Current best value is 0.020979020979020935 with parameters: {'n_round': 7, 'booster': 'gbtree', 'lambda': 4.525482517272851e-05, 'alpha': 0.0002582716925167782, 'max_depth': 8, 'eta': 0.5380849881804378, 'gamma': 0.0030370634700011136, 'grow_policy': 'lossguide'}.\n",
      "[I 2018-12-05 03:57:23,391] Finished a trial resulted in value: 0.11188811188811187. Current best value is 0.020979020979020935 with parameters: {'n_round': 7, 'booster': 'gbtree', 'lambda': 4.525482517272851e-05, 'alpha': 0.0002582716925167782, 'max_depth': 8, 'eta': 0.5380849881804378, 'gamma': 0.0030370634700011136, 'grow_policy': 'lossguide'}.\n",
      "[I 2018-12-05 03:57:23,407] Finished a trial resulted in value: 0.09090909090909094. Current best value is 0.020979020979020935 with parameters: {'n_round': 7, 'booster': 'gbtree', 'lambda': 4.525482517272851e-05, 'alpha': 0.0002582716925167782, 'max_depth': 8, 'eta': 0.5380849881804378, 'gamma': 0.0030370634700011136, 'grow_policy': 'lossguide'}.\n",
      "[I 2018-12-05 03:57:23,435] Finished a trial resulted in value: 0.04195804195804198. Current best value is 0.020979020979020935 with parameters: {'n_round': 7, 'booster': 'gbtree', 'lambda': 4.525482517272851e-05, 'alpha': 0.0002582716925167782, 'max_depth': 8, 'eta': 0.5380849881804378, 'gamma': 0.0030370634700011136, 'grow_policy': 'lossguide'}.\n",
      "[I 2018-12-05 03:57:23,468] Finished a trial resulted in value: 0.04895104895104896. Current best value is 0.020979020979020935 with parameters: {'n_round': 7, 'booster': 'gbtree', 'lambda': 4.525482517272851e-05, 'alpha': 0.0002582716925167782, 'max_depth': 8, 'eta': 0.5380849881804378, 'gamma': 0.0030370634700011136, 'grow_policy': 'lossguide'}.\n",
      "[I 2018-12-05 03:57:23,486] Finished a trial resulted in value: 0.11188811188811187. Current best value is 0.020979020979020935 with parameters: {'n_round': 7, 'booster': 'gbtree', 'lambda': 4.525482517272851e-05, 'alpha': 0.0002582716925167782, 'max_depth': 8, 'eta': 0.5380849881804378, 'gamma': 0.0030370634700011136, 'grow_policy': 'lossguide'}.\n",
      "[I 2018-12-05 03:57:23,516] Finished a trial resulted in value: 0.034965034965035. Current best value is 0.020979020979020935 with parameters: {'n_round': 7, 'booster': 'gbtree', 'lambda': 4.525482517272851e-05, 'alpha': 0.0002582716925167782, 'max_depth': 8, 'eta': 0.5380849881804378, 'gamma': 0.0030370634700011136, 'grow_policy': 'lossguide'}.\n",
      "[I 2018-12-05 03:57:23,551] Finished a trial resulted in value: 0.034965034965035. Current best value is 0.020979020979020935 with parameters: {'n_round': 7, 'booster': 'gbtree', 'lambda': 4.525482517272851e-05, 'alpha': 0.0002582716925167782, 'max_depth': 8, 'eta': 0.5380849881804378, 'gamma': 0.0030370634700011136, 'grow_policy': 'lossguide'}.\n",
      "[I 2018-12-05 03:57:23,586] Finished a trial resulted in value: 0.027972027972028024. Current best value is 0.020979020979020935 with parameters: {'n_round': 7, 'booster': 'gbtree', 'lambda': 4.525482517272851e-05, 'alpha': 0.0002582716925167782, 'max_depth': 8, 'eta': 0.5380849881804378, 'gamma': 0.0030370634700011136, 'grow_policy': 'lossguide'}.\n",
      "[I 2018-12-05 03:57:23,619] Finished a trial resulted in value: 0.05594405594405594. Current best value is 0.020979020979020935 with parameters: {'n_round': 7, 'booster': 'gbtree', 'lambda': 4.525482517272851e-05, 'alpha': 0.0002582716925167782, 'max_depth': 8, 'eta': 0.5380849881804378, 'gamma': 0.0030370634700011136, 'grow_policy': 'lossguide'}.\n",
      "[I 2018-12-05 03:57:23,654] Finished a trial resulted in value: 0.0699300699300699. Current best value is 0.020979020979020935 with parameters: {'n_round': 7, 'booster': 'gbtree', 'lambda': 4.525482517272851e-05, 'alpha': 0.0002582716925167782, 'max_depth': 8, 'eta': 0.5380849881804378, 'gamma': 0.0030370634700011136, 'grow_policy': 'lossguide'}.\n",
      "[I 2018-12-05 03:57:23,691] Finished a trial resulted in value: 0.04195804195804198. Current best value is 0.020979020979020935 with parameters: {'n_round': 7, 'booster': 'gbtree', 'lambda': 4.525482517272851e-05, 'alpha': 0.0002582716925167782, 'max_depth': 8, 'eta': 0.5380849881804378, 'gamma': 0.0030370634700011136, 'grow_policy': 'lossguide'}.\n",
      "[I 2018-12-05 03:57:23,728] Finished a trial resulted in value: 0.07692307692307687. Current best value is 0.020979020979020935 with parameters: {'n_round': 7, 'booster': 'gbtree', 'lambda': 4.525482517272851e-05, 'alpha': 0.0002582716925167782, 'max_depth': 8, 'eta': 0.5380849881804378, 'gamma': 0.0030370634700011136, 'grow_policy': 'lossguide'}.\n",
      "[I 2018-12-05 03:57:23,765] Finished a trial resulted in value: 0.04195804195804198. Current best value is 0.020979020979020935 with parameters: {'n_round': 7, 'booster': 'gbtree', 'lambda': 4.525482517272851e-05, 'alpha': 0.0002582716925167782, 'max_depth': 8, 'eta': 0.5380849881804378, 'gamma': 0.0030370634700011136, 'grow_policy': 'lossguide'}.\n",
      "[I 2018-12-05 03:57:23,797] Finished a trial resulted in value: 0.034965034965035. Current best value is 0.020979020979020935 with parameters: {'n_round': 7, 'booster': 'gbtree', 'lambda': 4.525482517272851e-05, 'alpha': 0.0002582716925167782, 'max_depth': 8, 'eta': 0.5380849881804378, 'gamma': 0.0030370634700011136, 'grow_policy': 'lossguide'}.\n",
      "[I 2018-12-05 03:57:23,820] Finished a trial resulted in value: 0.11188811188811187. Current best value is 0.020979020979020935 with parameters: {'n_round': 7, 'booster': 'gbtree', 'lambda': 4.525482517272851e-05, 'alpha': 0.0002582716925167782, 'max_depth': 8, 'eta': 0.5380849881804378, 'gamma': 0.0030370634700011136, 'grow_policy': 'lossguide'}.\n",
      "[I 2018-12-05 03:57:23,855] Finished a trial resulted in value: 0.027972027972028024. Current best value is 0.020979020979020935 with parameters: {'n_round': 7, 'booster': 'gbtree', 'lambda': 4.525482517272851e-05, 'alpha': 0.0002582716925167782, 'max_depth': 8, 'eta': 0.5380849881804378, 'gamma': 0.0030370634700011136, 'grow_policy': 'lossguide'}.\n",
      "[I 2018-12-05 03:57:23,888] Finished a trial resulted in value: 0.07692307692307687. Current best value is 0.020979020979020935 with parameters: {'n_round': 7, 'booster': 'gbtree', 'lambda': 4.525482517272851e-05, 'alpha': 0.0002582716925167782, 'max_depth': 8, 'eta': 0.5380849881804378, 'gamma': 0.0030370634700011136, 'grow_policy': 'lossguide'}.\n",
      "[I 2018-12-05 03:57:23,934] Finished a trial resulted in value: 0.0699300699300699. Current best value is 0.020979020979020935 with parameters: {'n_round': 7, 'booster': 'gbtree', 'lambda': 4.525482517272851e-05, 'alpha': 0.0002582716925167782, 'max_depth': 8, 'eta': 0.5380849881804378, 'gamma': 0.0030370634700011136, 'grow_policy': 'lossguide'}.\n",
      "[I 2018-12-05 03:57:23,967] Finished a trial resulted in value: 0.06293706293706292. Current best value is 0.020979020979020935 with parameters: {'n_round': 7, 'booster': 'gbtree', 'lambda': 4.525482517272851e-05, 'alpha': 0.0002582716925167782, 'max_depth': 8, 'eta': 0.5380849881804378, 'gamma': 0.0030370634700011136, 'grow_policy': 'lossguide'}.\n",
      "[I 2018-12-05 03:57:24,006] Finished a trial resulted in value: 0.04895104895104896. Current best value is 0.020979020979020935 with parameters: {'n_round': 7, 'booster': 'gbtree', 'lambda': 4.525482517272851e-05, 'alpha': 0.0002582716925167782, 'max_depth': 8, 'eta': 0.5380849881804378, 'gamma': 0.0030370634700011136, 'grow_policy': 'lossguide'}.\n",
      "[I 2018-12-05 03:57:24,043] Finished a trial resulted in value: 0.020979020979020935. Current best value is 0.020979020979020935 with parameters: {'n_round': 7, 'booster': 'gbtree', 'lambda': 4.525482517272851e-05, 'alpha': 0.0002582716925167782, 'max_depth': 8, 'eta': 0.5380849881804378, 'gamma': 0.0030370634700011136, 'grow_policy': 'lossguide'}.\n",
      "[I 2018-12-05 03:57:24,080] Finished a trial resulted in value: 0.027972027972028024. Current best value is 0.020979020979020935 with parameters: {'n_round': 7, 'booster': 'gbtree', 'lambda': 4.525482517272851e-05, 'alpha': 0.0002582716925167782, 'max_depth': 8, 'eta': 0.5380849881804378, 'gamma': 0.0030370634700011136, 'grow_policy': 'lossguide'}.\n",
      "[I 2018-12-05 03:57:24,116] Finished a trial resulted in value: 0.07692307692307687. Current best value is 0.020979020979020935 with parameters: {'n_round': 7, 'booster': 'gbtree', 'lambda': 4.525482517272851e-05, 'alpha': 0.0002582716925167782, 'max_depth': 8, 'eta': 0.5380849881804378, 'gamma': 0.0030370634700011136, 'grow_policy': 'lossguide'}.\n",
      "[I 2018-12-05 03:57:24,153] Finished a trial resulted in value: 0.06293706293706292. Current best value is 0.020979020979020935 with parameters: {'n_round': 7, 'booster': 'gbtree', 'lambda': 4.525482517272851e-05, 'alpha': 0.0002582716925167782, 'max_depth': 8, 'eta': 0.5380849881804378, 'gamma': 0.0030370634700011136, 'grow_policy': 'lossguide'}.\n",
      "[I 2018-12-05 03:57:24,175] Finished a trial resulted in value: 0.13286713286713292. Current best value is 0.020979020979020935 with parameters: {'n_round': 7, 'booster': 'gbtree', 'lambda': 4.525482517272851e-05, 'alpha': 0.0002582716925167782, 'max_depth': 8, 'eta': 0.5380849881804378, 'gamma': 0.0030370634700011136, 'grow_policy': 'lossguide'}.\n",
      "[I 2018-12-05 03:57:24,212] Finished a trial resulted in value: 0.06293706293706292. Current best value is 0.020979020979020935 with parameters: {'n_round': 7, 'booster': 'gbtree', 'lambda': 4.525482517272851e-05, 'alpha': 0.0002582716925167782, 'max_depth': 8, 'eta': 0.5380849881804378, 'gamma': 0.0030370634700011136, 'grow_policy': 'lossguide'}.\n",
      "[I 2018-12-05 03:57:24,251] Finished a trial resulted in value: 0.04195804195804198. Current best value is 0.020979020979020935 with parameters: {'n_round': 7, 'booster': 'gbtree', 'lambda': 4.525482517272851e-05, 'alpha': 0.0002582716925167782, 'max_depth': 8, 'eta': 0.5380849881804378, 'gamma': 0.0030370634700011136, 'grow_policy': 'lossguide'}.\n",
      "[I 2018-12-05 03:57:24,288] Finished a trial resulted in value: 0.04195804195804198. Current best value is 0.020979020979020935 with parameters: {'n_round': 7, 'booster': 'gbtree', 'lambda': 4.525482517272851e-05, 'alpha': 0.0002582716925167782, 'max_depth': 8, 'eta': 0.5380849881804378, 'gamma': 0.0030370634700011136, 'grow_policy': 'lossguide'}.\n",
      "[I 2018-12-05 03:57:24,327] Finished a trial resulted in value: 0.04895104895104896. Current best value is 0.020979020979020935 with parameters: {'n_round': 7, 'booster': 'gbtree', 'lambda': 4.525482517272851e-05, 'alpha': 0.0002582716925167782, 'max_depth': 8, 'eta': 0.5380849881804378, 'gamma': 0.0030370634700011136, 'grow_policy': 'lossguide'}.\n",
      "[I 2018-12-05 03:57:24,353] Finished a trial resulted in value: 0.13286713286713292. Current best value is 0.020979020979020935 with parameters: {'n_round': 7, 'booster': 'gbtree', 'lambda': 4.525482517272851e-05, 'alpha': 0.0002582716925167782, 'max_depth': 8, 'eta': 0.5380849881804378, 'gamma': 0.0030370634700011136, 'grow_policy': 'lossguide'}.\n",
      "[I 2018-12-05 03:57:24,392] Finished a trial resulted in value: 0.07692307692307687. Current best value is 0.020979020979020935 with parameters: {'n_round': 7, 'booster': 'gbtree', 'lambda': 4.525482517272851e-05, 'alpha': 0.0002582716925167782, 'max_depth': 8, 'eta': 0.5380849881804378, 'gamma': 0.0030370634700011136, 'grow_policy': 'lossguide'}.\n",
      "[I 2018-12-05 03:57:24,434] Finished a trial resulted in value: 0.04195804195804198. Current best value is 0.020979020979020935 with parameters: {'n_round': 7, 'booster': 'gbtree', 'lambda': 4.525482517272851e-05, 'alpha': 0.0002582716925167782, 'max_depth': 8, 'eta': 0.5380849881804378, 'gamma': 0.0030370634700011136, 'grow_policy': 'lossguide'}.\n",
      "[I 2018-12-05 03:57:24,459] Finished a trial resulted in value: 0.0699300699300699. Current best value is 0.020979020979020935 with parameters: {'n_round': 7, 'booster': 'gbtree', 'lambda': 4.525482517272851e-05, 'alpha': 0.0002582716925167782, 'max_depth': 8, 'eta': 0.5380849881804378, 'gamma': 0.0030370634700011136, 'grow_policy': 'lossguide'}.\n",
      "[I 2018-12-05 03:57:24,501] Finished a trial resulted in value: 0.06293706293706292. Current best value is 0.020979020979020935 with parameters: {'n_round': 7, 'booster': 'gbtree', 'lambda': 4.525482517272851e-05, 'alpha': 0.0002582716925167782, 'max_depth': 8, 'eta': 0.5380849881804378, 'gamma': 0.0030370634700011136, 'grow_policy': 'lossguide'}.\n",
      "[I 2018-12-05 03:57:24,542] Finished a trial resulted in value: 0.027972027972028024. Current best value is 0.020979020979020935 with parameters: {'n_round': 7, 'booster': 'gbtree', 'lambda': 4.525482517272851e-05, 'alpha': 0.0002582716925167782, 'max_depth': 8, 'eta': 0.5380849881804378, 'gamma': 0.0030370634700011136, 'grow_policy': 'lossguide'}.\n"
     ]
    },
    {
     "name": "stderr",
     "output_type": "stream",
     "text": [
      "[I 2018-12-05 03:57:24,584] Finished a trial resulted in value: 0.027972027972028024. Current best value is 0.020979020979020935 with parameters: {'n_round': 7, 'booster': 'gbtree', 'lambda': 4.525482517272851e-05, 'alpha': 0.0002582716925167782, 'max_depth': 8, 'eta': 0.5380849881804378, 'gamma': 0.0030370634700011136, 'grow_policy': 'lossguide'}.\n",
      "[I 2018-12-05 03:57:24,609] Finished a trial resulted in value: 0.0699300699300699. Current best value is 0.020979020979020935 with parameters: {'n_round': 7, 'booster': 'gbtree', 'lambda': 4.525482517272851e-05, 'alpha': 0.0002582716925167782, 'max_depth': 8, 'eta': 0.5380849881804378, 'gamma': 0.0030370634700011136, 'grow_policy': 'lossguide'}.\n",
      "[I 2018-12-05 03:57:24,656] Finished a trial resulted in value: 0.034965034965035. Current best value is 0.020979020979020935 with parameters: {'n_round': 7, 'booster': 'gbtree', 'lambda': 4.525482517272851e-05, 'alpha': 0.0002582716925167782, 'max_depth': 8, 'eta': 0.5380849881804378, 'gamma': 0.0030370634700011136, 'grow_policy': 'lossguide'}.\n",
      "[I 2018-12-05 03:57:24,699] Finished a trial resulted in value: 0.06293706293706292. Current best value is 0.020979020979020935 with parameters: {'n_round': 7, 'booster': 'gbtree', 'lambda': 4.525482517272851e-05, 'alpha': 0.0002582716925167782, 'max_depth': 8, 'eta': 0.5380849881804378, 'gamma': 0.0030370634700011136, 'grow_policy': 'lossguide'}.\n",
      "[I 2018-12-05 03:57:24,725] Finished a trial resulted in value: 0.11888111888111885. Current best value is 0.020979020979020935 with parameters: {'n_round': 7, 'booster': 'gbtree', 'lambda': 4.525482517272851e-05, 'alpha': 0.0002582716925167782, 'max_depth': 8, 'eta': 0.5380849881804378, 'gamma': 0.0030370634700011136, 'grow_policy': 'lossguide'}.\n",
      "[I 2018-12-05 03:57:24,770] Finished a trial resulted in value: 0.11188811188811187. Current best value is 0.020979020979020935 with parameters: {'n_round': 7, 'booster': 'gbtree', 'lambda': 4.525482517272851e-05, 'alpha': 0.0002582716925167782, 'max_depth': 8, 'eta': 0.5380849881804378, 'gamma': 0.0030370634700011136, 'grow_policy': 'lossguide'}.\n",
      "[I 2018-12-05 03:57:24,814] Finished a trial resulted in value: 0.05594405594405594. Current best value is 0.020979020979020935 with parameters: {'n_round': 7, 'booster': 'gbtree', 'lambda': 4.525482517272851e-05, 'alpha': 0.0002582716925167782, 'max_depth': 8, 'eta': 0.5380849881804378, 'gamma': 0.0030370634700011136, 'grow_policy': 'lossguide'}.\n",
      "[I 2018-12-05 03:57:24,869] Finished a trial resulted in value: 0.07692307692307687. Current best value is 0.020979020979020935 with parameters: {'n_round': 7, 'booster': 'gbtree', 'lambda': 4.525482517272851e-05, 'alpha': 0.0002582716925167782, 'max_depth': 8, 'eta': 0.5380849881804378, 'gamma': 0.0030370634700011136, 'grow_policy': 'lossguide'}.\n",
      "[I 2018-12-05 03:57:24,911] Finished a trial resulted in value: 0.006993006993006978. Current best value is 0.006993006993006978 with parameters: {'n_round': 4, 'booster': 'gbtree', 'lambda': 0.000282767605649504, 'alpha': 0.000151049118132311, 'max_depth': 5, 'eta': 0.008258546943256029, 'gamma': 0.001268546012115243, 'grow_policy': 'lossguide'}.\n",
      "[I 2018-12-05 03:57:24,940] Finished a trial resulted in value: 0.09790209790209792. Current best value is 0.006993006993006978 with parameters: {'n_round': 4, 'booster': 'gbtree', 'lambda': 0.000282767605649504, 'alpha': 0.000151049118132311, 'max_depth': 5, 'eta': 0.008258546943256029, 'gamma': 0.001268546012115243, 'grow_policy': 'lossguide'}.\n",
      "[I 2018-12-05 03:57:24,979] Finished a trial resulted in value: 0.11188811188811187. Current best value is 0.006993006993006978 with parameters: {'n_round': 4, 'booster': 'gbtree', 'lambda': 0.000282767605649504, 'alpha': 0.000151049118132311, 'max_depth': 5, 'eta': 0.008258546943256029, 'gamma': 0.001268546012115243, 'grow_policy': 'lossguide'}.\n",
      "[I 2018-12-05 03:57:25,031] Finished a trial resulted in value: 0.11188811188811187. Current best value is 0.006993006993006978 with parameters: {'n_round': 4, 'booster': 'gbtree', 'lambda': 0.000282767605649504, 'alpha': 0.000151049118132311, 'max_depth': 5, 'eta': 0.008258546943256029, 'gamma': 0.001268546012115243, 'grow_policy': 'lossguide'}.\n",
      "[I 2018-12-05 03:57:25,072] Finished a trial resulted in value: 0.08391608391608396. Current best value is 0.006993006993006978 with parameters: {'n_round': 4, 'booster': 'gbtree', 'lambda': 0.000282767605649504, 'alpha': 0.000151049118132311, 'max_depth': 5, 'eta': 0.008258546943256029, 'gamma': 0.001268546012115243, 'grow_policy': 'lossguide'}.\n",
      "[I 2018-12-05 03:57:25,125] Finished a trial resulted in value: 0.07692307692307687. Current best value is 0.006993006993006978 with parameters: {'n_round': 4, 'booster': 'gbtree', 'lambda': 0.000282767605649504, 'alpha': 0.000151049118132311, 'max_depth': 5, 'eta': 0.008258546943256029, 'gamma': 0.001268546012115243, 'grow_policy': 'lossguide'}.\n",
      "[I 2018-12-05 03:57:25,170] Finished a trial resulted in value: 0.1398601398601399. Current best value is 0.006993006993006978 with parameters: {'n_round': 4, 'booster': 'gbtree', 'lambda': 0.000282767605649504, 'alpha': 0.000151049118132311, 'max_depth': 5, 'eta': 0.008258546943256029, 'gamma': 0.001268546012115243, 'grow_policy': 'lossguide'}.\n",
      "[I 2018-12-05 03:57:25,198] Finished a trial resulted in value: 0.09090909090909094. Current best value is 0.006993006993006978 with parameters: {'n_round': 4, 'booster': 'gbtree', 'lambda': 0.000282767605649504, 'alpha': 0.000151049118132311, 'max_depth': 5, 'eta': 0.008258546943256029, 'gamma': 0.001268546012115243, 'grow_policy': 'lossguide'}.\n",
      "[I 2018-12-05 03:57:25,243] Finished a trial resulted in value: 0.06293706293706292. Current best value is 0.006993006993006978 with parameters: {'n_round': 4, 'booster': 'gbtree', 'lambda': 0.000282767605649504, 'alpha': 0.000151049118132311, 'max_depth': 5, 'eta': 0.008258546943256029, 'gamma': 0.001268546012115243, 'grow_policy': 'lossguide'}.\n",
      "[I 2018-12-05 03:57:25,288] Finished a trial resulted in value: 0.09790209790209792. Current best value is 0.006993006993006978 with parameters: {'n_round': 4, 'booster': 'gbtree', 'lambda': 0.000282767605649504, 'alpha': 0.000151049118132311, 'max_depth': 5, 'eta': 0.008258546943256029, 'gamma': 0.001268546012115243, 'grow_policy': 'lossguide'}.\n",
      "[I 2018-12-05 03:57:25,353] Finished a trial resulted in value: 0.020979020979020935. Current best value is 0.006993006993006978 with parameters: {'n_round': 4, 'booster': 'gbtree', 'lambda': 0.000282767605649504, 'alpha': 0.000151049118132311, 'max_depth': 5, 'eta': 0.008258546943256029, 'gamma': 0.001268546012115243, 'grow_policy': 'lossguide'}.\n",
      "[I 2018-12-05 03:57:25,417] Finished a trial resulted in value: 0.05594405594405594. Current best value is 0.006993006993006978 with parameters: {'n_round': 4, 'booster': 'gbtree', 'lambda': 0.000282767605649504, 'alpha': 0.000151049118132311, 'max_depth': 5, 'eta': 0.008258546943256029, 'gamma': 0.001268546012115243, 'grow_policy': 'lossguide'}.\n",
      "[I 2018-12-05 03:57:25,463] Finished a trial resulted in value: 0.08391608391608396. Current best value is 0.006993006993006978 with parameters: {'n_round': 4, 'booster': 'gbtree', 'lambda': 0.000282767605649504, 'alpha': 0.000151049118132311, 'max_depth': 5, 'eta': 0.008258546943256029, 'gamma': 0.001268546012115243, 'grow_policy': 'lossguide'}.\n",
      "[I 2018-12-05 03:57:25,532] Finished a trial resulted in value: 0.04195804195804198. Current best value is 0.006993006993006978 with parameters: {'n_round': 4, 'booster': 'gbtree', 'lambda': 0.000282767605649504, 'alpha': 0.000151049118132311, 'max_depth': 5, 'eta': 0.008258546943256029, 'gamma': 0.001268546012115243, 'grow_policy': 'lossguide'}.\n",
      "[I 2018-12-05 03:57:25,580] Finished a trial resulted in value: 0.09090909090909094. Current best value is 0.006993006993006978 with parameters: {'n_round': 4, 'booster': 'gbtree', 'lambda': 0.000282767605649504, 'alpha': 0.000151049118132311, 'max_depth': 5, 'eta': 0.008258546943256029, 'gamma': 0.001268546012115243, 'grow_policy': 'lossguide'}.\n",
      "[I 2018-12-05 03:57:25,630] Finished a trial resulted in value: 0.027972027972028024. Current best value is 0.006993006993006978 with parameters: {'n_round': 4, 'booster': 'gbtree', 'lambda': 0.000282767605649504, 'alpha': 0.000151049118132311, 'max_depth': 5, 'eta': 0.008258546943256029, 'gamma': 0.001268546012115243, 'grow_policy': 'lossguide'}.\n",
      "[I 2018-12-05 03:57:25,684] Finished a trial resulted in value: 0.04895104895104896. Current best value is 0.006993006993006978 with parameters: {'n_round': 4, 'booster': 'gbtree', 'lambda': 0.000282767605649504, 'alpha': 0.000151049118132311, 'max_depth': 5, 'eta': 0.008258546943256029, 'gamma': 0.001268546012115243, 'grow_policy': 'lossguide'}.\n",
      "[I 2018-12-05 03:57:25,752] Finished a trial resulted in value: 0.034965034965035. Current best value is 0.006993006993006978 with parameters: {'n_round': 4, 'booster': 'gbtree', 'lambda': 0.000282767605649504, 'alpha': 0.000151049118132311, 'max_depth': 5, 'eta': 0.008258546943256029, 'gamma': 0.001268546012115243, 'grow_policy': 'lossguide'}.\n",
      "[I 2018-12-05 03:57:25,822] Finished a trial resulted in value: 0.04895104895104896. Current best value is 0.006993006993006978 with parameters: {'n_round': 4, 'booster': 'gbtree', 'lambda': 0.000282767605649504, 'alpha': 0.000151049118132311, 'max_depth': 5, 'eta': 0.008258546943256029, 'gamma': 0.001268546012115243, 'grow_policy': 'lossguide'}.\n",
      "[I 2018-12-05 03:57:25,873] Finished a trial resulted in value: 0.04895104895104896. Current best value is 0.006993006993006978 with parameters: {'n_round': 4, 'booster': 'gbtree', 'lambda': 0.000282767605649504, 'alpha': 0.000151049118132311, 'max_depth': 5, 'eta': 0.008258546943256029, 'gamma': 0.001268546012115243, 'grow_policy': 'lossguide'}.\n",
      "[I 2018-12-05 03:57:25,924] Finished a trial resulted in value: 0.06293706293706292. Current best value is 0.006993006993006978 with parameters: {'n_round': 4, 'booster': 'gbtree', 'lambda': 0.000282767605649504, 'alpha': 0.000151049118132311, 'max_depth': 5, 'eta': 0.008258546943256029, 'gamma': 0.001268546012115243, 'grow_policy': 'lossguide'}.\n",
      "[I 2018-12-05 03:57:25,997] Finished a trial resulted in value: 0.04895104895104896. Current best value is 0.006993006993006978 with parameters: {'n_round': 4, 'booster': 'gbtree', 'lambda': 0.000282767605649504, 'alpha': 0.000151049118132311, 'max_depth': 5, 'eta': 0.008258546943256029, 'gamma': 0.001268546012115243, 'grow_policy': 'lossguide'}.\n",
      "[I 2018-12-05 03:57:26,051] Finished a trial resulted in value: 0.08391608391608396. Current best value is 0.006993006993006978 with parameters: {'n_round': 4, 'booster': 'gbtree', 'lambda': 0.000282767605649504, 'alpha': 0.000151049118132311, 'max_depth': 5, 'eta': 0.008258546943256029, 'gamma': 0.001268546012115243, 'grow_policy': 'lossguide'}.\n",
      "[I 2018-12-05 03:57:26,102] Finished a trial resulted in value: 0.1048951048951049. Current best value is 0.006993006993006978 with parameters: {'n_round': 4, 'booster': 'gbtree', 'lambda': 0.000282767605649504, 'alpha': 0.000151049118132311, 'max_depth': 5, 'eta': 0.008258546943256029, 'gamma': 0.001268546012115243, 'grow_policy': 'lossguide'}.\n",
      "[I 2018-12-05 03:57:26,155] Finished a trial resulted in value: 0.05594405594405594. Current best value is 0.006993006993006978 with parameters: {'n_round': 4, 'booster': 'gbtree', 'lambda': 0.000282767605649504, 'alpha': 0.000151049118132311, 'max_depth': 5, 'eta': 0.008258546943256029, 'gamma': 0.001268546012115243, 'grow_policy': 'lossguide'}.\n",
      "[I 2018-12-05 03:57:26,208] Finished a trial resulted in value: 0.04895104895104896. Current best value is 0.006993006993006978 with parameters: {'n_round': 4, 'booster': 'gbtree', 'lambda': 0.000282767605649504, 'alpha': 0.000151049118132311, 'max_depth': 5, 'eta': 0.008258546943256029, 'gamma': 0.001268546012115243, 'grow_policy': 'lossguide'}.\n",
      "[I 2018-12-05 03:57:26,279] Finished a trial resulted in value: 0.034965034965035. Current best value is 0.006993006993006978 with parameters: {'n_round': 4, 'booster': 'gbtree', 'lambda': 0.000282767605649504, 'alpha': 0.000151049118132311, 'max_depth': 5, 'eta': 0.008258546943256029, 'gamma': 0.001268546012115243, 'grow_policy': 'lossguide'}.\n",
      "[I 2018-12-05 03:57:26,335] Finished a trial resulted in value: 0.04195804195804198. Current best value is 0.006993006993006978 with parameters: {'n_round': 4, 'booster': 'gbtree', 'lambda': 0.000282767605649504, 'alpha': 0.000151049118132311, 'max_depth': 5, 'eta': 0.008258546943256029, 'gamma': 0.001268546012115243, 'grow_policy': 'lossguide'}.\n",
      "[I 2018-12-05 03:57:26,411] Finished a trial resulted in value: 0.04895104895104896. Current best value is 0.006993006993006978 with parameters: {'n_round': 4, 'booster': 'gbtree', 'lambda': 0.000282767605649504, 'alpha': 0.000151049118132311, 'max_depth': 5, 'eta': 0.008258546943256029, 'gamma': 0.001268546012115243, 'grow_policy': 'lossguide'}.\n",
      "[I 2018-12-05 03:57:26,486] Finished a trial resulted in value: 0.09090909090909094. Current best value is 0.006993006993006978 with parameters: {'n_round': 4, 'booster': 'gbtree', 'lambda': 0.000282767605649504, 'alpha': 0.000151049118132311, 'max_depth': 5, 'eta': 0.008258546943256029, 'gamma': 0.001268546012115243, 'grow_policy': 'lossguide'}.\n",
      "[I 2018-12-05 03:57:26,564] Finished a trial resulted in value: 0.07692307692307687. Current best value is 0.006993006993006978 with parameters: {'n_round': 4, 'booster': 'gbtree', 'lambda': 0.000282767605649504, 'alpha': 0.000151049118132311, 'max_depth': 5, 'eta': 0.008258546943256029, 'gamma': 0.001268546012115243, 'grow_policy': 'lossguide'}.\n",
      "[I 2018-12-05 03:57:26,601] Finished a trial resulted in value: 0.09090909090909094. Current best value is 0.006993006993006978 with parameters: {'n_round': 4, 'booster': 'gbtree', 'lambda': 0.000282767605649504, 'alpha': 0.000151049118132311, 'max_depth': 5, 'eta': 0.008258546943256029, 'gamma': 0.001268546012115243, 'grow_policy': 'lossguide'}.\n",
      "[I 2018-12-05 03:57:26,681] Finished a trial resulted in value: 0.034965034965035. Current best value is 0.006993006993006978 with parameters: {'n_round': 4, 'booster': 'gbtree', 'lambda': 0.000282767605649504, 'alpha': 0.000151049118132311, 'max_depth': 5, 'eta': 0.008258546943256029, 'gamma': 0.001268546012115243, 'grow_policy': 'lossguide'}.\n",
      "[I 2018-12-05 03:57:26,739] Finished a trial resulted in value: 0.06293706293706292. Current best value is 0.006993006993006978 with parameters: {'n_round': 4, 'booster': 'gbtree', 'lambda': 0.000282767605649504, 'alpha': 0.000151049118132311, 'max_depth': 5, 'eta': 0.008258546943256029, 'gamma': 0.001268546012115243, 'grow_policy': 'lossguide'}.\n",
      "[I 2018-12-05 03:57:26,816] Finished a trial resulted in value: 0.034965034965035. Current best value is 0.006993006993006978 with parameters: {'n_round': 4, 'booster': 'gbtree', 'lambda': 0.000282767605649504, 'alpha': 0.000151049118132311, 'max_depth': 5, 'eta': 0.008258546943256029, 'gamma': 0.001268546012115243, 'grow_policy': 'lossguide'}.\n",
      "[I 2018-12-05 03:57:26,872] Finished a trial resulted in value: 0.1048951048951049. Current best value is 0.006993006993006978 with parameters: {'n_round': 4, 'booster': 'gbtree', 'lambda': 0.000282767605649504, 'alpha': 0.000151049118132311, 'max_depth': 5, 'eta': 0.008258546943256029, 'gamma': 0.001268546012115243, 'grow_policy': 'lossguide'}.\n",
      "[I 2018-12-05 03:57:26,931] Finished a trial resulted in value: 0.08391608391608396. Current best value is 0.006993006993006978 with parameters: {'n_round': 4, 'booster': 'gbtree', 'lambda': 0.000282767605649504, 'alpha': 0.000151049118132311, 'max_depth': 5, 'eta': 0.008258546943256029, 'gamma': 0.001268546012115243, 'grow_policy': 'lossguide'}.\n",
      "[I 2018-12-05 03:57:26,968] Finished a trial resulted in value: 0.12587412587412583. Current best value is 0.006993006993006978 with parameters: {'n_round': 4, 'booster': 'gbtree', 'lambda': 0.000282767605649504, 'alpha': 0.000151049118132311, 'max_depth': 5, 'eta': 0.008258546943256029, 'gamma': 0.001268546012115243, 'grow_policy': 'lossguide'}.\n"
     ]
    },
    {
     "name": "stderr",
     "output_type": "stream",
     "text": [
      "[I 2018-12-05 03:57:27,030] Finished a trial resulted in value: 0.027972027972028024. Current best value is 0.006993006993006978 with parameters: {'n_round': 4, 'booster': 'gbtree', 'lambda': 0.000282767605649504, 'alpha': 0.000151049118132311, 'max_depth': 5, 'eta': 0.008258546943256029, 'gamma': 0.001268546012115243, 'grow_policy': 'lossguide'}.\n",
      "[I 2018-12-05 03:57:27,110] Finished a trial resulted in value: 0.06293706293706292. Current best value is 0.006993006993006978 with parameters: {'n_round': 4, 'booster': 'gbtree', 'lambda': 0.000282767605649504, 'alpha': 0.000151049118132311, 'max_depth': 5, 'eta': 0.008258546943256029, 'gamma': 0.001268546012115243, 'grow_policy': 'lossguide'}.\n",
      "[I 2018-12-05 03:57:27,150] Finished a trial resulted in value: 0.0699300699300699. Current best value is 0.006993006993006978 with parameters: {'n_round': 4, 'booster': 'gbtree', 'lambda': 0.000282767605649504, 'alpha': 0.000151049118132311, 'max_depth': 5, 'eta': 0.008258546943256029, 'gamma': 0.001268546012115243, 'grow_policy': 'lossguide'}.\n",
      "[I 2018-12-05 03:57:27,208] Finished a trial resulted in value: 0.0699300699300699. Current best value is 0.006993006993006978 with parameters: {'n_round': 4, 'booster': 'gbtree', 'lambda': 0.000282767605649504, 'alpha': 0.000151049118132311, 'max_depth': 5, 'eta': 0.008258546943256029, 'gamma': 0.001268546012115243, 'grow_policy': 'lossguide'}.\n",
      "[I 2018-12-05 03:57:27,288] Finished a trial resulted in value: 0.04195804195804198. Current best value is 0.006993006993006978 with parameters: {'n_round': 4, 'booster': 'gbtree', 'lambda': 0.000282767605649504, 'alpha': 0.000151049118132311, 'max_depth': 5, 'eta': 0.008258546943256029, 'gamma': 0.001268546012115243, 'grow_policy': 'lossguide'}.\n",
      "[I 2018-12-05 03:57:27,348] Finished a trial resulted in value: 0.06293706293706292. Current best value is 0.006993006993006978 with parameters: {'n_round': 4, 'booster': 'gbtree', 'lambda': 0.000282767605649504, 'alpha': 0.000151049118132311, 'max_depth': 5, 'eta': 0.008258546943256029, 'gamma': 0.001268546012115243, 'grow_policy': 'lossguide'}.\n",
      "[I 2018-12-05 03:57:27,435] Finished a trial resulted in value: 0.020979020979020935. Current best value is 0.006993006993006978 with parameters: {'n_round': 4, 'booster': 'gbtree', 'lambda': 0.000282767605649504, 'alpha': 0.000151049118132311, 'max_depth': 5, 'eta': 0.008258546943256029, 'gamma': 0.001268546012115243, 'grow_policy': 'lossguide'}.\n",
      "[I 2018-12-05 03:57:27,475] Finished a trial resulted in value: 0.07692307692307687. Current best value is 0.006993006993006978 with parameters: {'n_round': 4, 'booster': 'gbtree', 'lambda': 0.000282767605649504, 'alpha': 0.000151049118132311, 'max_depth': 5, 'eta': 0.008258546943256029, 'gamma': 0.001268546012115243, 'grow_policy': 'lossguide'}.\n",
      "[I 2018-12-05 03:57:27,559] Finished a trial resulted in value: 0.034965034965035. Current best value is 0.006993006993006978 with parameters: {'n_round': 4, 'booster': 'gbtree', 'lambda': 0.000282767605649504, 'alpha': 0.000151049118132311, 'max_depth': 5, 'eta': 0.008258546943256029, 'gamma': 0.001268546012115243, 'grow_policy': 'lossguide'}.\n"
     ]
    },
    {
     "name": "stdout",
     "output_type": "stream",
     "text": [
      "FrozenTrial(trial_id=53, state=<TrialState.COMPLETE: 1>, value=0.006993006993006978, datetime_start=datetime.datetime(2018, 12, 5, 3, 57, 24, 871168), datetime_complete=datetime.datetime(2018, 12, 5, 3, 57, 24, 907850), params={'n_round': 4, 'booster': 'gbtree', 'lambda': 0.000282767605649504, 'alpha': 0.000151049118132311, 'max_depth': 5, 'eta': 0.008258546943256029, 'gamma': 0.001268546012115243, 'grow_policy': 'lossguide'}, user_attrs={}, system_attrs={}, intermediate_values={}, params_in_internal_repr={'n_round': 4, 'booster': 0, 'lambda': 0.000282767605649504, 'alpha': 0.000151049118132311, 'max_depth': 5, 'eta': 0.008258546943256029, 'gamma': 0.001268546012115243, 'grow_policy': 1})\n"
     ]
    }
   ],
   "source": [
    "study = optuna.create_study()\n",
    "study.optimize(objective, n_trials=100)\n",
    "print(study.best_trial)"
   ]
  },
  {
   "cell_type": "markdown",
   "metadata": {},
   "source": [
    "<a name=\"pruning\"></a>\n",
    "## Pruning Unpromising Trials\n",
    "- [公式サイト](https://optuna.readthedocs.io/en/stable/tutorial/pruning.html)"
   ]
  },
  {
   "cell_type": "markdown",
   "metadata": {},
   "source": [
    "### 有望ではない学習を途中で打ち切る\n",
    "- 繰り返し最適化(学習)のloop内に`report()`と`should_prune()`を入れる\n",
    "- ログを見ると、`TrialState.PRUNED`と書かれたステップがあり、そこでは指定回数(今回は100回)の学習を終える前に学習が打ち切られている"
   ]
  },
  {
   "cell_type": "markdown",
   "metadata": {},
   "source": [
    "<a name=\"sklearn_pruning\"></a>\n",
    "### scikit-learnの実装例 (Iris)"
   ]
  },
  {
   "cell_type": "code",
   "execution_count": 16,
   "metadata": {},
   "outputs": [
    {
     "name": "stderr",
     "output_type": "stream",
     "text": [
      "[I 2018-12-05 03:57:27,794] Finished a trial resulted in value: 0.02631578947368418. Current best value is 0.02631578947368418 with parameters: {'alpha': 0.0013725045527894573}.\n",
      "[I 2018-12-05 03:57:27,909] Finished a trial resulted in value: 0.10526315789473684. Current best value is 0.02631578947368418 with parameters: {'alpha': 0.0013725045527894573}.\n",
      "[I 2018-12-05 03:57:28,037] Finished a trial resulted in value: 0.23684210526315785. Current best value is 0.02631578947368418 with parameters: {'alpha': 0.0013725045527894573}.\n",
      "[I 2018-12-05 03:57:28,184] Finished a trial resulted in value: 0.052631578947368474. Current best value is 0.02631578947368418 with parameters: {'alpha': 0.0013725045527894573}.\n",
      "[I 2018-12-05 03:57:28,352] Finished a trial resulted in value: 0.21052631578947367. Current best value is 0.02631578947368418 with parameters: {'alpha': 0.0013725045527894573}.\n",
      "[I 2018-12-05 03:57:28,689] Finished a trial resulted in value: 0.02631578947368418. Current best value is 0.02631578947368418 with parameters: {'alpha': 0.0013725045527894573}.\n",
      "[I 2018-12-05 03:57:28,719] Setting trial status as TrialState.PRUNED. \n",
      "[I 2018-12-05 03:57:28,749] Setting trial status as TrialState.PRUNED. \n",
      "[I 2018-12-05 03:57:28,774] Setting trial status as TrialState.PRUNED. \n",
      "[I 2018-12-05 03:57:29,185] Finished a trial resulted in value: 0.1842105263157895. Current best value is 0.02631578947368418 with parameters: {'alpha': 0.0013725045527894573}.\n",
      "[I 2018-12-05 03:57:29,209] Setting trial status as TrialState.PRUNED. \n",
      "[I 2018-12-05 03:57:29,232] Setting trial status as TrialState.PRUNED. \n",
      "[I 2018-12-05 03:57:29,256] Setting trial status as TrialState.PRUNED. \n",
      "[I 2018-12-05 03:57:29,709] Finished a trial resulted in value: 0.3157894736842105. Current best value is 0.02631578947368418 with parameters: {'alpha': 0.0013725045527894573}.\n",
      "[I 2018-12-05 03:57:29,741] Setting trial status as TrialState.PRUNED. \n",
      "[I 2018-12-05 03:57:29,758] Setting trial status as TrialState.PRUNED. \n",
      "[I 2018-12-05 03:57:29,791] Setting trial status as TrialState.PRUNED. \n",
      "[I 2018-12-05 03:57:29,815] Setting trial status as TrialState.PRUNED. \n",
      "[I 2018-12-05 03:57:30,337] Finished a trial resulted in value: 0.3157894736842105. Current best value is 0.02631578947368418 with parameters: {'alpha': 0.0013725045527894573}.\n",
      "[I 2018-12-05 03:57:30,365] Setting trial status as TrialState.PRUNED. \n"
     ]
    }
   ],
   "source": [
    "import sklearn.datasets\n",
    "import sklearn.linear_model\n",
    "import sklearn.model_selection\n",
    "\n",
    "import optuna\n",
    "\n",
    "def objective(trial):\n",
    "    \n",
    "    # Irisデータの読み込み\n",
    "    iris = sklearn.datasets.load_iris()\n",
    "    classes = list(set(iris.target))\n",
    "    train_x, test_x, train_y, test_y = \\\n",
    "        sklearn.model_selection.train_test_split(iris.data, iris.target, test_size=0.25, random_state=0)\n",
    "\n",
    "    # 学習率のサンプリング範囲を定義\n",
    "    alpha = trial.suggest_loguniform('alpha', 1e-5, 1e-1)\n",
    "    \n",
    "    # 学習モデルを作成\n",
    "    clf = sklearn.linear_model.SGDClassifier(alpha=alpha)\n",
    "\n",
    "    # 繰り返し学習\n",
    "    for step in range(100):\n",
    "        clf.partial_fit(train_x, train_y, classes=classes)\n",
    "\n",
    "        # 学習途中の目的関数の値を report する\n",
    "        intermediate_value = 1.0 - clf.score(test_x, test_y)\n",
    "        trial.report(intermediate_value, step)\n",
    "\n",
    "        # 学習途中の目的関数値にもとづいて打ち切りを判断する\n",
    "        if trial.should_prune(step):\n",
    "            raise optuna.structs.TrialPruned()\n",
    "\n",
    "    return 1.0 - clf.score(test_x, test_y)\n",
    "\n",
    "# 打ち切りの基準として median stopping を指定\n",
    "study = optuna.create_study(pruner=optuna.pruners.MedianPruner())\n",
    "study.optimize(objective, n_trials=20)"
   ]
  },
  {
   "cell_type": "markdown",
   "metadata": {},
   "source": [
    "<a name=\"xgboost_pruning\"></a>\n",
    "### xgboost等にも用いることが出来る\n",
    "- 例は上で用いたcancerのデータ\n",
    "- [コードのソース(github)](https://github.com/pfnet/optuna/blob/master/examples/pruning/xgboost_integration.py)"
   ]
  },
  {
   "cell_type": "code",
   "execution_count": 17,
   "metadata": {},
   "outputs": [],
   "source": [
    "import numpy as np\n",
    "import sklearn.datasets\n",
    "import sklearn.metrics\n",
    "from sklearn.model_selection import train_test_split\n",
    "import xgboost as xgb\n",
    "\n",
    "\n",
    "def objective(trial):\n",
    "    data, target = sklearn.datasets.load_breast_cancer(return_X_y=True)\n",
    "    train_x, test_x, train_y, test_y = train_test_split(data, target, test_size=0.25)\n",
    "    dtrain = xgb.DMatrix(train_x, label=train_y)\n",
    "    dtest = xgb.DMatrix(test_x, label=test_y)\n",
    "\n",
    "    n_round = trial.suggest_int('n_round', 1, 9)\n",
    "    param = {'silent': 1, 'objective': 'binary:logistic',\n",
    "             'booster': trial.suggest_categorical('booster', ['gbtree', 'gblinear', 'dart']),\n",
    "             'lambda': trial.suggest_loguniform('lambda', 1e-8, 1.0),\n",
    "             'alpha': trial.suggest_loguniform('alpha', 1e-8, 1.0)\n",
    "             }\n",
    "\n",
    "    if param['booster'] == 'gbtree' or param['booster'] == 'dart':\n",
    "        param['max_depth'] = trial.suggest_int('max_depth', 1, 9)\n",
    "        param['ets'] = trial.suggest_loguniform('eta', 1e-8, 1.0)\n",
    "        param['gamma'] = trial.suggest_loguniform('gamma', 1e-8, 1.0)\n",
    "        param['grow_policy'] = trial.suggest_categorical('grow_policy', ['depthwise', 'lossguide'])\n",
    "    if param['booster'] == 'dart':\n",
    "        param['sample_type'] = trial.suggest_categorical('sample_type', ['uniform', 'weighted'])\n",
    "        param['normalize_type'] = trial.suggest_categorical('normalize_type', ['tree', 'forest'])\n",
    "        param['rate_drop'] = trial.suggest_loguniform('rate_drop', 1e-8, 1.0)\n",
    "        param['skip_drop'] = trial.suggest_loguniform('skip_drop', 1e-8, 1.0)\n",
    "\n",
    "    # 打ち切りを判断するためにcallbackを加える\n",
    "    pruning_callback = optuna.integration.XGBoostPruningCallback(trial, 'validation-error')\n",
    "    bst = xgb.train(param, dtrain, n_round, evals=[(dtest, 'validation')],\n",
    "                    callbacks=[pruning_callback])\n",
    "    preds = bst.predict(dtest)\n",
    "    pred_labels = np.rint(preds)\n",
    "    accuracy = sklearn.metrics.accuracy_score(test_y, pred_labels)\n",
    "    return 1.0 - accuracy"
   ]
  },
  {
   "cell_type": "code",
   "execution_count": 18,
   "metadata": {},
   "outputs": [
    {
     "name": "stdout",
     "output_type": "stream",
     "text": [
      "[0]\tvalidation-error:0.146853\n",
      "[1]\tvalidation-error:0.153846\n",
      "[2]\tvalidation-error:0.146853\n",
      "[3]\tvalidation-error:0.153846\n",
      "[4]\tvalidation-error:0.153846\n"
     ]
    },
    {
     "name": "stderr",
     "output_type": "stream",
     "text": [
      "[I 2018-12-05 03:57:30,400] Finished a trial resulted in value: 0.15384615384615385. Current best value is 0.15384615384615385 with parameters: {'n_round': 5, 'booster': 'gblinear', 'lambda': 0.955248094300941, 'alpha': 3.142815417273797e-05}.\n"
     ]
    },
    {
     "name": "stdout",
     "output_type": "stream",
     "text": [
      "[0]\tvalidation-error:0.062937\n",
      "[1]\tvalidation-error:0.062937\n",
      "[2]\tvalidation-error:0.048951\n",
      "[3]\tvalidation-error:0.090909\n",
      "[4]\tvalidation-error:0.048951\n",
      "[5]\tvalidation-error:0.055944\n",
      "[6]\tvalidation-error:0.055944\n",
      "[7]\tvalidation-error:0.06993\n"
     ]
    },
    {
     "name": "stderr",
     "output_type": "stream",
     "text": [
      "[I 2018-12-05 03:57:30,435] Finished a trial resulted in value: 0.05594405594405594. Current best value is 0.05594405594405594 with parameters: {'n_round': 8, 'booster': 'dart', 'lambda': 0.00031951729848139814, 'alpha': 6.517255006264683e-05, 'max_depth': 9, 'eta': 0.7918839188228545, 'gamma': 1.1579451296710638e-06, 'grow_policy': 'lossguide', 'sample_type': 'weighted', 'normalize_type': 'tree', 'rate_drop': 0.4670139563805792, 'skip_drop': 0.11681444363432103}.\n"
     ]
    },
    {
     "name": "stdout",
     "output_type": "stream",
     "text": [
      "[0]\tvalidation-error:0.041958\n",
      "[1]\tvalidation-error:0.027972\n",
      "[2]\tvalidation-error:0.034965\n",
      "[3]\tvalidation-error:0.020979\n",
      "[4]\tvalidation-error:0.020979\n",
      "[5]\tvalidation-error:0.013986\n",
      "[6]\tvalidation-error:0.013986\n",
      "[7]\tvalidation-error:0.013986\n",
      "[8]\tvalidation-error:0.013986\n"
     ]
    },
    {
     "name": "stderr",
     "output_type": "stream",
     "text": [
      "[I 2018-12-05 03:57:30,473] Finished a trial resulted in value: 0.013986013986013957. Current best value is 0.013986013986013957 with parameters: {'n_round': 9, 'booster': 'dart', 'lambda': 0.026047313347139816, 'alpha': 7.88394249425758e-07, 'max_depth': 9, 'eta': 0.00013609586584108728, 'gamma': 0.013765350901623459, 'grow_policy': 'depthwise', 'sample_type': 'uniform', 'normalize_type': 'tree', 'rate_drop': 8.326865238773264e-08, 'skip_drop': 0.46866578470656534}.\n"
     ]
    },
    {
     "name": "stdout",
     "output_type": "stream",
     "text": [
      "[0]\tvalidation-error:0.055944\n",
      "[1]\tvalidation-error:0.048951\n",
      "[2]\tvalidation-error:0.055944\n",
      "[3]\tvalidation-error:0.062937\n",
      "[4]\tvalidation-error:0.062937\n",
      "[5]\tvalidation-error:0.055944\n",
      "[6]\tvalidation-error:0.048951\n",
      "[7]\tvalidation-error:0.048951\n",
      "[8]\tvalidation-error:0.048951\n"
     ]
    },
    {
     "name": "stderr",
     "output_type": "stream",
     "text": [
      "[I 2018-12-05 03:57:30,511] Finished a trial resulted in value: 0.04895104895104896. Current best value is 0.013986013986013957 with parameters: {'n_round': 9, 'booster': 'dart', 'lambda': 0.026047313347139816, 'alpha': 7.88394249425758e-07, 'max_depth': 9, 'eta': 0.00013609586584108728, 'gamma': 0.013765350901623459, 'grow_policy': 'depthwise', 'sample_type': 'uniform', 'normalize_type': 'tree', 'rate_drop': 8.326865238773264e-08, 'skip_drop': 0.46866578470656534}.\n"
     ]
    },
    {
     "name": "stdout",
     "output_type": "stream",
     "text": [
      "[0]\tvalidation-error:0.118881\n",
      "[1]\tvalidation-error:0.111888\n"
     ]
    },
    {
     "name": "stderr",
     "output_type": "stream",
     "text": [
      "[I 2018-12-05 03:57:30,532] Finished a trial resulted in value: 0.11188811188811187. Current best value is 0.013986013986013957 with parameters: {'n_round': 9, 'booster': 'dart', 'lambda': 0.026047313347139816, 'alpha': 7.88394249425758e-07, 'max_depth': 9, 'eta': 0.00013609586584108728, 'gamma': 0.013765350901623459, 'grow_policy': 'depthwise', 'sample_type': 'uniform', 'normalize_type': 'tree', 'rate_drop': 8.326865238773264e-08, 'skip_drop': 0.46866578470656534}.\n"
     ]
    },
    {
     "name": "stdout",
     "output_type": "stream",
     "text": [
      "[0]\tvalidation-error:0.13986\n",
      "[1]\tvalidation-error:0.111888\n",
      "[2]\tvalidation-error:0.111888\n",
      "[3]\tvalidation-error:0.104895\n",
      "[4]\tvalidation-error:0.104895\n",
      "[5]\tvalidation-error:0.097902\n"
     ]
    },
    {
     "name": "stderr",
     "output_type": "stream",
     "text": [
      "[I 2018-12-05 03:57:30,556] Setting trial status as TrialState.PRUNED. Trial was pruned at iteration 6.\n"
     ]
    },
    {
     "name": "stdout",
     "output_type": "stream",
     "text": [
      "[0]\tvalidation-error:0.111888\n",
      "[1]\tvalidation-error:0.090909\n",
      "[2]\tvalidation-error:0.090909\n",
      "[3]\tvalidation-error:0.097902\n",
      "[4]\tvalidation-error:0.076923\n",
      "[5]\tvalidation-error:0.06993\n"
     ]
    },
    {
     "name": "stderr",
     "output_type": "stream",
     "text": [
      "[I 2018-12-05 03:57:30,586] Finished a trial resulted in value: 0.0699300699300699. Current best value is 0.013986013986013957 with parameters: {'n_round': 9, 'booster': 'dart', 'lambda': 0.026047313347139816, 'alpha': 7.88394249425758e-07, 'max_depth': 9, 'eta': 0.00013609586584108728, 'gamma': 0.013765350901623459, 'grow_policy': 'depthwise', 'sample_type': 'uniform', 'normalize_type': 'tree', 'rate_drop': 8.326865238773264e-08, 'skip_drop': 0.46866578470656534}.\n"
     ]
    },
    {
     "name": "stdout",
     "output_type": "stream",
     "text": [
      "[0]\tvalidation-error:0.097902\n",
      "[1]\tvalidation-error:0.090909\n",
      "[2]\tvalidation-error:0.076923\n",
      "[3]\tvalidation-error:0.076923\n",
      "[4]\tvalidation-error:0.062937\n",
      "[5]\tvalidation-error:0.062937\n",
      "[6]\tvalidation-error:0.048951\n",
      "[7]\tvalidation-error:0.041958\n"
     ]
    },
    {
     "name": "stderr",
     "output_type": "stream",
     "text": [
      "[I 2018-12-05 03:57:30,616] Setting trial status as TrialState.PRUNED. Trial was pruned at iteration 8.\n"
     ]
    },
    {
     "name": "stdout",
     "output_type": "stream",
     "text": [
      "[0]\tvalidation-error:0.048951\n",
      "[1]\tvalidation-error:0.048951\n",
      "[2]\tvalidation-error:0.048951\n",
      "[3]\tvalidation-error:0.041958\n",
      "[4]\tvalidation-error:0.048951\n",
      "[5]\tvalidation-error:0.048951\n"
     ]
    },
    {
     "name": "stderr",
     "output_type": "stream",
     "text": [
      "[I 2018-12-05 03:57:30,655] Finished a trial resulted in value: 0.04895104895104896. Current best value is 0.013986013986013957 with parameters: {'n_round': 9, 'booster': 'dart', 'lambda': 0.026047313347139816, 'alpha': 7.88394249425758e-07, 'max_depth': 9, 'eta': 0.00013609586584108728, 'gamma': 0.013765350901623459, 'grow_policy': 'depthwise', 'sample_type': 'uniform', 'normalize_type': 'tree', 'rate_drop': 8.326865238773264e-08, 'skip_drop': 0.46866578470656534}.\n"
     ]
    },
    {
     "name": "stdout",
     "output_type": "stream",
     "text": [
      "[0]\tvalidation-error:0.097902\n",
      "[1]\tvalidation-error:0.076923\n",
      "[2]\tvalidation-error:0.06993\n",
      "[3]\tvalidation-error:0.076923\n"
     ]
    },
    {
     "name": "stderr",
     "output_type": "stream",
     "text": [
      "[I 2018-12-05 03:57:30,678] Finished a trial resulted in value: 0.07692307692307687. Current best value is 0.013986013986013957 with parameters: {'n_round': 9, 'booster': 'dart', 'lambda': 0.026047313347139816, 'alpha': 7.88394249425758e-07, 'max_depth': 9, 'eta': 0.00013609586584108728, 'gamma': 0.013765350901623459, 'grow_policy': 'depthwise', 'sample_type': 'uniform', 'normalize_type': 'tree', 'rate_drop': 8.326865238773264e-08, 'skip_drop': 0.46866578470656534}.\n"
     ]
    },
    {
     "name": "stdout",
     "output_type": "stream",
     "text": [
      "[0]\tvalidation-error:0.041958\n",
      "[1]\tvalidation-error:0.034965\n",
      "[2]\tvalidation-error:0.034965\n",
      "[3]\tvalidation-error:0.034965\n",
      "[4]\tvalidation-error:0.034965\n",
      "[5]\tvalidation-error:0.034965\n",
      "[6]\tvalidation-error:0.041958\n",
      "[7]\tvalidation-error:0.027972\n",
      "[8]\tvalidation-error:0.020979\n"
     ]
    },
    {
     "name": "stderr",
     "output_type": "stream",
     "text": [
      "[I 2018-12-05 03:57:30,725] Finished a trial resulted in value: 0.020979020979020935. Current best value is 0.013986013986013957 with parameters: {'n_round': 9, 'booster': 'dart', 'lambda': 0.026047313347139816, 'alpha': 7.88394249425758e-07, 'max_depth': 9, 'eta': 0.00013609586584108728, 'gamma': 0.013765350901623459, 'grow_policy': 'depthwise', 'sample_type': 'uniform', 'normalize_type': 'tree', 'rate_drop': 8.326865238773264e-08, 'skip_drop': 0.46866578470656534}.\n"
     ]
    },
    {
     "name": "stdout",
     "output_type": "stream",
     "text": [
      "[0]\tvalidation-error:0.090909\n",
      "[1]\tvalidation-error:0.083916\n",
      "[2]\tvalidation-error:0.055944\n",
      "[3]\tvalidation-error:0.048951\n",
      "[4]\tvalidation-error:0.055944\n",
      "[5]\tvalidation-error:0.048951\n"
     ]
    },
    {
     "name": "stderr",
     "output_type": "stream",
     "text": [
      "[I 2018-12-05 03:57:30,765] Finished a trial resulted in value: 0.04895104895104896. Current best value is 0.013986013986013957 with parameters: {'n_round': 9, 'booster': 'dart', 'lambda': 0.026047313347139816, 'alpha': 7.88394249425758e-07, 'max_depth': 9, 'eta': 0.00013609586584108728, 'gamma': 0.013765350901623459, 'grow_policy': 'depthwise', 'sample_type': 'uniform', 'normalize_type': 'tree', 'rate_drop': 8.326865238773264e-08, 'skip_drop': 0.46866578470656534}.\n"
     ]
    },
    {
     "name": "stdout",
     "output_type": "stream",
     "text": [
      "[0]\tvalidation-error:0.041958\n",
      "[1]\tvalidation-error:0.041958\n",
      "[2]\tvalidation-error:0.041958\n",
      "[3]\tvalidation-error:0.041958\n",
      "[4]\tvalidation-error:0.041958\n",
      "[5]\tvalidation-error:0.041958\n",
      "[6]\tvalidation-error:0.041958\n"
     ]
    },
    {
     "name": "stderr",
     "output_type": "stream",
     "text": [
      "[I 2018-12-05 03:57:30,812] Setting trial status as TrialState.PRUNED. Trial was pruned at iteration 7.\n"
     ]
    },
    {
     "name": "stdout",
     "output_type": "stream",
     "text": [
      "[0]\tvalidation-error:0.062937\n",
      "[1]\tvalidation-error:0.06993\n",
      "[2]\tvalidation-error:0.048951\n",
      "[3]\tvalidation-error:0.048951\n",
      "[4]\tvalidation-error:0.048951\n",
      "[5]\tvalidation-error:0.048951\n"
     ]
    },
    {
     "name": "stderr",
     "output_type": "stream",
     "text": [
      "[I 2018-12-05 03:57:30,849] Setting trial status as TrialState.PRUNED. Trial was pruned at iteration 6.\n"
     ]
    },
    {
     "name": "stdout",
     "output_type": "stream",
     "text": [
      "[0]\tvalidation-error:0.076923\n",
      "[1]\tvalidation-error:0.055944\n",
      "[2]\tvalidation-error:0.027972\n",
      "[3]\tvalidation-error:0.041958\n",
      "[4]\tvalidation-error:0.034965\n",
      "[5]\tvalidation-error:0.048951\n",
      "[6]\tvalidation-error:0.034965\n",
      "[7]\tvalidation-error:0.041958\n"
     ]
    },
    {
     "name": "stderr",
     "output_type": "stream",
     "text": [
      "[I 2018-12-05 03:57:30,899] Setting trial status as TrialState.PRUNED. Trial was pruned at iteration 8.\n"
     ]
    },
    {
     "name": "stdout",
     "output_type": "stream",
     "text": [
      "[0]\tvalidation-error:0.041958\n",
      "[1]\tvalidation-error:0.027972\n",
      "[2]\tvalidation-error:0.034965\n",
      "[3]\tvalidation-error:0.041958\n",
      "[4]\tvalidation-error:0.041958\n",
      "[5]\tvalidation-error:0.027972\n",
      "[6]\tvalidation-error:0.027972\n",
      "[7]\tvalidation-error:0.027972\n"
     ]
    },
    {
     "name": "stderr",
     "output_type": "stream",
     "text": [
      "[I 2018-12-05 03:57:30,954] Setting trial status as TrialState.PRUNED. Trial was pruned at iteration 8.\n"
     ]
    },
    {
     "name": "stdout",
     "output_type": "stream",
     "text": [
      "[0]\tvalidation-error:0.055944\n",
      "[1]\tvalidation-error:0.034965\n",
      "[2]\tvalidation-error:0.027972\n",
      "[3]\tvalidation-error:0.055944\n",
      "[4]\tvalidation-error:0.034965\n",
      "[5]\tvalidation-error:0.048951\n",
      "[6]\tvalidation-error:0.055944\n",
      "[7]\tvalidation-error:0.048951\n"
     ]
    },
    {
     "name": "stderr",
     "output_type": "stream",
     "text": [
      "[I 2018-12-05 03:57:31,005] Setting trial status as TrialState.PRUNED. Trial was pruned at iteration 8.\n"
     ]
    },
    {
     "name": "stdout",
     "output_type": "stream",
     "text": [
      "[0]\tvalidation-error:0.041958\n",
      "[1]\tvalidation-error:0.034965\n",
      "[2]\tvalidation-error:0.048951\n",
      "[3]\tvalidation-error:0.048951\n",
      "[4]\tvalidation-error:0.041958\n",
      "[5]\tvalidation-error:0.027972\n",
      "[6]\tvalidation-error:0.027972\n",
      "[7]\tvalidation-error:0.020979\n",
      "[8]\tvalidation-error:0.020979\n"
     ]
    },
    {
     "name": "stderr",
     "output_type": "stream",
     "text": [
      "[I 2018-12-05 03:57:31,064] Finished a trial resulted in value: 0.020979020979020935. Current best value is 0.013986013986013957 with parameters: {'n_round': 9, 'booster': 'dart', 'lambda': 0.026047313347139816, 'alpha': 7.88394249425758e-07, 'max_depth': 9, 'eta': 0.00013609586584108728, 'gamma': 0.013765350901623459, 'grow_policy': 'depthwise', 'sample_type': 'uniform', 'normalize_type': 'tree', 'rate_drop': 8.326865238773264e-08, 'skip_drop': 0.46866578470656534}.\n"
     ]
    },
    {
     "name": "stdout",
     "output_type": "stream",
     "text": [
      "[0]\tvalidation-error:0.034965\n",
      "[1]\tvalidation-error:0.034965\n",
      "[2]\tvalidation-error:0.027972\n",
      "[3]\tvalidation-error:0.020979\n",
      "[4]\tvalidation-error:0.020979\n",
      "[5]\tvalidation-error:0.020979\n",
      "[6]\tvalidation-error:0.020979\n",
      "[7]\tvalidation-error:0.020979\n",
      "[8]\tvalidation-error:0.020979\n"
     ]
    },
    {
     "name": "stderr",
     "output_type": "stream",
     "text": [
      "[I 2018-12-05 03:57:31,123] Finished a trial resulted in value: 0.020979020979020935. Current best value is 0.013986013986013957 with parameters: {'n_round': 9, 'booster': 'dart', 'lambda': 0.026047313347139816, 'alpha': 7.88394249425758e-07, 'max_depth': 9, 'eta': 0.00013609586584108728, 'gamma': 0.013765350901623459, 'grow_policy': 'depthwise', 'sample_type': 'uniform', 'normalize_type': 'tree', 'rate_drop': 8.326865238773264e-08, 'skip_drop': 0.46866578470656534}.\n"
     ]
    },
    {
     "name": "stdout",
     "output_type": "stream",
     "text": [
      "[0]\tvalidation-error:0.174825\n",
      "[1]\tvalidation-error:0.174825\n",
      "[2]\tvalidation-error:0.13986\n",
      "[3]\tvalidation-error:0.13986\n",
      "[4]\tvalidation-error:0.132867\n",
      "[5]\tvalidation-error:0.132867\n"
     ]
    },
    {
     "name": "stderr",
     "output_type": "stream",
     "text": [
      "[I 2018-12-05 03:57:31,155] Setting trial status as TrialState.PRUNED. Trial was pruned at iteration 6.\n"
     ]
    },
    {
     "name": "stdout",
     "output_type": "stream",
     "text": [
      "[0]\tvalidation-error:0.097902\n",
      "[1]\tvalidation-error:0.090909\n",
      "[2]\tvalidation-error:0.097902\n",
      "[3]\tvalidation-error:0.090909\n",
      "[4]\tvalidation-error:0.090909\n",
      "[5]\tvalidation-error:0.083916\n"
     ]
    },
    {
     "name": "stderr",
     "output_type": "stream",
     "text": [
      "[I 2018-12-05 03:57:31,189] Setting trial status as TrialState.PRUNED. Trial was pruned at iteration 6.\n"
     ]
    },
    {
     "name": "stdout",
     "output_type": "stream",
     "text": [
      "[0]\tvalidation-error:0.132867\n",
      "[1]\tvalidation-error:0.104895\n",
      "[2]\tvalidation-error:0.104895\n",
      "[3]\tvalidation-error:0.104895\n",
      "[4]\tvalidation-error:0.104895\n",
      "[5]\tvalidation-error:0.118881\n"
     ]
    },
    {
     "name": "stderr",
     "output_type": "stream",
     "text": [
      "[I 2018-12-05 03:57:31,225] Setting trial status as TrialState.PRUNED. Trial was pruned at iteration 6.\n"
     ]
    },
    {
     "name": "stdout",
     "output_type": "stream",
     "text": [
      "[0]\tvalidation-error:0.125874\n",
      "[1]\tvalidation-error:0.153846\n",
      "[2]\tvalidation-error:0.153846\n",
      "[3]\tvalidation-error:0.13986\n",
      "[4]\tvalidation-error:0.13986\n",
      "[5]\tvalidation-error:0.13986\n"
     ]
    },
    {
     "name": "stderr",
     "output_type": "stream",
     "text": [
      "[I 2018-12-05 03:57:31,262] Setting trial status as TrialState.PRUNED. Trial was pruned at iteration 6.\n"
     ]
    },
    {
     "name": "stdout",
     "output_type": "stream",
     "text": [
      "[0]\tvalidation-error:0.132867\n",
      "[1]\tvalidation-error:0.125874\n",
      "[2]\tvalidation-error:0.118881\n",
      "[3]\tvalidation-error:0.104895\n",
      "[4]\tvalidation-error:0.104895\n",
      "[5]\tvalidation-error:0.104895\n"
     ]
    },
    {
     "name": "stderr",
     "output_type": "stream",
     "text": [
      "[I 2018-12-05 03:57:31,299] Setting trial status as TrialState.PRUNED. Trial was pruned at iteration 6.\n"
     ]
    },
    {
     "name": "stdout",
     "output_type": "stream",
     "text": [
      "[0]\tvalidation-error:0.111888\n",
      "[1]\tvalidation-error:0.104895\n",
      "[2]\tvalidation-error:0.097902\n",
      "[3]\tvalidation-error:0.097902\n",
      "[4]\tvalidation-error:0.104895\n",
      "[5]\tvalidation-error:0.104895\n"
     ]
    },
    {
     "name": "stderr",
     "output_type": "stream",
     "text": [
      "[I 2018-12-05 03:57:31,335] Setting trial status as TrialState.PRUNED. Trial was pruned at iteration 6.\n"
     ]
    },
    {
     "name": "stdout",
     "output_type": "stream",
     "text": [
      "[0]\tvalidation-error:0.132867\n",
      "[1]\tvalidation-error:0.118881\n",
      "[2]\tvalidation-error:0.118881\n",
      "[3]\tvalidation-error:0.118881\n",
      "[4]\tvalidation-error:0.118881\n",
      "[5]\tvalidation-error:0.118881\n"
     ]
    },
    {
     "name": "stderr",
     "output_type": "stream",
     "text": [
      "[I 2018-12-05 03:57:31,372] Setting trial status as TrialState.PRUNED. Trial was pruned at iteration 6.\n"
     ]
    },
    {
     "name": "stdout",
     "output_type": "stream",
     "text": [
      "[0]\tvalidation-error:0.174825\n",
      "[1]\tvalidation-error:0.167832\n",
      "[2]\tvalidation-error:0.181818\n",
      "[3]\tvalidation-error:0.174825\n",
      "[4]\tvalidation-error:0.174825\n",
      "[5]\tvalidation-error:0.174825\n"
     ]
    },
    {
     "name": "stderr",
     "output_type": "stream",
     "text": [
      "[I 2018-12-05 03:57:31,411] Setting trial status as TrialState.PRUNED. Trial was pruned at iteration 6.\n"
     ]
    },
    {
     "name": "stdout",
     "output_type": "stream",
     "text": [
      "[0]\tvalidation-error:0.118881\n",
      "[1]\tvalidation-error:0.118881\n",
      "[2]\tvalidation-error:0.118881\n",
      "[3]\tvalidation-error:0.111888\n",
      "[4]\tvalidation-error:0.104895\n",
      "[5]\tvalidation-error:0.104895\n"
     ]
    },
    {
     "name": "stderr",
     "output_type": "stream",
     "text": [
      "[I 2018-12-05 03:57:31,449] Setting trial status as TrialState.PRUNED. Trial was pruned at iteration 6.\n"
     ]
    },
    {
     "name": "stdout",
     "output_type": "stream",
     "text": [
      "[0]\tvalidation-error:0.167832\n",
      "[1]\tvalidation-error:0.153846\n",
      "[2]\tvalidation-error:0.146853\n",
      "[3]\tvalidation-error:0.132867\n",
      "[4]\tvalidation-error:0.132867\n",
      "[5]\tvalidation-error:0.132867\n"
     ]
    },
    {
     "name": "stderr",
     "output_type": "stream",
     "text": [
      "[I 2018-12-05 03:57:31,488] Setting trial status as TrialState.PRUNED. Trial was pruned at iteration 6.\n"
     ]
    },
    {
     "name": "stdout",
     "output_type": "stream",
     "text": [
      "[0]\tvalidation-error:0.153846\n",
      "[1]\tvalidation-error:0.13986\n",
      "[2]\tvalidation-error:0.146853\n",
      "[3]\tvalidation-error:0.13986\n",
      "[4]\tvalidation-error:0.125874\n",
      "[5]\tvalidation-error:0.125874\n"
     ]
    },
    {
     "name": "stderr",
     "output_type": "stream",
     "text": [
      "[I 2018-12-05 03:57:31,528] Setting trial status as TrialState.PRUNED. Trial was pruned at iteration 6.\n"
     ]
    },
    {
     "name": "stdout",
     "output_type": "stream",
     "text": [
      "[0]\tvalidation-error:0.125874\n",
      "[1]\tvalidation-error:0.111888\n",
      "[2]\tvalidation-error:0.111888\n",
      "[3]\tvalidation-error:0.111888\n",
      "[4]\tvalidation-error:0.111888\n",
      "[5]\tvalidation-error:0.118881\n"
     ]
    },
    {
     "name": "stderr",
     "output_type": "stream",
     "text": [
      "[I 2018-12-05 03:57:31,565] Setting trial status as TrialState.PRUNED. Trial was pruned at iteration 6.\n"
     ]
    },
    {
     "name": "stdout",
     "output_type": "stream",
     "text": [
      "[0]\tvalidation-error:0.132867\n",
      "[1]\tvalidation-error:0.104895\n",
      "[2]\tvalidation-error:0.118881\n",
      "[3]\tvalidation-error:0.118881\n",
      "[4]\tvalidation-error:0.104895\n",
      "[5]\tvalidation-error:0.104895\n"
     ]
    },
    {
     "name": "stderr",
     "output_type": "stream",
     "text": [
      "[I 2018-12-05 03:57:31,606] Setting trial status as TrialState.PRUNED. Trial was pruned at iteration 6.\n"
     ]
    },
    {
     "name": "stdout",
     "output_type": "stream",
     "text": [
      "[0]\tvalidation-error:0.153846\n",
      "[1]\tvalidation-error:0.153846\n",
      "[2]\tvalidation-error:0.146853\n",
      "[3]\tvalidation-error:0.13986\n",
      "[4]\tvalidation-error:0.132867\n",
      "[5]\tvalidation-error:0.132867\n"
     ]
    },
    {
     "name": "stderr",
     "output_type": "stream",
     "text": [
      "[I 2018-12-05 03:57:31,651] Setting trial status as TrialState.PRUNED. Trial was pruned at iteration 6.\n"
     ]
    },
    {
     "name": "stdout",
     "output_type": "stream",
     "text": [
      "[0]\tvalidation-error:0.132867\n",
      "[1]\tvalidation-error:0.118881\n",
      "[2]\tvalidation-error:0.118881\n",
      "[3]\tvalidation-error:0.111888\n",
      "[4]\tvalidation-error:0.104895\n",
      "[5]\tvalidation-error:0.104895\n"
     ]
    },
    {
     "name": "stderr",
     "output_type": "stream",
     "text": [
      "[I 2018-12-05 03:57:31,693] Setting trial status as TrialState.PRUNED. Trial was pruned at iteration 6.\n"
     ]
    },
    {
     "name": "stdout",
     "output_type": "stream",
     "text": [
      "[0]\tvalidation-error:0.097902\n",
      "[1]\tvalidation-error:0.090909\n",
      "[2]\tvalidation-error:0.090909\n",
      "[3]\tvalidation-error:0.083916\n",
      "[4]\tvalidation-error:0.083916\n",
      "[5]\tvalidation-error:0.083916\n"
     ]
    },
    {
     "name": "stderr",
     "output_type": "stream",
     "text": [
      "[I 2018-12-05 03:57:31,737] Setting trial status as TrialState.PRUNED. Trial was pruned at iteration 6.\n"
     ]
    },
    {
     "name": "stdout",
     "output_type": "stream",
     "text": [
      "[0]\tvalidation-error:0.111888\n",
      "[1]\tvalidation-error:0.104895\n",
      "[2]\tvalidation-error:0.097902\n",
      "[3]\tvalidation-error:0.097902\n",
      "[4]\tvalidation-error:0.083916\n",
      "[5]\tvalidation-error:0.083916\n"
     ]
    },
    {
     "name": "stderr",
     "output_type": "stream",
     "text": [
      "[I 2018-12-05 03:57:31,779] Setting trial status as TrialState.PRUNED. Trial was pruned at iteration 6.\n"
     ]
    },
    {
     "name": "stdout",
     "output_type": "stream",
     "text": [
      "[0]\tvalidation-error:0.125874\n",
      "[1]\tvalidation-error:0.125874\n",
      "[2]\tvalidation-error:0.125874\n",
      "[3]\tvalidation-error:0.111888\n",
      "[4]\tvalidation-error:0.111888\n",
      "[5]\tvalidation-error:0.104895\n"
     ]
    },
    {
     "name": "stderr",
     "output_type": "stream",
     "text": [
      "[I 2018-12-05 03:57:31,819] Setting trial status as TrialState.PRUNED. Trial was pruned at iteration 6.\n"
     ]
    },
    {
     "name": "stdout",
     "output_type": "stream",
     "text": [
      "[0]\tvalidation-error:0.111888\n",
      "[1]\tvalidation-error:0.097902\n",
      "[2]\tvalidation-error:0.111888\n",
      "[3]\tvalidation-error:0.111888\n",
      "[4]\tvalidation-error:0.104895\n",
      "[5]\tvalidation-error:0.104895\n"
     ]
    },
    {
     "name": "stderr",
     "output_type": "stream",
     "text": [
      "[I 2018-12-05 03:57:31,865] Setting trial status as TrialState.PRUNED. Trial was pruned at iteration 6.\n"
     ]
    },
    {
     "name": "stdout",
     "output_type": "stream",
     "text": [
      "[0]\tvalidation-error:0.125874\n",
      "[1]\tvalidation-error:0.097902\n",
      "[2]\tvalidation-error:0.104895\n",
      "[3]\tvalidation-error:0.097902\n",
      "[4]\tvalidation-error:0.097902\n",
      "[5]\tvalidation-error:0.097902\n"
     ]
    },
    {
     "name": "stderr",
     "output_type": "stream",
     "text": [
      "[I 2018-12-05 03:57:31,905] Setting trial status as TrialState.PRUNED. Trial was pruned at iteration 6.\n"
     ]
    },
    {
     "name": "stdout",
     "output_type": "stream",
     "text": [
      "[0]\tvalidation-error:0.132867\n",
      "[1]\tvalidation-error:0.125874\n",
      "[2]\tvalidation-error:0.125874\n",
      "[3]\tvalidation-error:0.125874\n",
      "[4]\tvalidation-error:0.125874\n",
      "[5]\tvalidation-error:0.125874\n"
     ]
    },
    {
     "name": "stderr",
     "output_type": "stream",
     "text": [
      "[I 2018-12-05 03:57:31,950] Setting trial status as TrialState.PRUNED. Trial was pruned at iteration 6.\n"
     ]
    },
    {
     "name": "stdout",
     "output_type": "stream",
     "text": [
      "[0]\tvalidation-error:0.146853\n",
      "[1]\tvalidation-error:0.153846\n",
      "[2]\tvalidation-error:0.160839\n",
      "[3]\tvalidation-error:0.153846\n",
      "[4]\tvalidation-error:0.146853\n",
      "[5]\tvalidation-error:0.146853\n"
     ]
    },
    {
     "name": "stderr",
     "output_type": "stream",
     "text": [
      "[I 2018-12-05 03:57:31,998] Setting trial status as TrialState.PRUNED. Trial was pruned at iteration 6.\n"
     ]
    },
    {
     "name": "stdout",
     "output_type": "stream",
     "text": [
      "[0]\tvalidation-error:0.167832\n",
      "[1]\tvalidation-error:0.153846\n",
      "[2]\tvalidation-error:0.153846\n",
      "[3]\tvalidation-error:0.146853\n",
      "[4]\tvalidation-error:0.13986\n",
      "[5]\tvalidation-error:0.132867\n"
     ]
    },
    {
     "name": "stderr",
     "output_type": "stream",
     "text": [
      "[I 2018-12-05 03:57:32,044] Setting trial status as TrialState.PRUNED. Trial was pruned at iteration 6.\n"
     ]
    },
    {
     "name": "stdout",
     "output_type": "stream",
     "text": [
      "[0]\tvalidation-error:0.167832\n",
      "[1]\tvalidation-error:0.167832\n",
      "[2]\tvalidation-error:0.167832\n",
      "[3]\tvalidation-error:0.167832\n",
      "[4]\tvalidation-error:0.167832\n",
      "[5]\tvalidation-error:0.160839\n"
     ]
    },
    {
     "name": "stderr",
     "output_type": "stream",
     "text": [
      "[I 2018-12-05 03:57:32,087] Setting trial status as TrialState.PRUNED. Trial was pruned at iteration 6.\n"
     ]
    },
    {
     "name": "stdout",
     "output_type": "stream",
     "text": [
      "[0]\tvalidation-error:0.125874\n",
      "[1]\tvalidation-error:0.132867\n",
      "[2]\tvalidation-error:0.132867\n",
      "[3]\tvalidation-error:0.132867\n",
      "[4]\tvalidation-error:0.132867\n",
      "[5]\tvalidation-error:0.132867\n"
     ]
    },
    {
     "name": "stderr",
     "output_type": "stream",
     "text": [
      "[I 2018-12-05 03:57:32,137] Setting trial status as TrialState.PRUNED. Trial was pruned at iteration 6.\n"
     ]
    },
    {
     "name": "stdout",
     "output_type": "stream",
     "text": [
      "[0]\tvalidation-error:0.195804\n",
      "[1]\tvalidation-error:0.174825\n",
      "[2]\tvalidation-error:0.153846\n",
      "[3]\tvalidation-error:0.160839\n",
      "[4]\tvalidation-error:0.153846\n",
      "[5]\tvalidation-error:0.153846\n"
     ]
    },
    {
     "name": "stderr",
     "output_type": "stream",
     "text": [
      "[I 2018-12-05 03:57:32,187] Setting trial status as TrialState.PRUNED. Trial was pruned at iteration 6.\n"
     ]
    },
    {
     "name": "stdout",
     "output_type": "stream",
     "text": [
      "[0]\tvalidation-error:0.167832\n",
      "[1]\tvalidation-error:0.174825\n",
      "[2]\tvalidation-error:0.167832\n",
      "[3]\tvalidation-error:0.167832\n",
      "[4]\tvalidation-error:0.167832\n",
      "[5]\tvalidation-error:0.167832\n"
     ]
    },
    {
     "name": "stderr",
     "output_type": "stream",
     "text": [
      "[I 2018-12-05 03:57:32,235] Setting trial status as TrialState.PRUNED. Trial was pruned at iteration 6.\n"
     ]
    },
    {
     "name": "stdout",
     "output_type": "stream",
     "text": [
      "[0]\tvalidation-error:0.167832\n",
      "[1]\tvalidation-error:0.146853\n",
      "[2]\tvalidation-error:0.13986\n",
      "[3]\tvalidation-error:0.13986\n",
      "[4]\tvalidation-error:0.146853\n",
      "[5]\tvalidation-error:0.13986\n"
     ]
    },
    {
     "name": "stderr",
     "output_type": "stream",
     "text": [
      "[I 2018-12-05 03:57:32,285] Setting trial status as TrialState.PRUNED. Trial was pruned at iteration 6.\n"
     ]
    },
    {
     "name": "stdout",
     "output_type": "stream",
     "text": [
      "[0]\tvalidation-error:0.202797\n",
      "[1]\tvalidation-error:0.181818\n",
      "[2]\tvalidation-error:0.174825\n",
      "[3]\tvalidation-error:0.167832\n",
      "[4]\tvalidation-error:0.167832\n",
      "[5]\tvalidation-error:0.167832\n"
     ]
    },
    {
     "name": "stderr",
     "output_type": "stream",
     "text": [
      "[I 2018-12-05 03:57:32,335] Setting trial status as TrialState.PRUNED. Trial was pruned at iteration 6.\n"
     ]
    },
    {
     "name": "stdout",
     "output_type": "stream",
     "text": [
      "[0]\tvalidation-error:0.167832\n",
      "[1]\tvalidation-error:0.132867\n",
      "[2]\tvalidation-error:0.125874\n",
      "[3]\tvalidation-error:0.118881\n",
      "[4]\tvalidation-error:0.118881\n",
      "[5]\tvalidation-error:0.118881\n"
     ]
    },
    {
     "name": "stderr",
     "output_type": "stream",
     "text": [
      "[I 2018-12-05 03:57:32,384] Setting trial status as TrialState.PRUNED. Trial was pruned at iteration 6.\n"
     ]
    },
    {
     "name": "stdout",
     "output_type": "stream",
     "text": [
      "[0]\tvalidation-error:0.195804\n",
      "[1]\tvalidation-error:0.181818\n",
      "[2]\tvalidation-error:0.174825\n",
      "[3]\tvalidation-error:0.174825\n",
      "[4]\tvalidation-error:0.167832\n",
      "[5]\tvalidation-error:0.167832\n"
     ]
    },
    {
     "name": "stderr",
     "output_type": "stream",
     "text": [
      "[I 2018-12-05 03:57:32,436] Setting trial status as TrialState.PRUNED. Trial was pruned at iteration 6.\n"
     ]
    },
    {
     "name": "stdout",
     "output_type": "stream",
     "text": [
      "[0]\tvalidation-error:0.188811\n",
      "[1]\tvalidation-error:0.181818\n",
      "[2]\tvalidation-error:0.174825\n",
      "[3]\tvalidation-error:0.167832\n",
      "[4]\tvalidation-error:0.167832\n",
      "[5]\tvalidation-error:0.174825\n"
     ]
    },
    {
     "name": "stderr",
     "output_type": "stream",
     "text": [
      "[I 2018-12-05 03:57:32,487] Setting trial status as TrialState.PRUNED. Trial was pruned at iteration 6.\n"
     ]
    },
    {
     "name": "stdout",
     "output_type": "stream",
     "text": [
      "[0]\tvalidation-error:0.174825\n",
      "[1]\tvalidation-error:0.13986\n",
      "[2]\tvalidation-error:0.13986\n",
      "[3]\tvalidation-error:0.13986\n",
      "[4]\tvalidation-error:0.125874\n",
      "[5]\tvalidation-error:0.118881\n"
     ]
    },
    {
     "name": "stderr",
     "output_type": "stream",
     "text": [
      "[I 2018-12-05 03:57:32,537] Setting trial status as TrialState.PRUNED. Trial was pruned at iteration 6.\n"
     ]
    },
    {
     "name": "stdout",
     "output_type": "stream",
     "text": [
      "[0]\tvalidation-error:0.146853\n",
      "[1]\tvalidation-error:0.097902\n",
      "[2]\tvalidation-error:0.090909\n",
      "[3]\tvalidation-error:0.090909\n",
      "[4]\tvalidation-error:0.083916\n",
      "[5]\tvalidation-error:0.083916\n"
     ]
    },
    {
     "name": "stderr",
     "output_type": "stream",
     "text": [
      "[I 2018-12-05 03:57:32,587] Setting trial status as TrialState.PRUNED. Trial was pruned at iteration 6.\n"
     ]
    },
    {
     "name": "stdout",
     "output_type": "stream",
     "text": [
      "[0]\tvalidation-error:0.125874\n",
      "[1]\tvalidation-error:0.111888\n",
      "[2]\tvalidation-error:0.118881\n",
      "[3]\tvalidation-error:0.118881\n",
      "[4]\tvalidation-error:0.111888\n",
      "[5]\tvalidation-error:0.111888\n"
     ]
    },
    {
     "name": "stderr",
     "output_type": "stream",
     "text": [
      "[I 2018-12-05 03:57:32,636] Setting trial status as TrialState.PRUNED. Trial was pruned at iteration 6.\n"
     ]
    },
    {
     "name": "stdout",
     "output_type": "stream",
     "text": [
      "[0]\tvalidation-error:0.153846\n",
      "[1]\tvalidation-error:0.118881\n",
      "[2]\tvalidation-error:0.111888\n",
      "[3]\tvalidation-error:0.097902\n",
      "[4]\tvalidation-error:0.090909\n",
      "[5]\tvalidation-error:0.097902\n"
     ]
    },
    {
     "name": "stderr",
     "output_type": "stream",
     "text": [
      "[I 2018-12-05 03:57:32,687] Setting trial status as TrialState.PRUNED. Trial was pruned at iteration 6.\n"
     ]
    },
    {
     "name": "stdout",
     "output_type": "stream",
     "text": [
      "[0]\tvalidation-error:0.132867\n",
      "[1]\tvalidation-error:0.125874\n",
      "[2]\tvalidation-error:0.132867\n",
      "[3]\tvalidation-error:0.125874\n",
      "[4]\tvalidation-error:0.111888\n",
      "[5]\tvalidation-error:0.111888\n"
     ]
    },
    {
     "name": "stderr",
     "output_type": "stream",
     "text": [
      "[I 2018-12-05 03:57:32,738] Setting trial status as TrialState.PRUNED. Trial was pruned at iteration 6.\n"
     ]
    },
    {
     "name": "stdout",
     "output_type": "stream",
     "text": [
      "[0]\tvalidation-error:0.181818\n",
      "[1]\tvalidation-error:0.181818\n",
      "[2]\tvalidation-error:0.174825\n",
      "[3]\tvalidation-error:0.174825\n",
      "[4]\tvalidation-error:0.174825\n",
      "[5]\tvalidation-error:0.174825\n"
     ]
    },
    {
     "name": "stderr",
     "output_type": "stream",
     "text": [
      "[I 2018-12-05 03:57:32,789] Setting trial status as TrialState.PRUNED. Trial was pruned at iteration 6.\n"
     ]
    },
    {
     "name": "stdout",
     "output_type": "stream",
     "text": [
      "[0]\tvalidation-error:0.118881\n",
      "[1]\tvalidation-error:0.118881\n",
      "[2]\tvalidation-error:0.111888\n",
      "[3]\tvalidation-error:0.097902\n",
      "[4]\tvalidation-error:0.104895\n",
      "[5]\tvalidation-error:0.104895\n"
     ]
    },
    {
     "name": "stderr",
     "output_type": "stream",
     "text": [
      "[I 2018-12-05 03:57:32,839] Setting trial status as TrialState.PRUNED. Trial was pruned at iteration 6.\n"
     ]
    },
    {
     "name": "stdout",
     "output_type": "stream",
     "text": [
      "[0]\tvalidation-error:0.167832\n",
      "[1]\tvalidation-error:0.146853\n",
      "[2]\tvalidation-error:0.132867\n",
      "[3]\tvalidation-error:0.125874\n",
      "[4]\tvalidation-error:0.125874\n",
      "[5]\tvalidation-error:0.125874\n"
     ]
    },
    {
     "name": "stderr",
     "output_type": "stream",
     "text": [
      "[I 2018-12-05 03:57:32,891] Setting trial status as TrialState.PRUNED. Trial was pruned at iteration 6.\n"
     ]
    },
    {
     "name": "stdout",
     "output_type": "stream",
     "text": [
      "[0]\tvalidation-error:0.13986\n",
      "[1]\tvalidation-error:0.132867\n",
      "[2]\tvalidation-error:0.13986\n",
      "[3]\tvalidation-error:0.146853\n",
      "[4]\tvalidation-error:0.146853\n",
      "[5]\tvalidation-error:0.146853\n"
     ]
    },
    {
     "name": "stderr",
     "output_type": "stream",
     "text": [
      "[I 2018-12-05 03:57:32,945] Setting trial status as TrialState.PRUNED. Trial was pruned at iteration 6.\n"
     ]
    },
    {
     "name": "stdout",
     "output_type": "stream",
     "text": [
      "[0]\tvalidation-error:0.097902\n",
      "[1]\tvalidation-error:0.083916\n",
      "[2]\tvalidation-error:0.076923\n",
      "[3]\tvalidation-error:0.076923\n",
      "[4]\tvalidation-error:0.076923\n",
      "[5]\tvalidation-error:0.076923\n"
     ]
    },
    {
     "name": "stderr",
     "output_type": "stream",
     "text": [
      "[I 2018-12-05 03:57:32,999] Setting trial status as TrialState.PRUNED. Trial was pruned at iteration 6.\n"
     ]
    },
    {
     "name": "stdout",
     "output_type": "stream",
     "text": [
      "[0]\tvalidation-error:0.153846\n",
      "[1]\tvalidation-error:0.153846\n",
      "[2]\tvalidation-error:0.160839\n",
      "[3]\tvalidation-error:0.153846\n",
      "[4]\tvalidation-error:0.146853\n",
      "[5]\tvalidation-error:0.146853\n"
     ]
    },
    {
     "name": "stderr",
     "output_type": "stream",
     "text": [
      "[I 2018-12-05 03:57:33,053] Setting trial status as TrialState.PRUNED. Trial was pruned at iteration 6.\n"
     ]
    },
    {
     "name": "stdout",
     "output_type": "stream",
     "text": [
      "[0]\tvalidation-error:0.118881\n",
      "[1]\tvalidation-error:0.125874\n",
      "[2]\tvalidation-error:0.118881\n",
      "[3]\tvalidation-error:0.118881\n",
      "[4]\tvalidation-error:0.118881\n",
      "[5]\tvalidation-error:0.118881\n"
     ]
    },
    {
     "name": "stderr",
     "output_type": "stream",
     "text": [
      "[I 2018-12-05 03:57:33,110] Setting trial status as TrialState.PRUNED. Trial was pruned at iteration 6.\n"
     ]
    },
    {
     "name": "stdout",
     "output_type": "stream",
     "text": [
      "[0]\tvalidation-error:0.13986\n",
      "[1]\tvalidation-error:0.146853\n",
      "[2]\tvalidation-error:0.146853\n",
      "[3]\tvalidation-error:0.13986\n",
      "[4]\tvalidation-error:0.13986\n",
      "[5]\tvalidation-error:0.13986\n"
     ]
    },
    {
     "name": "stderr",
     "output_type": "stream",
     "text": [
      "[I 2018-12-05 03:57:33,167] Setting trial status as TrialState.PRUNED. Trial was pruned at iteration 6.\n"
     ]
    },
    {
     "name": "stdout",
     "output_type": "stream",
     "text": [
      "[0]\tvalidation-error:0.153846\n",
      "[1]\tvalidation-error:0.125874\n",
      "[2]\tvalidation-error:0.125874\n",
      "[3]\tvalidation-error:0.125874\n",
      "[4]\tvalidation-error:0.125874\n",
      "[5]\tvalidation-error:0.125874\n"
     ]
    },
    {
     "name": "stderr",
     "output_type": "stream",
     "text": [
      "[I 2018-12-05 03:57:33,226] Setting trial status as TrialState.PRUNED. Trial was pruned at iteration 6.\n"
     ]
    },
    {
     "name": "stdout",
     "output_type": "stream",
     "text": [
      "[0]\tvalidation-error:0.111888\n",
      "[1]\tvalidation-error:0.111888\n",
      "[2]\tvalidation-error:0.111888\n",
      "[3]\tvalidation-error:0.111888\n",
      "[4]\tvalidation-error:0.111888\n",
      "[5]\tvalidation-error:0.111888\n"
     ]
    },
    {
     "name": "stderr",
     "output_type": "stream",
     "text": [
      "[I 2018-12-05 03:57:33,288] Setting trial status as TrialState.PRUNED. Trial was pruned at iteration 6.\n"
     ]
    },
    {
     "name": "stdout",
     "output_type": "stream",
     "text": [
      "[0]\tvalidation-error:0.167832\n",
      "[1]\tvalidation-error:0.118881\n",
      "[2]\tvalidation-error:0.118881\n",
      "[3]\tvalidation-error:0.118881\n",
      "[4]\tvalidation-error:0.118881\n",
      "[5]\tvalidation-error:0.118881\n"
     ]
    },
    {
     "name": "stderr",
     "output_type": "stream",
     "text": [
      "[I 2018-12-05 03:57:33,345] Setting trial status as TrialState.PRUNED. Trial was pruned at iteration 6.\n"
     ]
    },
    {
     "name": "stdout",
     "output_type": "stream",
     "text": [
      "[0]\tvalidation-error:0.132867\n",
      "[1]\tvalidation-error:0.132867\n",
      "[2]\tvalidation-error:0.132867\n",
      "[3]\tvalidation-error:0.125874\n",
      "[4]\tvalidation-error:0.125874\n",
      "[5]\tvalidation-error:0.125874\n"
     ]
    },
    {
     "name": "stderr",
     "output_type": "stream",
     "text": [
      "[I 2018-12-05 03:57:33,402] Setting trial status as TrialState.PRUNED. Trial was pruned at iteration 6.\n"
     ]
    },
    {
     "name": "stdout",
     "output_type": "stream",
     "text": [
      "[0]\tvalidation-error:0.223776\n",
      "[1]\tvalidation-error:0.125874\n",
      "[2]\tvalidation-error:0.111888\n",
      "[3]\tvalidation-error:0.104895\n",
      "[4]\tvalidation-error:0.090909\n",
      "[5]\tvalidation-error:0.083916\n"
     ]
    },
    {
     "name": "stderr",
     "output_type": "stream",
     "text": [
      "[I 2018-12-05 03:57:33,459] Setting trial status as TrialState.PRUNED. Trial was pruned at iteration 6.\n"
     ]
    },
    {
     "name": "stdout",
     "output_type": "stream",
     "text": [
      "[0]\tvalidation-error:0.13986\n",
      "[1]\tvalidation-error:0.13986\n",
      "[2]\tvalidation-error:0.146853\n",
      "[3]\tvalidation-error:0.13986\n",
      "[4]\tvalidation-error:0.13986\n",
      "[5]\tvalidation-error:0.13986\n"
     ]
    },
    {
     "name": "stderr",
     "output_type": "stream",
     "text": [
      "[I 2018-12-05 03:57:33,521] Setting trial status as TrialState.PRUNED. Trial was pruned at iteration 6.\n"
     ]
    },
    {
     "name": "stdout",
     "output_type": "stream",
     "text": [
      "[0]\tvalidation-error:0.132867\n",
      "[1]\tvalidation-error:0.104895\n",
      "[2]\tvalidation-error:0.097902\n",
      "[3]\tvalidation-error:0.097902\n",
      "[4]\tvalidation-error:0.090909\n",
      "[5]\tvalidation-error:0.090909\n"
     ]
    },
    {
     "name": "stderr",
     "output_type": "stream",
     "text": [
      "[I 2018-12-05 03:57:33,582] Setting trial status as TrialState.PRUNED. Trial was pruned at iteration 6.\n"
     ]
    },
    {
     "name": "stdout",
     "output_type": "stream",
     "text": [
      "[0]\tvalidation-error:0.132867\n",
      "[1]\tvalidation-error:0.097902\n",
      "[2]\tvalidation-error:0.083916\n",
      "[3]\tvalidation-error:0.083916\n",
      "[4]\tvalidation-error:0.083916\n",
      "[5]\tvalidation-error:0.090909\n"
     ]
    },
    {
     "name": "stderr",
     "output_type": "stream",
     "text": [
      "[I 2018-12-05 03:57:33,640] Setting trial status as TrialState.PRUNED. Trial was pruned at iteration 6.\n"
     ]
    },
    {
     "name": "stdout",
     "output_type": "stream",
     "text": [
      "[0]\tvalidation-error:0.132867\n",
      "[1]\tvalidation-error:0.090909\n",
      "[2]\tvalidation-error:0.097902\n",
      "[3]\tvalidation-error:0.090909\n",
      "[4]\tvalidation-error:0.090909\n",
      "[5]\tvalidation-error:0.090909\n"
     ]
    },
    {
     "name": "stderr",
     "output_type": "stream",
     "text": [
      "[I 2018-12-05 03:57:33,699] Setting trial status as TrialState.PRUNED. Trial was pruned at iteration 6.\n"
     ]
    },
    {
     "name": "stdout",
     "output_type": "stream",
     "text": [
      "[0]\tvalidation-error:0.111888\n",
      "[1]\tvalidation-error:0.132867\n",
      "[2]\tvalidation-error:0.13986\n",
      "[3]\tvalidation-error:0.132867\n",
      "[4]\tvalidation-error:0.118881\n",
      "[5]\tvalidation-error:0.118881\n"
     ]
    },
    {
     "name": "stderr",
     "output_type": "stream",
     "text": [
      "[I 2018-12-05 03:57:33,762] Setting trial status as TrialState.PRUNED. Trial was pruned at iteration 6.\n"
     ]
    },
    {
     "name": "stdout",
     "output_type": "stream",
     "text": [
      "[0]\tvalidation-error:0.216783\n",
      "[1]\tvalidation-error:0.216783\n",
      "[2]\tvalidation-error:0.20979\n",
      "[3]\tvalidation-error:0.202797\n",
      "[4]\tvalidation-error:0.195804\n",
      "[5]\tvalidation-error:0.195804\n"
     ]
    },
    {
     "name": "stderr",
     "output_type": "stream",
     "text": [
      "[I 2018-12-05 03:57:33,824] Setting trial status as TrialState.PRUNED. Trial was pruned at iteration 6.\n"
     ]
    },
    {
     "name": "stdout",
     "output_type": "stream",
     "text": [
      "[0]\tvalidation-error:0.125874\n",
      "[1]\tvalidation-error:0.118881\n",
      "[2]\tvalidation-error:0.111888\n",
      "[3]\tvalidation-error:0.111888\n",
      "[4]\tvalidation-error:0.111888\n",
      "[5]\tvalidation-error:0.111888\n"
     ]
    },
    {
     "name": "stderr",
     "output_type": "stream",
     "text": [
      "[I 2018-12-05 03:57:33,884] Setting trial status as TrialState.PRUNED. Trial was pruned at iteration 6.\n"
     ]
    },
    {
     "name": "stdout",
     "output_type": "stream",
     "text": [
      "[0]\tvalidation-error:0.153846\n",
      "[1]\tvalidation-error:0.146853\n",
      "[2]\tvalidation-error:0.146853\n",
      "[3]\tvalidation-error:0.146853\n",
      "[4]\tvalidation-error:0.13986\n",
      "[5]\tvalidation-error:0.13986\n"
     ]
    },
    {
     "name": "stderr",
     "output_type": "stream",
     "text": [
      "[I 2018-12-05 03:57:33,944] Setting trial status as TrialState.PRUNED. Trial was pruned at iteration 6.\n"
     ]
    },
    {
     "name": "stdout",
     "output_type": "stream",
     "text": [
      "[0]\tvalidation-error:0.153846\n",
      "[1]\tvalidation-error:0.132867\n",
      "[2]\tvalidation-error:0.125874\n",
      "[3]\tvalidation-error:0.125874\n",
      "[4]\tvalidation-error:0.125874\n",
      "[5]\tvalidation-error:0.118881\n"
     ]
    },
    {
     "name": "stderr",
     "output_type": "stream",
     "text": [
      "[I 2018-12-05 03:57:34,007] Setting trial status as TrialState.PRUNED. Trial was pruned at iteration 6.\n"
     ]
    },
    {
     "name": "stdout",
     "output_type": "stream",
     "text": [
      "[0]\tvalidation-error:0.195804\n",
      "[1]\tvalidation-error:0.174825\n",
      "[2]\tvalidation-error:0.160839\n",
      "[3]\tvalidation-error:0.153846\n",
      "[4]\tvalidation-error:0.153846\n",
      "[5]\tvalidation-error:0.13986\n"
     ]
    },
    {
     "name": "stderr",
     "output_type": "stream",
     "text": [
      "[I 2018-12-05 03:57:34,068] Setting trial status as TrialState.PRUNED. Trial was pruned at iteration 6.\n"
     ]
    },
    {
     "name": "stdout",
     "output_type": "stream",
     "text": [
      "[0]\tvalidation-error:0.146853\n",
      "[1]\tvalidation-error:0.13986\n",
      "[2]\tvalidation-error:0.146853\n",
      "[3]\tvalidation-error:0.146853\n",
      "[4]\tvalidation-error:0.146853\n",
      "[5]\tvalidation-error:0.146853\n"
     ]
    },
    {
     "name": "stderr",
     "output_type": "stream",
     "text": [
      "[I 2018-12-05 03:57:34,130] Setting trial status as TrialState.PRUNED. Trial was pruned at iteration 6.\n"
     ]
    },
    {
     "name": "stdout",
     "output_type": "stream",
     "text": [
      "[0]\tvalidation-error:0.160839\n",
      "[1]\tvalidation-error:0.13986\n",
      "[2]\tvalidation-error:0.13986\n",
      "[3]\tvalidation-error:0.125874\n",
      "[4]\tvalidation-error:0.125874\n",
      "[5]\tvalidation-error:0.125874\n"
     ]
    },
    {
     "name": "stderr",
     "output_type": "stream",
     "text": [
      "[I 2018-12-05 03:57:34,196] Setting trial status as TrialState.PRUNED. Trial was pruned at iteration 6.\n"
     ]
    },
    {
     "name": "stdout",
     "output_type": "stream",
     "text": [
      "[0]\tvalidation-error:0.146853\n",
      "[1]\tvalidation-error:0.13986\n",
      "[2]\tvalidation-error:0.13986\n",
      "[3]\tvalidation-error:0.13986\n",
      "[4]\tvalidation-error:0.13986\n",
      "[5]\tvalidation-error:0.13986\n"
     ]
    },
    {
     "name": "stderr",
     "output_type": "stream",
     "text": [
      "[I 2018-12-05 03:57:34,258] Setting trial status as TrialState.PRUNED. Trial was pruned at iteration 6.\n"
     ]
    },
    {
     "name": "stdout",
     "output_type": "stream",
     "text": [
      "[0]\tvalidation-error:0.153846\n",
      "[1]\tvalidation-error:0.146853\n",
      "[2]\tvalidation-error:0.153846\n",
      "[3]\tvalidation-error:0.132867\n",
      "[4]\tvalidation-error:0.125874\n",
      "[5]\tvalidation-error:0.118881\n"
     ]
    },
    {
     "name": "stderr",
     "output_type": "stream",
     "text": [
      "[I 2018-12-05 03:57:34,323] Setting trial status as TrialState.PRUNED. Trial was pruned at iteration 6.\n"
     ]
    },
    {
     "name": "stdout",
     "output_type": "stream",
     "text": [
      "[0]\tvalidation-error:0.146853\n",
      "[1]\tvalidation-error:0.146853\n",
      "[2]\tvalidation-error:0.146853\n",
      "[3]\tvalidation-error:0.153846\n",
      "[4]\tvalidation-error:0.146853\n",
      "[5]\tvalidation-error:0.146853\n"
     ]
    },
    {
     "name": "stderr",
     "output_type": "stream",
     "text": [
      "[I 2018-12-05 03:57:34,387] Setting trial status as TrialState.PRUNED. Trial was pruned at iteration 6.\n"
     ]
    },
    {
     "name": "stdout",
     "output_type": "stream",
     "text": [
      "[0]\tvalidation-error:0.153846\n",
      "[1]\tvalidation-error:0.146853\n",
      "[2]\tvalidation-error:0.153846\n",
      "[3]\tvalidation-error:0.153846\n",
      "[4]\tvalidation-error:0.146853\n",
      "[5]\tvalidation-error:0.146853\n"
     ]
    },
    {
     "name": "stderr",
     "output_type": "stream",
     "text": [
      "[I 2018-12-05 03:57:34,454] Setting trial status as TrialState.PRUNED. Trial was pruned at iteration 6.\n"
     ]
    },
    {
     "name": "stdout",
     "output_type": "stream",
     "text": [
      "[0]\tvalidation-error:0.202797\n",
      "[1]\tvalidation-error:0.174825\n",
      "[2]\tvalidation-error:0.153846\n",
      "[3]\tvalidation-error:0.132867\n",
      "[4]\tvalidation-error:0.132867\n",
      "[5]\tvalidation-error:0.132867\n"
     ]
    },
    {
     "name": "stderr",
     "output_type": "stream",
     "text": [
      "[I 2018-12-05 03:57:34,521] Setting trial status as TrialState.PRUNED. Trial was pruned at iteration 6.\n"
     ]
    },
    {
     "name": "stdout",
     "output_type": "stream",
     "text": [
      "[0]\tvalidation-error:0.132867\n",
      "[1]\tvalidation-error:0.125874\n",
      "[2]\tvalidation-error:0.132867\n",
      "[3]\tvalidation-error:0.118881\n",
      "[4]\tvalidation-error:0.111888\n",
      "[5]\tvalidation-error:0.104895\n"
     ]
    },
    {
     "name": "stderr",
     "output_type": "stream",
     "text": [
      "[I 2018-12-05 03:57:34,586] Setting trial status as TrialState.PRUNED. Trial was pruned at iteration 6.\n"
     ]
    },
    {
     "name": "stdout",
     "output_type": "stream",
     "text": [
      "[0]\tvalidation-error:0.118881\n",
      "[1]\tvalidation-error:0.118881\n",
      "[2]\tvalidation-error:0.111888\n",
      "[3]\tvalidation-error:0.111888\n",
      "[4]\tvalidation-error:0.111888\n",
      "[5]\tvalidation-error:0.104895\n"
     ]
    },
    {
     "name": "stderr",
     "output_type": "stream",
     "text": [
      "[I 2018-12-05 03:57:34,653] Setting trial status as TrialState.PRUNED. Trial was pruned at iteration 6.\n"
     ]
    },
    {
     "name": "stdout",
     "output_type": "stream",
     "text": [
      "[0]\tvalidation-error:0.097902\n",
      "[1]\tvalidation-error:0.097902\n",
      "[2]\tvalidation-error:0.097902\n",
      "[3]\tvalidation-error:0.090909\n",
      "[4]\tvalidation-error:0.083916\n",
      "[5]\tvalidation-error:0.083916\n"
     ]
    },
    {
     "name": "stderr",
     "output_type": "stream",
     "text": [
      "[I 2018-12-05 03:57:34,720] Setting trial status as TrialState.PRUNED. Trial was pruned at iteration 6.\n"
     ]
    },
    {
     "name": "stdout",
     "output_type": "stream",
     "text": [
      "[0]\tvalidation-error:0.076923\n",
      "[1]\tvalidation-error:0.076923\n",
      "[2]\tvalidation-error:0.076923\n",
      "[3]\tvalidation-error:0.076923\n",
      "[4]\tvalidation-error:0.076923\n",
      "[5]\tvalidation-error:0.076923\n"
     ]
    },
    {
     "name": "stderr",
     "output_type": "stream",
     "text": [
      "[I 2018-12-05 03:57:34,787] Setting trial status as TrialState.PRUNED. Trial was pruned at iteration 6.\n"
     ]
    },
    {
     "name": "stdout",
     "output_type": "stream",
     "text": [
      "[0]\tvalidation-error:0.13986\n",
      "[1]\tvalidation-error:0.118881\n",
      "[2]\tvalidation-error:0.118881\n",
      "[3]\tvalidation-error:0.111888\n",
      "[4]\tvalidation-error:0.111888\n",
      "[5]\tvalidation-error:0.111888\n"
     ]
    },
    {
     "name": "stderr",
     "output_type": "stream",
     "text": [
      "[I 2018-12-05 03:57:34,854] Setting trial status as TrialState.PRUNED. Trial was pruned at iteration 6.\n"
     ]
    },
    {
     "name": "stdout",
     "output_type": "stream",
     "text": [
      "[0]\tvalidation-error:0.118881\n",
      "[1]\tvalidation-error:0.104895\n",
      "[2]\tvalidation-error:0.104895\n",
      "[3]\tvalidation-error:0.104895\n",
      "[4]\tvalidation-error:0.111888\n",
      "[5]\tvalidation-error:0.111888\n"
     ]
    },
    {
     "name": "stderr",
     "output_type": "stream",
     "text": [
      "[I 2018-12-05 03:57:34,922] Setting trial status as TrialState.PRUNED. Trial was pruned at iteration 6.\n"
     ]
    },
    {
     "name": "stdout",
     "output_type": "stream",
     "text": [
      "[0]\tvalidation-error:0.167832\n",
      "[1]\tvalidation-error:0.146853\n",
      "[2]\tvalidation-error:0.146853\n",
      "[3]\tvalidation-error:0.153846\n",
      "[4]\tvalidation-error:0.153846\n",
      "[5]\tvalidation-error:0.146853\n"
     ]
    },
    {
     "name": "stderr",
     "output_type": "stream",
     "text": [
      "[I 2018-12-05 03:57:34,992] Setting trial status as TrialState.PRUNED. Trial was pruned at iteration 6.\n"
     ]
    },
    {
     "name": "stdout",
     "output_type": "stream",
     "text": [
      "[0]\tvalidation-error:0.20979\n",
      "[1]\tvalidation-error:0.202797\n",
      "[2]\tvalidation-error:0.202797\n",
      "[3]\tvalidation-error:0.188811\n",
      "[4]\tvalidation-error:0.188811\n",
      "[5]\tvalidation-error:0.188811\n"
     ]
    },
    {
     "name": "stderr",
     "output_type": "stream",
     "text": [
      "[I 2018-12-05 03:57:35,061] Setting trial status as TrialState.PRUNED. Trial was pruned at iteration 6.\n"
     ]
    },
    {
     "name": "stdout",
     "output_type": "stream",
     "text": [
      "[0]\tvalidation-error:0.125874\n",
      "[1]\tvalidation-error:0.125874\n",
      "[2]\tvalidation-error:0.125874\n",
      "[3]\tvalidation-error:0.125874\n",
      "[4]\tvalidation-error:0.104895\n",
      "[5]\tvalidation-error:0.097902\n"
     ]
    },
    {
     "name": "stderr",
     "output_type": "stream",
     "text": [
      "[I 2018-12-05 03:57:35,130] Setting trial status as TrialState.PRUNED. Trial was pruned at iteration 6.\n"
     ]
    },
    {
     "name": "stdout",
     "output_type": "stream",
     "text": [
      "[0]\tvalidation-error:0.125874\n",
      "[1]\tvalidation-error:0.13986\n",
      "[2]\tvalidation-error:0.132867\n",
      "[3]\tvalidation-error:0.125874\n",
      "[4]\tvalidation-error:0.125874\n",
      "[5]\tvalidation-error:0.132867\n"
     ]
    },
    {
     "name": "stderr",
     "output_type": "stream",
     "text": [
      "[I 2018-12-05 03:57:35,202] Setting trial status as TrialState.PRUNED. Trial was pruned at iteration 6.\n"
     ]
    },
    {
     "name": "stdout",
     "output_type": "stream",
     "text": [
      "[0]\tvalidation-error:0.118881\n",
      "[1]\tvalidation-error:0.090909\n",
      "[2]\tvalidation-error:0.083916\n",
      "[3]\tvalidation-error:0.076923\n",
      "[4]\tvalidation-error:0.076923\n",
      "[5]\tvalidation-error:0.076923\n"
     ]
    },
    {
     "name": "stderr",
     "output_type": "stream",
     "text": [
      "[I 2018-12-05 03:57:35,272] Setting trial status as TrialState.PRUNED. Trial was pruned at iteration 6.\n"
     ]
    },
    {
     "name": "stdout",
     "output_type": "stream",
     "text": [
      "[0]\tvalidation-error:0.153846\n",
      "[1]\tvalidation-error:0.13986\n",
      "[2]\tvalidation-error:0.13986\n",
      "[3]\tvalidation-error:0.13986\n",
      "[4]\tvalidation-error:0.132867\n",
      "[5]\tvalidation-error:0.132867\n"
     ]
    },
    {
     "name": "stderr",
     "output_type": "stream",
     "text": [
      "[I 2018-12-05 03:57:35,343] Setting trial status as TrialState.PRUNED. Trial was pruned at iteration 6.\n"
     ]
    },
    {
     "name": "stdout",
     "output_type": "stream",
     "text": [
      "[0]\tvalidation-error:0.132867\n",
      "[1]\tvalidation-error:0.104895\n",
      "[2]\tvalidation-error:0.111888\n",
      "[3]\tvalidation-error:0.097902\n",
      "[4]\tvalidation-error:0.097902\n",
      "[5]\tvalidation-error:0.097902\n"
     ]
    },
    {
     "name": "stderr",
     "output_type": "stream",
     "text": [
      "[I 2018-12-05 03:57:35,414] Setting trial status as TrialState.PRUNED. Trial was pruned at iteration 6.\n"
     ]
    },
    {
     "name": "stdout",
     "output_type": "stream",
     "text": [
      "[0]\tvalidation-error:0.132867\n",
      "[1]\tvalidation-error:0.111888\n",
      "[2]\tvalidation-error:0.104895\n",
      "[3]\tvalidation-error:0.097902\n",
      "[4]\tvalidation-error:0.090909\n",
      "[5]\tvalidation-error:0.090909\n"
     ]
    },
    {
     "name": "stderr",
     "output_type": "stream",
     "text": [
      "[I 2018-12-05 03:57:35,485] Setting trial status as TrialState.PRUNED. Trial was pruned at iteration 6.\n"
     ]
    },
    {
     "name": "stdout",
     "output_type": "stream",
     "text": [
      "FrozenTrial(trial_id=2, state=<TrialState.COMPLETE: 1>, value=0.013986013986013957, datetime_start=datetime.datetime(2018, 12, 5, 3, 57, 30, 437089), datetime_complete=datetime.datetime(2018, 12, 5, 3, 57, 30, 472497), params={'n_round': 9, 'booster': 'dart', 'lambda': 0.026047313347139816, 'alpha': 7.88394249425758e-07, 'max_depth': 9, 'eta': 0.00013609586584108728, 'gamma': 0.013765350901623459, 'grow_policy': 'depthwise', 'sample_type': 'uniform', 'normalize_type': 'tree', 'rate_drop': 8.326865238773264e-08, 'skip_drop': 0.46866578470656534}, user_attrs={}, system_attrs={}, intermediate_values={0: 0.041958, 1: 0.027972, 2: 0.034965, 3: 0.020979, 4: 0.020979, 5: 0.013986, 6: 0.013986, 7: 0.013986, 8: 0.013986}, params_in_internal_repr={'n_round': 9, 'booster': 2, 'lambda': 0.026047313347139816, 'alpha': 7.88394249425758e-07, 'max_depth': 9, 'eta': 0.00013609586584108728, 'gamma': 0.013765350901623459, 'grow_policy': 0, 'sample_type': 0, 'normalize_type': 0, 'rate_drop': 8.326865238773264e-08, 'skip_drop': 0.46866578470656534})\n"
     ]
    }
   ],
   "source": [
    "study = optuna.create_study(pruner=optuna.pruners.MedianPruner(n_warmup_steps=5))\n",
    "study.optimize(objective, n_trials=100)\n",
    "print(study.best_trial)"
   ]
  },
  {
   "cell_type": "markdown",
   "metadata": {},
   "source": [
    "#### [トップへ](#top)"
   ]
  }
 ],
 "metadata": {
  "kernelspec": {
   "display_name": "Python 3",
   "language": "python",
   "name": "python3"
  },
  "language_info": {
   "codemirror_mode": {
    "name": "ipython",
    "version": 3
   },
   "file_extension": ".py",
   "mimetype": "text/x-python",
   "name": "python",
   "nbconvert_exporter": "python",
   "pygments_lexer": "ipython3",
   "version": "3.6.5"
  }
 },
 "nbformat": 4,
 "nbformat_minor": 2
}
